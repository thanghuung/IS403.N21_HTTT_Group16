{
  "cells": [
    {
      "cell_type": "markdown",
      "source": [
        "# Dataset ARE"
      ],
      "metadata": {
        "id": "pT8xHUZAVwlw"
      }
    },
    {
      "cell_type": "code",
      "execution_count": null,
      "metadata": {
        "id": "FMDKda-XIUAK"
      },
      "outputs": [],
      "source": [
        "# 1. Import thư viện cần thiết\n",
        "import numpy as np\n",
        "import pandas as pd\n",
        "import matplotlib.pyplot as plt\n",
        "from sklearn.preprocessing import MinMaxScaler\n",
        "from keras.models import Sequential\n",
        "from keras.layers import Dense, GRU"
      ]
    },
    {
      "cell_type": "code",
      "execution_count": null,
      "metadata": {
        "id": "aRm9GQ8KJJ5N"
      },
      "outputs": [],
      "source": [
        "# 2. Đọc file csv và gắng index với giá Price\n",
        "df = pd.read_csv('ARE-Historical-Data-final.csv')\n",
        "df1=df.reset_index()['Price']"
      ]
    },
    {
      "cell_type": "code",
      "execution_count": null,
      "metadata": {
        "id": "RdVpDho2JgL5"
      },
      "outputs": [],
      "source": [
        "# 3. Scaler data\n",
        "scaler=MinMaxScaler(feature_range=(0,1))\n",
        "df1=scaler.fit_transform(np.array(df1).reshape(-1,1))"
      ]
    },
    {
      "cell_type": "code",
      "execution_count": null,
      "metadata": {
        "id": "B5JXpenzJoR3"
      },
      "outputs": [],
      "source": [
        "# 4. Chia train test\n",
        "train_size = int(0.6 * len(df1))\n",
        "test_size = int(0.2 * len(df1))\n",
        "val_size = len(df1) - train_size - test_size\n",
        "\n",
        "train_data = df1[:train_size]\n",
        "test_data = df1[train_size:train_size+test_size]\n",
        "val_data = df1[train_size+test_size:]"
      ]
    },
    {
      "cell_type": "code",
      "execution_count": null,
      "metadata": {
        "id": "yJfmuBORLSfC"
      },
      "outputs": [],
      "source": [
        "# 5. Hàm Create Dataset\n",
        "import numpy\n",
        "# convert an array of values into a dataset matrix\n",
        "def create_dataset(dataset, time_step=1):\n",
        "\tdataX, dataY = [], []\n",
        "\tfor i in range(len(dataset)-time_step-1):\n",
        "\t\ta = dataset[i:(i+time_step), 0]   ###i=0, X=0,1,2,3-----99   Y=100\n",
        "\t\tdataX.append(a)\n",
        "\t\tdataY.append(dataset[i + time_step, 0])\n",
        "\treturn numpy.array(dataX), numpy.array(dataY)"
      ]
    },
    {
      "cell_type": "code",
      "execution_count": null,
      "metadata": {
        "id": "e81cKq03LXFB"
      },
      "outputs": [],
      "source": [
        "#6. Reshape into X=t,t+1,t+2..t+99 and Y=t+100\n",
        "time_step = 1\n",
        "X_train, y_train = create_dataset(train_data, time_step)\n",
        "X_val, yval = create_dataset(val_data, time_step)\n",
        "X_test, ytest = create_dataset(test_data, time_step)"
      ]
    },
    {
      "cell_type": "code",
      "execution_count": null,
      "metadata": {
        "id": "RdBVfku7O2qb"
      },
      "outputs": [],
      "source": [
        "# 7. Reshape input to be [samples, time steps, features] which is required for GRU\n",
        "X_train =X_train.reshape(X_train.shape[0],X_train.shape[1] , 1)\n",
        "X_test = X_test.reshape(X_test.shape[0],X_test.shape[1] , 1)\n",
        "X_val = X_val.reshape(X_val.shape[0],X_val.shape[1] , 1)"
      ]
    },
    {
      "cell_type": "code",
      "execution_count": null,
      "metadata": {
        "id": "sSfxrE7BO9vX"
      },
      "outputs": [],
      "source": [
        "# 8. Define GRU Model\n",
        "model = Sequential()\n",
        "model.add(GRU(64, input_shape=(time_step, 1)))\n",
        "model.add(Dense(1))\n",
        "model.compile(optimizer='adam', loss='mean_squared_error')"
      ]
    },
    {
      "cell_type": "code",
      "execution_count": null,
      "metadata": {
        "id": "zgfeujZSPEKr",
        "colab": {
          "base_uri": "https://localhost:8080/"
        },
        "outputId": "fcd0a3ed-22eb-4f34-b6d1-b8036b199f6e"
      },
      "outputs": [
        {
          "output_type": "stream",
          "name": "stdout",
          "text": [
            "Epoch 1/100\n",
            "20/20 [==============================] - 3s 30ms/step - loss: 0.0447 - val_loss: 0.1116\n",
            "Epoch 2/100\n",
            "20/20 [==============================] - 0s 5ms/step - loss: 0.0103 - val_loss: 0.0415\n",
            "Epoch 3/100\n",
            "20/20 [==============================] - 0s 5ms/step - loss: 0.0085 - val_loss: 0.0495\n",
            "Epoch 4/100\n",
            "20/20 [==============================] - 0s 6ms/step - loss: 0.0070 - val_loss: 0.0436\n",
            "Epoch 5/100\n",
            "20/20 [==============================] - 0s 6ms/step - loss: 0.0059 - val_loss: 0.0332\n",
            "Epoch 6/100\n",
            "20/20 [==============================] - 0s 6ms/step - loss: 0.0047 - val_loss: 0.0266\n",
            "Epoch 7/100\n",
            "20/20 [==============================] - 0s 6ms/step - loss: 0.0037 - val_loss: 0.0195\n",
            "Epoch 8/100\n",
            "20/20 [==============================] - 0s 6ms/step - loss: 0.0027 - val_loss: 0.0131\n",
            "Epoch 9/100\n",
            "20/20 [==============================] - 0s 5ms/step - loss: 0.0018 - val_loss: 0.0089\n",
            "Epoch 10/100\n",
            "20/20 [==============================] - 0s 6ms/step - loss: 0.0012 - val_loss: 0.0053\n",
            "Epoch 11/100\n",
            "20/20 [==============================] - 0s 6ms/step - loss: 6.9099e-04 - val_loss: 0.0028\n",
            "Epoch 12/100\n",
            "20/20 [==============================] - 0s 6ms/step - loss: 3.8137e-04 - val_loss: 0.0015\n",
            "Epoch 13/100\n",
            "20/20 [==============================] - 0s 9ms/step - loss: 2.1057e-04 - val_loss: 7.7113e-04\n",
            "Epoch 14/100\n",
            "20/20 [==============================] - 0s 9ms/step - loss: 1.2810e-04 - val_loss: 5.2148e-04\n",
            "Epoch 15/100\n",
            "20/20 [==============================] - 0s 9ms/step - loss: 9.4395e-05 - val_loss: 4.7223e-04\n",
            "Epoch 16/100\n",
            "20/20 [==============================] - 0s 7ms/step - loss: 8.3574e-05 - val_loss: 4.7058e-04\n",
            "Epoch 17/100\n",
            "20/20 [==============================] - 0s 7ms/step - loss: 7.9663e-05 - val_loss: 4.7780e-04\n",
            "Epoch 18/100\n",
            "20/20 [==============================] - 0s 7ms/step - loss: 7.8095e-05 - val_loss: 4.8106e-04\n",
            "Epoch 19/100\n",
            "20/20 [==============================] - 0s 8ms/step - loss: 7.8044e-05 - val_loss: 5.0461e-04\n",
            "Epoch 20/100\n",
            "20/20 [==============================] - 0s 8ms/step - loss: 7.8263e-05 - val_loss: 5.0256e-04\n",
            "Epoch 21/100\n",
            "20/20 [==============================] - 0s 8ms/step - loss: 7.7708e-05 - val_loss: 4.8714e-04\n",
            "Epoch 22/100\n",
            "20/20 [==============================] - 0s 9ms/step - loss: 7.9348e-05 - val_loss: 4.8917e-04\n",
            "Epoch 23/100\n",
            "20/20 [==============================] - 0s 9ms/step - loss: 7.7899e-05 - val_loss: 4.8584e-04\n",
            "Epoch 24/100\n",
            "20/20 [==============================] - 0s 8ms/step - loss: 7.8489e-05 - val_loss: 4.8794e-04\n",
            "Epoch 25/100\n",
            "20/20 [==============================] - 0s 11ms/step - loss: 7.8081e-05 - val_loss: 4.8974e-04\n",
            "Epoch 26/100\n",
            "20/20 [==============================] - 0s 8ms/step - loss: 7.8445e-05 - val_loss: 4.8921e-04\n",
            "Epoch 27/100\n",
            "20/20 [==============================] - 0s 9ms/step - loss: 7.8028e-05 - val_loss: 4.8398e-04\n",
            "Epoch 28/100\n",
            "20/20 [==============================] - 0s 8ms/step - loss: 7.7589e-05 - val_loss: 5.0068e-04\n",
            "Epoch 29/100\n",
            "20/20 [==============================] - 0s 8ms/step - loss: 7.7856e-05 - val_loss: 4.8927e-04\n",
            "Epoch 30/100\n",
            "20/20 [==============================] - 0s 5ms/step - loss: 7.7930e-05 - val_loss: 4.8529e-04\n",
            "Epoch 31/100\n",
            "20/20 [==============================] - 0s 6ms/step - loss: 7.7857e-05 - val_loss: 4.9499e-04\n",
            "Epoch 32/100\n",
            "20/20 [==============================] - 0s 5ms/step - loss: 7.8107e-05 - val_loss: 4.8199e-04\n",
            "Epoch 33/100\n",
            "20/20 [==============================] - 0s 5ms/step - loss: 7.8876e-05 - val_loss: 4.8669e-04\n",
            "Epoch 34/100\n",
            "20/20 [==============================] - 0s 7ms/step - loss: 7.7989e-05 - val_loss: 4.8819e-04\n",
            "Epoch 35/100\n",
            "20/20 [==============================] - 0s 6ms/step - loss: 7.8032e-05 - val_loss: 4.9515e-04\n",
            "Epoch 36/100\n",
            "20/20 [==============================] - 0s 6ms/step - loss: 7.7894e-05 - val_loss: 4.9806e-04\n",
            "Epoch 37/100\n",
            "20/20 [==============================] - 0s 5ms/step - loss: 7.7572e-05 - val_loss: 4.9145e-04\n",
            "Epoch 38/100\n",
            "20/20 [==============================] - 0s 5ms/step - loss: 7.8418e-05 - val_loss: 4.8870e-04\n",
            "Epoch 39/100\n",
            "20/20 [==============================] - 0s 5ms/step - loss: 7.8675e-05 - val_loss: 4.8620e-04\n",
            "Epoch 40/100\n",
            "20/20 [==============================] - 0s 6ms/step - loss: 7.7914e-05 - val_loss: 4.8831e-04\n",
            "Epoch 41/100\n",
            "20/20 [==============================] - 0s 8ms/step - loss: 7.8285e-05 - val_loss: 5.0776e-04\n",
            "Epoch 42/100\n",
            "20/20 [==============================] - 0s 6ms/step - loss: 7.8308e-05 - val_loss: 5.0344e-04\n",
            "Epoch 43/100\n",
            "20/20 [==============================] - 0s 6ms/step - loss: 7.8058e-05 - val_loss: 4.8691e-04\n",
            "Epoch 44/100\n",
            "20/20 [==============================] - 0s 6ms/step - loss: 7.7964e-05 - val_loss: 4.9002e-04\n",
            "Epoch 45/100\n",
            "20/20 [==============================] - 0s 6ms/step - loss: 7.8476e-05 - val_loss: 4.9471e-04\n",
            "Epoch 46/100\n",
            "20/20 [==============================] - 0s 6ms/step - loss: 7.8836e-05 - val_loss: 5.0059e-04\n",
            "Epoch 47/100\n",
            "20/20 [==============================] - 0s 6ms/step - loss: 7.8739e-05 - val_loss: 5.0104e-04\n",
            "Epoch 48/100\n",
            "20/20 [==============================] - 0s 7ms/step - loss: 7.7908e-05 - val_loss: 4.8436e-04\n",
            "Epoch 49/100\n",
            "20/20 [==============================] - 0s 6ms/step - loss: 7.8139e-05 - val_loss: 4.9138e-04\n",
            "Epoch 50/100\n",
            "20/20 [==============================] - 0s 5ms/step - loss: 7.8145e-05 - val_loss: 4.8937e-04\n",
            "Epoch 51/100\n",
            "20/20 [==============================] - 0s 5ms/step - loss: 7.7741e-05 - val_loss: 4.8433e-04\n",
            "Epoch 52/100\n",
            "20/20 [==============================] - 0s 6ms/step - loss: 7.7973e-05 - val_loss: 4.8419e-04\n",
            "Epoch 53/100\n",
            "20/20 [==============================] - 0s 6ms/step - loss: 7.8020e-05 - val_loss: 4.8014e-04\n",
            "Epoch 54/100\n",
            "20/20 [==============================] - 0s 5ms/step - loss: 7.8968e-05 - val_loss: 5.1009e-04\n",
            "Epoch 55/100\n",
            "20/20 [==============================] - 0s 5ms/step - loss: 7.8261e-05 - val_loss: 4.9529e-04\n",
            "Epoch 56/100\n",
            "20/20 [==============================] - 0s 6ms/step - loss: 7.7676e-05 - val_loss: 4.9072e-04\n",
            "Epoch 57/100\n",
            "20/20 [==============================] - 0s 6ms/step - loss: 7.7532e-05 - val_loss: 4.8587e-04\n",
            "Epoch 58/100\n",
            "20/20 [==============================] - 0s 6ms/step - loss: 7.7613e-05 - val_loss: 4.9098e-04\n",
            "Epoch 59/100\n",
            "20/20 [==============================] - 0s 6ms/step - loss: 7.7660e-05 - val_loss: 4.8594e-04\n",
            "Epoch 60/100\n",
            "20/20 [==============================] - 0s 16ms/step - loss: 7.9055e-05 - val_loss: 5.0597e-04\n",
            "Epoch 61/100\n",
            "20/20 [==============================] - 0s 13ms/step - loss: 7.8883e-05 - val_loss: 4.8951e-04\n",
            "Epoch 62/100\n",
            "20/20 [==============================] - 0s 10ms/step - loss: 7.8007e-05 - val_loss: 4.8482e-04\n",
            "Epoch 63/100\n",
            "20/20 [==============================] - 0s 5ms/step - loss: 7.8247e-05 - val_loss: 5.0143e-04\n",
            "Epoch 64/100\n",
            "20/20 [==============================] - 0s 5ms/step - loss: 7.9319e-05 - val_loss: 4.8619e-04\n",
            "Epoch 65/100\n",
            "20/20 [==============================] - 0s 6ms/step - loss: 7.7620e-05 - val_loss: 4.8919e-04\n",
            "Epoch 66/100\n",
            "20/20 [==============================] - 0s 6ms/step - loss: 7.7522e-05 - val_loss: 4.8485e-04\n",
            "Epoch 67/100\n",
            "20/20 [==============================] - 0s 6ms/step - loss: 7.7687e-05 - val_loss: 4.7784e-04\n",
            "Epoch 68/100\n",
            "20/20 [==============================] - 0s 5ms/step - loss: 7.9132e-05 - val_loss: 4.9456e-04\n",
            "Epoch 69/100\n",
            "20/20 [==============================] - 0s 6ms/step - loss: 7.8061e-05 - val_loss: 4.8617e-04\n",
            "Epoch 70/100\n",
            "20/20 [==============================] - 0s 6ms/step - loss: 7.7592e-05 - val_loss: 4.8532e-04\n",
            "Epoch 71/100\n",
            "20/20 [==============================] - 0s 6ms/step - loss: 7.8503e-05 - val_loss: 5.0792e-04\n",
            "Epoch 72/100\n",
            "20/20 [==============================] - 0s 6ms/step - loss: 8.0062e-05 - val_loss: 4.8793e-04\n",
            "Epoch 73/100\n",
            "20/20 [==============================] - 0s 6ms/step - loss: 7.8915e-05 - val_loss: 4.7422e-04\n",
            "Epoch 74/100\n",
            "20/20 [==============================] - 0s 5ms/step - loss: 7.9144e-05 - val_loss: 4.9271e-04\n",
            "Epoch 75/100\n",
            "20/20 [==============================] - 0s 5ms/step - loss: 7.8719e-05 - val_loss: 5.1219e-04\n",
            "Epoch 76/100\n",
            "20/20 [==============================] - 0s 6ms/step - loss: 7.9849e-05 - val_loss: 4.7535e-04\n",
            "Epoch 77/100\n",
            "20/20 [==============================] - 0s 6ms/step - loss: 7.9160e-05 - val_loss: 4.9471e-04\n",
            "Epoch 78/100\n",
            "20/20 [==============================] - 0s 7ms/step - loss: 7.8198e-05 - val_loss: 4.8367e-04\n",
            "Epoch 79/100\n",
            "20/20 [==============================] - 0s 6ms/step - loss: 7.7627e-05 - val_loss: 4.8883e-04\n",
            "Epoch 80/100\n",
            "20/20 [==============================] - 0s 5ms/step - loss: 7.7953e-05 - val_loss: 4.7617e-04\n",
            "Epoch 81/100\n",
            "20/20 [==============================] - 0s 6ms/step - loss: 7.8914e-05 - val_loss: 4.8746e-04\n",
            "Epoch 82/100\n",
            "20/20 [==============================] - 0s 6ms/step - loss: 7.8472e-05 - val_loss: 4.9190e-04\n",
            "Epoch 83/100\n",
            "20/20 [==============================] - 0s 5ms/step - loss: 7.8306e-05 - val_loss: 4.9348e-04\n",
            "Epoch 84/100\n",
            "20/20 [==============================] - 0s 6ms/step - loss: 7.7791e-05 - val_loss: 4.8482e-04\n",
            "Epoch 85/100\n",
            "20/20 [==============================] - 0s 6ms/step - loss: 7.8248e-05 - val_loss: 4.9202e-04\n",
            "Epoch 86/100\n",
            "20/20 [==============================] - 0s 6ms/step - loss: 7.7491e-05 - val_loss: 4.9815e-04\n",
            "Epoch 87/100\n",
            "20/20 [==============================] - 0s 5ms/step - loss: 7.8574e-05 - val_loss: 4.7403e-04\n",
            "Epoch 88/100\n",
            "20/20 [==============================] - 0s 6ms/step - loss: 7.8883e-05 - val_loss: 4.8825e-04\n",
            "Epoch 89/100\n",
            "20/20 [==============================] - 0s 6ms/step - loss: 7.7738e-05 - val_loss: 4.9051e-04\n",
            "Epoch 90/100\n",
            "20/20 [==============================] - 0s 6ms/step - loss: 7.7616e-05 - val_loss: 4.8286e-04\n",
            "Epoch 91/100\n",
            "20/20 [==============================] - 0s 5ms/step - loss: 7.7676e-05 - val_loss: 4.8888e-04\n",
            "Epoch 92/100\n",
            "20/20 [==============================] - 0s 6ms/step - loss: 7.9243e-05 - val_loss: 4.7399e-04\n",
            "Epoch 93/100\n",
            "20/20 [==============================] - 0s 5ms/step - loss: 7.7567e-05 - val_loss: 5.0970e-04\n",
            "Epoch 94/100\n",
            "20/20 [==============================] - 0s 5ms/step - loss: 7.8292e-05 - val_loss: 4.9383e-04\n",
            "Epoch 95/100\n",
            "20/20 [==============================] - 0s 6ms/step - loss: 7.7636e-05 - val_loss: 4.9984e-04\n",
            "Epoch 96/100\n",
            "20/20 [==============================] - 0s 5ms/step - loss: 7.8845e-05 - val_loss: 4.7215e-04\n",
            "Epoch 97/100\n",
            "20/20 [==============================] - 0s 5ms/step - loss: 8.1011e-05 - val_loss: 4.8622e-04\n",
            "Epoch 98/100\n",
            "20/20 [==============================] - 0s 6ms/step - loss: 7.9343e-05 - val_loss: 4.7296e-04\n",
            "Epoch 99/100\n",
            "20/20 [==============================] - 0s 6ms/step - loss: 7.8446e-05 - val_loss: 4.8417e-04\n",
            "Epoch 100/100\n",
            "20/20 [==============================] - 0s 5ms/step - loss: 7.8718e-05 - val_loss: 4.7918e-04\n"
          ]
        },
        {
          "output_type": "execute_result",
          "data": {
            "text/plain": [
              "<keras.callbacks.History at 0x7f9e5b980070>"
            ]
          },
          "metadata": {},
          "execution_count": 165
        }
      ],
      "source": [
        "# 9. Fit mô hình với dữ liệu train\n",
        "model.fit(X_train,y_train,validation_data=(X_test,ytest),epochs=100,batch_size=64,verbose=1)"
      ]
    },
    {
      "cell_type": "code",
      "execution_count": null,
      "metadata": {
        "id": "Rxx_KQSkQpBG",
        "colab": {
          "base_uri": "https://localhost:8080/"
        },
        "outputId": "409f0ab4-a896-4db8-a30c-702028156b09"
      },
      "outputs": [
        {
          "output_type": "stream",
          "name": "stdout",
          "text": [
            "40/40 [==============================] - 0s 2ms/step\n",
            "14/14 [==============================] - 0s 2ms/step\n",
            "14/14 [==============================] - 0s 2ms/step\n"
          ]
        }
      ],
      "source": [
        "# 10. Dự báo dữ liệu test, val\n",
        "train_predict=model.predict(X_train)\n",
        "y_pred=model.predict(X_test)\n",
        "y_pred_val=model.predict(X_val)"
      ]
    },
    {
      "cell_type": "code",
      "execution_count": null,
      "metadata": {
        "id": "5rwTN10LQ7rj"
      },
      "outputs": [],
      "source": [
        "# 11. Chuẩn hóa dữ liệu y_pred, y_pred_val\n",
        "train_predict=scaler.inverse_transform(train_predict)\n",
        "y_pred=scaler.inverse_transform(y_pred)\n",
        "y_pred_val=scaler.inverse_transform(y_pred_val)"
      ]
    },
    {
      "cell_type": "code",
      "source": [
        "ytest = scaler.inverse_transform(ytest.reshape(-1,1))\n",
        "yval = scaler.inverse_transform(yval.reshape(-1,1))"
      ],
      "metadata": {
        "id": "H7-iPzQ1LNto"
      },
      "execution_count": null,
      "outputs": []
    },
    {
      "cell_type": "code",
      "execution_count": null,
      "metadata": {
        "id": "wu_9j94kRonD",
        "colab": {
          "base_uri": "https://localhost:8080/"
        },
        "outputId": "5549d2bf-581d-4639-fa1e-a65ae59fcf5f"
      },
      "outputs": [
        {
          "output_type": "stream",
          "name": "stdout",
          "text": [
            "Validation RMSE: 3.0369903612406217\n",
            "Testing RMSE: 3.3255506913950965\n",
            "Testing MAE: 2.1578107749993083\n",
            "Validation MAE: 2.287989023724724\n",
            "Testing MAPE: 1.3427036271523152\n",
            "Validation MAPE: 1.4334336877865876\n"
          ]
        }
      ],
      "source": [
        "# 12. Đánh giá độ chính xác thuật toán bằng RMSE\n",
        "valid_rmse = np.sqrt(np.mean((y_pred_val - yval)**2))\n",
        "test_rmse = np.sqrt(np.mean((y_pred - ytest)**2))\n",
        "test_mae = np.mean(np.abs(y_pred - ytest))\n",
        "valid_mae = np.mean(np.abs(y_pred_val - yval))\n",
        "test_mape = np.mean(np.abs((y_pred - ytest) / ytest)) * 100\n",
        "valid_mape = np.mean(np.abs((y_pred_val - yval) / np.where(yval != 0, yval, 1))) * 100\n",
        "\n",
        "print('Validation RMSE:', valid_rmse)\n",
        "print('Testing RMSE:', test_rmse)\n",
        "print('Testing MAE:', test_mae)\n",
        "print('Validation MAE:', valid_mae)\n",
        "print('Testing MAPE:', test_mape)\n",
        "print('Validation MAPE:', valid_mape)"
      ]
    },
    {
      "cell_type": "code",
      "execution_count": null,
      "metadata": {
        "id": "izQZ1iQyYl6N",
        "colab": {
          "base_uri": "https://localhost:8080/"
        },
        "outputId": "847b97b0-3b2f-4a8c-82f4-638a475c44fe"
      },
      "outputs": [
        {
          "output_type": "stream",
          "name": "stdout",
          "text": [
            "[0.28781012]\n",
            "2\n"
          ]
        }
      ],
      "source": [
        "# 13. Dự báo 30 ngày tiếp theo\n",
        "x_input=val_data[426:].reshape(1,-1)\n",
        "x_input.shape\n",
        "\n",
        "temp_input=list(x_input)\n",
        "temp_input=temp_input[0].tolist()\n",
        "\n",
        "from numpy import array\n",
        "\n",
        "lst_output=[]\n",
        "n_steps=1\n",
        "i=0\n",
        "while(i<30):\n",
        "\n",
        "    if(len(temp_input)>1):\n",
        "        #print(temp_input)\n",
        "        x_input=np.array(temp_input[1:])\n",
        "        # print(\"{} day input {}\".format(i,x_input))\n",
        "        x_input=x_input.reshape(1,-1)\n",
        "        x_input = x_input.reshape((1, n_steps, 1))\n",
        "        #print(x_input)\n",
        "        yhat = model.predict(x_input, verbose=0)\n",
        "        # print(\"{} day output {}\".format(i,yhat))\n",
        "        temp_input.extend(yhat[0].tolist())\n",
        "        temp_input=temp_input[1:]\n",
        "        #print(temp_input)\n",
        "        lst_output.extend(yhat.tolist())\n",
        "        i=i+1\n",
        "    else:\n",
        "        x_input = x_input.reshape((1, n_steps,1))\n",
        "        yhat = model.predict(x_input, verbose=0)\n",
        "        print(yhat[0])\n",
        "        temp_input.extend(yhat[0].tolist())\n",
        "        print(len(temp_input))\n",
        "        lst_output.extend(yhat.tolist())\n",
        "        i=i+1\n"
      ]
    },
    {
      "cell_type": "code",
      "execution_count": null,
      "metadata": {
        "id": "KSa_mX51a654",
        "colab": {
          "base_uri": "https://localhost:8080/",
          "height": 430
        },
        "outputId": "867eea91-f136-4c8f-a5d7-8a84e308194e"
      },
      "outputs": [
        {
          "output_type": "display_data",
          "data": {
            "text/plain": [
              "<Figure size 640x480 with 1 Axes>"
            ],
            "image/png": "[encoded data removed]"
          },
          "metadata": {}
        }
      ],
      "source": [
        "# 14.Vẽ hình\n",
        "train_data_index = pd.RangeIndex(start=0, stop=train_size, step=1)\n",
        "plt.plot(scaler.inverse_transform(train_data))\n",
        "test_data_index = pd.RangeIndex(start=train_size, stop=train_size+test_size, step=1)\n",
        "plt.plot(test_data_index,scaler.inverse_transform(test_data))\n",
        "test_data_index = pd.RangeIndex(start=train_size+2, stop=train_size+test_size, step=1)\n",
        "plt.plot(test_data_index,(y_pred))\n",
        "val_data_index = pd.RangeIndex(start=train_size+test_size, stop=train_size+test_size+val_size, step=1)\n",
        "plt.plot(val_data_index,scaler.inverse_transform(val_data))\n",
        "val_data_index = pd.RangeIndex(start=train_size+test_size+2, stop=train_size+test_size+val_size, step=1)\n",
        "plt.plot(val_data_index,y_pred_val)\n",
        "prediect_data_index = pd.RangeIndex(start=len(df1)-1, stop=len(df1)+29, step=1)\n",
        "plt.plot(prediect_data_index,scaler.inverse_transform(lst_output))\n",
        "plt.legend(['Train','Test','Predict','Validate','ValidatePred','Predict30days'])\n",
        "plt.show()"
      ]
    },
    {
      "cell_type": "code",
      "source": [
        "scaler.inverse_transform(lst_output)"
      ],
      "metadata": {
        "id": "oZWgeDbOyZ96",
        "colab": {
          "base_uri": "https://localhost:8080/"
        },
        "outputId": "ee0543cd-df97-455c-a882-b4b56a59c757"
      },
      "execution_count": null,
      "outputs": [
        {
          "output_type": "execute_result",
          "data": {
            "text/plain": [
              "array([[115.37411298],\n",
              "       [115.29833053],\n",
              "       [115.2226658 ],\n",
              "       [115.14711879],\n",
              "       [115.07168496],\n",
              "       [114.99638244],\n",
              "       [114.92120216],\n",
              "       [114.84614412],\n",
              "       [114.77122191],\n",
              "       [114.69642648],\n",
              "       [114.62176234],\n",
              "       [114.5472295 ],\n",
              "       [114.47284607],\n",
              "       [114.39859394],\n",
              "       [114.32449122],\n",
              "       [114.25053339],\n",
              "       [114.17672949],\n",
              "       [114.10307047],\n",
              "       [114.02956539],\n",
              "       [113.95621425],\n",
              "       [113.88301252],\n",
              "       [113.80998283],\n",
              "       [113.73711161],\n",
              "       [113.66439886],\n",
              "       [113.59185362],\n",
              "       [113.51948496],\n",
              "       [113.44727929],\n",
              "       [113.37525473],\n",
              "       [113.30340221],\n",
              "       [113.23172627]])"
            ]
          },
          "metadata": {},
          "execution_count": 172
        }
      ]
    },
    {
      "cell_type": "markdown",
      "source": [
        "# Dataset ARI"
      ],
      "metadata": {
        "id": "ZwPNuqHMV10f"
      }
    },
    {
      "cell_type": "code",
      "source": [
        "# 2. Đọc file csv và gắng index với giá Price\n",
        "df = pd.read_csv('ARI-Historical-Data-final.csv')\n",
        "df1=df.reset_index()['Price']"
      ],
      "metadata": {
        "id": "C9bYvv77WXA-"
      },
      "execution_count": null,
      "outputs": []
    },
    {
      "cell_type": "code",
      "source": [
        "# 3. Scaler data\n",
        "scaler=MinMaxScaler(feature_range=(0,1))\n",
        "df1=scaler.fit_transform(np.array(df1).reshape(-1,1))"
      ],
      "metadata": {
        "id": "gCrvRqzPWZBW"
      },
      "execution_count": null,
      "outputs": []
    },
    {
      "cell_type": "code",
      "source": [
        "# 4. Chia train test\n",
        "train_size = int(0.6 * len(df1))\n",
        "test_size = int(0.2 * len(df1))\n",
        "val_size = len(df1) - train_size - test_size\n",
        "\n",
        "train_data = df1[:train_size]\n",
        "test_data = df1[train_size:train_size+test_size]\n",
        "val_data = df1[train_size+test_size:]"
      ],
      "metadata": {
        "id": "DUZ7g6m8WaUf"
      },
      "execution_count": null,
      "outputs": []
    },
    {
      "cell_type": "code",
      "source": [
        "# 5. Hàm Create Dataset\n",
        "import numpy\n",
        "# convert an array of values into a dataset matrix\n",
        "def create_dataset(dataset, time_step=1):\n",
        "\tdataX, dataY = [], []\n",
        "\tfor i in range(len(dataset)-time_step-1):\n",
        "\t\ta = dataset[i:(i+time_step), 0]   ###i=0, X=0,1,2,3-----99   Y=100\n",
        "\t\tdataX.append(a)\n",
        "\t\tdataY.append(dataset[i + time_step, 0])\n",
        "\treturn numpy.array(dataX), numpy.array(dataY)"
      ],
      "metadata": {
        "id": "yfObCWDrWbaG"
      },
      "execution_count": null,
      "outputs": []
    },
    {
      "cell_type": "code",
      "source": [
        "#6. Reshape into X=t,t+1,t+2..t+99 and Y=t+100\n",
        "time_step = 1\n",
        "X_train, y_train = create_dataset(train_data, time_step)\n",
        "X_val, yval = create_dataset(val_data, time_step)\n",
        "X_test, ytest = create_dataset(test_data, time_step)"
      ],
      "metadata": {
        "id": "xI0jZFsBWc4v"
      },
      "execution_count": null,
      "outputs": []
    },
    {
      "cell_type": "code",
      "source": [
        "# 7. Reshape input to be [samples, time steps, features] which is required for GRU\n",
        "X_train =X_train.reshape(X_train.shape[0],X_train.shape[1] , 1)\n",
        "X_test = X_test.reshape(X_test.shape[0],X_test.shape[1] , 1)\n",
        "X_val = X_val.reshape(X_val.shape[0],X_val.shape[1] , 1)"
      ],
      "metadata": {
        "id": "_9ALZ7CvWeLn"
      },
      "execution_count": null,
      "outputs": []
    },
    {
      "cell_type": "code",
      "source": [
        "# 8. Define GRU Model\n",
        "model = Sequential()\n",
        "model.add(GRU(64, input_shape=(time_step, 1)))\n",
        "model.add(Dense(1))\n",
        "model.compile(optimizer='adam', loss='mean_squared_error')"
      ],
      "metadata": {
        "id": "V0jAwk21Wf-m"
      },
      "execution_count": null,
      "outputs": []
    },
    {
      "cell_type": "code",
      "source": [
        "# 9. Fit mô hình với dữ liệu train\n",
        "model.fit(X_train,y_train,validation_data=(X_test,ytest),epochs=100,batch_size=64,verbose=1)"
      ],
      "metadata": {
        "colab": {
          "base_uri": "https://localhost:8080/"
        },
        "id": "pvTkVspZWhb_",
        "outputId": "2b983311-0899-4248-ebdb-937044ad32ad"
      },
      "execution_count": null,
      "outputs": [
        {
          "output_type": "stream",
          "name": "stdout",
          "text": [
            "Epoch 1/100\n",
            "20/20 [==============================] - 4s 30ms/step - loss: 0.4475 - val_loss: 0.0714\n",
            "Epoch 2/100\n",
            "20/20 [==============================] - 0s 6ms/step - loss: 0.1250 - val_loss: 0.0174\n",
            "Epoch 3/100\n",
            "20/20 [==============================] - 0s 6ms/step - loss: 0.0112 - val_loss: 0.0468\n",
            "Epoch 4/100\n",
            "20/20 [==============================] - 0s 6ms/step - loss: 0.0018 - val_loss: 0.0533\n",
            "Epoch 5/100\n",
            "20/20 [==============================] - 0s 6ms/step - loss: 0.0014 - val_loss: 0.0456\n",
            "Epoch 6/100\n",
            "20/20 [==============================] - 0s 5ms/step - loss: 0.0012 - val_loss: 0.0444\n",
            "Epoch 7/100\n",
            "20/20 [==============================] - 0s 6ms/step - loss: 0.0012 - val_loss: 0.0453\n",
            "Epoch 8/100\n",
            "20/20 [==============================] - 0s 5ms/step - loss: 0.0012 - val_loss: 0.0451\n",
            "Epoch 9/100\n",
            "20/20 [==============================] - 0s 6ms/step - loss: 0.0012 - val_loss: 0.0448\n",
            "Epoch 10/100\n",
            "20/20 [==============================] - 0s 6ms/step - loss: 0.0012 - val_loss: 0.0444\n",
            "Epoch 11/100\n",
            "20/20 [==============================] - 0s 6ms/step - loss: 0.0012 - val_loss: 0.0443\n",
            "Epoch 12/100\n",
            "20/20 [==============================] - 0s 6ms/step - loss: 0.0012 - val_loss: 0.0438\n",
            "Epoch 13/100\n",
            "20/20 [==============================] - 0s 5ms/step - loss: 0.0012 - val_loss: 0.0435\n",
            "Epoch 14/100\n",
            "20/20 [==============================] - 0s 6ms/step - loss: 0.0011 - val_loss: 0.0433\n",
            "Epoch 15/100\n",
            "20/20 [==============================] - 0s 7ms/step - loss: 0.0011 - val_loss: 0.0429\n",
            "Epoch 16/100\n",
            "20/20 [==============================] - 0s 6ms/step - loss: 0.0011 - val_loss: 0.0429\n",
            "Epoch 17/100\n",
            "20/20 [==============================] - 0s 6ms/step - loss: 0.0011 - val_loss: 0.0422\n",
            "Epoch 18/100\n",
            "20/20 [==============================] - 0s 6ms/step - loss: 0.0011 - val_loss: 0.0419\n",
            "Epoch 19/100\n",
            "20/20 [==============================] - 0s 6ms/step - loss: 0.0011 - val_loss: 0.0418\n",
            "Epoch 20/100\n",
            "20/20 [==============================] - 0s 6ms/step - loss: 0.0011 - val_loss: 0.0413\n",
            "Epoch 21/100\n",
            "20/20 [==============================] - 0s 6ms/step - loss: 0.0011 - val_loss: 0.0409\n",
            "Epoch 22/100\n",
            "20/20 [==============================] - 0s 6ms/step - loss: 0.0011 - val_loss: 0.0405\n",
            "Epoch 23/100\n",
            "20/20 [==============================] - 0s 6ms/step - loss: 0.0011 - val_loss: 0.0402\n",
            "Epoch 24/100\n",
            "20/20 [==============================] - 0s 5ms/step - loss: 0.0011 - val_loss: 0.0398\n",
            "Epoch 25/100\n",
            "20/20 [==============================] - 0s 6ms/step - loss: 0.0010 - val_loss: 0.0393\n",
            "Epoch 26/100\n",
            "20/20 [==============================] - 0s 6ms/step - loss: 0.0010 - val_loss: 0.0388\n",
            "Epoch 27/100\n",
            "20/20 [==============================] - 0s 5ms/step - loss: 0.0010 - val_loss: 0.0386\n",
            "Epoch 28/100\n",
            "20/20 [==============================] - 0s 5ms/step - loss: 0.0010 - val_loss: 0.0382\n",
            "Epoch 29/100\n",
            "20/20 [==============================] - 0s 6ms/step - loss: 0.0010 - val_loss: 0.0378\n",
            "Epoch 30/100\n",
            "20/20 [==============================] - 0s 5ms/step - loss: 9.9190e-04 - val_loss: 0.0375\n",
            "Epoch 31/100\n",
            "20/20 [==============================] - 0s 6ms/step - loss: 9.8091e-04 - val_loss: 0.0372\n",
            "Epoch 32/100\n",
            "20/20 [==============================] - 0s 6ms/step - loss: 9.6678e-04 - val_loss: 0.0363\n",
            "Epoch 33/100\n",
            "20/20 [==============================] - 0s 5ms/step - loss: 9.5546e-04 - val_loss: 0.0360\n",
            "Epoch 34/100\n",
            "20/20 [==============================] - 0s 6ms/step - loss: 9.4380e-04 - val_loss: 0.0356\n",
            "Epoch 35/100\n",
            "20/20 [==============================] - 0s 5ms/step - loss: 9.3405e-04 - val_loss: 0.0353\n",
            "Epoch 36/100\n",
            "20/20 [==============================] - 0s 6ms/step - loss: 9.2133e-04 - val_loss: 0.0344\n",
            "Epoch 37/100\n",
            "20/20 [==============================] - 0s 6ms/step - loss: 9.1024e-04 - val_loss: 0.0340\n",
            "Epoch 38/100\n",
            "20/20 [==============================] - 0s 7ms/step - loss: 9.0506e-04 - val_loss: 0.0334\n",
            "Epoch 39/100\n",
            "20/20 [==============================] - 0s 6ms/step - loss: 8.9010e-04 - val_loss: 0.0335\n",
            "Epoch 40/100\n",
            "20/20 [==============================] - 0s 7ms/step - loss: 8.7377e-04 - val_loss: 0.0328\n",
            "Epoch 41/100\n",
            "20/20 [==============================] - 0s 6ms/step - loss: 8.6171e-04 - val_loss: 0.0324\n",
            "Epoch 42/100\n",
            "20/20 [==============================] - 0s 7ms/step - loss: 8.5254e-04 - val_loss: 0.0316\n",
            "Epoch 43/100\n",
            "20/20 [==============================] - 0s 6ms/step - loss: 8.3987e-04 - val_loss: 0.0313\n",
            "Epoch 44/100\n",
            "20/20 [==============================] - 0s 6ms/step - loss: 8.2798e-04 - val_loss: 0.0313\n",
            "Epoch 45/100\n",
            "20/20 [==============================] - 0s 7ms/step - loss: 8.1537e-04 - val_loss: 0.0305\n",
            "Epoch 46/100\n",
            "20/20 [==============================] - 0s 6ms/step - loss: 8.0279e-04 - val_loss: 0.0296\n",
            "Epoch 47/100\n",
            "20/20 [==============================] - 0s 5ms/step - loss: 7.9411e-04 - val_loss: 0.0297\n",
            "Epoch 48/100\n",
            "20/20 [==============================] - 0s 6ms/step - loss: 7.7589e-04 - val_loss: 0.0288\n",
            "Epoch 49/100\n",
            "20/20 [==============================] - 0s 6ms/step - loss: 7.6429e-04 - val_loss: 0.0289\n",
            "Epoch 50/100\n",
            "20/20 [==============================] - 0s 6ms/step - loss: 7.5225e-04 - val_loss: 0.0279\n",
            "Epoch 51/100\n",
            "20/20 [==============================] - 0s 5ms/step - loss: 7.4080e-04 - val_loss: 0.0277\n",
            "Epoch 52/100\n",
            "20/20 [==============================] - 0s 6ms/step - loss: 7.2874e-04 - val_loss: 0.0269\n",
            "Epoch 53/100\n",
            "20/20 [==============================] - 0s 6ms/step - loss: 7.1604e-04 - val_loss: 0.0267\n",
            "Epoch 54/100\n",
            "20/20 [==============================] - 0s 6ms/step - loss: 7.0307e-04 - val_loss: 0.0262\n",
            "Epoch 55/100\n",
            "20/20 [==============================] - 0s 6ms/step - loss: 6.9182e-04 - val_loss: 0.0256\n",
            "Epoch 56/100\n",
            "20/20 [==============================] - 0s 6ms/step - loss: 6.7852e-04 - val_loss: 0.0250\n",
            "Epoch 57/100\n",
            "20/20 [==============================] - 0s 5ms/step - loss: 6.6780e-04 - val_loss: 0.0245\n",
            "Epoch 58/100\n",
            "20/20 [==============================] - 0s 6ms/step - loss: 6.5486e-04 - val_loss: 0.0241\n",
            "Epoch 59/100\n",
            "20/20 [==============================] - 0s 5ms/step - loss: 6.4299e-04 - val_loss: 0.0238\n",
            "Epoch 60/100\n",
            "20/20 [==============================] - 0s 6ms/step - loss: 6.2931e-04 - val_loss: 0.0232\n",
            "Epoch 61/100\n",
            "20/20 [==============================] - 0s 6ms/step - loss: 6.1732e-04 - val_loss: 0.0228\n",
            "Epoch 62/100\n",
            "20/20 [==============================] - 0s 7ms/step - loss: 6.0523e-04 - val_loss: 0.0224\n",
            "Epoch 63/100\n",
            "20/20 [==============================] - 0s 6ms/step - loss: 5.9734e-04 - val_loss: 0.0211\n",
            "Epoch 64/100\n",
            "20/20 [==============================] - 0s 5ms/step - loss: 5.8839e-04 - val_loss: 0.0214\n",
            "Epoch 65/100\n",
            "20/20 [==============================] - 0s 6ms/step - loss: 5.6920e-04 - val_loss: 0.0212\n",
            "Epoch 66/100\n",
            "20/20 [==============================] - 0s 5ms/step - loss: 5.5969e-04 - val_loss: 0.0199\n",
            "Epoch 67/100\n",
            "20/20 [==============================] - 0s 6ms/step - loss: 5.4999e-04 - val_loss: 0.0198\n",
            "Epoch 68/100\n",
            "20/20 [==============================] - 0s 8ms/step - loss: 5.3374e-04 - val_loss: 0.0193\n",
            "Epoch 69/100\n",
            "20/20 [==============================] - 0s 10ms/step - loss: 5.2279e-04 - val_loss: 0.0188\n",
            "Epoch 70/100\n",
            "20/20 [==============================] - 0s 8ms/step - loss: 5.1100e-04 - val_loss: 0.0184\n",
            "Epoch 71/100\n",
            "20/20 [==============================] - 0s 9ms/step - loss: 5.0334e-04 - val_loss: 0.0176\n",
            "Epoch 72/100\n",
            "20/20 [==============================] - 0s 8ms/step - loss: 4.8926e-04 - val_loss: 0.0175\n",
            "Epoch 73/100\n",
            "20/20 [==============================] - 0s 9ms/step - loss: 4.8569e-04 - val_loss: 0.0179\n",
            "Epoch 74/100\n",
            "20/20 [==============================] - 0s 8ms/step - loss: 4.6607e-04 - val_loss: 0.0167\n",
            "Epoch 75/100\n",
            "20/20 [==============================] - 0s 8ms/step - loss: 4.5235e-04 - val_loss: 0.0165\n",
            "Epoch 76/100\n",
            "20/20 [==============================] - 0s 8ms/step - loss: 4.3981e-04 - val_loss: 0.0157\n",
            "Epoch 77/100\n",
            "20/20 [==============================] - 0s 9ms/step - loss: 4.2897e-04 - val_loss: 0.0153\n",
            "Epoch 78/100\n",
            "20/20 [==============================] - 0s 8ms/step - loss: 4.1796e-04 - val_loss: 0.0148\n",
            "Epoch 79/100\n",
            "20/20 [==============================] - 0s 8ms/step - loss: 4.0635e-04 - val_loss: 0.0145\n",
            "Epoch 80/100\n",
            "20/20 [==============================] - 0s 8ms/step - loss: 3.9580e-04 - val_loss: 0.0140\n",
            "Epoch 81/100\n",
            "20/20 [==============================] - 0s 8ms/step - loss: 3.8500e-04 - val_loss: 0.0134\n",
            "Epoch 82/100\n",
            "20/20 [==============================] - 0s 8ms/step - loss: 3.7388e-04 - val_loss: 0.0132\n",
            "Epoch 83/100\n",
            "20/20 [==============================] - 0s 8ms/step - loss: 3.6434e-04 - val_loss: 0.0126\n",
            "Epoch 84/100\n",
            "20/20 [==============================] - 0s 8ms/step - loss: 3.5268e-04 - val_loss: 0.0124\n",
            "Epoch 85/100\n",
            "20/20 [==============================] - 0s 6ms/step - loss: 3.4303e-04 - val_loss: 0.0117\n",
            "Epoch 86/100\n",
            "20/20 [==============================] - 0s 6ms/step - loss: 3.3288e-04 - val_loss: 0.0113\n",
            "Epoch 87/100\n",
            "20/20 [==============================] - 0s 6ms/step - loss: 3.2193e-04 - val_loss: 0.0110\n",
            "Epoch 88/100\n",
            "20/20 [==============================] - 0s 5ms/step - loss: 3.1319e-04 - val_loss: 0.0104\n",
            "Epoch 89/100\n",
            "20/20 [==============================] - 0s 6ms/step - loss: 3.0450e-04 - val_loss: 0.0104\n",
            "Epoch 90/100\n",
            "20/20 [==============================] - 0s 7ms/step - loss: 2.9226e-04 - val_loss: 0.0100\n",
            "Epoch 91/100\n",
            "20/20 [==============================] - 0s 6ms/step - loss: 2.8451e-04 - val_loss: 0.0095\n",
            "Epoch 92/100\n",
            "20/20 [==============================] - 0s 5ms/step - loss: 2.7476e-04 - val_loss: 0.0089\n",
            "Epoch 93/100\n",
            "20/20 [==============================] - 0s 6ms/step - loss: 2.6556e-04 - val_loss: 0.0087\n",
            "Epoch 94/100\n",
            "20/20 [==============================] - 0s 6ms/step - loss: 2.5623e-04 - val_loss: 0.0084\n",
            "Epoch 95/100\n",
            "20/20 [==============================] - 0s 6ms/step - loss: 2.4809e-04 - val_loss: 0.0080\n",
            "Epoch 96/100\n",
            "20/20 [==============================] - 0s 6ms/step - loss: 2.3797e-04 - val_loss: 0.0074\n",
            "Epoch 97/100\n",
            "20/20 [==============================] - 0s 6ms/step - loss: 2.3223e-04 - val_loss: 0.0071\n",
            "Epoch 98/100\n",
            "20/20 [==============================] - 0s 5ms/step - loss: 2.2287e-04 - val_loss: 0.0070\n",
            "Epoch 99/100\n",
            "20/20 [==============================] - 0s 5ms/step - loss: 2.1523e-04 - val_loss: 0.0067\n",
            "Epoch 100/100\n",
            "20/20 [==============================] - 0s 6ms/step - loss: 2.0847e-04 - val_loss: 0.0063\n"
          ]
        },
        {
          "output_type": "execute_result",
          "data": {
            "text/plain": [
              "<keras.callbacks.History at 0x7f9e598e7ee0>"
            ]
          },
          "metadata": {},
          "execution_count": 210
        }
      ]
    },
    {
      "cell_type": "code",
      "source": [
        "# 10. Dự báo dữ liệu test, val\n",
        "train_predict=model.predict(X_train)\n",
        "y_pred=model.predict(X_test)\n",
        "y_pred_val=model.predict(X_val)"
      ],
      "metadata": {
        "colab": {
          "base_uri": "https://localhost:8080/"
        },
        "id": "m2sZ8G4CWi__",
        "outputId": "b2ed41d8-e872-4cd7-af7e-87ceffa42bc8"
      },
      "execution_count": null,
      "outputs": [
        {
          "output_type": "stream",
          "name": "stdout",
          "text": [
            "40/40 [==============================] - 0s 2ms/step\n",
            "14/14 [==============================] - 0s 2ms/step\n",
            "14/14 [==============================] - 0s 2ms/step\n"
          ]
        }
      ]
    },
    {
      "cell_type": "code",
      "source": [
        "# 11. Chuẩn hóa dữ liệu y_pred, y_pred_val\n",
        "train_predict=scaler.inverse_transform(train_predict)\n",
        "y_pred=scaler.inverse_transform(y_pred)\n",
        "y_pred_val=scaler.inverse_transform(y_pred_val)"
      ],
      "metadata": {
        "id": "BO1brmXZWkhu"
      },
      "execution_count": null,
      "outputs": []
    },
    {
      "cell_type": "code",
      "source": [
        "ytest = scaler.inverse_transform(ytest.reshape(-1,1))\n",
        "yval = scaler.inverse_transform(yval.reshape(-1,1))"
      ],
      "metadata": {
        "id": "SmWJxCc3LRLB"
      },
      "execution_count": null,
      "outputs": []
    },
    {
      "cell_type": "code",
      "source": [
        "# 12. Đánh giá độ chính xác thuật toán bằng RMSE\n",
        "valid_rmse = np.sqrt(np.mean((y_pred_val - yval)**2))\n",
        "test_rmse = np.sqrt(np.mean((y_pred - ytest)**2))\n",
        "test_mae = np.mean(np.abs(y_pred - ytest))\n",
        "valid_mae = np.mean(np.abs(y_pred_val - yval))\n",
        "test_mape = np.mean(np.abs((y_pred - ytest) / ytest)) * 100\n",
        "valid_mape = np.mean(np.abs((y_pred_val - yval) / np.where(yval != 0, yval, 1))) * 100\n",
        "\n",
        "print('Validation RMSE:', valid_rmse)\n",
        "print('Testing RMSE:', test_rmse)\n",
        "print('Testing MAE:', test_mae)\n",
        "print('Validation MAE:', valid_mae)\n",
        "print('Testing MAPE:', test_mape)\n",
        "print('Validation MAPE:', valid_mape)"
      ],
      "metadata": {
        "colab": {
          "base_uri": "https://localhost:8080/"
        },
        "id": "YvbmquuJWmpm",
        "outputId": "1fb0d3f2-ed08-415a-e9d3-d9ca923b2ba2"
      },
      "execution_count": null,
      "outputs": [
        {
          "output_type": "stream",
          "name": "stdout",
          "text": [
            "Validation RMSE: 1.0808588345350554\n",
            "Testing RMSE: 1.2220937443495627\n",
            "Testing MAE: 1.0056509718658229\n",
            "Validation MAE: 1.0057887410780957\n",
            "Testing MAPE: 10.50301596458301\n",
            "Validation MAPE: 9.016817720727087\n"
          ]
        }
      ]
    },
    {
      "cell_type": "code",
      "source": [
        "# 13. Dự báo 30 ngày tiếp theo\n",
        "x_input=val_data[426:].reshape(1,-1)\n",
        "x_input.shape\n",
        "\n",
        "temp_input=list(x_input)\n",
        "temp_input=temp_input[0].tolist()\n",
        "\n",
        "from numpy import array\n",
        "\n",
        "lst_output=[]\n",
        "n_steps=1\n",
        "i=0\n",
        "while(i<30):\n",
        "\n",
        "    if(len(temp_input)>1):\n",
        "        #print(temp_input)\n",
        "        x_input=np.array(temp_input[1:])\n",
        "        # print(\"{} day input {}\".format(i,x_input))\n",
        "        x_input=x_input.reshape(1,-1)\n",
        "        x_input = x_input.reshape((1, n_steps, 1))\n",
        "        #print(x_input)\n",
        "        yhat = model.predict(x_input, verbose=0)\n",
        "        # print(\"{} day output {}\".format(i,yhat))\n",
        "        temp_input.extend(yhat[0].tolist())\n",
        "        temp_input=temp_input[1:]\n",
        "        #print(temp_input)\n",
        "        lst_output.extend(yhat.tolist())\n",
        "        i=i+1\n",
        "    else:\n",
        "        x_input = x_input.reshape((1, n_steps,1))\n",
        "        yhat = model.predict(x_input, verbose=0)\n",
        "        print(yhat[0])\n",
        "        temp_input.extend(yhat[0].tolist())\n",
        "        print(len(temp_input))\n",
        "        lst_output.extend(yhat.tolist())\n",
        "        i=i+1\n"
      ],
      "metadata": {
        "colab": {
          "base_uri": "https://localhost:8080/"
        },
        "id": "F98UF9O2Woe1",
        "outputId": "324d84a4-2c66-4d3e-805c-7c9248ad5c90"
      },
      "execution_count": null,
      "outputs": [
        {
          "output_type": "stream",
          "name": "stdout",
          "text": [
            "[0.52977264]\n",
            "2\n"
          ]
        }
      ]
    },
    {
      "cell_type": "code",
      "source": [
        "# 14.Vẽ hình\n",
        "train_data_index = pd.RangeIndex(start=0, stop=train_size, step=1)\n",
        "plt.plot(scaler.inverse_transform(train_data))\n",
        "test_data_index = pd.RangeIndex(start=train_size, stop=train_size+test_size, step=1)\n",
        "plt.plot(test_data_index,scaler.inverse_transform(test_data))\n",
        "test_data_index = pd.RangeIndex(start=train_size+2, stop=train_size+test_size, step=1)\n",
        "plt.plot(test_data_index,(y_pred))\n",
        "val_data_index = pd.RangeIndex(start=train_size+test_size, stop=train_size+test_size+val_size, step=1)\n",
        "plt.plot(val_data_index,scaler.inverse_transform(val_data))\n",
        "val_data_index = pd.RangeIndex(start=train_size+test_size+2, stop=train_size+test_size+val_size, step=1)\n",
        "plt.plot(val_data_index,y_pred_val)\n",
        "prediect_data_index = pd.RangeIndex(start=len(df1)-1, stop=len(df1)+29, step=1)\n",
        "plt.plot(prediect_data_index,scaler.inverse_transform(lst_output))\n",
        "plt.legend(['Train','Test','Predict','Validate','ValidatePred','Predict30days'])\n",
        "plt.show()"
      ],
      "metadata": {
        "colab": {
          "base_uri": "https://localhost:8080/",
          "height": 430
        },
        "id": "OMfJ7odtWqWV",
        "outputId": "97cbe4cc-3550-4d7c-e86c-5e93127ed452"
      },
      "execution_count": null,
      "outputs": [
        {
          "output_type": "display_data",
          "data": {
            "text/plain": [
              "<Figure size 640x480 with 1 Axes>"
            ],
            "image/png": "[encoded data removed]"
          },
          "metadata": {}
        }
      ]
    },
    {
      "cell_type": "code",
      "source": [
        "scaler.inverse_transform(lst_output)"
      ],
      "metadata": {
        "colab": {
          "base_uri": "https://localhost:8080/"
        },
        "id": "i2-Pwbv-Wr2d",
        "outputId": "013b4e85-73b4-4ab9-f514-d3c8aa726a7d"
      },
      "execution_count": null,
      "outputs": [
        {
          "output_type": "execute_result",
          "data": {
            "text/plain": [
              "array([[12.41968955],\n",
              "       [13.32298004],\n",
              "       [14.06344445],\n",
              "       [14.67369806],\n",
              "       [15.1787315 ],\n",
              "       [15.59805044],\n",
              "       [15.94710112],\n",
              "       [16.23825876],\n",
              "       [16.48153249],\n",
              "       [16.68507245],\n",
              "       [16.85555815],\n",
              "       [16.99848192],\n",
              "       [17.11839461],\n",
              "       [17.219063  ],\n",
              "       [17.30361609],\n",
              "       [17.37466383],\n",
              "       [17.43438735],\n",
              "       [17.48460144],\n",
              "       [17.52683473],\n",
              "       [17.56236183],\n",
              "       [17.59225395],\n",
              "       [17.61740563],\n",
              "       [17.6385752 ],\n",
              "       [17.65639028],\n",
              "       [17.6713865 ],\n",
              "       [17.68401112],\n",
              "       [17.69463777],\n",
              "       [17.70358489],\n",
              "       [17.71111843],\n",
              "       [17.7174611 ]])"
            ]
          },
          "metadata": {},
          "execution_count": 217
        }
      ]
    },
    {
      "cell_type": "markdown",
      "source": [
        "# Dataset MAA"
      ],
      "metadata": {
        "id": "ZsYNeX32WsSV"
      }
    },
    {
      "cell_type": "code",
      "source": [
        "# 2. Đọc file csv và gắng index với giá Price\n",
        "df = pd.read_csv('MAA-Historical-Data-final.csv')\n",
        "df1=df.reset_index()['Price']"
      ],
      "metadata": {
        "id": "1FlQyQW8Wu0l"
      },
      "execution_count": null,
      "outputs": []
    },
    {
      "cell_type": "code",
      "source": [
        "# 3. Scaler data\n",
        "scaler=MinMaxScaler(feature_range=(0,1))\n",
        "df1=scaler.fit_transform(np.array(df1).reshape(-1,1))"
      ],
      "metadata": {
        "id": "D32FDNvjWwYV"
      },
      "execution_count": null,
      "outputs": []
    },
    {
      "cell_type": "code",
      "source": [
        "# 4. Chia train test\n",
        "train_size = int(0.6 * len(df1))\n",
        "test_size = int(0.2 * len(df1))\n",
        "val_size = len(df1) - train_size - test_size\n",
        "\n",
        "train_data = df1[:train_size]\n",
        "test_data = df1[train_size:train_size+test_size]\n",
        "val_data = df1[train_size+test_size:]"
      ],
      "metadata": {
        "id": "EsNlvMnFWxhG"
      },
      "execution_count": null,
      "outputs": []
    },
    {
      "cell_type": "code",
      "source": [
        "# 5. Hàm Create Dataset\n",
        "import numpy\n",
        "# convert an array of values into a dataset matrix\n",
        "def create_dataset(dataset, time_step=1):\n",
        "\tdataX, dataY = [], []\n",
        "\tfor i in range(len(dataset)-time_step-1):\n",
        "\t\ta = dataset[i:(i+time_step), 0]   ###i=0, X=0,1,2,3-----99   Y=100\n",
        "\t\tdataX.append(a)\n",
        "\t\tdataY.append(dataset[i + time_step, 0])\n",
        "\treturn numpy.array(dataX), numpy.array(dataY)\n"
      ],
      "metadata": {
        "id": "Y7O5w1ebWze1"
      },
      "execution_count": null,
      "outputs": []
    },
    {
      "cell_type": "code",
      "source": [
        "#6. Reshape into X=t,t+1,t+2..t+99 and Y=t+100\n",
        "time_step = 1\n",
        "X_train, y_train = create_dataset(train_data, time_step)\n",
        "X_val, yval = create_dataset(val_data, time_step)\n",
        "X_test, ytest = create_dataset(test_data, time_step)"
      ],
      "metadata": {
        "id": "rusIdioyW0we"
      },
      "execution_count": null,
      "outputs": []
    },
    {
      "cell_type": "code",
      "source": [
        "# 7. Reshape input to be [samples, time steps, features] which is required for GRU\n",
        "X_train =X_train.reshape(X_train.shape[0],X_train.shape[1] , 1)\n",
        "X_test = X_test.reshape(X_test.shape[0],X_test.shape[1] , 1)\n",
        "X_val = X_val.reshape(X_val.shape[0],X_val.shape[1] , 1)"
      ],
      "metadata": {
        "id": "kzUOlRTRW10l"
      },
      "execution_count": null,
      "outputs": []
    },
    {
      "cell_type": "code",
      "source": [
        "# 8. Define GRU Model\n",
        "model = Sequential()\n",
        "model.add(GRU(64, input_shape=(time_step, 1)))\n",
        "model.add(Dense(1))\n",
        "model.compile(optimizer='adam', loss='mean_squared_error')"
      ],
      "metadata": {
        "id": "0a34VeOfW392"
      },
      "execution_count": null,
      "outputs": []
    },
    {
      "cell_type": "code",
      "source": [
        "# 9. Fit mô hình với dữ liệu train\n",
        "model.fit(X_train,y_train,validation_data=(X_test,ytest),epochs=100,batch_size=64,verbose=1)"
      ],
      "metadata": {
        "colab": {
          "base_uri": "https://localhost:8080/"
        },
        "id": "LD_CT8umW5Wu",
        "outputId": "9d1967a2-03cd-4021-9088-f81895597907"
      },
      "execution_count": null,
      "outputs": [
        {
          "output_type": "stream",
          "name": "stdout",
          "text": [
            "Epoch 1/100\n",
            "20/20 [==============================] - 4s 46ms/step - loss: 0.0171 - val_loss: 0.0634\n",
            "Epoch 2/100\n",
            "20/20 [==============================] - 0s 9ms/step - loss: 0.0062 - val_loss: 0.0473\n",
            "Epoch 3/100\n",
            "20/20 [==============================] - 0s 8ms/step - loss: 0.0051 - val_loss: 0.0475\n",
            "Epoch 4/100\n",
            "20/20 [==============================] - 0s 8ms/step - loss: 0.0042 - val_loss: 0.0355\n",
            "Epoch 5/100\n",
            "20/20 [==============================] - 0s 7ms/step - loss: 0.0033 - val_loss: 0.0290\n",
            "Epoch 6/100\n",
            "20/20 [==============================] - 1s 33ms/step - loss: 0.0025 - val_loss: 0.0209\n",
            "Epoch 7/100\n",
            "20/20 [==============================] - 0s 7ms/step - loss: 0.0018 - val_loss: 0.0139\n",
            "Epoch 8/100\n",
            "20/20 [==============================] - 0s 6ms/step - loss: 0.0012 - val_loss: 0.0083\n",
            "Epoch 9/100\n",
            "20/20 [==============================] - 0s 6ms/step - loss: 7.0879e-04 - val_loss: 0.0044\n",
            "Epoch 10/100\n",
            "20/20 [==============================] - 0s 6ms/step - loss: 3.8045e-04 - val_loss: 0.0021\n",
            "Epoch 11/100\n",
            "20/20 [==============================] - 0s 7ms/step - loss: 1.9227e-04 - val_loss: 0.0011\n",
            "Epoch 12/100\n",
            "20/20 [==============================] - 0s 6ms/step - loss: 1.0141e-04 - val_loss: 5.4427e-04\n",
            "Epoch 13/100\n",
            "20/20 [==============================] - 0s 6ms/step - loss: 6.5182e-05 - val_loss: 3.6949e-04\n",
            "Epoch 14/100\n",
            "20/20 [==============================] - 0s 6ms/step - loss: 5.3470e-05 - val_loss: 3.3079e-04\n",
            "Epoch 15/100\n",
            "20/20 [==============================] - 0s 6ms/step - loss: 5.0685e-05 - val_loss: 3.3724e-04\n",
            "Epoch 16/100\n",
            "20/20 [==============================] - 0s 6ms/step - loss: 4.9987e-05 - val_loss: 3.4050e-04\n",
            "Epoch 17/100\n",
            "20/20 [==============================] - 0s 7ms/step - loss: 4.9997e-05 - val_loss: 3.3894e-04\n",
            "Epoch 18/100\n",
            "20/20 [==============================] - 0s 8ms/step - loss: 5.0460e-05 - val_loss: 3.4553e-04\n",
            "Epoch 19/100\n",
            "20/20 [==============================] - 0s 7ms/step - loss: 5.0648e-05 - val_loss: 3.5045e-04\n",
            "Epoch 20/100\n",
            "20/20 [==============================] - 0s 7ms/step - loss: 5.0550e-05 - val_loss: 3.4178e-04\n",
            "Epoch 21/100\n",
            "20/20 [==============================] - 0s 7ms/step - loss: 4.9876e-05 - val_loss: 3.4281e-04\n",
            "Epoch 22/100\n",
            "20/20 [==============================] - 0s 7ms/step - loss: 5.0150e-05 - val_loss: 3.3987e-04\n",
            "Epoch 23/100\n",
            "20/20 [==============================] - 0s 6ms/step - loss: 5.0095e-05 - val_loss: 3.3965e-04\n",
            "Epoch 24/100\n",
            "20/20 [==============================] - 0s 7ms/step - loss: 4.9888e-05 - val_loss: 3.3841e-04\n",
            "Epoch 25/100\n",
            "20/20 [==============================] - 0s 7ms/step - loss: 5.0209e-05 - val_loss: 3.4333e-04\n",
            "Epoch 26/100\n",
            "20/20 [==============================] - 0s 7ms/step - loss: 5.0017e-05 - val_loss: 3.4095e-04\n",
            "Epoch 27/100\n",
            "20/20 [==============================] - 0s 6ms/step - loss: 5.0270e-05 - val_loss: 3.3996e-04\n",
            "Epoch 28/100\n",
            "20/20 [==============================] - 0s 9ms/step - loss: 5.0001e-05 - val_loss: 3.4157e-04\n",
            "Epoch 29/100\n",
            "20/20 [==============================] - 0s 7ms/step - loss: 5.0973e-05 - val_loss: 3.4857e-04\n",
            "Epoch 30/100\n",
            "20/20 [==============================] - 0s 6ms/step - loss: 5.0263e-05 - val_loss: 3.3958e-04\n",
            "Epoch 31/100\n",
            "20/20 [==============================] - 0s 7ms/step - loss: 5.0117e-05 - val_loss: 3.3943e-04\n",
            "Epoch 32/100\n",
            "20/20 [==============================] - 0s 7ms/step - loss: 4.9918e-05 - val_loss: 3.3868e-04\n",
            "Epoch 33/100\n",
            "20/20 [==============================] - 0s 7ms/step - loss: 5.0540e-05 - val_loss: 3.3887e-04\n",
            "Epoch 34/100\n",
            "20/20 [==============================] - 0s 6ms/step - loss: 5.0394e-05 - val_loss: 3.3698e-04\n",
            "Epoch 35/100\n",
            "20/20 [==============================] - 0s 6ms/step - loss: 5.0875e-05 - val_loss: 3.4437e-04\n",
            "Epoch 36/100\n",
            "20/20 [==============================] - 0s 7ms/step - loss: 5.1051e-05 - val_loss: 3.3771e-04\n",
            "Epoch 37/100\n",
            "20/20 [==============================] - 0s 7ms/step - loss: 5.0366e-05 - val_loss: 3.3846e-04\n",
            "Epoch 38/100\n",
            "20/20 [==============================] - 0s 6ms/step - loss: 5.1193e-05 - val_loss: 3.4426e-04\n",
            "Epoch 39/100\n",
            "20/20 [==============================] - 0s 7ms/step - loss: 5.1401e-05 - val_loss: 3.3680e-04\n",
            "Epoch 40/100\n",
            "20/20 [==============================] - 0s 7ms/step - loss: 5.0689e-05 - val_loss: 3.4211e-04\n",
            "Epoch 41/100\n",
            "20/20 [==============================] - 0s 6ms/step - loss: 5.0731e-05 - val_loss: 3.3789e-04\n",
            "Epoch 42/100\n",
            "20/20 [==============================] - 0s 6ms/step - loss: 5.0270e-05 - val_loss: 3.3929e-04\n",
            "Epoch 43/100\n",
            "20/20 [==============================] - 0s 6ms/step - loss: 5.0960e-05 - val_loss: 3.3923e-04\n",
            "Epoch 44/100\n",
            "20/20 [==============================] - 0s 7ms/step - loss: 5.0586e-05 - val_loss: 3.3754e-04\n",
            "Epoch 45/100\n",
            "20/20 [==============================] - 0s 6ms/step - loss: 4.9936e-05 - val_loss: 3.4237e-04\n",
            "Epoch 46/100\n",
            "20/20 [==============================] - 0s 6ms/step - loss: 5.0413e-05 - val_loss: 3.3552e-04\n",
            "Epoch 47/100\n",
            "20/20 [==============================] - 0s 6ms/step - loss: 5.1619e-05 - val_loss: 3.4994e-04\n",
            "Epoch 48/100\n",
            "20/20 [==============================] - 0s 6ms/step - loss: 5.0818e-05 - val_loss: 3.4011e-04\n",
            "Epoch 49/100\n",
            "20/20 [==============================] - 0s 7ms/step - loss: 5.1646e-05 - val_loss: 3.3573e-04\n",
            "Epoch 50/100\n",
            "20/20 [==============================] - 0s 6ms/step - loss: 5.1020e-05 - val_loss: 3.4168e-04\n",
            "Epoch 51/100\n",
            "20/20 [==============================] - 0s 6ms/step - loss: 5.0519e-05 - val_loss: 3.4500e-04\n",
            "Epoch 52/100\n",
            "20/20 [==============================] - 0s 6ms/step - loss: 4.9954e-05 - val_loss: 3.3853e-04\n",
            "Epoch 53/100\n",
            "20/20 [==============================] - 0s 6ms/step - loss: 5.1656e-05 - val_loss: 3.4911e-04\n",
            "Epoch 54/100\n",
            "20/20 [==============================] - 0s 6ms/step - loss: 5.2362e-05 - val_loss: 3.3497e-04\n",
            "Epoch 55/100\n",
            "20/20 [==============================] - 0s 6ms/step - loss: 5.2107e-05 - val_loss: 3.5114e-04\n",
            "Epoch 56/100\n",
            "20/20 [==============================] - 0s 8ms/step - loss: 5.0291e-05 - val_loss: 3.3533e-04\n",
            "Epoch 57/100\n",
            "20/20 [==============================] - 0s 6ms/step - loss: 5.0103e-05 - val_loss: 3.3726e-04\n",
            "Epoch 58/100\n",
            "20/20 [==============================] - 0s 6ms/step - loss: 5.0545e-05 - val_loss: 3.4303e-04\n",
            "Epoch 59/100\n",
            "20/20 [==============================] - 0s 6ms/step - loss: 5.0822e-05 - val_loss: 3.4667e-04\n",
            "Epoch 60/100\n",
            "20/20 [==============================] - 0s 7ms/step - loss: 5.0525e-05 - val_loss: 3.3526e-04\n",
            "Epoch 61/100\n",
            "20/20 [==============================] - 0s 6ms/step - loss: 5.0866e-05 - val_loss: 3.3974e-04\n",
            "Epoch 62/100\n",
            "20/20 [==============================] - 0s 6ms/step - loss: 5.0720e-05 - val_loss: 3.3549e-04\n",
            "Epoch 63/100\n",
            "20/20 [==============================] - 0s 9ms/step - loss: 5.0211e-05 - val_loss: 3.3831e-04\n",
            "Epoch 64/100\n",
            "20/20 [==============================] - 0s 6ms/step - loss: 5.0728e-05 - val_loss: 3.3555e-04\n",
            "Epoch 65/100\n",
            "20/20 [==============================] - 0s 7ms/step - loss: 4.9952e-05 - val_loss: 3.3847e-04\n",
            "Epoch 66/100\n",
            "20/20 [==============================] - 0s 7ms/step - loss: 4.9999e-05 - val_loss: 3.3549e-04\n",
            "Epoch 67/100\n",
            "20/20 [==============================] - 0s 6ms/step - loss: 5.0044e-05 - val_loss: 3.4011e-04\n",
            "Epoch 68/100\n",
            "20/20 [==============================] - 0s 7ms/step - loss: 5.2452e-05 - val_loss: 3.3592e-04\n",
            "Epoch 69/100\n",
            "20/20 [==============================] - 0s 7ms/step - loss: 5.0380e-05 - val_loss: 3.3480e-04\n",
            "Epoch 70/100\n",
            "20/20 [==============================] - 0s 7ms/step - loss: 5.0257e-05 - val_loss: 3.3629e-04\n",
            "Epoch 71/100\n",
            "20/20 [==============================] - 0s 6ms/step - loss: 5.0157e-05 - val_loss: 3.3812e-04\n",
            "Epoch 72/100\n",
            "20/20 [==============================] - 0s 6ms/step - loss: 5.1672e-05 - val_loss: 3.4897e-04\n",
            "Epoch 73/100\n",
            "20/20 [==============================] - 0s 6ms/step - loss: 5.1907e-05 - val_loss: 3.3502e-04\n",
            "Epoch 74/100\n",
            "20/20 [==============================] - 0s 9ms/step - loss: 5.0734e-05 - val_loss: 3.3976e-04\n",
            "Epoch 75/100\n",
            "20/20 [==============================] - 0s 9ms/step - loss: 5.0629e-05 - val_loss: 3.3944e-04\n",
            "Epoch 76/100\n",
            "20/20 [==============================] - 0s 8ms/step - loss: 5.2365e-05 - val_loss: 3.3673e-04\n",
            "Epoch 77/100\n",
            "20/20 [==============================] - 0s 9ms/step - loss: 5.1599e-05 - val_loss: 3.3577e-04\n",
            "Epoch 78/100\n",
            "20/20 [==============================] - 0s 9ms/step - loss: 5.1453e-05 - val_loss: 3.3462e-04\n",
            "Epoch 79/100\n",
            "20/20 [==============================] - 0s 8ms/step - loss: 5.1659e-05 - val_loss: 3.4211e-04\n",
            "Epoch 80/100\n",
            "20/20 [==============================] - 0s 8ms/step - loss: 5.0768e-05 - val_loss: 3.3614e-04\n",
            "Epoch 81/100\n",
            "20/20 [==============================] - 0s 9ms/step - loss: 5.0748e-05 - val_loss: 3.3577e-04\n",
            "Epoch 82/100\n",
            "20/20 [==============================] - 0s 12ms/step - loss: 5.0612e-05 - val_loss: 3.3374e-04\n",
            "Epoch 83/100\n",
            "20/20 [==============================] - 0s 9ms/step - loss: 5.0986e-05 - val_loss: 3.3738e-04\n",
            "Epoch 84/100\n",
            "20/20 [==============================] - 0s 8ms/step - loss: 5.3449e-05 - val_loss: 3.3386e-04\n",
            "Epoch 85/100\n",
            "20/20 [==============================] - 0s 9ms/step - loss: 5.4484e-05 - val_loss: 3.3527e-04\n",
            "Epoch 86/100\n",
            "20/20 [==============================] - 0s 9ms/step - loss: 5.0820e-05 - val_loss: 3.4052e-04\n",
            "Epoch 87/100\n",
            "20/20 [==============================] - 0s 9ms/step - loss: 5.0176e-05 - val_loss: 3.4173e-04\n",
            "Epoch 88/100\n",
            "20/20 [==============================] - 0s 9ms/step - loss: 5.0224e-05 - val_loss: 3.3461e-04\n",
            "Epoch 89/100\n",
            "20/20 [==============================] - 0s 7ms/step - loss: 4.9884e-05 - val_loss: 3.3433e-04\n",
            "Epoch 90/100\n",
            "20/20 [==============================] - 0s 6ms/step - loss: 5.0098e-05 - val_loss: 3.4558e-04\n",
            "Epoch 91/100\n",
            "20/20 [==============================] - 0s 6ms/step - loss: 5.0093e-05 - val_loss: 3.3629e-04\n",
            "Epoch 92/100\n",
            "20/20 [==============================] - 0s 6ms/step - loss: 5.0459e-05 - val_loss: 3.3682e-04\n",
            "Epoch 93/100\n",
            "20/20 [==============================] - 0s 6ms/step - loss: 5.0803e-05 - val_loss: 3.3359e-04\n",
            "Epoch 94/100\n",
            "20/20 [==============================] - 0s 6ms/step - loss: 5.0410e-05 - val_loss: 3.3371e-04\n",
            "Epoch 95/100\n",
            "20/20 [==============================] - 0s 6ms/step - loss: 5.0878e-05 - val_loss: 3.3536e-04\n",
            "Epoch 96/100\n",
            "20/20 [==============================] - 0s 7ms/step - loss: 4.9869e-05 - val_loss: 3.3562e-04\n",
            "Epoch 97/100\n",
            "20/20 [==============================] - 0s 6ms/step - loss: 5.0361e-05 - val_loss: 3.4339e-04\n",
            "Epoch 98/100\n",
            "20/20 [==============================] - 0s 6ms/step - loss: 5.3899e-05 - val_loss: 3.4882e-04\n",
            "Epoch 99/100\n",
            "20/20 [==============================] - 0s 7ms/step - loss: 5.2414e-05 - val_loss: 3.3470e-04\n",
            "Epoch 100/100\n",
            "20/20 [==============================] - 0s 7ms/step - loss: 5.3084e-05 - val_loss: 3.3335e-04\n"
          ]
        },
        {
          "output_type": "execute_result",
          "data": {
            "text/plain": [
              "<keras.callbacks.History at 0x7f9e421f5300>"
            ]
          },
          "metadata": {},
          "execution_count": 195
        }
      ]
    },
    {
      "cell_type": "code",
      "source": [
        "# 10. Dự báo dữ liệu test, val\n",
        "train_predict=model.predict(X_train)\n",
        "y_pred=model.predict(X_test)\n",
        "y_pred_val=model.predict(X_val)"
      ],
      "metadata": {
        "colab": {
          "base_uri": "https://localhost:8080/"
        },
        "id": "mTKUqEnwW6vI",
        "outputId": "bbdf1eb7-93bd-42ef-b969-739f49c82d92"
      },
      "execution_count": null,
      "outputs": [
        {
          "output_type": "stream",
          "name": "stdout",
          "text": [
            "40/40 [==============================] - 0s 2ms/step\n",
            "14/14 [==============================] - 0s 2ms/step\n",
            "14/14 [==============================] - 0s 2ms/step\n"
          ]
        }
      ]
    },
    {
      "cell_type": "code",
      "source": [
        "# 11. Chuẩn hóa dữ liệu y_pred, y_pred_val\n",
        "train_predict=scaler.inverse_transform(train_predict)\n",
        "y_pred=scaler.inverse_transform(y_pred)\n",
        "y_pred_val=scaler.inverse_transform(y_pred_val)"
      ],
      "metadata": {
        "id": "J1Bg7GRHW8Hm"
      },
      "execution_count": null,
      "outputs": []
    },
    {
      "cell_type": "code",
      "source": [
        "ytest = scaler.inverse_transform(ytest.reshape(-1,1))\n",
        "yval = scaler.inverse_transform(yval.reshape(-1,1))"
      ],
      "metadata": {
        "id": "Z_qpriUYLTrB"
      },
      "execution_count": null,
      "outputs": []
    },
    {
      "cell_type": "code",
      "source": [
        "# 12. Đánh giá độ chính xác thuật toán bằng RMSE\n",
        "valid_rmse = np.sqrt(np.mean((y_pred_val - yval)**2))\n",
        "test_rmse = np.sqrt(np.mean((y_pred - ytest)**2))\n",
        "test_mae = np.mean(np.abs(y_pred - ytest))\n",
        "valid_mae = np.mean(np.abs(y_pred_val - yval))\n",
        "test_mape = np.mean(np.abs((y_pred - ytest) / ytest)) * 100\n",
        "valid_mape = np.mean(np.abs((y_pred_val - yval) / np.where(yval != 0, yval, 1))) * 100\n",
        "\n",
        "print('Validation RMSE:', valid_rmse)\n",
        "print('Testing RMSE:', test_rmse)\n",
        "print('Testing MAE:', test_mae)\n",
        "print('Validation MAE:', valid_mae)\n",
        "print('Testing MAPE:', test_mape)\n",
        "print('Validation MAPE:', valid_mape)"
      ],
      "metadata": {
        "colab": {
          "base_uri": "https://localhost:8080/"
        },
        "id": "tDA3g5qyW9eu",
        "outputId": "dd75fdd8-c28d-4972-ca76-56cd7c1e509f"
      },
      "execution_count": null,
      "outputs": [
        {
          "output_type": "stream",
          "name": "stdout",
          "text": [
            "Validation RMSE: 2.907776498045046\n",
            "Testing RMSE: 2.8900535367957554\n",
            "Testing MAE: 1.9209171852490574\n",
            "Validation MAE: 2.24671717744715\n",
            "Testing MAPE: 1.4983166898138545\n",
            "Validation MAPE: 1.2683782607100615\n"
          ]
        }
      ]
    },
    {
      "cell_type": "code",
      "source": [
        "# 13. Dự báo 30 ngày tiếp theo\n",
        "x_input=val_data[426:].reshape(1,-1)\n",
        "x_input.shape\n",
        "\n",
        "temp_input=list(x_input)\n",
        "temp_input=temp_input[0].tolist()\n",
        "\n",
        "from numpy import array\n",
        "\n",
        "lst_output=[]\n",
        "n_steps=1\n",
        "i=0\n",
        "while(i<30):\n",
        "\n",
        "    if(len(temp_input)>1):\n",
        "        #print(temp_input)\n",
        "        x_input=np.array(temp_input[1:])\n",
        "        # print(\"{} day input {}\".format(i,x_input))\n",
        "        x_input=x_input.reshape(1,-1)\n",
        "        x_input = x_input.reshape((1, n_steps, 1))\n",
        "        #print(x_input)\n",
        "        yhat = model.predict(x_input, verbose=0)\n",
        "        # print(\"{} day output {}\".format(i,yhat))\n",
        "        temp_input.extend(yhat[0].tolist())\n",
        "        temp_input=temp_input[1:]\n",
        "        #print(temp_input)\n",
        "        lst_output.extend(yhat.tolist())\n",
        "        i=i+1\n",
        "    else:\n",
        "        x_input = x_input.reshape((1, n_steps,1))\n",
        "        yhat = model.predict(x_input, verbose=0)\n",
        "        print(yhat[0])\n",
        "        temp_input.extend(yhat[0].tolist())\n",
        "        print(len(temp_input))\n",
        "        lst_output.extend(yhat.tolist())\n",
        "        i=i+1\n"
      ],
      "metadata": {
        "colab": {
          "base_uri": "https://localhost:8080/"
        },
        "id": "qlAAPYBeXBgu",
        "outputId": "feb93925-0f0c-47d5-988b-67645599718e"
      },
      "execution_count": null,
      "outputs": [
        {
          "output_type": "stream",
          "name": "stdout",
          "text": [
            "[0.53228873]\n",
            "2\n"
          ]
        }
      ]
    },
    {
      "cell_type": "code",
      "source": [
        "# 14.Vẽ hình\n",
        "train_data_index = pd.RangeIndex(start=0, stop=train_size, step=1)\n",
        "plt.plot(scaler.inverse_transform(train_data))\n",
        "test_data_index = pd.RangeIndex(start=train_size, stop=train_size+test_size, step=1)\n",
        "plt.plot(test_data_index,scaler.inverse_transform(test_data))\n",
        "test_data_index = pd.RangeIndex(start=train_size+2, stop=train_size+test_size, step=1)\n",
        "plt.plot(test_data_index,(y_pred))\n",
        "val_data_index = pd.RangeIndex(start=train_size+test_size, stop=train_size+test_size+val_size, step=1)\n",
        "plt.plot(val_data_index,scaler.inverse_transform(val_data))\n",
        "val_data_index = pd.RangeIndex(start=train_size+test_size+2, stop=train_size+test_size+val_size, step=1)\n",
        "plt.plot(val_data_index,y_pred_val)\n",
        "prediect_data_index = pd.RangeIndex(start=len(df1)-1, stop=len(df1)+29, step=1)\n",
        "plt.plot(prediect_data_index,scaler.inverse_transform(lst_output))\n",
        "plt.legend(['Train','Test','Predict','Validate','ValidatePred','Predict30days'])\n",
        "plt.show()"
      ],
      "metadata": {
        "colab": {
          "base_uri": "https://localhost:8080/",
          "height": 430
        },
        "id": "ox0p_AvFXDIX",
        "outputId": "80eae358-02ae-46a4-8cff-68cbf056f46b"
      },
      "execution_count": null,
      "outputs": [
        {
          "output_type": "display_data",
          "data": {
            "text/plain": [
              "<Figure size 640x480 with 1 Axes>"
            ],
            "image/png": "[encoded data removed]"
          },
          "metadata": {}
        }
      ]
    },
    {
      "cell_type": "code",
      "source": [
        "scaler.inverse_transform(lst_output)"
      ],
      "metadata": {
        "colab": {
          "base_uri": "https://localhost:8080/"
        },
        "id": "3IesuSALXEfu",
        "outputId": "77e0b7f0-3786-43fe-849e-e09fe8c5c6f3"
      },
      "execution_count": null,
      "outputs": [
        {
          "output_type": "execute_result",
          "data": {
            "text/plain": [
              "array([[155.40598309],\n",
              "       [155.52355038],\n",
              "       [155.64273101],\n",
              "       [155.76354387],\n",
              "       [155.8860267 ],\n",
              "       [156.01017948],\n",
              "       [156.13606828],\n",
              "       [156.26367421],\n",
              "       [156.39305388],\n",
              "       [156.52422617],\n",
              "       [156.65721938],\n",
              "       [156.79205239],\n",
              "       [156.92880066],\n",
              "       [157.06744532],\n",
              "       [157.2080147 ],\n",
              "       [157.35055595],\n",
              "       [157.49510681],\n",
              "       [157.64170503],\n",
              "       [157.79036004],\n",
              "       [157.94113789],\n",
              "       [158.09402913],\n",
              "       [158.24911869],\n",
              "       [158.40638769],\n",
              "       [158.56589275],\n",
              "       [158.72768103],\n",
              "       [158.89179027],\n",
              "       [159.05823935],\n",
              "       [159.22708488],\n",
              "       [159.39835515],\n",
              "       [159.57209735]])"
            ]
          },
          "metadata": {},
          "execution_count": 202
        }
      ]
    }
  ],
  "metadata": {
    "colab": {
      "provenance": [],
      "toc_visible": true
    },
    "kernelspec": {
      "display_name": "Python 3",
      "name": "python3"
    },
    "language_info": {
      "codemirror_mode": {
        "name": "ipython",
        "version": 3
      },
      "file_extension": ".py",
      "mimetype": "text/x-python",
      "name": "python",
      "nbconvert_exporter": "python",
      "pygments_lexer": "ipython3",
      "version": "3.10.11"
    }
  },
  "nbformat": 4,
  "nbformat_minor": 0
}