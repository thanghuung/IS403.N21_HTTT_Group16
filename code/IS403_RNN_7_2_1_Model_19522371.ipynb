{
  "cells": [
    {
      "cell_type": "markdown",
      "source": [
        "#**ARE 7:2:1**"
      ],
      "metadata": {
        "id": "7Ve3r3XytUUg"
      }
    },
    {
      "cell_type": "code",
      "source": [
        "# 1. Import thư viện cần thiết\n",
        "from google.colab import drive\n",
        "drive.mount('/content/drive')\n",
        "import numpy as np\n",
        "import pandas as pd\n",
        "import matplotlib.pyplot as plt\n",
        "from sklearn.preprocessing import MinMaxScaler\n",
        "from keras.models import Sequential\n",
        "from keras.layers import Dense, SimpleRNN"
      ],
      "metadata": {
        "colab": {
          "base_uri": "https://localhost:8080/"
        },
        "outputId": "8c7cae0c-7017-447f-ba38-a26e95963451",
        "id": "84JOLLWCtUUn"
      },
      "execution_count": null,
      "outputs": [
        {
          "output_type": "stream",
          "name": "stdout",
          "text": [
            "Drive already mounted at /content/drive; to attempt to forcibly remount, call drive.mount(\"/content/drive\", force_remount=True).\n"
          ]
        }
      ]
    },
    {
      "cell_type": "code",
      "source": [
        "# 2. Đọc file csv và gắng index với giá Price\n",
        "df = pd.read_csv('/content/ARE-Historical-Data.csv')\n",
        "df = df.iloc[::-1]\n",
        "df1=df.reset_index()['Price']\n"
      ],
      "metadata": {
        "id": "D4TGkcFetUUn"
      },
      "execution_count": null,
      "outputs": []
    },
    {
      "cell_type": "code",
      "source": [
        "df"
      ],
      "metadata": {
        "colab": {
          "base_uri": "https://localhost:8080/",
          "height": 423
        },
        "outputId": "8fdf2a14-113a-431b-c2d6-fe5e1738eb11",
        "id": "6ijX3K1PtUUn"
      },
      "execution_count": null,
      "outputs": [
        {
          "output_type": "execute_result",
          "data": {
            "text/plain": [
              "            Date   Price    Open    High     Low     Vol. Change %\n",
              "2128  01/02/2015   89.79   89.11   89.88   88.54  277.62K    1.18%\n",
              "2127  01/05/2015   90.87   89.31   91.17   89.15  359.76K    1.20%\n",
              "2126  01/06/2015   91.33   90.65   91.56   90.25    1.33M    0.51%\n",
              "2125  01/07/2015   92.57   91.55   92.57   90.69  543.40K    1.36%\n",
              "2124  01/08/2015   93.63   92.57   93.85   92.43  718.78K    1.15%\n",
              "...          ...     ...     ...     ...     ...      ...      ...\n",
              "4     06/12/2023  121.00  120.28  121.71  120.03  788.83K    0.34%\n",
              "3     06/13/2023  122.06  121.15  123.93  120.50  846.11K    0.88%\n",
              "2     06/14/2023  121.92  122.99  123.79  120.83    1.01M   -0.11%\n",
              "1     06/15/2023  121.15  121.16  121.78  119.87  931.08K   -0.63%\n",
              "0     06/16/2023  115.45  113.75  119.96  113.75    2.92M   -4.70%\n",
              "\n",
              "[2129 rows x 7 columns]"
            ],
            "text/html": [
              "\n",
              "  <div id=\"df-c135f330-6eb6-4555-bfa5-2d487d53d1a3\">\n",
              "    <div class=\"colab-df-container\">\n",
              "      <div>\n",
              "<style scoped>\n",
              "    .dataframe tbody tr th:only-of-type {\n",
              "        vertical-align: middle;\n",
              "    }\n",
              "\n",
              "    .dataframe tbody tr th {\n",
              "        vertical-align: top;\n",
              "    }\n",
              "\n",
              "    .dataframe thead th {\n",
              "        text-align: right;\n",
              "    }\n",
              "</style>\n",
              "<table border=\"1\" class=\"dataframe\">\n",
              "  <thead>\n",
              "    <tr style=\"text-align: right;\">\n",
              "      <th></th>\n",
              "      <th>Date</th>\n",
              "      <th>Price</th>\n",
              "      <th>Open</th>\n",
              "      <th>High</th>\n",
              "      <th>Low</th>\n",
              "      <th>Vol.</th>\n",
              "      <th>Change %</th>\n",
              "    </tr>\n",
              "  </thead>\n",
              "  <tbody>\n",
              "    <tr>\n",
              "      <th>2128</th>\n",
              "      <td>01/02/2015</td>\n",
              "      <td>89.79</td>\n",
              "      <td>89.11</td>\n",
              "      <td>89.88</td>\n",
              "      <td>88.54</td>\n",
              "      <td>277.62K</td>\n",
              "      <td>1.18%</td>\n",
              "    </tr>\n",
              "    <tr>\n",
              "      <th>2127</th>\n",
              "      <td>01/05/2015</td>\n",
              "      <td>90.87</td>\n",
              "      <td>89.31</td>\n",
              "      <td>91.17</td>\n",
              "      <td>89.15</td>\n",
              "      <td>359.76K</td>\n",
              "      <td>1.20%</td>\n",
              "    </tr>\n",
              "    <tr>\n",
              "      <th>2126</th>\n",
              "      <td>01/06/2015</td>\n",
              "      <td>91.33</td>\n",
              "      <td>90.65</td>\n",
              "      <td>91.56</td>\n",
              "      <td>90.25</td>\n",
              "      <td>1.33M</td>\n",
              "      <td>0.51%</td>\n",
              "    </tr>\n",
              "    <tr>\n",
              "      <th>2125</th>\n",
              "      <td>01/07/2015</td>\n",
              "      <td>92.57</td>\n",
              "      <td>91.55</td>\n",
              "      <td>92.57</td>\n",
              "      <td>90.69</td>\n",
              "      <td>543.40K</td>\n",
              "      <td>1.36%</td>\n",
              "    </tr>\n",
              "    <tr>\n",
              "      <th>2124</th>\n",
              "      <td>01/08/2015</td>\n",
              "      <td>93.63</td>\n",
              "      <td>92.57</td>\n",
              "      <td>93.85</td>\n",
              "      <td>92.43</td>\n",
              "      <td>718.78K</td>\n",
              "      <td>1.15%</td>\n",
              "    </tr>\n",
              "    <tr>\n",
              "      <th>...</th>\n",
              "      <td>...</td>\n",
              "      <td>...</td>\n",
              "      <td>...</td>\n",
              "      <td>...</td>\n",
              "      <td>...</td>\n",
              "      <td>...</td>\n",
              "      <td>...</td>\n",
              "    </tr>\n",
              "    <tr>\n",
              "      <th>4</th>\n",
              "      <td>06/12/2023</td>\n",
              "      <td>121.00</td>\n",
              "      <td>120.28</td>\n",
              "      <td>121.71</td>\n",
              "      <td>120.03</td>\n",
              "      <td>788.83K</td>\n",
              "      <td>0.34%</td>\n",
              "    </tr>\n",
              "    <tr>\n",
              "      <th>3</th>\n",
              "      <td>06/13/2023</td>\n",
              "      <td>122.06</td>\n",
              "      <td>121.15</td>\n",
              "      <td>123.93</td>\n",
              "      <td>120.50</td>\n",
              "      <td>846.11K</td>\n",
              "      <td>0.88%</td>\n",
              "    </tr>\n",
              "    <tr>\n",
              "      <th>2</th>\n",
              "      <td>06/14/2023</td>\n",
              "      <td>121.92</td>\n",
              "      <td>122.99</td>\n",
              "      <td>123.79</td>\n",
              "      <td>120.83</td>\n",
              "      <td>1.01M</td>\n",
              "      <td>-0.11%</td>\n",
              "    </tr>\n",
              "    <tr>\n",
              "      <th>1</th>\n",
              "      <td>06/15/2023</td>\n",
              "      <td>121.15</td>\n",
              "      <td>121.16</td>\n",
              "      <td>121.78</td>\n",
              "      <td>119.87</td>\n",
              "      <td>931.08K</td>\n",
              "      <td>-0.63%</td>\n",
              "    </tr>\n",
              "    <tr>\n",
              "      <th>0</th>\n",
              "      <td>06/16/2023</td>\n",
              "      <td>115.45</td>\n",
              "      <td>113.75</td>\n",
              "      <td>119.96</td>\n",
              "      <td>113.75</td>\n",
              "      <td>2.92M</td>\n",
              "      <td>-4.70%</td>\n",
              "    </tr>\n",
              "  </tbody>\n",
              "</table>\n",
              "<p>2129 rows × 7 columns</p>\n",
              "</div>\n",
              "      <button class=\"colab-df-convert\" onclick=\"convertToInteractive('df-c135f330-6eb6-4555-bfa5-2d487d53d1a3')\"\n",
              "              title=\"Convert this dataframe to an interactive table.\"\n",
              "              style=\"display:none;\">\n",
              "        \n",
              "  <svg xmlns=\"http://www.w3.org/2000/svg\" height=\"24px\"viewBox=\"0 0 24 24\"\n",
              "       width=\"24px\">\n",
              "    <path d=\"M0 0h24v24H0V0z\" fill=\"none\"/>\n",
              "    <path d=\"M18.56 5.44l.94 2.06.94-2.06 2.06-.94-2.06-.94-.94-2.06-.94 2.06-2.06.94zm-11 1L8.5 8.5l.94-2.06 2.06-.94-2.06-.94L8.5 2.5l-.94 2.06-2.06.94zm10 10l.94 2.06.94-2.06 2.06-.94-2.06-.94-.94-2.06-.94 2.06-2.06.94z\"/><path d=\"M17.41 7.96l-1.37-1.37c-.4-.4-.92-.59-1.43-.59-.52 0-1.04.2-1.43.59L10.3 9.45l-7.72 7.72c-.78.78-.78 2.05 0 2.83L4 21.41c.39.39.9.59 1.41.59.51 0 1.02-.2 1.41-.59l7.78-7.78 2.81-2.81c.8-.78.8-2.07 0-2.86zM5.41 20L4 18.59l7.72-7.72 1.47 1.35L5.41 20z\"/>\n",
              "  </svg>\n",
              "      </button>\n",
              "      \n",
              "  <style>\n",
              "    .colab-df-container {\n",
              "      display:flex;\n",
              "      flex-wrap:wrap;\n",
              "      gap: 12px;\n",
              "    }\n",
              "\n",
              "    .colab-df-convert {\n",
              "      background-color: #E8F0FE;\n",
              "      border: none;\n",
              "      border-radius: 50%;\n",
              "      cursor: pointer;\n",
              "      display: none;\n",
              "      fill: #1967D2;\n",
              "      height: 32px;\n",
              "      padding: 0 0 0 0;\n",
              "      width: 32px;\n",
              "    }\n",
              "\n",
              "    .colab-df-convert:hover {\n",
              "      background-color: #E2EBFA;\n",
              "      box-shadow: 0px 1px 2px rgba(60, 64, 67, 0.3), 0px 1px 3px 1px rgba(60, 64, 67, 0.15);\n",
              "      fill: #174EA6;\n",
              "    }\n",
              "\n",
              "    [theme=dark] .colab-df-convert {\n",
              "      background-color: #3B4455;\n",
              "      fill: #D2E3FC;\n",
              "    }\n",
              "\n",
              "    [theme=dark] .colab-df-convert:hover {\n",
              "      background-color: #434B5C;\n",
              "      box-shadow: 0px 1px 3px 1px rgba(0, 0, 0, 0.15);\n",
              "      filter: drop-shadow(0px 1px 2px rgba(0, 0, 0, 0.3));\n",
              "      fill: #FFFFFF;\n",
              "    }\n",
              "  </style>\n",
              "\n",
              "      <script>\n",
              "        const buttonEl =\n",
              "          document.querySelector('#df-c135f330-6eb6-4555-bfa5-2d487d53d1a3 button.colab-df-convert');\n",
              "        buttonEl.style.display =\n",
              "          google.colab.kernel.accessAllowed ? 'block' : 'none';\n",
              "\n",
              "        async function convertToInteractive(key) {\n",
              "          const element = document.querySelector('#df-c135f330-6eb6-4555-bfa5-2d487d53d1a3');\n",
              "          const dataTable =\n",
              "            await google.colab.kernel.invokeFunction('convertToInteractive',\n",
              "                                                     [key], {});\n",
              "          if (!dataTable) return;\n",
              "\n",
              "          const docLinkHtml = 'Like what you see? Visit the ' +\n",
              "            '<a target=\"_blank\" href=https://colab.research.google.com/notebooks/data_table.ipynb>data table notebook</a>'\n",
              "            + ' to learn more about interactive tables.';\n",
              "          element.innerHTML = '';\n",
              "          dataTable['output_type'] = 'display_data';\n",
              "          await google.colab.output.renderOutput(dataTable, element);\n",
              "          const docLink = document.createElement('div');\n",
              "          docLink.innerHTML = docLinkHtml;\n",
              "          element.appendChild(docLink);\n",
              "        }\n",
              "      </script>\n",
              "    </div>\n",
              "  </div>\n",
              "  "
            ]
          },
          "metadata": {},
          "execution_count": 96
        }
      ]
    },
    {
      "cell_type": "code",
      "source": [
        "# 3. Scaler data\n",
        "scaler=MinMaxScaler(feature_range=(0,1))\n",
        "df1=scaler.fit_transform(np.array(df1).reshape(-1,1))"
      ],
      "metadata": {
        "id": "iGLahrZ8tUUo"
      },
      "execution_count": null,
      "outputs": []
    },
    {
      "cell_type": "code",
      "source": [
        "# 4. Chia train test\n",
        "train_size = int(0.7 * len(df1))\n",
        "test_size = int(0.2 * len(df1))\n",
        "val_size = len(df1) - train_size - test_size\n",
        "\n",
        "train_data = df1[:train_size]\n",
        "test_data = df1[train_size:train_size+test_size]\n",
        "val_data = df1[train_size+test_size:]"
      ],
      "metadata": {
        "id": "cfAKYD4xtUUo"
      },
      "execution_count": null,
      "outputs": []
    },
    {
      "cell_type": "code",
      "source": [
        "# 5. Hàm Create Dataset\n",
        "import numpy\n",
        "# convert an array of values into a dataset matrix\n",
        "def create_dataset(dataset, time_step=1):\n",
        "\tdataX, dataY = [], []\n",
        "\tfor i in range(len(dataset)-time_step-1):\n",
        "\t\ta = dataset[i:(i+time_step), 0]   ###i=0, X=0,1,2,3-----99   Y=100\n",
        "\t\tdataX.append(a)\n",
        "\t\tdataY.append(dataset[i + time_step, 0])\n",
        "\treturn numpy.array(dataX), numpy.array(dataY)"
      ],
      "metadata": {
        "id": "AAXV_Mm9tUUo"
      },
      "execution_count": null,
      "outputs": []
    },
    {
      "cell_type": "code",
      "source": [
        "#6. Reshape into X=t,t+1,t+2..t+99 and Y=t+100\n",
        "\n",
        "time_step = 1\n",
        "X_train, y_train = create_dataset(train_data, time_step)\n",
        "X_val, yval = create_dataset(val_data, time_step)\n",
        "X_test, ytest = create_dataset(test_data, time_step)"
      ],
      "metadata": {
        "id": "G7FoeWhYtUUo"
      },
      "execution_count": null,
      "outputs": []
    },
    {
      "cell_type": "code",
      "source": [
        "# 7. Reshape input to be [samples, time steps, features] which is required for LSTM\n",
        "X_train =X_train.reshape(X_train.shape[0],X_train.shape[1] , 1)\n",
        "X_test = X_test.reshape(X_test.shape[0],X_test.shape[1] , 1)\n",
        "X_val = X_val.reshape(X_val.shape[0],X_val.shape[1] , 1)"
      ],
      "metadata": {
        "id": "NAj1IVCStUUo"
      },
      "execution_count": null,
      "outputs": []
    },
    {
      "cell_type": "code",
      "source": [
        "# 8. Define RNN Model\n",
        "\n",
        "model = Sequential()\n",
        "model.add(SimpleRNN(50, input_shape=(time_step, 1)))\n",
        "model.add(Dense(1))\n",
        "model.compile(loss='mean_squared_error',optimizer='adam')"
      ],
      "metadata": {
        "id": "Bxzm8lpHtUUo"
      },
      "execution_count": null,
      "outputs": []
    },
    {
      "cell_type": "code",
      "source": [
        "# 9. Fit mô hình với dữ liệu train\n",
        "model.fit(X_train,y_train,validation_data=(X_test,ytest),epochs=100,batch_size=64,verbose=1)"
      ],
      "metadata": {
        "colab": {
          "base_uri": "https://localhost:8080/"
        },
        "outputId": "17e57991-366a-42c2-fdab-668ef9a71e21",
        "id": "biES5_YctUUo"
      },
      "execution_count": null,
      "outputs": [
        {
          "output_type": "stream",
          "name": "stdout",
          "text": [
            "Epoch 1/100\n",
            "24/24 [==============================] - 2s 22ms/step - loss: 0.1287 - val_loss: 0.2577\n",
            "Epoch 2/100\n",
            "24/24 [==============================] - 0s 7ms/step - loss: 0.0221 - val_loss: 0.0795\n",
            "Epoch 3/100\n",
            "24/24 [==============================] - 0s 7ms/step - loss: 0.0164 - val_loss: 0.0798\n",
            "Epoch 4/100\n",
            "24/24 [==============================] - 0s 7ms/step - loss: 0.0128 - val_loss: 0.0690\n",
            "Epoch 5/100\n",
            "24/24 [==============================] - 0s 7ms/step - loss: 0.0098 - val_loss: 0.0495\n",
            "Epoch 6/100\n",
            "24/24 [==============================] - 0s 7ms/step - loss: 0.0073 - val_loss: 0.0364\n",
            "Epoch 7/100\n",
            "24/24 [==============================] - 0s 6ms/step - loss: 0.0053 - val_loss: 0.0271\n",
            "Epoch 8/100\n",
            "24/24 [==============================] - 0s 6ms/step - loss: 0.0037 - val_loss: 0.0183\n",
            "Epoch 9/100\n",
            "24/24 [==============================] - 0s 8ms/step - loss: 0.0025 - val_loss: 0.0125\n",
            "Epoch 10/100\n",
            "24/24 [==============================] - 0s 7ms/step - loss: 0.0016 - val_loss: 0.0079\n",
            "Epoch 11/100\n",
            "24/24 [==============================] - 0s 6ms/step - loss: 0.0010 - val_loss: 0.0049\n",
            "Epoch 12/100\n",
            "24/24 [==============================] - 0s 7ms/step - loss: 6.6572e-04 - val_loss: 0.0032\n",
            "Epoch 13/100\n",
            "24/24 [==============================] - 0s 6ms/step - loss: 4.4182e-04 - val_loss: 0.0021\n",
            "Epoch 14/100\n",
            "24/24 [==============================] - 0s 6ms/step - loss: 3.1112e-04 - val_loss: 0.0013\n",
            "Epoch 15/100\n",
            "24/24 [==============================] - 0s 6ms/step - loss: 2.4078e-04 - val_loss: 9.8038e-04\n",
            "Epoch 16/100\n",
            "24/24 [==============================] - 0s 6ms/step - loss: 2.0480e-04 - val_loss: 7.2942e-04\n",
            "Epoch 17/100\n",
            "24/24 [==============================] - 0s 6ms/step - loss: 1.8623e-04 - val_loss: 5.9302e-04\n",
            "Epoch 18/100\n",
            "24/24 [==============================] - 0s 6ms/step - loss: 1.7696e-04 - val_loss: 5.0627e-04\n",
            "Epoch 19/100\n",
            "24/24 [==============================] - 0s 7ms/step - loss: 1.7294e-04 - val_loss: 4.6322e-04\n",
            "Epoch 20/100\n",
            "24/24 [==============================] - 0s 6ms/step - loss: 1.7138e-04 - val_loss: 4.4237e-04\n",
            "Epoch 21/100\n",
            "24/24 [==============================] - 0s 5ms/step - loss: 1.7079e-04 - val_loss: 4.1946e-04\n",
            "Epoch 22/100\n",
            "24/24 [==============================] - 0s 5ms/step - loss: 1.7147e-04 - val_loss: 4.3427e-04\n",
            "Epoch 23/100\n",
            "24/24 [==============================] - 0s 5ms/step - loss: 1.7027e-04 - val_loss: 3.9017e-04\n",
            "Epoch 24/100\n",
            "24/24 [==============================] - 0s 6ms/step - loss: 1.7088e-04 - val_loss: 3.8733e-04\n",
            "Epoch 25/100\n",
            "24/24 [==============================] - 0s 5ms/step - loss: 1.7044e-04 - val_loss: 3.9263e-04\n",
            "Epoch 26/100\n",
            "24/24 [==============================] - 0s 4ms/step - loss: 1.7001e-04 - val_loss: 4.0983e-04\n",
            "Epoch 27/100\n",
            "24/24 [==============================] - 0s 5ms/step - loss: 1.7094e-04 - val_loss: 3.8388e-04\n",
            "Epoch 28/100\n",
            "24/24 [==============================] - 0s 5ms/step - loss: 1.7045e-04 - val_loss: 3.9460e-04\n",
            "Epoch 29/100\n",
            "24/24 [==============================] - 0s 5ms/step - loss: 1.7053e-04 - val_loss: 3.7748e-04\n",
            "Epoch 30/100\n",
            "24/24 [==============================] - 0s 5ms/step - loss: 1.7051e-04 - val_loss: 4.1634e-04\n",
            "Epoch 31/100\n",
            "24/24 [==============================] - 0s 5ms/step - loss: 1.7049e-04 - val_loss: 4.0056e-04\n",
            "Epoch 32/100\n",
            "24/24 [==============================] - 0s 5ms/step - loss: 1.7018e-04 - val_loss: 4.0971e-04\n",
            "Epoch 33/100\n",
            "24/24 [==============================] - 0s 5ms/step - loss: 1.7102e-04 - val_loss: 3.7818e-04\n",
            "Epoch 34/100\n",
            "24/24 [==============================] - 0s 5ms/step - loss: 1.7090e-04 - val_loss: 3.7725e-04\n",
            "Epoch 35/100\n",
            "24/24 [==============================] - 0s 5ms/step - loss: 1.7035e-04 - val_loss: 4.0064e-04\n",
            "Epoch 36/100\n",
            "24/24 [==============================] - 0s 4ms/step - loss: 1.7077e-04 - val_loss: 3.9271e-04\n",
            "Epoch 37/100\n",
            "24/24 [==============================] - 0s 5ms/step - loss: 1.7038e-04 - val_loss: 3.8187e-04\n",
            "Epoch 38/100\n",
            "24/24 [==============================] - 0s 5ms/step - loss: 1.7079e-04 - val_loss: 3.9282e-04\n",
            "Epoch 39/100\n",
            "24/24 [==============================] - 0s 4ms/step - loss: 1.7047e-04 - val_loss: 4.0546e-04\n",
            "Epoch 40/100\n",
            "24/24 [==============================] - 0s 5ms/step - loss: 1.7035e-04 - val_loss: 3.9396e-04\n",
            "Epoch 41/100\n",
            "24/24 [==============================] - 0s 4ms/step - loss: 1.7010e-04 - val_loss: 3.9552e-04\n",
            "Epoch 42/100\n",
            "24/24 [==============================] - 0s 5ms/step - loss: 1.7078e-04 - val_loss: 3.8774e-04\n",
            "Epoch 43/100\n",
            "24/24 [==============================] - 0s 5ms/step - loss: 1.7039e-04 - val_loss: 3.9713e-04\n",
            "Epoch 44/100\n",
            "24/24 [==============================] - 0s 5ms/step - loss: 1.7086e-04 - val_loss: 3.7984e-04\n",
            "Epoch 45/100\n",
            "24/24 [==============================] - 0s 5ms/step - loss: 1.7092e-04 - val_loss: 3.8813e-04\n",
            "Epoch 46/100\n",
            "24/24 [==============================] - 0s 5ms/step - loss: 1.7043e-04 - val_loss: 3.9990e-04\n",
            "Epoch 47/100\n",
            "24/24 [==============================] - 0s 4ms/step - loss: 1.7103e-04 - val_loss: 4.2515e-04\n",
            "Epoch 48/100\n",
            "24/24 [==============================] - 0s 5ms/step - loss: 1.7173e-04 - val_loss: 3.8700e-04\n",
            "Epoch 49/100\n",
            "24/24 [==============================] - 0s 5ms/step - loss: 1.7098e-04 - val_loss: 4.2536e-04\n",
            "Epoch 50/100\n",
            "24/24 [==============================] - 0s 5ms/step - loss: 1.7029e-04 - val_loss: 4.0240e-04\n",
            "Epoch 51/100\n",
            "24/24 [==============================] - 0s 5ms/step - loss: 1.7037e-04 - val_loss: 3.9908e-04\n",
            "Epoch 52/100\n",
            "24/24 [==============================] - 0s 5ms/step - loss: 1.7049e-04 - val_loss: 3.8625e-04\n",
            "Epoch 53/100\n",
            "24/24 [==============================] - 0s 5ms/step - loss: 1.7054e-04 - val_loss: 3.7666e-04\n",
            "Epoch 54/100\n",
            "24/24 [==============================] - 0s 5ms/step - loss: 1.7042e-04 - val_loss: 3.9194e-04\n",
            "Epoch 55/100\n",
            "24/24 [==============================] - 0s 4ms/step - loss: 1.7081e-04 - val_loss: 4.0420e-04\n",
            "Epoch 56/100\n",
            "24/24 [==============================] - 0s 4ms/step - loss: 1.7232e-04 - val_loss: 4.1260e-04\n",
            "Epoch 57/100\n",
            "24/24 [==============================] - 0s 4ms/step - loss: 1.7285e-04 - val_loss: 3.8662e-04\n",
            "Epoch 58/100\n",
            "24/24 [==============================] - 0s 5ms/step - loss: 1.7067e-04 - val_loss: 4.0356e-04\n",
            "Epoch 59/100\n",
            "24/24 [==============================] - 0s 5ms/step - loss: 1.7084e-04 - val_loss: 4.0513e-04\n",
            "Epoch 60/100\n",
            "24/24 [==============================] - 0s 4ms/step - loss: 1.7061e-04 - val_loss: 3.9941e-04\n",
            "Epoch 61/100\n",
            "24/24 [==============================] - 0s 5ms/step - loss: 1.7151e-04 - val_loss: 4.3340e-04\n",
            "Epoch 62/100\n",
            "24/24 [==============================] - 0s 5ms/step - loss: 1.7035e-04 - val_loss: 3.7685e-04\n",
            "Epoch 63/100\n",
            "24/24 [==============================] - 0s 5ms/step - loss: 1.7202e-04 - val_loss: 3.7571e-04\n",
            "Epoch 64/100\n",
            "24/24 [==============================] - 0s 5ms/step - loss: 1.7024e-04 - val_loss: 3.9896e-04\n",
            "Epoch 65/100\n",
            "24/24 [==============================] - 0s 4ms/step - loss: 1.7046e-04 - val_loss: 4.0528e-04\n",
            "Epoch 66/100\n",
            "24/24 [==============================] - 0s 5ms/step - loss: 1.7120e-04 - val_loss: 3.9687e-04\n",
            "Epoch 67/100\n",
            "24/24 [==============================] - 0s 5ms/step - loss: 1.7260e-04 - val_loss: 3.8758e-04\n",
            "Epoch 68/100\n",
            "24/24 [==============================] - 0s 4ms/step - loss: 1.7170e-04 - val_loss: 4.0394e-04\n",
            "Epoch 69/100\n",
            "24/24 [==============================] - 0s 4ms/step - loss: 1.7076e-04 - val_loss: 4.5260e-04\n",
            "Epoch 70/100\n",
            "24/24 [==============================] - 0s 5ms/step - loss: 1.7324e-04 - val_loss: 4.0674e-04\n",
            "Epoch 71/100\n",
            "24/24 [==============================] - 0s 4ms/step - loss: 1.7064e-04 - val_loss: 3.6590e-04\n",
            "Epoch 72/100\n",
            "24/24 [==============================] - 0s 4ms/step - loss: 1.7200e-04 - val_loss: 4.3495e-04\n",
            "Epoch 73/100\n",
            "24/24 [==============================] - 0s 4ms/step - loss: 1.7066e-04 - val_loss: 3.8553e-04\n",
            "Epoch 74/100\n",
            "24/24 [==============================] - 0s 5ms/step - loss: 1.7081e-04 - val_loss: 4.0394e-04\n",
            "Epoch 75/100\n",
            "24/24 [==============================] - 0s 5ms/step - loss: 1.7176e-04 - val_loss: 3.4916e-04\n",
            "Epoch 76/100\n",
            "24/24 [==============================] - 0s 5ms/step - loss: 1.7449e-04 - val_loss: 3.6768e-04\n",
            "Epoch 77/100\n",
            "24/24 [==============================] - 0s 4ms/step - loss: 1.7156e-04 - val_loss: 3.8637e-04\n",
            "Epoch 78/100\n",
            "24/24 [==============================] - 0s 7ms/step - loss: 1.7171e-04 - val_loss: 4.0789e-04\n",
            "Epoch 79/100\n",
            "24/24 [==============================] - 0s 14ms/step - loss: 1.7131e-04 - val_loss: 3.7397e-04\n",
            "Epoch 80/100\n",
            "24/24 [==============================] - 0s 11ms/step - loss: 1.7297e-04 - val_loss: 3.8116e-04\n",
            "Epoch 81/100\n",
            "24/24 [==============================] - 0s 8ms/step - loss: 1.7029e-04 - val_loss: 3.7584e-04\n",
            "Epoch 82/100\n",
            "24/24 [==============================] - 0s 4ms/step - loss: 1.7091e-04 - val_loss: 3.7804e-04\n",
            "Epoch 83/100\n",
            "24/24 [==============================] - 0s 4ms/step - loss: 1.7300e-04 - val_loss: 4.4208e-04\n",
            "Epoch 84/100\n",
            "24/24 [==============================] - 0s 4ms/step - loss: 1.7327e-04 - val_loss: 4.1314e-04\n",
            "Epoch 85/100\n",
            "24/24 [==============================] - 0s 5ms/step - loss: 1.7136e-04 - val_loss: 3.9788e-04\n",
            "Epoch 86/100\n",
            "24/24 [==============================] - 0s 5ms/step - loss: 1.7078e-04 - val_loss: 3.7876e-04\n",
            "Epoch 87/100\n",
            "24/24 [==============================] - 0s 5ms/step - loss: 1.7164e-04 - val_loss: 4.0762e-04\n",
            "Epoch 88/100\n",
            "24/24 [==============================] - 0s 5ms/step - loss: 1.7165e-04 - val_loss: 4.1636e-04\n",
            "Epoch 89/100\n",
            "24/24 [==============================] - 0s 5ms/step - loss: 1.7026e-04 - val_loss: 3.8783e-04\n",
            "Epoch 90/100\n",
            "24/24 [==============================] - 0s 5ms/step - loss: 1.7047e-04 - val_loss: 4.0066e-04\n",
            "Epoch 91/100\n",
            "24/24 [==============================] - 0s 5ms/step - loss: 1.7047e-04 - val_loss: 3.5415e-04\n",
            "Epoch 92/100\n",
            "24/24 [==============================] - 0s 5ms/step - loss: 1.7212e-04 - val_loss: 4.1521e-04\n",
            "Epoch 93/100\n",
            "24/24 [==============================] - 0s 4ms/step - loss: 1.7156e-04 - val_loss: 3.5381e-04\n",
            "Epoch 94/100\n",
            "24/24 [==============================] - 0s 5ms/step - loss: 1.7146e-04 - val_loss: 4.2372e-04\n",
            "Epoch 95/100\n",
            "24/24 [==============================] - 0s 4ms/step - loss: 1.7089e-04 - val_loss: 4.3559e-04\n",
            "Epoch 96/100\n",
            "24/24 [==============================] - 0s 4ms/step - loss: 1.7306e-04 - val_loss: 4.2421e-04\n",
            "Epoch 97/100\n",
            "24/24 [==============================] - 0s 5ms/step - loss: 1.7261e-04 - val_loss: 3.8796e-04\n",
            "Epoch 98/100\n",
            "24/24 [==============================] - 0s 5ms/step - loss: 1.7019e-04 - val_loss: 3.6786e-04\n",
            "Epoch 99/100\n",
            "24/24 [==============================] - 0s 4ms/step - loss: 1.7245e-04 - val_loss: 3.7488e-04\n",
            "Epoch 100/100\n",
            "24/24 [==============================] - 0s 8ms/step - loss: 1.7207e-04 - val_loss: 3.9973e-04\n"
          ]
        },
        {
          "output_type": "execute_result",
          "data": {
            "text/plain": [
              "<keras.callbacks.History at 0x7f6fecd4afe0>"
            ]
          },
          "metadata": {},
          "execution_count": 103
        }
      ]
    },
    {
      "cell_type": "code",
      "source": [
        "# 10. Dự báo dữ liệu test, val\n",
        "train_predict=model.predict(X_train)\n",
        "y_pred=model.predict(X_test)\n",
        "y_pred_val=model.predict(X_val)"
      ],
      "metadata": {
        "colab": {
          "base_uri": "https://localhost:8080/"
        },
        "outputId": "928ac8b2-15a8-48b8-c10a-535c29af47b7",
        "id": "Bl6QWRu-tUUp"
      },
      "execution_count": null,
      "outputs": [
        {
          "output_type": "stream",
          "name": "stdout",
          "text": [
            "47/47 [==============================] - 0s 3ms/step\n",
            "14/14 [==============================] - 0s 3ms/step\n",
            "7/7 [==============================] - 0s 3ms/step\n"
          ]
        }
      ]
    },
    {
      "cell_type": "code",
      "source": [
        "# 11. Chuẩn hóa dữ liệu y_pred, y_pred_val\n",
        "train_predict=scaler.inverse_transform(train_predict)\n",
        "y_pred=scaler.inverse_transform(y_pred)\n",
        "y_pred_val=scaler.inverse_transform(y_pred_val)\n",
        "\n",
        "ytest = scaler.inverse_transform(ytest.reshape(-1,1))\n",
        "yval = scaler.inverse_transform(yval.reshape(-1,1))"
      ],
      "metadata": {
        "id": "Ev0seqs4tUUp"
      },
      "execution_count": null,
      "outputs": []
    },
    {
      "cell_type": "markdown",
      "source": [
        "## **Đánh giá**"
      ],
      "metadata": {
        "id": "AcLb6_ZMvdrL"
      }
    },
    {
      "cell_type": "code",
      "source": [
        "# 12. Đánh giá độ chính xác thuật toán bằng RMSE\n",
        "valid_rmse = np.sqrt(np.mean((y_pred_val - yval)**2))\n",
        "test_rmse = np.sqrt(np.mean((y_pred - ytest)**2))\n",
        "test_mae = np.mean(np.abs(y_pred - ytest))\n",
        "valid_mae = np.mean(np.abs(y_pred_val - yval))\n",
        "test_mape = np.mean(np.abs((ytest - y_pred) / ytest)) * 100\n",
        "valid_mape = np.mean(np.abs((yval - y_pred_val) / np.where(yval != 0, yval, 1))) * 100\n",
        "\n",
        "print('Validation RMSE:', valid_rmse)\n",
        "print('Testing RMSE:', test_rmse)\n",
        "print('Testing MAE:', test_mae)\n",
        "print('Validation MAE:', valid_mae)\n",
        "print('Testing MAPE:', test_mape)\n",
        "print('Validation MAPE:', valid_mape)"
      ],
      "metadata": {
        "colab": {
          "base_uri": "https://localhost:8080/"
        },
        "outputId": "8f542217-9e5f-494f-a756-3736d8cec6ee",
        "id": "U5Otqym9tUUp"
      },
      "execution_count": null,
      "outputs": [
        {
          "output_type": "stream",
          "name": "stdout",
          "text": [
            "Validation RMSE: 2.709881902610583\n",
            "Testing RMSE: 3.037391572060066\n",
            "Testing MAE: 2.402346669009955\n",
            "Validation MAE: 2.0612467150418263\n",
            "Testing MAPE: 1.3038355493166862\n",
            "Validation MAPE: 1.4707560102011015\n"
          ]
        }
      ]
    },
    {
      "cell_type": "code",
      "source": [
        "# 13. Dự báo 30 ngày tiếp theo\n",
        "x_input=val_data[213:].reshape(1,-1)\n",
        "x_input.shape\n",
        "\n",
        "temp_input=list(x_input)\n",
        "temp_input=temp_input[0].tolist()\n",
        "\n",
        "from numpy import array\n",
        "\n",
        "lst_output=[]\n",
        "n_steps=1\n",
        "i=0\n",
        "while(i<30):\n",
        "\n",
        "    if(len(temp_input)>1):\n",
        "        #print(temp_input)\n",
        "        x_input=np.array(temp_input[1:])\n",
        "        # print(\"{} day input {}\".format(i,x_input))\n",
        "        x_input=x_input.reshape(1,-1)\n",
        "        x_input = x_input.reshape((1, n_steps, 1))\n",
        "        #print(x_input)\n",
        "        yhat = model.predict(x_input, verbose=0)\n",
        "        # print(\"{} day output {}\".format(i,yhat))\n",
        "        temp_input.extend(yhat[0].tolist())\n",
        "        temp_input=temp_input[1:]\n",
        "        #print(temp_input)\n",
        "        lst_output.extend(yhat.tolist())\n",
        "        i=i+1\n",
        "    else:\n",
        "        x_input = x_input.reshape((1, n_steps,1))\n",
        "        yhat = model.predict(x_input, verbose=0)\n",
        "        print(yhat[0])\n",
        "        temp_input.extend(yhat[0].tolist())\n",
        "        print(len(temp_input))\n",
        "        lst_output.extend(yhat.tolist())\n",
        "        i=i+1\n"
      ],
      "metadata": {
        "colab": {
          "base_uri": "https://localhost:8080/"
        },
        "outputId": "88875812-9a5a-4c7d-8c22-bc1cf77005e5",
        "id": "Pxh-jCQYtUUp"
      },
      "execution_count": null,
      "outputs": [
        {
          "output_type": "stream",
          "name": "stdout",
          "text": [
            "[0.28919536]\n",
            "2\n"
          ]
        }
      ]
    },
    {
      "cell_type": "markdown",
      "source": [
        "## **Kết quả**"
      ],
      "metadata": {
        "id": "iOtXLZJ7vg4D"
      }
    },
    {
      "cell_type": "code",
      "source": [
        "# 14.Vẽ hình\n",
        "\n",
        "train_data_index = pd.RangeIndex(start=0, stop=train_size, step=1)\n",
        "plt.plot(scaler.inverse_transform(train_data))\n",
        "test_data_index = pd.RangeIndex(start=train_size, stop=train_size+test_size, step=1)\n",
        "plt.plot(test_data_index,scaler.inverse_transform(test_data))\n",
        "test_data_index = pd.RangeIndex(start=train_size+2, stop=train_size+test_size, step=1)\n",
        "plt.plot(test_data_index,(y_pred))\n",
        "val_data_index = pd.RangeIndex(start=train_size+test_size, stop=train_size+test_size+val_size, step=1)\n",
        "plt.plot(val_data_index,scaler.inverse_transform(val_data))\n",
        "val_data_index = pd.RangeIndex(start=train_size+test_size+2, stop=train_size+test_size+val_size, step=1)\n",
        "plt.plot(val_data_index,y_pred_val)\n",
        "prediect_data_index = pd.RangeIndex(start=len(df1)-1, stop=len(df1)+29, step=1)\n",
        "plt.plot(prediect_data_index,scaler.inverse_transform(lst_output))\n",
        "plt.legend(['Train','Test','Predict','Validate','ValidatePred','Predict30days'])\n",
        "plt.show()"
      ],
      "metadata": {
        "colab": {
          "base_uri": "https://localhost:8080/",
          "height": 430
        },
        "outputId": "60771ef6-fe2c-4241-d44a-a62f69a99c71",
        "id": "Yc06xJ6-tUUp"
      },
      "execution_count": null,
      "outputs": [
        {
          "output_type": "display_data",
          "data": {
            "text/plain": [
              "<Figure size 640x480 with 1 Axes>"
            ],
            "image/png": "[encoded data removed]"
          },
          "metadata": {}
        }
      ]
    },
    {
      "cell_type": "markdown",
      "source": [
        "#**MAA 7:2:1**"
      ],
      "metadata": {
        "id": "aKSla5pLtWN5"
      }
    },
    {
      "cell_type": "code",
      "source": [
        "# 1. Import thư viện cần thiết\n",
        "from google.colab import drive\n",
        "drive.mount('/content/drive')\n",
        "import numpy as np\n",
        "import pandas as pd\n",
        "import matplotlib.pyplot as plt\n",
        "from sklearn.preprocessing import MinMaxScaler\n",
        "from keras.models import Sequential\n",
        "from keras.layers import Dense, SimpleRNN"
      ],
      "metadata": {
        "colab": {
          "base_uri": "https://localhost:8080/"
        },
        "outputId": "2c9c2555-0ed9-476c-dadf-f4e9eac6ecf5",
        "id": "7p7ZG3x6tWN6"
      },
      "execution_count": null,
      "outputs": [
        {
          "output_type": "stream",
          "name": "stdout",
          "text": [
            "Drive already mounted at /content/drive; to attempt to forcibly remount, call drive.mount(\"/content/drive\", force_remount=True).\n"
          ]
        }
      ]
    },
    {
      "cell_type": "code",
      "source": [
        "# 2. Đọc file csv và gắng index với giá Price\n",
        "df = pd.read_csv('/content/MAA-Historical-Data.csv')\n",
        "df = df.iloc[::-1]\n",
        "df1=df.reset_index()['Price']\n"
      ],
      "metadata": {
        "id": "2D2_SapxtWN6"
      },
      "execution_count": null,
      "outputs": []
    },
    {
      "cell_type": "code",
      "source": [
        "df"
      ],
      "metadata": {
        "colab": {
          "base_uri": "https://localhost:8080/",
          "height": 423
        },
        "outputId": "851d17d7-e120-4f59-96eb-592049917c0a",
        "id": "hxvEMEAAtWN6"
      },
      "execution_count": null,
      "outputs": [
        {
          "output_type": "execute_result",
          "data": {
            "text/plain": [
              "            Date   Price    Open    High     Low     Vol. Change %\n",
              "2128  01/02/2015   76.15   74.47   76.19   74.47  276.36K    1.97%\n",
              "2127  01/05/2015   75.86   75.86   76.34   75.43  549.69K   -0.38%\n",
              "2126  01/06/2015   77.18   76.28   77.83   76.27  833.74K    1.74%\n",
              "2125  01/07/2015   78.14   76.48   78.34   76.29  544.77K    1.24%\n",
              "2124  01/08/2015   78.34   78.14   78.46   77.36  544.03K    0.26%\n",
              "...          ...     ...     ...     ...     ...      ...      ...\n",
              "4     06/12/2023  152.73  153.97  153.97  151.50  489.48K   -1.00%\n",
              "3     06/13/2023  153.68  151.82  153.78  151.28  513.48K    0.62%\n",
              "2     06/14/2023  153.40  154.35  155.11  152.47  388.42K   -0.18%\n",
              "1     06/15/2023  154.17  153.20  154.92  152.00  549.30K    0.50%\n",
              "0     06/16/2023  155.29  155.23  156.47  154.26    1.20M    0.73%\n",
              "\n",
              "[2129 rows x 7 columns]"
            ],
            "text/html": [
              "\n",
              "  <div id=\"df-20da2d6a-1425-43aa-a3eb-82b79379145b\">\n",
              "    <div class=\"colab-df-container\">\n",
              "      <div>\n",
              "<style scoped>\n",
              "    .dataframe tbody tr th:only-of-type {\n",
              "        vertical-align: middle;\n",
              "    }\n",
              "\n",
              "    .dataframe tbody tr th {\n",
              "        vertical-align: top;\n",
              "    }\n",
              "\n",
              "    .dataframe thead th {\n",
              "        text-align: right;\n",
              "    }\n",
              "</style>\n",
              "<table border=\"1\" class=\"dataframe\">\n",
              "  <thead>\n",
              "    <tr style=\"text-align: right;\">\n",
              "      <th></th>\n",
              "      <th>Date</th>\n",
              "      <th>Price</th>\n",
              "      <th>Open</th>\n",
              "      <th>High</th>\n",
              "      <th>Low</th>\n",
              "      <th>Vol.</th>\n",
              "      <th>Change %</th>\n",
              "    </tr>\n",
              "  </thead>\n",
              "  <tbody>\n",
              "    <tr>\n",
              "      <th>2128</th>\n",
              "      <td>01/02/2015</td>\n",
              "      <td>76.15</td>\n",
              "      <td>74.47</td>\n",
              "      <td>76.19</td>\n",
              "      <td>74.47</td>\n",
              "      <td>276.36K</td>\n",
              "      <td>1.97%</td>\n",
              "    </tr>\n",
              "    <tr>\n",
              "      <th>2127</th>\n",
              "      <td>01/05/2015</td>\n",
              "      <td>75.86</td>\n",
              "      <td>75.86</td>\n",
              "      <td>76.34</td>\n",
              "      <td>75.43</td>\n",
              "      <td>549.69K</td>\n",
              "      <td>-0.38%</td>\n",
              "    </tr>\n",
              "    <tr>\n",
              "      <th>2126</th>\n",
              "      <td>01/06/2015</td>\n",
              "      <td>77.18</td>\n",
              "      <td>76.28</td>\n",
              "      <td>77.83</td>\n",
              "      <td>76.27</td>\n",
              "      <td>833.74K</td>\n",
              "      <td>1.74%</td>\n",
              "    </tr>\n",
              "    <tr>\n",
              "      <th>2125</th>\n",
              "      <td>01/07/2015</td>\n",
              "      <td>78.14</td>\n",
              "      <td>76.48</td>\n",
              "      <td>78.34</td>\n",
              "      <td>76.29</td>\n",
              "      <td>544.77K</td>\n",
              "      <td>1.24%</td>\n",
              "    </tr>\n",
              "    <tr>\n",
              "      <th>2124</th>\n",
              "      <td>01/08/2015</td>\n",
              "      <td>78.34</td>\n",
              "      <td>78.14</td>\n",
              "      <td>78.46</td>\n",
              "      <td>77.36</td>\n",
              "      <td>544.03K</td>\n",
              "      <td>0.26%</td>\n",
              "    </tr>\n",
              "    <tr>\n",
              "      <th>...</th>\n",
              "      <td>...</td>\n",
              "      <td>...</td>\n",
              "      <td>...</td>\n",
              "      <td>...</td>\n",
              "      <td>...</td>\n",
              "      <td>...</td>\n",
              "      <td>...</td>\n",
              "    </tr>\n",
              "    <tr>\n",
              "      <th>4</th>\n",
              "      <td>06/12/2023</td>\n",
              "      <td>152.73</td>\n",
              "      <td>153.97</td>\n",
              "      <td>153.97</td>\n",
              "      <td>151.50</td>\n",
              "      <td>489.48K</td>\n",
              "      <td>-1.00%</td>\n",
              "    </tr>\n",
              "    <tr>\n",
              "      <th>3</th>\n",
              "      <td>06/13/2023</td>\n",
              "      <td>153.68</td>\n",
              "      <td>151.82</td>\n",
              "      <td>153.78</td>\n",
              "      <td>151.28</td>\n",
              "      <td>513.48K</td>\n",
              "      <td>0.62%</td>\n",
              "    </tr>\n",
              "    <tr>\n",
              "      <th>2</th>\n",
              "      <td>06/14/2023</td>\n",
              "      <td>153.40</td>\n",
              "      <td>154.35</td>\n",
              "      <td>155.11</td>\n",
              "      <td>152.47</td>\n",
              "      <td>388.42K</td>\n",
              "      <td>-0.18%</td>\n",
              "    </tr>\n",
              "    <tr>\n",
              "      <th>1</th>\n",
              "      <td>06/15/2023</td>\n",
              "      <td>154.17</td>\n",
              "      <td>153.20</td>\n",
              "      <td>154.92</td>\n",
              "      <td>152.00</td>\n",
              "      <td>549.30K</td>\n",
              "      <td>0.50%</td>\n",
              "    </tr>\n",
              "    <tr>\n",
              "      <th>0</th>\n",
              "      <td>06/16/2023</td>\n",
              "      <td>155.29</td>\n",
              "      <td>155.23</td>\n",
              "      <td>156.47</td>\n",
              "      <td>154.26</td>\n",
              "      <td>1.20M</td>\n",
              "      <td>0.73%</td>\n",
              "    </tr>\n",
              "  </tbody>\n",
              "</table>\n",
              "<p>2129 rows × 7 columns</p>\n",
              "</div>\n",
              "      <button class=\"colab-df-convert\" onclick=\"convertToInteractive('df-20da2d6a-1425-43aa-a3eb-82b79379145b')\"\n",
              "              title=\"Convert this dataframe to an interactive table.\"\n",
              "              style=\"display:none;\">\n",
              "        \n",
              "  <svg xmlns=\"http://www.w3.org/2000/svg\" height=\"24px\"viewBox=\"0 0 24 24\"\n",
              "       width=\"24px\">\n",
              "    <path d=\"M0 0h24v24H0V0z\" fill=\"none\"/>\n",
              "    <path d=\"M18.56 5.44l.94 2.06.94-2.06 2.06-.94-2.06-.94-.94-2.06-.94 2.06-2.06.94zm-11 1L8.5 8.5l.94-2.06 2.06-.94-2.06-.94L8.5 2.5l-.94 2.06-2.06.94zm10 10l.94 2.06.94-2.06 2.06-.94-2.06-.94-.94-2.06-.94 2.06-2.06.94z\"/><path d=\"M17.41 7.96l-1.37-1.37c-.4-.4-.92-.59-1.43-.59-.52 0-1.04.2-1.43.59L10.3 9.45l-7.72 7.72c-.78.78-.78 2.05 0 2.83L4 21.41c.39.39.9.59 1.41.59.51 0 1.02-.2 1.41-.59l7.78-7.78 2.81-2.81c.8-.78.8-2.07 0-2.86zM5.41 20L4 18.59l7.72-7.72 1.47 1.35L5.41 20z\"/>\n",
              "  </svg>\n",
              "      </button>\n",
              "      \n",
              "  <style>\n",
              "    .colab-df-container {\n",
              "      display:flex;\n",
              "      flex-wrap:wrap;\n",
              "      gap: 12px;\n",
              "    }\n",
              "\n",
              "    .colab-df-convert {\n",
              "      background-color: #E8F0FE;\n",
              "      border: none;\n",
              "      border-radius: 50%;\n",
              "      cursor: pointer;\n",
              "      display: none;\n",
              "      fill: #1967D2;\n",
              "      height: 32px;\n",
              "      padding: 0 0 0 0;\n",
              "      width: 32px;\n",
              "    }\n",
              "\n",
              "    .colab-df-convert:hover {\n",
              "      background-color: #E2EBFA;\n",
              "      box-shadow: 0px 1px 2px rgba(60, 64, 67, 0.3), 0px 1px 3px 1px rgba(60, 64, 67, 0.15);\n",
              "      fill: #174EA6;\n",
              "    }\n",
              "\n",
              "    [theme=dark] .colab-df-convert {\n",
              "      background-color: #3B4455;\n",
              "      fill: #D2E3FC;\n",
              "    }\n",
              "\n",
              "    [theme=dark] .colab-df-convert:hover {\n",
              "      background-color: #434B5C;\n",
              "      box-shadow: 0px 1px 3px 1px rgba(0, 0, 0, 0.15);\n",
              "      filter: drop-shadow(0px 1px 2px rgba(0, 0, 0, 0.3));\n",
              "      fill: #FFFFFF;\n",
              "    }\n",
              "  </style>\n",
              "\n",
              "      <script>\n",
              "        const buttonEl =\n",
              "          document.querySelector('#df-20da2d6a-1425-43aa-a3eb-82b79379145b button.colab-df-convert');\n",
              "        buttonEl.style.display =\n",
              "          google.colab.kernel.accessAllowed ? 'block' : 'none';\n",
              "\n",
              "        async function convertToInteractive(key) {\n",
              "          const element = document.querySelector('#df-20da2d6a-1425-43aa-a3eb-82b79379145b');\n",
              "          const dataTable =\n",
              "            await google.colab.kernel.invokeFunction('convertToInteractive',\n",
              "                                                     [key], {});\n",
              "          if (!dataTable) return;\n",
              "\n",
              "          const docLinkHtml = 'Like what you see? Visit the ' +\n",
              "            '<a target=\"_blank\" href=https://colab.research.google.com/notebooks/data_table.ipynb>data table notebook</a>'\n",
              "            + ' to learn more about interactive tables.';\n",
              "          element.innerHTML = '';\n",
              "          dataTable['output_type'] = 'display_data';\n",
              "          await google.colab.output.renderOutput(dataTable, element);\n",
              "          const docLink = document.createElement('div');\n",
              "          docLink.innerHTML = docLinkHtml;\n",
              "          element.appendChild(docLink);\n",
              "        }\n",
              "      </script>\n",
              "    </div>\n",
              "  </div>\n",
              "  "
            ]
          },
          "metadata": {},
          "execution_count": 111
        }
      ]
    },
    {
      "cell_type": "code",
      "source": [
        "# 3. Scaler data\n",
        "scaler=MinMaxScaler(feature_range=(0,1))\n",
        "df1=scaler.fit_transform(np.array(df1).reshape(-1,1))"
      ],
      "metadata": {
        "id": "b6fTMna-tWN7"
      },
      "execution_count": null,
      "outputs": []
    },
    {
      "cell_type": "code",
      "source": [
        "# 4. Chia train test\n",
        "train_size = int(0.7 * len(df1))\n",
        "test_size = int(0.2 * len(df1))\n",
        "val_size = len(df1) - train_size - test_size\n",
        "\n",
        "train_data = df1[:train_size]\n",
        "test_data = df1[train_size:train_size+test_size]\n",
        "val_data = df1[train_size+test_size:]"
      ],
      "metadata": {
        "id": "V1yZXAHxtWN7"
      },
      "execution_count": null,
      "outputs": []
    },
    {
      "cell_type": "code",
      "source": [
        "# 5. Hàm Create Dataset\n",
        "import numpy\n",
        "# convert an array of values into a dataset matrix\n",
        "def create_dataset(dataset, time_step=1):\n",
        "\tdataX, dataY = [], []\n",
        "\tfor i in range(len(dataset)-time_step-1):\n",
        "\t\ta = dataset[i:(i+time_step), 0]   ###i=0, X=0,1,2,3-----99   Y=100\n",
        "\t\tdataX.append(a)\n",
        "\t\tdataY.append(dataset[i + time_step, 0])\n",
        "\treturn numpy.array(dataX), numpy.array(dataY)"
      ],
      "metadata": {
        "id": "uclJsVQmtWN7"
      },
      "execution_count": null,
      "outputs": []
    },
    {
      "cell_type": "code",
      "source": [
        "#6. Reshape into X=t,t+1,t+2..t+99 and Y=t+100\n",
        "\n",
        "time_step = 1\n",
        "X_train, y_train = create_dataset(train_data, time_step)\n",
        "X_val, yval = create_dataset(val_data, time_step)\n",
        "X_test, ytest = create_dataset(test_data, time_step)"
      ],
      "metadata": {
        "id": "BVTl-xXqtWN8"
      },
      "execution_count": null,
      "outputs": []
    },
    {
      "cell_type": "code",
      "source": [
        "# 7. Reshape input to be [samples, time steps, features] which is required for LSTM\n",
        "X_train =X_train.reshape(X_train.shape[0],X_train.shape[1] , 1)\n",
        "X_test = X_test.reshape(X_test.shape[0],X_test.shape[1] , 1)\n",
        "X_val = X_val.reshape(X_val.shape[0],X_val.shape[1] , 1)"
      ],
      "metadata": {
        "id": "AdAwR8DatWN8"
      },
      "execution_count": null,
      "outputs": []
    },
    {
      "cell_type": "code",
      "source": [
        "# 8. Define RNN Model\n",
        "\n",
        "model = Sequential()\n",
        "model.add(SimpleRNN(50, input_shape=(time_step, 1)))\n",
        "model.add(Dense(1))\n",
        "model.compile(loss='mean_squared_error',optimizer='adam')"
      ],
      "metadata": {
        "id": "BiA42Mk0tWN8"
      },
      "execution_count": null,
      "outputs": []
    },
    {
      "cell_type": "code",
      "source": [
        "# 9. Fit mô hình với dữ liệu train\n",
        "model.fit(X_train,y_train,validation_data=(X_test,ytest),epochs=100,batch_size=64,verbose=1)"
      ],
      "metadata": {
        "colab": {
          "base_uri": "https://localhost:8080/"
        },
        "outputId": "034bc7b6-9010-4ec3-c95f-f86065c2de5c",
        "id": "lij07_XbtWN8"
      },
      "execution_count": null,
      "outputs": [
        {
          "output_type": "stream",
          "name": "stdout",
          "text": [
            "Epoch 1/100\n",
            "24/24 [==============================] - 2s 16ms/step - loss: 0.0115 - val_loss: 0.0637\n",
            "Epoch 2/100\n",
            "24/24 [==============================] - 0s 5ms/step - loss: 0.0037 - val_loss: 0.0715\n",
            "Epoch 3/100\n",
            "24/24 [==============================] - 0s 4ms/step - loss: 0.0021 - val_loss: 0.0370\n",
            "Epoch 4/100\n",
            "24/24 [==============================] - 0s 5ms/step - loss: 0.0012 - val_loss: 0.0217\n",
            "Epoch 5/100\n",
            "24/24 [==============================] - 0s 5ms/step - loss: 6.6433e-04 - val_loss: 0.0103\n",
            "Epoch 6/100\n",
            "24/24 [==============================] - 0s 5ms/step - loss: 3.4548e-04 - val_loss: 0.0043\n",
            "Epoch 7/100\n",
            "24/24 [==============================] - 0s 5ms/step - loss: 1.9926e-04 - val_loss: 0.0019\n",
            "Epoch 8/100\n",
            "24/24 [==============================] - 0s 5ms/step - loss: 1.4539e-04 - val_loss: 9.2564e-04\n",
            "Epoch 9/100\n",
            "24/24 [==============================] - 0s 4ms/step - loss: 1.2442e-04 - val_loss: 6.5536e-04\n",
            "Epoch 10/100\n",
            "24/24 [==============================] - 0s 5ms/step - loss: 1.1922e-04 - val_loss: 3.9485e-04\n",
            "Epoch 11/100\n",
            "24/24 [==============================] - 0s 4ms/step - loss: 1.1765e-04 - val_loss: 3.3143e-04\n",
            "Epoch 12/100\n",
            "24/24 [==============================] - 0s 4ms/step - loss: 1.1762e-04 - val_loss: 3.3065e-04\n",
            "Epoch 13/100\n",
            "24/24 [==============================] - 0s 5ms/step - loss: 1.1788e-04 - val_loss: 3.3058e-04\n",
            "Epoch 14/100\n",
            "24/24 [==============================] - 0s 5ms/step - loss: 1.1724e-04 - val_loss: 3.5404e-04\n",
            "Epoch 15/100\n",
            "24/24 [==============================] - 0s 5ms/step - loss: 1.1960e-04 - val_loss: 3.7863e-04\n",
            "Epoch 16/100\n",
            "24/24 [==============================] - 0s 5ms/step - loss: 1.1879e-04 - val_loss: 3.3597e-04\n",
            "Epoch 17/100\n",
            "24/24 [==============================] - 0s 5ms/step - loss: 1.1752e-04 - val_loss: 3.2580e-04\n",
            "Epoch 18/100\n",
            "24/24 [==============================] - 0s 5ms/step - loss: 1.1864e-04 - val_loss: 3.1072e-04\n",
            "Epoch 19/100\n",
            "24/24 [==============================] - 0s 5ms/step - loss: 1.1710e-04 - val_loss: 2.9053e-04\n",
            "Epoch 20/100\n",
            "24/24 [==============================] - 0s 5ms/step - loss: 1.1751e-04 - val_loss: 3.0574e-04\n",
            "Epoch 21/100\n",
            "24/24 [==============================] - 0s 5ms/step - loss: 1.1772e-04 - val_loss: 3.3215e-04\n",
            "Epoch 22/100\n",
            "24/24 [==============================] - 0s 5ms/step - loss: 1.1727e-04 - val_loss: 3.0775e-04\n",
            "Epoch 23/100\n",
            "24/24 [==============================] - 0s 5ms/step - loss: 1.1735e-04 - val_loss: 3.3348e-04\n",
            "Epoch 24/100\n",
            "24/24 [==============================] - 0s 4ms/step - loss: 1.1707e-04 - val_loss: 3.0694e-04\n",
            "Epoch 25/100\n",
            "24/24 [==============================] - 0s 5ms/step - loss: 1.1858e-04 - val_loss: 3.4203e-04\n",
            "Epoch 26/100\n",
            "24/24 [==============================] - 0s 5ms/step - loss: 1.1890e-04 - val_loss: 3.1388e-04\n",
            "Epoch 27/100\n",
            "24/24 [==============================] - 0s 5ms/step - loss: 1.1750e-04 - val_loss: 3.3166e-04\n",
            "Epoch 28/100\n",
            "24/24 [==============================] - 0s 5ms/step - loss: 1.1804e-04 - val_loss: 2.8655e-04\n",
            "Epoch 29/100\n",
            "24/24 [==============================] - 0s 4ms/step - loss: 1.1769e-04 - val_loss: 3.1383e-04\n",
            "Epoch 30/100\n",
            "24/24 [==============================] - 0s 5ms/step - loss: 1.1737e-04 - val_loss: 3.4362e-04\n",
            "Epoch 31/100\n",
            "24/24 [==============================] - 0s 5ms/step - loss: 1.1735e-04 - val_loss: 3.7592e-04\n",
            "Epoch 32/100\n",
            "24/24 [==============================] - 0s 5ms/step - loss: 1.1960e-04 - val_loss: 3.4219e-04\n",
            "Epoch 33/100\n",
            "24/24 [==============================] - 0s 5ms/step - loss: 1.1936e-04 - val_loss: 3.7397e-04\n",
            "Epoch 34/100\n",
            "24/24 [==============================] - 0s 4ms/step - loss: 1.1765e-04 - val_loss: 3.1455e-04\n",
            "Epoch 35/100\n",
            "24/24 [==============================] - 0s 5ms/step - loss: 1.1786e-04 - val_loss: 3.1444e-04\n",
            "Epoch 36/100\n",
            "24/24 [==============================] - 0s 4ms/step - loss: 1.1841e-04 - val_loss: 3.1033e-04\n",
            "Epoch 37/100\n",
            "24/24 [==============================] - 0s 5ms/step - loss: 1.1907e-04 - val_loss: 3.5824e-04\n",
            "Epoch 38/100\n",
            "24/24 [==============================] - 0s 4ms/step - loss: 1.1868e-04 - val_loss: 3.7253e-04\n",
            "Epoch 39/100\n",
            "24/24 [==============================] - 0s 5ms/step - loss: 1.1904e-04 - val_loss: 2.9917e-04\n",
            "Epoch 40/100\n",
            "24/24 [==============================] - 0s 5ms/step - loss: 1.1753e-04 - val_loss: 3.0328e-04\n",
            "Epoch 41/100\n",
            "24/24 [==============================] - 0s 5ms/step - loss: 1.1731e-04 - val_loss: 3.3213e-04\n",
            "Epoch 42/100\n",
            "24/24 [==============================] - 0s 4ms/step - loss: 1.1714e-04 - val_loss: 2.9932e-04\n",
            "Epoch 43/100\n",
            "24/24 [==============================] - 0s 4ms/step - loss: 1.1958e-04 - val_loss: 3.6767e-04\n",
            "Epoch 44/100\n",
            "24/24 [==============================] - 0s 5ms/step - loss: 1.1863e-04 - val_loss: 3.9181e-04\n",
            "Epoch 45/100\n",
            "24/24 [==============================] - 0s 5ms/step - loss: 1.1974e-04 - val_loss: 3.1102e-04\n",
            "Epoch 46/100\n",
            "24/24 [==============================] - 0s 5ms/step - loss: 1.2194e-04 - val_loss: 3.3534e-04\n",
            "Epoch 47/100\n",
            "24/24 [==============================] - 0s 7ms/step - loss: 1.1743e-04 - val_loss: 3.6511e-04\n",
            "Epoch 48/100\n",
            "24/24 [==============================] - 0s 7ms/step - loss: 1.1809e-04 - val_loss: 3.3842e-04\n",
            "Epoch 49/100\n",
            "24/24 [==============================] - 0s 7ms/step - loss: 1.1957e-04 - val_loss: 3.5595e-04\n",
            "Epoch 50/100\n",
            "24/24 [==============================] - 0s 6ms/step - loss: 1.1841e-04 - val_loss: 3.0409e-04\n",
            "Epoch 51/100\n",
            "24/24 [==============================] - 0s 6ms/step - loss: 1.1997e-04 - val_loss: 3.9833e-04\n",
            "Epoch 52/100\n",
            "24/24 [==============================] - 0s 6ms/step - loss: 1.1818e-04 - val_loss: 3.1446e-04\n",
            "Epoch 53/100\n",
            "24/24 [==============================] - 0s 7ms/step - loss: 1.1760e-04 - val_loss: 3.0722e-04\n",
            "Epoch 54/100\n",
            "24/24 [==============================] - 0s 6ms/step - loss: 1.1805e-04 - val_loss: 3.0816e-04\n",
            "Epoch 55/100\n",
            "24/24 [==============================] - 0s 8ms/step - loss: 1.1797e-04 - val_loss: 3.0040e-04\n",
            "Epoch 56/100\n",
            "24/24 [==============================] - 0s 7ms/step - loss: 1.1857e-04 - val_loss: 3.0123e-04\n",
            "Epoch 57/100\n",
            "24/24 [==============================] - 0s 6ms/step - loss: 1.1967e-04 - val_loss: 3.2855e-04\n",
            "Epoch 58/100\n",
            "24/24 [==============================] - 0s 6ms/step - loss: 1.1813e-04 - val_loss: 3.4762e-04\n",
            "Epoch 59/100\n",
            "24/24 [==============================] - 0s 8ms/step - loss: 1.1795e-04 - val_loss: 3.1960e-04\n",
            "Epoch 60/100\n",
            "24/24 [==============================] - 0s 7ms/step - loss: 1.1842e-04 - val_loss: 3.1815e-04\n",
            "Epoch 61/100\n",
            "24/24 [==============================] - 0s 6ms/step - loss: 1.1872e-04 - val_loss: 3.6658e-04\n",
            "Epoch 62/100\n",
            "24/24 [==============================] - 0s 7ms/step - loss: 1.1812e-04 - val_loss: 3.2315e-04\n",
            "Epoch 63/100\n",
            "24/24 [==============================] - 0s 6ms/step - loss: 1.1763e-04 - val_loss: 3.6653e-04\n",
            "Epoch 64/100\n",
            "24/24 [==============================] - 0s 7ms/step - loss: 1.1920e-04 - val_loss: 3.4278e-04\n",
            "Epoch 65/100\n",
            "24/24 [==============================] - 0s 7ms/step - loss: 1.2107e-04 - val_loss: 2.8256e-04\n",
            "Epoch 66/100\n",
            "24/24 [==============================] - 0s 7ms/step - loss: 1.1846e-04 - val_loss: 3.2009e-04\n",
            "Epoch 67/100\n",
            "24/24 [==============================] - 0s 7ms/step - loss: 1.1929e-04 - val_loss: 2.8648e-04\n",
            "Epoch 68/100\n",
            "24/24 [==============================] - 0s 6ms/step - loss: 1.2118e-04 - val_loss: 4.6646e-04\n",
            "Epoch 69/100\n",
            "24/24 [==============================] - 0s 8ms/step - loss: 1.2270e-04 - val_loss: 4.1429e-04\n",
            "Epoch 70/100\n",
            "24/24 [==============================] - 0s 14ms/step - loss: 1.1979e-04 - val_loss: 3.2625e-04\n",
            "Epoch 71/100\n",
            "24/24 [==============================] - 0s 17ms/step - loss: 1.1915e-04 - val_loss: 3.2603e-04\n",
            "Epoch 72/100\n",
            "24/24 [==============================] - 0s 13ms/step - loss: 1.1944e-04 - val_loss: 3.1087e-04\n",
            "Epoch 73/100\n",
            "24/24 [==============================] - 0s 10ms/step - loss: 1.1753e-04 - val_loss: 3.8544e-04\n",
            "Epoch 74/100\n",
            "24/24 [==============================] - 0s 7ms/step - loss: 1.1964e-04 - val_loss: 4.0188e-04\n",
            "Epoch 75/100\n",
            "24/24 [==============================] - 0s 8ms/step - loss: 1.2076e-04 - val_loss: 4.2196e-04\n",
            "Epoch 76/100\n",
            "24/24 [==============================] - 0s 8ms/step - loss: 1.2661e-04 - val_loss: 4.6491e-04\n",
            "Epoch 77/100\n",
            "24/24 [==============================] - 0s 4ms/step - loss: 1.2211e-04 - val_loss: 3.7576e-04\n",
            "Epoch 78/100\n",
            "24/24 [==============================] - 0s 4ms/step - loss: 1.2164e-04 - val_loss: 2.8715e-04\n",
            "Epoch 79/100\n",
            "24/24 [==============================] - 0s 4ms/step - loss: 1.1883e-04 - val_loss: 3.0488e-04\n",
            "Epoch 80/100\n",
            "24/24 [==============================] - 0s 5ms/step - loss: 1.2019e-04 - val_loss: 2.6900e-04\n",
            "Epoch 81/100\n",
            "24/24 [==============================] - 0s 5ms/step - loss: 1.2030e-04 - val_loss: 3.5968e-04\n",
            "Epoch 82/100\n",
            "24/24 [==============================] - 0s 4ms/step - loss: 1.1813e-04 - val_loss: 3.4228e-04\n",
            "Epoch 83/100\n",
            "24/24 [==============================] - 0s 4ms/step - loss: 1.1900e-04 - val_loss: 3.6436e-04\n",
            "Epoch 84/100\n",
            "24/24 [==============================] - 0s 5ms/step - loss: 1.1902e-04 - val_loss: 2.8799e-04\n",
            "Epoch 85/100\n",
            "24/24 [==============================] - 0s 4ms/step - loss: 1.2368e-04 - val_loss: 3.2508e-04\n",
            "Epoch 86/100\n",
            "24/24 [==============================] - 0s 5ms/step - loss: 1.2115e-04 - val_loss: 3.2716e-04\n",
            "Epoch 87/100\n",
            "24/24 [==============================] - 0s 5ms/step - loss: 1.1945e-04 - val_loss: 2.7409e-04\n",
            "Epoch 88/100\n",
            "24/24 [==============================] - 0s 5ms/step - loss: 1.2153e-04 - val_loss: 3.3902e-04\n",
            "Epoch 89/100\n",
            "24/24 [==============================] - 0s 5ms/step - loss: 1.1904e-04 - val_loss: 4.1860e-04\n",
            "Epoch 90/100\n",
            "24/24 [==============================] - 0s 5ms/step - loss: 1.2095e-04 - val_loss: 3.0476e-04\n",
            "Epoch 91/100\n",
            "24/24 [==============================] - 0s 5ms/step - loss: 1.2084e-04 - val_loss: 3.1966e-04\n",
            "Epoch 92/100\n",
            "24/24 [==============================] - 0s 5ms/step - loss: 1.1740e-04 - val_loss: 3.9544e-04\n",
            "Epoch 93/100\n",
            "24/24 [==============================] - 0s 4ms/step - loss: 1.1869e-04 - val_loss: 2.8266e-04\n",
            "Epoch 94/100\n",
            "24/24 [==============================] - 0s 5ms/step - loss: 1.1945e-04 - val_loss: 2.6730e-04\n",
            "Epoch 95/100\n",
            "24/24 [==============================] - 0s 4ms/step - loss: 1.1974e-04 - val_loss: 3.4024e-04\n",
            "Epoch 96/100\n",
            "24/24 [==============================] - 0s 5ms/step - loss: 1.1843e-04 - val_loss: 4.1383e-04\n",
            "Epoch 97/100\n",
            "24/24 [==============================] - 0s 4ms/step - loss: 1.2069e-04 - val_loss: 3.6435e-04\n",
            "Epoch 98/100\n",
            "24/24 [==============================] - 0s 5ms/step - loss: 1.2037e-04 - val_loss: 3.5570e-04\n",
            "Epoch 99/100\n",
            "24/24 [==============================] - 0s 5ms/step - loss: 1.2105e-04 - val_loss: 3.4138e-04\n",
            "Epoch 100/100\n",
            "24/24 [==============================] - 0s 4ms/step - loss: 1.2813e-04 - val_loss: 2.5406e-04\n"
          ]
        },
        {
          "output_type": "execute_result",
          "data": {
            "text/plain": [
              "<keras.callbacks.History at 0x7f6fe6b9bbe0>"
            ]
          },
          "metadata": {},
          "execution_count": 118
        }
      ]
    },
    {
      "cell_type": "code",
      "source": [
        "# 10. Dự báo dữ liệu test, val\n",
        "train_predict=model.predict(X_train)\n",
        "y_pred=model.predict(X_test)\n",
        "y_pred_val=model.predict(X_val)"
      ],
      "metadata": {
        "colab": {
          "base_uri": "https://localhost:8080/"
        },
        "outputId": "d42545db-8fae-460c-c458-f637e1345fd8",
        "id": "UUY8wdD1tWN9"
      },
      "execution_count": null,
      "outputs": [
        {
          "output_type": "stream",
          "name": "stdout",
          "text": [
            "47/47 [==============================] - 0s 2ms/step\n",
            "14/14 [==============================] - 0s 2ms/step\n",
            "7/7 [==============================] - 0s 2ms/step\n"
          ]
        }
      ]
    },
    {
      "cell_type": "code",
      "source": [
        "# 11. Chuẩn hóa dữ liệu y_pred, y_pred_val\n",
        "train_predict=scaler.inverse_transform(train_predict)\n",
        "y_pred=scaler.inverse_transform(y_pred)\n",
        "y_pred_val=scaler.inverse_transform(y_pred_val)\n",
        "\n",
        "ytest = scaler.inverse_transform(ytest.reshape(-1,1))\n",
        "yval = scaler.inverse_transform(yval.reshape(-1,1))"
      ],
      "metadata": {
        "id": "ue_5jAq8tWN9"
      },
      "execution_count": null,
      "outputs": []
    },
    {
      "cell_type": "markdown",
      "source": [
        "## **Đánh giá**"
      ],
      "metadata": {
        "id": "XoDEsth1vnQS"
      }
    },
    {
      "cell_type": "code",
      "source": [
        "# 12. Đánh giá độ chính xác thuật toán bằng RMSE\n",
        "valid_rmse = np.sqrt(np.mean((y_pred_val - yval)**2))\n",
        "test_rmse = np.sqrt(np.mean((y_pred - ytest)**2))\n",
        "test_mae = np.mean(np.abs(y_pred - ytest))\n",
        "valid_mae = np.mean(np.abs(y_pred_val - yval))\n",
        "test_mape = np.mean(np.abs((ytest - y_pred) / ytest)) * 100\n",
        "valid_mape = np.mean(np.abs((yval - y_pred_val) / np.where(yval != 0, yval, 1))) * 100\n",
        "\n",
        "print('Validation RMSE:', valid_rmse)\n",
        "print('Testing RMSE:', test_rmse)\n",
        "print('Testing MAE:', test_mae)\n",
        "print('Validation MAE:', valid_mae)\n",
        "print('Testing MAPE:', test_mape)\n",
        "print('Validation MAPE:', valid_mape)"
      ],
      "metadata": {
        "colab": {
          "base_uri": "https://localhost:8080/"
        },
        "outputId": "6e3aafc3-e425-4681-9693-bd7cb9e23275",
        "id": "hlZEBJ3QtWN9"
      },
      "execution_count": null,
      "outputs": [
        {
          "output_type": "stream",
          "name": "stdout",
          "text": [
            "Validation RMSE: 2.6212426347368796\n",
            "Testing RMSE: 2.5230418766900216\n",
            "Testing MAE: 1.885366700084496\n",
            "Validation MAE: 2.0437897304318984\n",
            "Testing MAPE: 1.0433175964179273\n",
            "Validation MAPE: 1.301502954438542\n"
          ]
        }
      ]
    },
    {
      "cell_type": "code",
      "source": [
        "# 13. Dự báo 30 ngày tiếp theo\n",
        "x_input=val_data[213:].reshape(1,-1)\n",
        "x_input.shape\n",
        "\n",
        "temp_input=list(x_input)\n",
        "temp_input=temp_input[0].tolist()\n",
        "\n",
        "from numpy import array\n",
        "\n",
        "lst_output=[]\n",
        "n_steps=1\n",
        "i=0\n",
        "while(i<30):\n",
        "\n",
        "    if(len(temp_input)>1):\n",
        "        #print(temp_input)\n",
        "        x_input=np.array(temp_input[1:])\n",
        "        # print(\"{} day input {}\".format(i,x_input))\n",
        "        x_input=x_input.reshape(1,-1)\n",
        "        x_input = x_input.reshape((1, n_steps, 1))\n",
        "        #print(x_input)\n",
        "        yhat = model.predict(x_input, verbose=0)\n",
        "        # print(\"{} day output {}\".format(i,yhat))\n",
        "        temp_input.extend(yhat[0].tolist())\n",
        "        temp_input=temp_input[1:]\n",
        "        #print(temp_input)\n",
        "        lst_output.extend(yhat.tolist())\n",
        "        i=i+1\n",
        "    else:\n",
        "        x_input = x_input.reshape((1, n_steps,1))\n",
        "        yhat = model.predict(x_input, verbose=0)\n",
        "        print(yhat[0])\n",
        "        temp_input.extend(yhat[0].tolist())\n",
        "        print(len(temp_input))\n",
        "        lst_output.extend(yhat.tolist())\n",
        "        i=i+1\n"
      ],
      "metadata": {
        "colab": {
          "base_uri": "https://localhost:8080/"
        },
        "outputId": "18e4906e-5bb7-4acd-94f1-976d491b7833",
        "id": "3VTgngvbtWOB"
      },
      "execution_count": null,
      "outputs": [
        {
          "output_type": "stream",
          "name": "stdout",
          "text": [
            "[0.5339782]\n",
            "2\n"
          ]
        }
      ]
    },
    {
      "cell_type": "markdown",
      "source": [
        "## **Kết quả**"
      ],
      "metadata": {
        "id": "cOWSpGLmvrna"
      }
    },
    {
      "cell_type": "code",
      "source": [
        "# 14.Vẽ hình\n",
        "\n",
        "train_data_index = pd.RangeIndex(start=0, stop=train_size, step=1)\n",
        "plt.plot(scaler.inverse_transform(train_data))\n",
        "test_data_index = pd.RangeIndex(start=train_size, stop=train_size+test_size, step=1)\n",
        "plt.plot(test_data_index,scaler.inverse_transform(test_data))\n",
        "test_data_index = pd.RangeIndex(start=train_size+2, stop=train_size+test_size, step=1)\n",
        "plt.plot(test_data_index,(y_pred))\n",
        "val_data_index = pd.RangeIndex(start=train_size+test_size, stop=train_size+test_size+val_size, step=1)\n",
        "plt.plot(val_data_index,scaler.inverse_transform(val_data))\n",
        "val_data_index = pd.RangeIndex(start=train_size+test_size+2, stop=train_size+test_size+val_size, step=1)\n",
        "plt.plot(val_data_index,y_pred_val)\n",
        "prediect_data_index = pd.RangeIndex(start=len(df1)-1, stop=len(df1)+29, step=1)\n",
        "plt.plot(prediect_data_index,scaler.inverse_transform(lst_output))\n",
        "plt.legend(['Train','Test','Predict','Validate','ValidatePred','Predict30days'])\n",
        "plt.show()"
      ],
      "metadata": {
        "colab": {
          "base_uri": "https://localhost:8080/",
          "height": 430
        },
        "outputId": "52a28af8-3a77-4880-a964-00cc819dc4d2",
        "id": "enShwo3NtWOB"
      },
      "execution_count": null,
      "outputs": [
        {
          "output_type": "display_data",
          "data": {
            "text/plain": [
              "<Figure size 640x480 with 1 Axes>"
            ],
            "image/png": "[encoded data removed]"
          },
          "metadata": {}
        }
      ]
    },
    {
      "cell_type": "markdown",
      "source": [
        "#**ARI 7:2:1**"
      ],
      "metadata": {
        "id": "qOs2cRauQqnI"
      }
    },
    {
      "cell_type": "code",
      "source": [
        "# 1. Import thư viện cần thiết\n",
        "from google.colab import drive\n",
        "drive.mount('/content/drive')\n",
        "import numpy as np\n",
        "import pandas as pd\n",
        "import matplotlib.pyplot as plt\n",
        "from sklearn.preprocessing import MinMaxScaler\n",
        "from keras.models import Sequential\n",
        "from keras.layers import Dense, SimpleRNN"
      ],
      "metadata": {
        "colab": {
          "base_uri": "https://localhost:8080/"
        },
        "outputId": "d60dc4f0-ee54-4553-9ef0-004cba52d2a6",
        "id": "Z9wYOfmqQqnO"
      },
      "execution_count": null,
      "outputs": [
        {
          "output_type": "stream",
          "name": "stdout",
          "text": [
            "Drive already mounted at /content/drive; to attempt to forcibly remount, call drive.mount(\"/content/drive\", force_remount=True).\n"
          ]
        }
      ]
    },
    {
      "cell_type": "code",
      "source": [
        "# 2. Đọc file csv và gắng index với giá Price\n",
        "df = pd.read_csv('/content/ARI-Historical-Data.csv')\n",
        "df = df.iloc[::-1]\n",
        "df1=df.reset_index()['Price']\n"
      ],
      "metadata": {
        "id": "eqbXt78RQqnP"
      },
      "execution_count": null,
      "outputs": []
    },
    {
      "cell_type": "code",
      "source": [
        "df"
      ],
      "metadata": {
        "colab": {
          "base_uri": "https://localhost:8080/",
          "height": 423
        },
        "id": "gql2c2dGjpE_",
        "outputId": "b7e22b26-eded-48db-e4dd-6586d7fd80bd"
      },
      "execution_count": null,
      "outputs": [
        {
          "output_type": "execute_result",
          "data": {
            "text/plain": [
              "            Date  Price   Open   High    Low     Vol. Change %\n",
              "2128  01/02/2015  16.54  16.49  16.55  16.35  184.56K    1.10%\n",
              "2127  01/05/2015  16.51  16.47  16.63  16.45  387.43K   -0.18%\n",
              "2126  01/06/2015  16.42  16.60  16.64  16.37  225.81K   -0.55%\n",
              "2125  01/07/2015  16.63  16.48  16.65  16.44  492.81K    1.28%\n",
              "2124  01/08/2015  16.49  16.69  16.69  16.45  440.70K   -0.84%\n",
              "...          ...    ...    ...    ...    ...      ...      ...\n",
              "4     06/12/2023  11.09  10.83  11.11  10.83  754.88K    2.21%\n",
              "3     06/13/2023  11.22  11.12  11.25  11.08  799.04K    1.17%\n",
              "2     06/14/2023  11.19  11.27  11.38  11.09  876.19K   -0.27%\n",
              "1     06/15/2023  11.42  11.15  11.44  11.14    1.07M    2.06%\n",
              "0     06/16/2023  11.31  11.45  11.45  11.19    2.29M   -0.96%\n",
              "\n",
              "[2129 rows x 7 columns]"
            ],
            "text/html": [
              "\n",
              "  <div id=\"df-596b74b0-726f-40b9-9303-4c2c0d22d08d\">\n",
              "    <div class=\"colab-df-container\">\n",
              "      <div>\n",
              "<style scoped>\n",
              "    .dataframe tbody tr th:only-of-type {\n",
              "        vertical-align: middle;\n",
              "    }\n",
              "\n",
              "    .dataframe tbody tr th {\n",
              "        vertical-align: top;\n",
              "    }\n",
              "\n",
              "    .dataframe thead th {\n",
              "        text-align: right;\n",
              "    }\n",
              "</style>\n",
              "<table border=\"1\" class=\"dataframe\">\n",
              "  <thead>\n",
              "    <tr style=\"text-align: right;\">\n",
              "      <th></th>\n",
              "      <th>Date</th>\n",
              "      <th>Price</th>\n",
              "      <th>Open</th>\n",
              "      <th>High</th>\n",
              "      <th>Low</th>\n",
              "      <th>Vol.</th>\n",
              "      <th>Change %</th>\n",
              "    </tr>\n",
              "  </thead>\n",
              "  <tbody>\n",
              "    <tr>\n",
              "      <th>2128</th>\n",
              "      <td>01/02/2015</td>\n",
              "      <td>16.54</td>\n",
              "      <td>16.49</td>\n",
              "      <td>16.55</td>\n",
              "      <td>16.35</td>\n",
              "      <td>184.56K</td>\n",
              "      <td>1.10%</td>\n",
              "    </tr>\n",
              "    <tr>\n",
              "      <th>2127</th>\n",
              "      <td>01/05/2015</td>\n",
              "      <td>16.51</td>\n",
              "      <td>16.47</td>\n",
              "      <td>16.63</td>\n",
              "      <td>16.45</td>\n",
              "      <td>387.43K</td>\n",
              "      <td>-0.18%</td>\n",
              "    </tr>\n",
              "    <tr>\n",
              "      <th>2126</th>\n",
              "      <td>01/06/2015</td>\n",
              "      <td>16.42</td>\n",
              "      <td>16.60</td>\n",
              "      <td>16.64</td>\n",
              "      <td>16.37</td>\n",
              "      <td>225.81K</td>\n",
              "      <td>-0.55%</td>\n",
              "    </tr>\n",
              "    <tr>\n",
              "      <th>2125</th>\n",
              "      <td>01/07/2015</td>\n",
              "      <td>16.63</td>\n",
              "      <td>16.48</td>\n",
              "      <td>16.65</td>\n",
              "      <td>16.44</td>\n",
              "      <td>492.81K</td>\n",
              "      <td>1.28%</td>\n",
              "    </tr>\n",
              "    <tr>\n",
              "      <th>2124</th>\n",
              "      <td>01/08/2015</td>\n",
              "      <td>16.49</td>\n",
              "      <td>16.69</td>\n",
              "      <td>16.69</td>\n",
              "      <td>16.45</td>\n",
              "      <td>440.70K</td>\n",
              "      <td>-0.84%</td>\n",
              "    </tr>\n",
              "    <tr>\n",
              "      <th>...</th>\n",
              "      <td>...</td>\n",
              "      <td>...</td>\n",
              "      <td>...</td>\n",
              "      <td>...</td>\n",
              "      <td>...</td>\n",
              "      <td>...</td>\n",
              "      <td>...</td>\n",
              "    </tr>\n",
              "    <tr>\n",
              "      <th>4</th>\n",
              "      <td>06/12/2023</td>\n",
              "      <td>11.09</td>\n",
              "      <td>10.83</td>\n",
              "      <td>11.11</td>\n",
              "      <td>10.83</td>\n",
              "      <td>754.88K</td>\n",
              "      <td>2.21%</td>\n",
              "    </tr>\n",
              "    <tr>\n",
              "      <th>3</th>\n",
              "      <td>06/13/2023</td>\n",
              "      <td>11.22</td>\n",
              "      <td>11.12</td>\n",
              "      <td>11.25</td>\n",
              "      <td>11.08</td>\n",
              "      <td>799.04K</td>\n",
              "      <td>1.17%</td>\n",
              "    </tr>\n",
              "    <tr>\n",
              "      <th>2</th>\n",
              "      <td>06/14/2023</td>\n",
              "      <td>11.19</td>\n",
              "      <td>11.27</td>\n",
              "      <td>11.38</td>\n",
              "      <td>11.09</td>\n",
              "      <td>876.19K</td>\n",
              "      <td>-0.27%</td>\n",
              "    </tr>\n",
              "    <tr>\n",
              "      <th>1</th>\n",
              "      <td>06/15/2023</td>\n",
              "      <td>11.42</td>\n",
              "      <td>11.15</td>\n",
              "      <td>11.44</td>\n",
              "      <td>11.14</td>\n",
              "      <td>1.07M</td>\n",
              "      <td>2.06%</td>\n",
              "    </tr>\n",
              "    <tr>\n",
              "      <th>0</th>\n",
              "      <td>06/16/2023</td>\n",
              "      <td>11.31</td>\n",
              "      <td>11.45</td>\n",
              "      <td>11.45</td>\n",
              "      <td>11.19</td>\n",
              "      <td>2.29M</td>\n",
              "      <td>-0.96%</td>\n",
              "    </tr>\n",
              "  </tbody>\n",
              "</table>\n",
              "<p>2129 rows × 7 columns</p>\n",
              "</div>\n",
              "      <button class=\"colab-df-convert\" onclick=\"convertToInteractive('df-596b74b0-726f-40b9-9303-4c2c0d22d08d')\"\n",
              "              title=\"Convert this dataframe to an interactive table.\"\n",
              "              style=\"display:none;\">\n",
              "        \n",
              "  <svg xmlns=\"http://www.w3.org/2000/svg\" height=\"24px\"viewBox=\"0 0 24 24\"\n",
              "       width=\"24px\">\n",
              "    <path d=\"M0 0h24v24H0V0z\" fill=\"none\"/>\n",
              "    <path d=\"M18.56 5.44l.94 2.06.94-2.06 2.06-.94-2.06-.94-.94-2.06-.94 2.06-2.06.94zm-11 1L8.5 8.5l.94-2.06 2.06-.94-2.06-.94L8.5 2.5l-.94 2.06-2.06.94zm10 10l.94 2.06.94-2.06 2.06-.94-2.06-.94-.94-2.06-.94 2.06-2.06.94z\"/><path d=\"M17.41 7.96l-1.37-1.37c-.4-.4-.92-.59-1.43-.59-.52 0-1.04.2-1.43.59L10.3 9.45l-7.72 7.72c-.78.78-.78 2.05 0 2.83L4 21.41c.39.39.9.59 1.41.59.51 0 1.02-.2 1.41-.59l7.78-7.78 2.81-2.81c.8-.78.8-2.07 0-2.86zM5.41 20L4 18.59l7.72-7.72 1.47 1.35L5.41 20z\"/>\n",
              "  </svg>\n",
              "      </button>\n",
              "      \n",
              "  <style>\n",
              "    .colab-df-container {\n",
              "      display:flex;\n",
              "      flex-wrap:wrap;\n",
              "      gap: 12px;\n",
              "    }\n",
              "\n",
              "    .colab-df-convert {\n",
              "      background-color: #E8F0FE;\n",
              "      border: none;\n",
              "      border-radius: 50%;\n",
              "      cursor: pointer;\n",
              "      display: none;\n",
              "      fill: #1967D2;\n",
              "      height: 32px;\n",
              "      padding: 0 0 0 0;\n",
              "      width: 32px;\n",
              "    }\n",
              "\n",
              "    .colab-df-convert:hover {\n",
              "      background-color: #E2EBFA;\n",
              "      box-shadow: 0px 1px 2px rgba(60, 64, 67, 0.3), 0px 1px 3px 1px rgba(60, 64, 67, 0.15);\n",
              "      fill: #174EA6;\n",
              "    }\n",
              "\n",
              "    [theme=dark] .colab-df-convert {\n",
              "      background-color: #3B4455;\n",
              "      fill: #D2E3FC;\n",
              "    }\n",
              "\n",
              "    [theme=dark] .colab-df-convert:hover {\n",
              "      background-color: #434B5C;\n",
              "      box-shadow: 0px 1px 3px 1px rgba(0, 0, 0, 0.15);\n",
              "      filter: drop-shadow(0px 1px 2px rgba(0, 0, 0, 0.3));\n",
              "      fill: #FFFFFF;\n",
              "    }\n",
              "  </style>\n",
              "\n",
              "      <script>\n",
              "        const buttonEl =\n",
              "          document.querySelector('#df-596b74b0-726f-40b9-9303-4c2c0d22d08d button.colab-df-convert');\n",
              "        buttonEl.style.display =\n",
              "          google.colab.kernel.accessAllowed ? 'block' : 'none';\n",
              "\n",
              "        async function convertToInteractive(key) {\n",
              "          const element = document.querySelector('#df-596b74b0-726f-40b9-9303-4c2c0d22d08d');\n",
              "          const dataTable =\n",
              "            await google.colab.kernel.invokeFunction('convertToInteractive',\n",
              "                                                     [key], {});\n",
              "          if (!dataTable) return;\n",
              "\n",
              "          const docLinkHtml = 'Like what you see? Visit the ' +\n",
              "            '<a target=\"_blank\" href=https://colab.research.google.com/notebooks/data_table.ipynb>data table notebook</a>'\n",
              "            + ' to learn more about interactive tables.';\n",
              "          element.innerHTML = '';\n",
              "          dataTable['output_type'] = 'display_data';\n",
              "          await google.colab.output.renderOutput(dataTable, element);\n",
              "          const docLink = document.createElement('div');\n",
              "          docLink.innerHTML = docLinkHtml;\n",
              "          element.appendChild(docLink);\n",
              "        }\n",
              "      </script>\n",
              "    </div>\n",
              "  </div>\n",
              "  "
            ]
          },
          "metadata": {},
          "execution_count": 127
        }
      ]
    },
    {
      "cell_type": "code",
      "source": [
        "# 3. Scaler data\n",
        "scaler=MinMaxScaler(feature_range=(0,1))\n",
        "df1=scaler.fit_transform(np.array(df1).reshape(-1,1))"
      ],
      "metadata": {
        "id": "JNJtgiPMQqnP"
      },
      "execution_count": null,
      "outputs": []
    },
    {
      "cell_type": "code",
      "source": [
        "# 4. Chia train test\n",
        "train_size = int(0.7 * len(df1))\n",
        "test_size = int(0.2 * len(df1))\n",
        "val_size = len(df1) - train_size - test_size\n",
        "\n",
        "train_data = df1[:train_size]\n",
        "test_data = df1[train_size:train_size+test_size]\n",
        "val_data = df1[train_size+test_size:]"
      ],
      "metadata": {
        "id": "bt8DbwB_QqnP"
      },
      "execution_count": null,
      "outputs": []
    },
    {
      "cell_type": "code",
      "source": [
        "# 5. Hàm Create Dataset\n",
        "import numpy\n",
        "# convert an array of values into a dataset matrix\n",
        "def create_dataset(dataset, time_step=1):\n",
        "\tdataX, dataY = [], []\n",
        "\tfor i in range(len(dataset)-time_step-1):\n",
        "\t\ta = dataset[i:(i+time_step), 0]   ###i=0, X=0,1,2,3-----99   Y=100\n",
        "\t\tdataX.append(a)\n",
        "\t\tdataY.append(dataset[i + time_step, 0])\n",
        "\treturn numpy.array(dataX), numpy.array(dataY)"
      ],
      "metadata": {
        "id": "dReJn28OQqnP"
      },
      "execution_count": null,
      "outputs": []
    },
    {
      "cell_type": "code",
      "source": [
        "#6. Reshape into X=t,t+1,t+2..t+99 and Y=t+100\n",
        "\n",
        "time_step = 1\n",
        "X_train, y_train = create_dataset(train_data, time_step)\n",
        "X_val, yval = create_dataset(val_data, time_step)\n",
        "X_test, ytest = create_dataset(test_data, time_step)"
      ],
      "metadata": {
        "id": "MGSeWz1tQqnQ"
      },
      "execution_count": null,
      "outputs": []
    },
    {
      "cell_type": "code",
      "source": [
        "# 7. Reshape input to be [samples, time steps, features] which is required for LSTM\n",
        "X_train =X_train.reshape(X_train.shape[0],X_train.shape[1] , 1)\n",
        "X_test = X_test.reshape(X_test.shape[0],X_test.shape[1] , 1)\n",
        "X_val = X_val.reshape(X_val.shape[0],X_val.shape[1] , 1)"
      ],
      "metadata": {
        "id": "Al_W2Uz5QqnQ"
      },
      "execution_count": null,
      "outputs": []
    },
    {
      "cell_type": "code",
      "source": [
        "# 8. Define RNN Model\n",
        "\n",
        "model = Sequential()\n",
        "model.add(SimpleRNN(50, input_shape=(time_step, 1)))\n",
        "model.add(Dense(1))\n",
        "model.compile(loss='mean_squared_error',optimizer='adam')"
      ],
      "metadata": {
        "id": "PCo7j77WQqnQ"
      },
      "execution_count": null,
      "outputs": []
    },
    {
      "cell_type": "code",
      "source": [
        "# 9. Fit mô hình với dữ liệu train\n",
        "model.fit(X_train,y_train,validation_data=(X_test,ytest),epochs=100,batch_size=64,verbose=1)"
      ],
      "metadata": {
        "colab": {
          "base_uri": "https://localhost:8080/"
        },
        "outputId": "efeac29e-bace-499b-d437-a79605f0b705",
        "id": "gCxp_VqvQqnQ"
      },
      "execution_count": null,
      "outputs": [
        {
          "output_type": "stream",
          "name": "stdout",
          "text": [
            "Epoch 1/100\n",
            "24/24 [==============================] - 2s 14ms/step - loss: 0.7822 - val_loss: 0.1570\n",
            "Epoch 2/100\n",
            "24/24 [==============================] - 0s 5ms/step - loss: 0.1824 - val_loss: 0.0073\n",
            "Epoch 3/100\n",
            "24/24 [==============================] - 0s 7ms/step - loss: 0.0250 - val_loss: 0.0178\n",
            "Epoch 4/100\n",
            "24/24 [==============================] - 0s 16ms/step - loss: 0.0133 - val_loss: 0.0225\n",
            "Epoch 5/100\n",
            "24/24 [==============================] - 0s 15ms/step - loss: 0.0127 - val_loss: 0.0186\n",
            "Epoch 6/100\n",
            "24/24 [==============================] - 0s 13ms/step - loss: 0.0121 - val_loss: 0.0174\n",
            "Epoch 7/100\n",
            "24/24 [==============================] - 0s 12ms/step - loss: 0.0115 - val_loss: 0.0166\n",
            "Epoch 8/100\n",
            "24/24 [==============================] - 0s 10ms/step - loss: 0.0109 - val_loss: 0.0156\n",
            "Epoch 9/100\n",
            "24/24 [==============================] - 0s 11ms/step - loss: 0.0103 - val_loss: 0.0147\n",
            "Epoch 10/100\n",
            "24/24 [==============================] - 0s 11ms/step - loss: 0.0097 - val_loss: 0.0139\n",
            "Epoch 11/100\n",
            "24/24 [==============================] - 0s 11ms/step - loss: 0.0091 - val_loss: 0.0132\n",
            "Epoch 12/100\n",
            "24/24 [==============================] - 0s 6ms/step - loss: 0.0085 - val_loss: 0.0121\n",
            "Epoch 13/100\n",
            "24/24 [==============================] - 0s 12ms/step - loss: 0.0079 - val_loss: 0.0113\n",
            "Epoch 14/100\n",
            "24/24 [==============================] - 0s 7ms/step - loss: 0.0073 - val_loss: 0.0106\n",
            "Epoch 15/100\n",
            "24/24 [==============================] - 0s 11ms/step - loss: 0.0068 - val_loss: 0.0095\n",
            "Epoch 16/100\n",
            "24/24 [==============================] - 0s 7ms/step - loss: 0.0063 - val_loss: 0.0089\n",
            "Epoch 17/100\n",
            "24/24 [==============================] - 0s 14ms/step - loss: 0.0057 - val_loss: 0.0081\n",
            "Epoch 18/100\n",
            "24/24 [==============================] - 0s 6ms/step - loss: 0.0052 - val_loss: 0.0074\n",
            "Epoch 19/100\n",
            "24/24 [==============================] - 0s 13ms/step - loss: 0.0047 - val_loss: 0.0069\n",
            "Epoch 20/100\n",
            "24/24 [==============================] - 0s 10ms/step - loss: 0.0043 - val_loss: 0.0061\n",
            "Epoch 21/100\n",
            "24/24 [==============================] - 0s 8ms/step - loss: 0.0039 - val_loss: 0.0055\n",
            "Epoch 22/100\n",
            "24/24 [==============================] - 0s 6ms/step - loss: 0.0035 - val_loss: 0.0049\n",
            "Epoch 23/100\n",
            "24/24 [==============================] - 0s 5ms/step - loss: 0.0031 - val_loss: 0.0044\n",
            "Epoch 24/100\n",
            "24/24 [==============================] - 0s 5ms/step - loss: 0.0028 - val_loss: 0.0039\n",
            "Epoch 25/100\n",
            "24/24 [==============================] - 0s 8ms/step - loss: 0.0025 - val_loss: 0.0034\n",
            "Epoch 26/100\n",
            "24/24 [==============================] - 0s 5ms/step - loss: 0.0022 - val_loss: 0.0030\n",
            "Epoch 27/100\n",
            "24/24 [==============================] - 0s 6ms/step - loss: 0.0019 - val_loss: 0.0027\n",
            "Epoch 28/100\n",
            "24/24 [==============================] - 0s 8ms/step - loss: 0.0017 - val_loss: 0.0023\n",
            "Epoch 29/100\n",
            "24/24 [==============================] - 0s 4ms/step - loss: 0.0015 - val_loss: 0.0020\n",
            "Epoch 30/100\n",
            "24/24 [==============================] - 0s 5ms/step - loss: 0.0013 - val_loss: 0.0018\n",
            "Epoch 31/100\n",
            "24/24 [==============================] - 0s 8ms/step - loss: 0.0012 - val_loss: 0.0016\n",
            "Epoch 32/100\n",
            "24/24 [==============================] - 0s 5ms/step - loss: 0.0010 - val_loss: 0.0014\n",
            "Epoch 33/100\n",
            "24/24 [==============================] - 0s 5ms/step - loss: 9.0760e-04 - val_loss: 0.0012\n",
            "Epoch 34/100\n",
            "24/24 [==============================] - 0s 7ms/step - loss: 8.0272e-04 - val_loss: 0.0010\n",
            "Epoch 35/100\n",
            "24/24 [==============================] - 0s 5ms/step - loss: 7.1361e-04 - val_loss: 9.0344e-04\n",
            "Epoch 36/100\n",
            "24/24 [==============================] - 0s 5ms/step - loss: 6.4153e-04 - val_loss: 8.0144e-04\n",
            "Epoch 37/100\n",
            "24/24 [==============================] - 0s 6ms/step - loss: 5.8346e-04 - val_loss: 7.3894e-04\n",
            "Epoch 38/100\n",
            "24/24 [==============================] - 0s 7ms/step - loss: 5.3509e-04 - val_loss: 5.9759e-04\n",
            "Epoch 39/100\n",
            "24/24 [==============================] - 0s 17ms/step - loss: 4.9361e-04 - val_loss: 5.7261e-04\n",
            "Epoch 40/100\n",
            "24/24 [==============================] - 0s 12ms/step - loss: 4.5570e-04 - val_loss: 5.0776e-04\n",
            "Epoch 41/100\n",
            "24/24 [==============================] - 0s 13ms/step - loss: 4.2918e-04 - val_loss: 4.7407e-04\n",
            "Epoch 42/100\n",
            "24/24 [==============================] - 0s 4ms/step - loss: 4.0517e-04 - val_loss: 4.3303e-04\n",
            "Epoch 43/100\n",
            "24/24 [==============================] - 0s 5ms/step - loss: 3.8677e-04 - val_loss: 3.8986e-04\n",
            "Epoch 44/100\n",
            "24/24 [==============================] - 0s 11ms/step - loss: 3.7074e-04 - val_loss: 3.7882e-04\n",
            "Epoch 45/100\n",
            "24/24 [==============================] - 0s 9ms/step - loss: 3.5974e-04 - val_loss: 3.5453e-04\n",
            "Epoch 46/100\n",
            "24/24 [==============================] - 0s 12ms/step - loss: 3.5001e-04 - val_loss: 3.4712e-04\n",
            "Epoch 47/100\n",
            "24/24 [==============================] - 0s 10ms/step - loss: 3.4308e-04 - val_loss: 3.1381e-04\n",
            "Epoch 48/100\n",
            "24/24 [==============================] - 0s 10ms/step - loss: 3.3786e-04 - val_loss: 3.3240e-04\n",
            "Epoch 49/100\n",
            "24/24 [==============================] - 0s 10ms/step - loss: 3.3308e-04 - val_loss: 3.0427e-04\n",
            "Epoch 50/100\n",
            "24/24 [==============================] - 0s 7ms/step - loss: 3.3102e-04 - val_loss: 2.9809e-04\n",
            "Epoch 51/100\n",
            "24/24 [==============================] - 0s 7ms/step - loss: 3.2949e-04 - val_loss: 2.9382e-04\n",
            "Epoch 52/100\n",
            "24/24 [==============================] - 0s 7ms/step - loss: 3.2831e-04 - val_loss: 3.0219e-04\n",
            "Epoch 53/100\n",
            "24/24 [==============================] - 0s 5ms/step - loss: 3.2670e-04 - val_loss: 2.8908e-04\n",
            "Epoch 54/100\n",
            "24/24 [==============================] - 0s 5ms/step - loss: 3.2566e-04 - val_loss: 2.9797e-04\n",
            "Epoch 55/100\n",
            "24/24 [==============================] - 0s 8ms/step - loss: 3.2498e-04 - val_loss: 2.8583e-04\n",
            "Epoch 56/100\n",
            "24/24 [==============================] - 0s 11ms/step - loss: 3.2404e-04 - val_loss: 2.9471e-04\n",
            "Epoch 57/100\n",
            "24/24 [==============================] - 0s 11ms/step - loss: 3.2352e-04 - val_loss: 2.7540e-04\n",
            "Epoch 58/100\n",
            "24/24 [==============================] - 0s 7ms/step - loss: 3.2514e-04 - val_loss: 2.7995e-04\n",
            "Epoch 59/100\n",
            "24/24 [==============================] - 0s 7ms/step - loss: 3.2488e-04 - val_loss: 2.9160e-04\n",
            "Epoch 60/100\n",
            "24/24 [==============================] - 0s 7ms/step - loss: 3.2336e-04 - val_loss: 2.7383e-04\n",
            "Epoch 61/100\n",
            "24/24 [==============================] - 0s 6ms/step - loss: 3.2302e-04 - val_loss: 2.8602e-04\n",
            "Epoch 62/100\n",
            "24/24 [==============================] - 0s 6ms/step - loss: 3.2343e-04 - val_loss: 2.8369e-04\n",
            "Epoch 63/100\n",
            "24/24 [==============================] - 0s 7ms/step - loss: 3.2310e-04 - val_loss: 2.8126e-04\n",
            "Epoch 64/100\n",
            "24/24 [==============================] - 0s 10ms/step - loss: 3.2320e-04 - val_loss: 2.9606e-04\n",
            "Epoch 65/100\n",
            "24/24 [==============================] - 0s 7ms/step - loss: 3.2432e-04 - val_loss: 2.7584e-04\n",
            "Epoch 66/100\n",
            "24/24 [==============================] - 0s 7ms/step - loss: 3.2276e-04 - val_loss: 2.8476e-04\n",
            "Epoch 67/100\n",
            "24/24 [==============================] - 0s 8ms/step - loss: 3.2283e-04 - val_loss: 2.7934e-04\n",
            "Epoch 68/100\n",
            "24/24 [==============================] - 0s 7ms/step - loss: 3.2308e-04 - val_loss: 2.8856e-04\n",
            "Epoch 69/100\n",
            "24/24 [==============================] - 0s 4ms/step - loss: 3.2441e-04 - val_loss: 2.8774e-04\n",
            "Epoch 70/100\n",
            "24/24 [==============================] - 0s 4ms/step - loss: 3.2657e-04 - val_loss: 2.8128e-04\n",
            "Epoch 71/100\n",
            "24/24 [==============================] - 0s 6ms/step - loss: 3.2343e-04 - val_loss: 2.7455e-04\n",
            "Epoch 72/100\n",
            "24/24 [==============================] - 0s 7ms/step - loss: 3.2341e-04 - val_loss: 2.8099e-04\n",
            "Epoch 73/100\n",
            "24/24 [==============================] - 0s 10ms/step - loss: 3.2313e-04 - val_loss: 2.7659e-04\n",
            "Epoch 74/100\n",
            "24/24 [==============================] - 0s 8ms/step - loss: 3.2271e-04 - val_loss: 2.7218e-04\n",
            "Epoch 75/100\n",
            "24/24 [==============================] - 0s 7ms/step - loss: 3.2427e-04 - val_loss: 2.8089e-04\n",
            "Epoch 76/100\n",
            "24/24 [==============================] - 0s 13ms/step - loss: 3.2293e-04 - val_loss: 2.7614e-04\n",
            "Epoch 77/100\n",
            "24/24 [==============================] - 0s 10ms/step - loss: 3.2448e-04 - val_loss: 2.6995e-04\n",
            "Epoch 78/100\n",
            "24/24 [==============================] - 0s 13ms/step - loss: 3.2356e-04 - val_loss: 2.7535e-04\n",
            "Epoch 79/100\n",
            "24/24 [==============================] - 0s 13ms/step - loss: 3.2437e-04 - val_loss: 2.6743e-04\n",
            "Epoch 80/100\n",
            "24/24 [==============================] - 0s 14ms/step - loss: 3.2724e-04 - val_loss: 2.7413e-04\n",
            "Epoch 81/100\n",
            "24/24 [==============================] - 0s 6ms/step - loss: 3.2298e-04 - val_loss: 2.7613e-04\n",
            "Epoch 82/100\n",
            "24/24 [==============================] - 0s 14ms/step - loss: 3.2321e-04 - val_loss: 2.8236e-04\n",
            "Epoch 83/100\n",
            "24/24 [==============================] - 0s 9ms/step - loss: 3.2402e-04 - val_loss: 2.8383e-04\n",
            "Epoch 84/100\n",
            "24/24 [==============================] - 0s 11ms/step - loss: 3.2290e-04 - val_loss: 2.7973e-04\n",
            "Epoch 85/100\n",
            "24/24 [==============================] - 0s 7ms/step - loss: 3.2322e-04 - val_loss: 2.8675e-04\n",
            "Epoch 86/100\n",
            "24/24 [==============================] - 0s 12ms/step - loss: 3.2298e-04 - val_loss: 2.8650e-04\n",
            "Epoch 87/100\n",
            "24/24 [==============================] - 0s 9ms/step - loss: 3.2343e-04 - val_loss: 2.8246e-04\n",
            "Epoch 88/100\n",
            "24/24 [==============================] - 0s 7ms/step - loss: 3.2430e-04 - val_loss: 2.8292e-04\n",
            "Epoch 89/100\n",
            "24/24 [==============================] - 0s 9ms/step - loss: 3.2432e-04 - val_loss: 2.8648e-04\n",
            "Epoch 90/100\n",
            "24/24 [==============================] - 0s 10ms/step - loss: 3.2667e-04 - val_loss: 2.8347e-04\n",
            "Epoch 91/100\n",
            "24/24 [==============================] - 0s 8ms/step - loss: 3.2319e-04 - val_loss: 2.7842e-04\n",
            "Epoch 92/100\n",
            "24/24 [==============================] - 0s 18ms/step - loss: 3.2283e-04 - val_loss: 2.8566e-04\n",
            "Epoch 93/100\n",
            "24/24 [==============================] - 0s 11ms/step - loss: 3.2297e-04 - val_loss: 2.7551e-04\n",
            "Epoch 94/100\n",
            "24/24 [==============================] - 0s 7ms/step - loss: 3.2318e-04 - val_loss: 2.7590e-04\n",
            "Epoch 95/100\n",
            "24/24 [==============================] - 0s 11ms/step - loss: 3.2357e-04 - val_loss: 2.8582e-04\n",
            "Epoch 96/100\n",
            "24/24 [==============================] - 0s 10ms/step - loss: 3.2455e-04 - val_loss: 2.8113e-04\n",
            "Epoch 97/100\n",
            "24/24 [==============================] - 0s 6ms/step - loss: 3.2305e-04 - val_loss: 2.7885e-04\n",
            "Epoch 98/100\n",
            "24/24 [==============================] - 0s 7ms/step - loss: 3.2285e-04 - val_loss: 2.8104e-04\n",
            "Epoch 99/100\n",
            "24/24 [==============================] - 0s 9ms/step - loss: 3.2340e-04 - val_loss: 2.7824e-04\n",
            "Epoch 100/100\n",
            "24/24 [==============================] - 0s 7ms/step - loss: 3.2280e-04 - val_loss: 2.7498e-04\n"
          ]
        },
        {
          "output_type": "execute_result",
          "data": {
            "text/plain": [
              "<keras.callbacks.History at 0x7f6fe4f42e90>"
            ]
          },
          "metadata": {},
          "execution_count": 134
        }
      ]
    },
    {
      "cell_type": "code",
      "source": [
        "# 10. Dự báo dữ liệu test, val\n",
        "train_predict=model.predict(X_train)\n",
        "y_pred=model.predict(X_test)\n",
        "y_pred_val=model.predict(X_val)"
      ],
      "metadata": {
        "colab": {
          "base_uri": "https://localhost:8080/"
        },
        "id": "sXbHCv5zQqnQ",
        "outputId": "2bcb8273-c455-40c2-9a7b-4fc79fb8406f"
      },
      "execution_count": null,
      "outputs": [
        {
          "output_type": "stream",
          "name": "stdout",
          "text": [
            "47/47 [==============================] - 0s 2ms/step\n",
            "14/14 [==============================] - 0s 2ms/step\n",
            "7/7 [==============================] - 0s 2ms/step\n"
          ]
        }
      ]
    },
    {
      "cell_type": "code",
      "source": [
        "# 11. Chuẩn hóa dữ liệu y_pred, y_pred_val\n",
        "train_predict=scaler.inverse_transform(train_predict)\n",
        "y_pred=scaler.inverse_transform(y_pred)\n",
        "y_pred_val=scaler.inverse_transform(y_pred_val)\n",
        "\n",
        "ytest = scaler.inverse_transform(ytest.reshape(-1,1))\n",
        "yval = scaler.inverse_transform(yval.reshape(-1,1))"
      ],
      "metadata": {
        "id": "Di3RmftCQqnQ"
      },
      "execution_count": null,
      "outputs": []
    },
    {
      "cell_type": "markdown",
      "source": [
        "## **Đánh giá**"
      ],
      "metadata": {
        "id": "PMXlXnTTv2W7"
      }
    },
    {
      "cell_type": "code",
      "source": [
        "# 12. Đánh giá độ chính xác thuật toán bằng RMSE\n",
        "valid_rmse = np.sqrt(np.mean((y_pred_val - yval)**2))\n",
        "test_rmse = np.sqrt(np.mean((y_pred - ytest)**2))\n",
        "test_mae = np.mean(np.abs(y_pred - ytest))\n",
        "valid_mae = np.mean(np.abs(y_pred_val - yval))\n",
        "test_mape = np.mean(np.abs((ytest - y_pred) / ytest)) * 100\n",
        "valid_mape = np.mean(np.abs((yval - y_pred_val) / np.where(yval != 0, yval, 1))) * 100\n",
        "\n",
        "print('Validation RMSE:', valid_rmse)\n",
        "print('Testing RMSE:', test_rmse)\n",
        "print('Testing MAE:', test_mae)\n",
        "print('Validation MAE:', valid_mae)\n",
        "print('Testing MAPE:', test_mape)\n",
        "print('Validation MAPE:', valid_mape)"
      ],
      "metadata": {
        "colab": {
          "base_uri": "https://localhost:8080/"
        },
        "id": "9Pp0nqwFQqnQ",
        "outputId": "559c6a5a-8f11-4e6e-bf1b-9bab4a1db9ba"
      },
      "execution_count": null,
      "outputs": [
        {
          "output_type": "stream",
          "name": "stdout",
          "text": [
            "Validation RMSE: 0.2943310450780057\n",
            "Testing RMSE: 0.256032708946368\n",
            "Testing MAE: 0.19585533295399182\n",
            "Validation MAE: 0.21219153512198963\n",
            "Testing MAPE: 1.4688719378710398\n",
            "Validation MAPE: 2.0106969700144193\n"
          ]
        }
      ]
    },
    {
      "cell_type": "code",
      "source": [
        "# 13. Dự báo 30 ngày tiếp theo\n",
        "x_input=val_data[213:].reshape(1,-1)\n",
        "x_input.shape\n",
        "\n",
        "temp_input=list(x_input)\n",
        "temp_input=temp_input[0].tolist()\n",
        "\n",
        "from numpy import array\n",
        "\n",
        "lst_output=[]\n",
        "n_steps=1\n",
        "i=0\n",
        "while(i<30):\n",
        "\n",
        "    if(len(temp_input)>1):\n",
        "        #print(temp_input)\n",
        "        x_input=np.array(temp_input[1:])\n",
        "        # print(\"{} day input {}\".format(i,x_input))\n",
        "        x_input=x_input.reshape(1,-1)\n",
        "        x_input = x_input.reshape((1, n_steps, 1))\n",
        "        #print(x_input)\n",
        "        yhat = model.predict(x_input, verbose=0)\n",
        "        # print(\"{} day output {}\".format(i,yhat))\n",
        "        temp_input.extend(yhat[0].tolist())\n",
        "        temp_input=temp_input[1:]\n",
        "        #print(temp_input)\n",
        "        lst_output.extend(yhat.tolist())\n",
        "        i=i+1\n",
        "    else:\n",
        "        x_input = x_input.reshape((1, n_steps,1))\n",
        "        yhat = model.predict(x_input, verbose=0)\n",
        "        print(yhat[0])\n",
        "        temp_input.extend(yhat[0].tolist())\n",
        "        print(len(temp_input))\n",
        "        lst_output.extend(yhat.tolist())\n",
        "        i=i+1\n"
      ],
      "metadata": {
        "colab": {
          "base_uri": "https://localhost:8080/"
        },
        "id": "JmXF6QGdQqnQ",
        "outputId": "c300a4f9-85c8-4f84-da27-987a1d912146"
      },
      "execution_count": null,
      "outputs": [
        {
          "output_type": "stream",
          "name": "stdout",
          "text": [
            "[0.46046948]\n",
            "2\n"
          ]
        }
      ]
    },
    {
      "cell_type": "markdown",
      "source": [
        "## **Kết quả**"
      ],
      "metadata": {
        "id": "ZSGh9fbpv6sr"
      }
    },
    {
      "cell_type": "code",
      "source": [
        "# 14.Vẽ hình\n",
        "\n",
        "train_data_index = pd.RangeIndex(start=0, stop=train_size, step=1)\n",
        "plt.plot(scaler.inverse_transform(train_data))\n",
        "test_data_index = pd.RangeIndex(start=train_size, stop=train_size+test_size, step=1)\n",
        "plt.plot(test_data_index,scaler.inverse_transform(test_data))\n",
        "test_data_index = pd.RangeIndex(start=train_size+2, stop=train_size+test_size, step=1)\n",
        "plt.plot(test_data_index,(y_pred))\n",
        "val_data_index = pd.RangeIndex(start=train_size+test_size, stop=train_size+test_size+val_size, step=1)\n",
        "plt.plot(val_data_index,scaler.inverse_transform(val_data))\n",
        "val_data_index = pd.RangeIndex(start=train_size+test_size+2, stop=train_size+test_size+val_size, step=1)\n",
        "plt.plot(val_data_index,y_pred_val)\n",
        "prediect_data_index = pd.RangeIndex(start=len(df1)-1, stop=len(df1)+29, step=1)\n",
        "plt.plot(prediect_data_index,scaler.inverse_transform(lst_output))\n",
        "plt.legend(['Train','Test','Predict','Validate','ValidatePred','Predict30days'])\n",
        "plt.show()"
      ],
      "metadata": {
        "colab": {
          "base_uri": "https://localhost:8080/",
          "height": 430
        },
        "id": "TJdEdr76QqnR",
        "outputId": "1bbf7893-cb1e-4bb3-ff08-42caa4fef38a"
      },
      "execution_count": null,
      "outputs": [
        {
          "output_type": "display_data",
          "data": {
            "text/plain": [
              "<Figure size 640x480 with 1 Axes>"
            ],
            "image/png": "[encoded data removed]"
          },
          "metadata": {}
        }
      ]
    }
  ],
  "metadata": {
    "colab": {
      "provenance": [],
      "toc_visible": true
    },
    "kernelspec": {
      "display_name": "Python 3",
      "name": "python3"
    },
    "language_info": {
      "name": "python"
    }
  },
  "nbformat": 4,
  "nbformat_minor": 0
}