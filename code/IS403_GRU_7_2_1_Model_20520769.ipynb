{
  "cells": [
    {
      "cell_type": "markdown",
      "source": [
        "# Dataset ARE"
      ],
      "metadata": {
        "id": "pT8xHUZAVwlw"
      }
    },
    {
      "cell_type": "code",
      "execution_count": null,
      "metadata": {
        "id": "FMDKda-XIUAK"
      },
      "outputs": [],
      "source": [
        "# 1. Import thư viện cần thiết\n",
        "import numpy as np\n",
        "import pandas as pd\n",
        "import matplotlib.pyplot as plt\n",
        "from sklearn.preprocessing import MinMaxScaler\n",
        "from keras.models import Sequential\n",
        "from keras.layers import Dense, GRU"
      ]
    },
    {
      "cell_type": "code",
      "execution_count": null,
      "metadata": {
        "id": "aRm9GQ8KJJ5N"
      },
      "outputs": [],
      "source": [
        "# 2. Đọc file csv và gắng index với giá Price\n",
        "df = pd.read_csv('ARE-Historical-Data-final.csv')\n",
        "df1=df.reset_index()['Price']"
      ]
    },
    {
      "cell_type": "code",
      "execution_count": null,
      "metadata": {
        "id": "RdVpDho2JgL5"
      },
      "outputs": [],
      "source": [
        "# 3. Scaler data\n",
        "scaler=MinMaxScaler(feature_range=(0,1))\n",
        "df1=scaler.fit_transform(np.array(df1).reshape(-1,1))"
      ]
    },
    {
      "cell_type": "code",
      "execution_count": null,
      "metadata": {
        "id": "B5JXpenzJoR3"
      },
      "outputs": [],
      "source": [
        "# 4. Chia train test\n",
        "train_size = int(0.7 * len(df1))\n",
        "test_size = int(0.2 * len(df1))\n",
        "val_size = len(df1) - train_size - test_size\n",
        "\n",
        "train_data = df1[:train_size]\n",
        "test_data = df1[train_size:train_size+test_size]\n",
        "val_data = df1[train_size+test_size:]"
      ]
    },
    {
      "cell_type": "code",
      "execution_count": null,
      "metadata": {
        "id": "yJfmuBORLSfC"
      },
      "outputs": [],
      "source": [
        "# 5. Hàm Create Dataset\n",
        "import numpy\n",
        "# convert an array of values into a dataset matrix\n",
        "def create_dataset(dataset, time_step=1):\n",
        "\tdataX, dataY = [], []\n",
        "\tfor i in range(len(dataset)-time_step-1):\n",
        "\t\ta = dataset[i:(i+time_step), 0]   ###i=0, X=0,1,2,3-----99   Y=100\n",
        "\t\tdataX.append(a)\n",
        "\t\tdataY.append(dataset[i + time_step, 0])\n",
        "\treturn numpy.array(dataX), numpy.array(dataY)"
      ]
    },
    {
      "cell_type": "code",
      "execution_count": null,
      "metadata": {
        "id": "e81cKq03LXFB"
      },
      "outputs": [],
      "source": [
        "#6. Reshape into X=t,t+1,t+2..t+99 and Y=t+100\n",
        "\n",
        "time_step = 1\n",
        "X_train, y_train = create_dataset(train_data, time_step)\n",
        "X_val, yval = create_dataset(val_data, time_step)\n",
        "X_test, ytest = create_dataset(test_data, time_step)"
      ]
    },
    {
      "cell_type": "code",
      "execution_count": null,
      "metadata": {
        "id": "RdBVfku7O2qb"
      },
      "outputs": [],
      "source": [
        "# 7. Reshape input to be [samples, time steps, features] which is required for GRU\n",
        "X_train =X_train.reshape(X_train.shape[0],X_train.shape[1] , 1)\n",
        "X_test = X_test.reshape(X_test.shape[0],X_test.shape[1] , 1)\n",
        "X_val = X_val.reshape(X_val.shape[0],X_val.shape[1] , 1)"
      ]
    },
    {
      "cell_type": "code",
      "execution_count": null,
      "metadata": {
        "id": "sSfxrE7BO9vX"
      },
      "outputs": [],
      "source": [
        "# 8. Define GRU Model\n",
        "\n",
        "model = Sequential()\n",
        "model.add(GRU(64, input_shape=(time_step, 1)))\n",
        "model.add(Dense(1))\n",
        "model.compile(optimizer='adam', loss='mean_squared_error')"
      ]
    },
    {
      "cell_type": "code",
      "execution_count": null,
      "metadata": {
        "id": "zgfeujZSPEKr",
        "colab": {
          "base_uri": "https://localhost:8080/"
        },
        "outputId": "10872e23-d235-463a-b8e8-2e1bfc45bb1c"
      },
      "outputs": [
        {
          "output_type": "stream",
          "name": "stdout",
          "text": [
            "Epoch 1/100\n",
            "24/24 [==============================] - 3s 25ms/step - loss: 0.0882 - val_loss: 0.2334\n",
            "Epoch 2/100\n",
            "24/24 [==============================] - 0s 7ms/step - loss: 0.0212 - val_loss: 0.0865\n",
            "Epoch 3/100\n",
            "24/24 [==============================] - 0s 7ms/step - loss: 0.0157 - val_loss: 0.0821\n",
            "Epoch 4/100\n",
            "24/24 [==============================] - 0s 7ms/step - loss: 0.0131 - val_loss: 0.0738\n",
            "Epoch 5/100\n",
            "24/24 [==============================] - 0s 6ms/step - loss: 0.0110 - val_loss: 0.0579\n",
            "Epoch 6/100\n",
            "24/24 [==============================] - 0s 6ms/step - loss: 0.0088 - val_loss: 0.0459\n",
            "Epoch 7/100\n",
            "24/24 [==============================] - 0s 5ms/step - loss: 0.0068 - val_loss: 0.0324\n",
            "Epoch 8/100\n",
            "24/24 [==============================] - 0s 5ms/step - loss: 0.0048 - val_loss: 0.0218\n",
            "Epoch 9/100\n",
            "24/24 [==============================] - 0s 5ms/step - loss: 0.0032 - val_loss: 0.0127\n",
            "Epoch 10/100\n",
            "24/24 [==============================] - 0s 5ms/step - loss: 0.0019 - val_loss: 0.0067\n",
            "Epoch 11/100\n",
            "24/24 [==============================] - 0s 5ms/step - loss: 0.0010 - val_loss: 0.0030\n",
            "Epoch 12/100\n",
            "24/24 [==============================] - 0s 5ms/step - loss: 5.2791e-04 - val_loss: 9.9843e-04\n",
            "Epoch 13/100\n",
            "24/24 [==============================] - 0s 5ms/step - loss: 2.9603e-04 - val_loss: 4.2324e-04\n",
            "Epoch 14/100\n",
            "24/24 [==============================] - 0s 7ms/step - loss: 2.1051e-04 - val_loss: 3.1847e-04\n",
            "Epoch 15/100\n",
            "24/24 [==============================] - 0s 6ms/step - loss: 1.8276e-04 - val_loss: 3.3612e-04\n",
            "Epoch 16/100\n",
            "24/24 [==============================] - 0s 6ms/step - loss: 1.7726e-04 - val_loss: 3.6173e-04\n",
            "Epoch 17/100\n",
            "24/24 [==============================] - 0s 8ms/step - loss: 1.7609e-04 - val_loss: 3.7437e-04\n",
            "Epoch 18/100\n",
            "24/24 [==============================] - 0s 10ms/step - loss: 1.7609e-04 - val_loss: 4.1570e-04\n",
            "Epoch 19/100\n",
            "24/24 [==============================] - 0s 9ms/step - loss: 1.7756e-04 - val_loss: 3.9506e-04\n",
            "Epoch 20/100\n",
            "24/24 [==============================] - 0s 9ms/step - loss: 1.7647e-04 - val_loss: 4.0677e-04\n",
            "Epoch 21/100\n",
            "24/24 [==============================] - 0s 9ms/step - loss: 1.7616e-04 - val_loss: 4.0708e-04\n",
            "Epoch 22/100\n",
            "24/24 [==============================] - 0s 9ms/step - loss: 1.7568e-04 - val_loss: 3.7296e-04\n",
            "Epoch 23/100\n",
            "24/24 [==============================] - 0s 10ms/step - loss: 1.7613e-04 - val_loss: 3.8410e-04\n",
            "Epoch 24/100\n",
            "24/24 [==============================] - 0s 11ms/step - loss: 1.7652e-04 - val_loss: 3.9362e-04\n",
            "Epoch 25/100\n",
            "24/24 [==============================] - 0s 9ms/step - loss: 1.7682e-04 - val_loss: 3.7121e-04\n",
            "Epoch 26/100\n",
            "24/24 [==============================] - 0s 9ms/step - loss: 1.7619e-04 - val_loss: 3.7627e-04\n",
            "Epoch 27/100\n",
            "24/24 [==============================] - 0s 10ms/step - loss: 1.7600e-04 - val_loss: 3.7589e-04\n",
            "Epoch 28/100\n",
            "24/24 [==============================] - 0s 11ms/step - loss: 1.7617e-04 - val_loss: 3.9909e-04\n",
            "Epoch 29/100\n",
            "24/24 [==============================] - 0s 6ms/step - loss: 1.7532e-04 - val_loss: 4.1336e-04\n",
            "Epoch 30/100\n",
            "24/24 [==============================] - 0s 6ms/step - loss: 1.7623e-04 - val_loss: 4.3170e-04\n",
            "Epoch 31/100\n",
            "24/24 [==============================] - 0s 8ms/step - loss: 1.7597e-04 - val_loss: 4.1342e-04\n",
            "Epoch 32/100\n",
            "24/24 [==============================] - 0s 7ms/step - loss: 1.7606e-04 - val_loss: 3.8662e-04\n",
            "Epoch 33/100\n",
            "24/24 [==============================] - 0s 6ms/step - loss: 1.7576e-04 - val_loss: 3.7422e-04\n",
            "Epoch 34/100\n",
            "24/24 [==============================] - 0s 5ms/step - loss: 1.7555e-04 - val_loss: 3.6516e-04\n",
            "Epoch 35/100\n",
            "24/24 [==============================] - 0s 5ms/step - loss: 1.7687e-04 - val_loss: 3.8568e-04\n",
            "Epoch 36/100\n",
            "24/24 [==============================] - 0s 5ms/step - loss: 1.7571e-04 - val_loss: 3.6703e-04\n",
            "Epoch 37/100\n",
            "24/24 [==============================] - 0s 5ms/step - loss: 1.7693e-04 - val_loss: 3.9195e-04\n",
            "Epoch 38/100\n",
            "24/24 [==============================] - 0s 5ms/step - loss: 1.7736e-04 - val_loss: 3.9288e-04\n",
            "Epoch 39/100\n",
            "24/24 [==============================] - 0s 5ms/step - loss: 1.7561e-04 - val_loss: 3.7599e-04\n",
            "Epoch 40/100\n",
            "24/24 [==============================] - 0s 5ms/step - loss: 1.7554e-04 - val_loss: 3.8996e-04\n",
            "Epoch 41/100\n",
            "24/24 [==============================] - 0s 6ms/step - loss: 1.7582e-04 - val_loss: 3.6808e-04\n",
            "Epoch 42/100\n",
            "24/24 [==============================] - 0s 7ms/step - loss: 1.8023e-04 - val_loss: 3.4680e-04\n",
            "Epoch 43/100\n",
            "24/24 [==============================] - 0s 6ms/step - loss: 1.7584e-04 - val_loss: 3.7712e-04\n",
            "Epoch 44/100\n",
            "24/24 [==============================] - 0s 5ms/step - loss: 1.7773e-04 - val_loss: 3.9985e-04\n",
            "Epoch 45/100\n",
            "24/24 [==============================] - 0s 7ms/step - loss: 1.7976e-04 - val_loss: 3.4519e-04\n",
            "Epoch 46/100\n",
            "24/24 [==============================] - 0s 6ms/step - loss: 1.8021e-04 - val_loss: 3.5896e-04\n",
            "Epoch 47/100\n",
            "24/24 [==============================] - 0s 7ms/step - loss: 1.7546e-04 - val_loss: 3.6459e-04\n",
            "Epoch 48/100\n",
            "24/24 [==============================] - 0s 5ms/step - loss: 1.7492e-04 - val_loss: 3.5367e-04\n",
            "Epoch 49/100\n",
            "24/24 [==============================] - 0s 5ms/step - loss: 1.7630e-04 - val_loss: 3.4839e-04\n",
            "Epoch 50/100\n",
            "24/24 [==============================] - 0s 5ms/step - loss: 1.8129e-04 - val_loss: 4.0117e-04\n",
            "Epoch 51/100\n",
            "24/24 [==============================] - 0s 5ms/step - loss: 1.7591e-04 - val_loss: 3.4356e-04\n",
            "Epoch 52/100\n",
            "24/24 [==============================] - 0s 5ms/step - loss: 1.7557e-04 - val_loss: 3.7771e-04\n",
            "Epoch 53/100\n",
            "24/24 [==============================] - 0s 5ms/step - loss: 1.7476e-04 - val_loss: 3.3669e-04\n",
            "Epoch 54/100\n",
            "24/24 [==============================] - 0s 5ms/step - loss: 1.7828e-04 - val_loss: 3.7729e-04\n",
            "Epoch 55/100\n",
            "24/24 [==============================] - 0s 6ms/step - loss: 1.7468e-04 - val_loss: 3.5930e-04\n",
            "Epoch 56/100\n",
            "24/24 [==============================] - 0s 7ms/step - loss: 1.7519e-04 - val_loss: 3.3539e-04\n",
            "Epoch 57/100\n",
            "24/24 [==============================] - 0s 6ms/step - loss: 1.7965e-04 - val_loss: 3.6114e-04\n",
            "Epoch 58/100\n",
            "24/24 [==============================] - 0s 6ms/step - loss: 1.7492e-04 - val_loss: 3.4753e-04\n",
            "Epoch 59/100\n",
            "24/24 [==============================] - 0s 6ms/step - loss: 1.7524e-04 - val_loss: 3.5156e-04\n",
            "Epoch 60/100\n",
            "24/24 [==============================] - 0s 6ms/step - loss: 1.7625e-04 - val_loss: 3.9837e-04\n",
            "Epoch 61/100\n",
            "24/24 [==============================] - 0s 6ms/step - loss: 1.7683e-04 - val_loss: 3.7407e-04\n",
            "Epoch 62/100\n",
            "24/24 [==============================] - 0s 6ms/step - loss: 1.7381e-04 - val_loss: 3.7280e-04\n",
            "Epoch 63/100\n",
            "24/24 [==============================] - 0s 6ms/step - loss: 1.7380e-04 - val_loss: 3.8420e-04\n",
            "Epoch 64/100\n",
            "24/24 [==============================] - 0s 5ms/step - loss: 1.7568e-04 - val_loss: 3.3366e-04\n",
            "Epoch 65/100\n",
            "24/24 [==============================] - 0s 5ms/step - loss: 1.7563e-04 - val_loss: 3.9776e-04\n",
            "Epoch 66/100\n",
            "24/24 [==============================] - 0s 5ms/step - loss: 1.7944e-04 - val_loss: 3.2933e-04\n",
            "Epoch 67/100\n",
            "24/24 [==============================] - 0s 5ms/step - loss: 1.7593e-04 - val_loss: 3.3117e-04\n",
            "Epoch 68/100\n",
            "24/24 [==============================] - 0s 5ms/step - loss: 1.7683e-04 - val_loss: 3.8460e-04\n",
            "Epoch 69/100\n",
            "24/24 [==============================] - 0s 5ms/step - loss: 1.7671e-04 - val_loss: 3.3773e-04\n",
            "Epoch 70/100\n",
            "24/24 [==============================] - 0s 5ms/step - loss: 1.7448e-04 - val_loss: 3.5335e-04\n",
            "Epoch 71/100\n",
            "24/24 [==============================] - 0s 5ms/step - loss: 1.7645e-04 - val_loss: 3.4039e-04\n",
            "Epoch 72/100\n",
            "24/24 [==============================] - 0s 5ms/step - loss: 1.7510e-04 - val_loss: 3.8170e-04\n",
            "Epoch 73/100\n",
            "24/24 [==============================] - 0s 5ms/step - loss: 1.7720e-04 - val_loss: 3.2247e-04\n",
            "Epoch 74/100\n",
            "24/24 [==============================] - 0s 6ms/step - loss: 1.7658e-04 - val_loss: 3.8080e-04\n",
            "Epoch 75/100\n",
            "24/24 [==============================] - 0s 5ms/step - loss: 1.7596e-04 - val_loss: 3.3507e-04\n",
            "Epoch 76/100\n",
            "24/24 [==============================] - 0s 5ms/step - loss: 1.7520e-04 - val_loss: 3.5097e-04\n",
            "Epoch 77/100\n",
            "24/24 [==============================] - 0s 7ms/step - loss: 1.7395e-04 - val_loss: 3.3030e-04\n",
            "Epoch 78/100\n",
            "24/24 [==============================] - 0s 6ms/step - loss: 1.7440e-04 - val_loss: 3.6783e-04\n",
            "Epoch 79/100\n",
            "24/24 [==============================] - 0s 6ms/step - loss: 1.7592e-04 - val_loss: 3.3231e-04\n",
            "Epoch 80/100\n",
            "24/24 [==============================] - 0s 6ms/step - loss: 1.7756e-04 - val_loss: 3.2680e-04\n",
            "Epoch 81/100\n",
            "24/24 [==============================] - 0s 7ms/step - loss: 1.7560e-04 - val_loss: 3.3988e-04\n",
            "Epoch 82/100\n",
            "24/24 [==============================] - 0s 6ms/step - loss: 1.7924e-04 - val_loss: 3.1946e-04\n",
            "Epoch 83/100\n",
            "24/24 [==============================] - 0s 7ms/step - loss: 1.7479e-04 - val_loss: 3.6558e-04\n",
            "Epoch 84/100\n",
            "24/24 [==============================] - 0s 6ms/step - loss: 1.7667e-04 - val_loss: 3.4444e-04\n",
            "Epoch 85/100\n",
            "24/24 [==============================] - 0s 6ms/step - loss: 1.7438e-04 - val_loss: 3.6516e-04\n",
            "Epoch 86/100\n",
            "24/24 [==============================] - 0s 7ms/step - loss: 1.7986e-04 - val_loss: 3.1873e-04\n",
            "Epoch 87/100\n",
            "24/24 [==============================] - 0s 7ms/step - loss: 1.7592e-04 - val_loss: 3.8819e-04\n",
            "Epoch 88/100\n",
            "24/24 [==============================] - 0s 6ms/step - loss: 1.7496e-04 - val_loss: 3.3261e-04\n",
            "Epoch 89/100\n",
            "24/24 [==============================] - 0s 6ms/step - loss: 1.7336e-04 - val_loss: 3.1978e-04\n",
            "Epoch 90/100\n",
            "24/24 [==============================] - 0s 6ms/step - loss: 1.7804e-04 - val_loss: 3.3286e-04\n",
            "Epoch 91/100\n",
            "24/24 [==============================] - 0s 6ms/step - loss: 1.7415e-04 - val_loss: 3.2644e-04\n",
            "Epoch 92/100\n",
            "24/24 [==============================] - 0s 7ms/step - loss: 1.7316e-04 - val_loss: 3.6387e-04\n",
            "Epoch 93/100\n",
            "24/24 [==============================] - 0s 7ms/step - loss: 1.7638e-04 - val_loss: 3.3670e-04\n",
            "Epoch 94/100\n",
            "24/24 [==============================] - 0s 6ms/step - loss: 1.7297e-04 - val_loss: 3.1575e-04\n",
            "Epoch 95/100\n",
            "24/24 [==============================] - 0s 10ms/step - loss: 1.7491e-04 - val_loss: 3.3446e-04\n",
            "Epoch 96/100\n",
            "24/24 [==============================] - 0s 9ms/step - loss: 1.7438e-04 - val_loss: 3.3015e-04\n",
            "Epoch 97/100\n",
            "24/24 [==============================] - 0s 9ms/step - loss: 1.7441e-04 - val_loss: 3.3928e-04\n",
            "Epoch 98/100\n",
            "24/24 [==============================] - 0s 10ms/step - loss: 1.7290e-04 - val_loss: 3.2116e-04\n",
            "Epoch 99/100\n",
            "24/24 [==============================] - 0s 10ms/step - loss: 1.7432e-04 - val_loss: 3.1790e-04\n",
            "Epoch 100/100\n",
            "24/24 [==============================] - 0s 9ms/step - loss: 1.7379e-04 - val_loss: 3.2121e-04\n"
          ]
        },
        {
          "output_type": "execute_result",
          "data": {
            "text/plain": [
              "<keras.callbacks.History at 0x7f0799cb6bc0>"
            ]
          },
          "metadata": {},
          "execution_count": 72
        }
      ],
      "source": [
        "# 9. Fit mô hình với dữ liệu train\n",
        "model.fit(X_train,y_train,validation_data=(X_test,ytest),epochs=100,batch_size=64,verbose=1)"
      ]
    },
    {
      "cell_type": "code",
      "execution_count": null,
      "metadata": {
        "id": "Rxx_KQSkQpBG",
        "colab": {
          "base_uri": "https://localhost:8080/"
        },
        "outputId": "07e0e4de-b2c4-4da0-c92d-a219fccaa0ec"
      },
      "outputs": [
        {
          "output_type": "stream",
          "name": "stdout",
          "text": [
            "47/47 [==============================] - 1s 2ms/step\n",
            "14/14 [==============================] - 0s 3ms/step\n",
            "7/7 [==============================] - 0s 5ms/step\n"
          ]
        }
      ],
      "source": [
        "# 10. Dự báo dữ liệu test, val\n",
        "train_predict=model.predict(X_train)\n",
        "y_pred=model.predict(X_test)\n",
        "y_pred_val=model.predict(X_val)"
      ]
    },
    {
      "cell_type": "code",
      "execution_count": null,
      "metadata": {
        "id": "5rwTN10LQ7rj"
      },
      "outputs": [],
      "source": [
        "# 11. Chuẩn hóa dữ liệu y_pred, y_pred_val\n",
        "train_predict=scaler.inverse_transform(train_predict)\n",
        "y_pred=scaler.inverse_transform(y_pred)\n",
        "y_pred_val=scaler.inverse_transform(y_pred_val)"
      ]
    },
    {
      "cell_type": "code",
      "source": [
        "ytest = scaler.inverse_transform(ytest.reshape(-1,1))\n",
        "yval = scaler.inverse_transform(yval.reshape(-1,1))"
      ],
      "metadata": {
        "id": "s3EF7wQjItxu"
      },
      "execution_count": null,
      "outputs": []
    },
    {
      "cell_type": "code",
      "execution_count": null,
      "metadata": {
        "id": "wu_9j94kRonD",
        "colab": {
          "base_uri": "https://localhost:8080/"
        },
        "outputId": "53198161-7d3d-47a7-9ca5-876e1ec4c55b"
      },
      "outputs": [
        {
          "output_type": "stream",
          "name": "stdout",
          "text": [
            "Validation RMSE: 2.7264498342345753\n",
            "Testing RMSE: 2.722751919336784\n",
            "Testing MAE: 1.9699552351137712\n",
            "Validation MAE: 2.0827177803471404\n",
            "Testing MAPE: 1.094916076863737\n",
            "Validation MAPE: 1.4823991534007455\n"
          ]
        }
      ],
      "source": [
        "# 12. Đánh giá độ chính xác thuật toán bằng RMSE\n",
        "valid_rmse = np.sqrt(np.mean((y_pred_val - yval)**2))\n",
        "test_rmse = np.sqrt(np.mean((y_pred - ytest)**2))\n",
        "test_mae = np.mean(np.abs(y_pred - ytest))\n",
        "valid_mae = np.mean(np.abs(y_pred_val - yval))\n",
        "test_mape = np.mean(np.abs((y_pred - ytest) / ytest)) * 100\n",
        "valid_mape = np.mean(np.abs((y_pred_val - yval) / np.where(yval != 0, yval, 1))) * 100\n",
        "\n",
        "print('Validation RMSE:', valid_rmse)\n",
        "print('Testing RMSE:', test_rmse)\n",
        "print('Testing MAE:', test_mae)\n",
        "print('Validation MAE:', valid_mae)\n",
        "print('Testing MAPE:', test_mape)\n",
        "print('Validation MAPE:', valid_mape)"
      ]
    },
    {
      "cell_type": "code",
      "execution_count": null,
      "metadata": {
        "id": "izQZ1iQyYl6N",
        "colab": {
          "base_uri": "https://localhost:8080/"
        },
        "outputId": "1f791b29-5c12-4820-82ff-0417b4db2ad6"
      },
      "outputs": [
        {
          "output_type": "stream",
          "name": "stdout",
          "text": [
            "[0.28811204]\n",
            "2\n"
          ]
        }
      ],
      "source": [
        "# 13. Dự báo 30 ngày tiếp theo\n",
        "x_input=val_data[213:].reshape(1,-1)\n",
        "x_input.shape\n",
        "\n",
        "temp_input=list(x_input)\n",
        "temp_input=temp_input[0].tolist()\n",
        "\n",
        "from numpy import array\n",
        "\n",
        "lst_output=[]\n",
        "n_steps=1\n",
        "i=0\n",
        "while(i<30):\n",
        "\n",
        "    if(len(temp_input)>1):\n",
        "        #print(temp_input)\n",
        "        x_input=np.array(temp_input[1:])\n",
        "        # print(\"{} day input {}\".format(i,x_input))\n",
        "        x_input=x_input.reshape(1,-1)\n",
        "        x_input = x_input.reshape((1, n_steps, 1))\n",
        "        #print(x_input)\n",
        "        yhat = model.predict(x_input, verbose=0)\n",
        "        # print(\"{} day output {}\".format(i,yhat))\n",
        "        temp_input.extend(yhat[0].tolist())\n",
        "        temp_input=temp_input[1:]\n",
        "        #print(temp_input)\n",
        "        lst_output.extend(yhat.tolist())\n",
        "        i=i+1\n",
        "    else:\n",
        "        x_input = x_input.reshape((1, n_steps,1))\n",
        "        yhat = model.predict(x_input, verbose=0)\n",
        "        print(yhat[0])\n",
        "        temp_input.extend(yhat[0].tolist())\n",
        "        print(len(temp_input))\n",
        "        lst_output.extend(yhat.tolist())\n",
        "        i=i+1"
      ]
    },
    {
      "cell_type": "code",
      "execution_count": null,
      "metadata": {
        "id": "KSa_mX51a654",
        "colab": {
          "base_uri": "https://localhost:8080/",
          "height": 430
        },
        "outputId": "47d8e27c-9f13-4847-9cb6-6aee0a6d3d10"
      },
      "outputs": [
        {
          "output_type": "display_data",
          "data": {
            "text/plain": [
              "<Figure size 640x480 with 1 Axes>"
            ],
            "image/png": "[encoded data removed]"
          },
          "metadata": {}
        }
      ],
      "source": [
        "# 14.Vẽ hình\n",
        "\n",
        "train_data_index = pd.RangeIndex(start=0, stop=train_size, step=1)\n",
        "plt.plot(scaler.inverse_transform(train_data))\n",
        "test_data_index = pd.RangeIndex(start=train_size, stop=train_size+test_size, step=1)\n",
        "plt.plot(test_data_index,scaler.inverse_transform(test_data))\n",
        "test_data_index = pd.RangeIndex(start=train_size+2, stop=train_size+test_size, step=1)\n",
        "plt.plot(test_data_index,(y_pred))\n",
        "val_data_index = pd.RangeIndex(start=train_size+test_size, stop=train_size+test_size+val_size, step=1)\n",
        "plt.plot(val_data_index,scaler.inverse_transform(val_data))\n",
        "val_data_index = pd.RangeIndex(start=train_size+test_size+2, stop=train_size+test_size+val_size, step=1)\n",
        "plt.plot(val_data_index,y_pred_val)\n",
        "prediect_data_index = pd.RangeIndex(start=len(df1)-1, stop=len(df1)+29, step=1)\n",
        "plt.plot(prediect_data_index,scaler.inverse_transform(lst_output))\n",
        "plt.legend(['Train','Test','Predict','Validate','ValidatePred','Predict30days'])\n",
        "plt.show()"
      ]
    },
    {
      "cell_type": "code",
      "source": [
        "scaler.inverse_transform(lst_output)"
      ],
      "metadata": {
        "id": "oZWgeDbOyZ96",
        "colab": {
          "base_uri": "https://localhost:8080/"
        },
        "outputId": "035d4509-50ce-4123-b2b8-9d70a4258a52"
      },
      "execution_count": null,
      "outputs": [
        {
          "output_type": "execute_result",
          "data": {
            "text/plain": [
              "array([[115.41998178],\n",
              "       [115.39019037],\n",
              "       [115.36062535],\n",
              "       [115.3312867 ],\n",
              "       [115.30217443],\n",
              "       [115.27327496],\n",
              "       [115.24458829],\n",
              "       [115.21612799],\n",
              "       [115.18788049],\n",
              "       [115.15985031],\n",
              "       [115.13203745],\n",
              "       [115.10442834],\n",
              "       [115.07704108],\n",
              "       [115.0498485 ],\n",
              "       [115.02287777],\n",
              "       [114.99611531],\n",
              "       [114.96955206],\n",
              "       [114.94320614],\n",
              "       [114.91705943],\n",
              "       [114.89111193],\n",
              "       [114.86536818],\n",
              "       [114.83983269],\n",
              "       [114.81448283],\n",
              "       [114.78933219],\n",
              "       [114.76436717],\n",
              "       [114.73961495],\n",
              "       [114.71505289],\n",
              "       [114.69069005],\n",
              "       [114.6665083 ],\n",
              "       [114.64253482]])"
            ]
          },
          "metadata": {},
          "execution_count": 79
        }
      ]
    },
    {
      "cell_type": "markdown",
      "source": [
        "# Dataset ARI"
      ],
      "metadata": {
        "id": "ZwPNuqHMV10f"
      }
    },
    {
      "cell_type": "code",
      "source": [
        "# 2. Đọc file csv và gắng index với giá Price\n",
        "df = pd.read_csv('ARI-Historical-Data-final.csv')\n",
        "df1=df.reset_index()['Price']"
      ],
      "metadata": {
        "id": "C9bYvv77WXA-"
      },
      "execution_count": null,
      "outputs": []
    },
    {
      "cell_type": "code",
      "source": [
        "# 3. Scaler data\n",
        "scaler=MinMaxScaler(feature_range=(0,1))\n",
        "df1=scaler.fit_transform(np.array(df1).reshape(-1,1))"
      ],
      "metadata": {
        "id": "gCrvRqzPWZBW"
      },
      "execution_count": null,
      "outputs": []
    },
    {
      "cell_type": "code",
      "source": [
        "# 4. Chia train test\n",
        "train_size = int(0.7 * len(df1))\n",
        "test_size = int(0.2 * len(df1))\n",
        "val_size = len(df1) - train_size - test_size\n",
        "\n",
        "train_data = df1[:train_size]\n",
        "test_data = df1[train_size:train_size+test_size]\n",
        "val_data = df1[train_size+test_size:]"
      ],
      "metadata": {
        "id": "DUZ7g6m8WaUf"
      },
      "execution_count": null,
      "outputs": []
    },
    {
      "cell_type": "code",
      "source": [
        "# 5. Hàm Create Dataset\n",
        "import numpy\n",
        "# convert an array of values into a dataset matrix\n",
        "def create_dataset(dataset, time_step=1):\n",
        "\tdataX, dataY = [], []\n",
        "\tfor i in range(len(dataset)-time_step-1):\n",
        "\t\ta = dataset[i:(i+time_step), 0]   ###i=0, X=0,1,2,3-----99   Y=100\n",
        "\t\tdataX.append(a)\n",
        "\t\tdataY.append(dataset[i + time_step, 0])\n",
        "\treturn numpy.array(dataX), numpy.array(dataY)"
      ],
      "metadata": {
        "id": "yfObCWDrWbaG"
      },
      "execution_count": null,
      "outputs": []
    },
    {
      "cell_type": "code",
      "source": [
        "#6. Reshape into X=t,t+1,t+2..t+99 and Y=t+100\n",
        "\n",
        "time_step = 1\n",
        "X_train, y_train = create_dataset(train_data, time_step)\n",
        "X_val, yval = create_dataset(val_data, time_step)\n",
        "X_test, ytest = create_dataset(test_data, time_step)"
      ],
      "metadata": {
        "id": "xI0jZFsBWc4v"
      },
      "execution_count": null,
      "outputs": []
    },
    {
      "cell_type": "code",
      "source": [
        "# 7. Reshape input to be [samples, time steps, features] which is required for GRU\n",
        "X_train =X_train.reshape(X_train.shape[0],X_train.shape[1] , 1)\n",
        "X_test = X_test.reshape(X_test.shape[0],X_test.shape[1] , 1)\n",
        "X_val = X_val.reshape(X_val.shape[0],X_val.shape[1] , 1)"
      ],
      "metadata": {
        "id": "_9ALZ7CvWeLn"
      },
      "execution_count": null,
      "outputs": []
    },
    {
      "cell_type": "code",
      "source": [
        "# 8. Define GRU Model\n",
        "\n",
        "model = Sequential()\n",
        "model.add(GRU(64, input_shape=(time_step, 1)))\n",
        "model.add(Dense(1))\n",
        "model.compile(optimizer='adam', loss='mean_squared_error')"
      ],
      "metadata": {
        "id": "V0jAwk21Wf-m"
      },
      "execution_count": null,
      "outputs": []
    },
    {
      "cell_type": "code",
      "source": [
        "# 9. Fit mô hình với dữ liệu train\n",
        "model.fit(X_train,y_train,validation_data=(X_test,ytest),epochs=100,batch_size=64,verbose=1)"
      ],
      "metadata": {
        "id": "pvTkVspZWhb_",
        "colab": {
          "base_uri": "https://localhost:8080/"
        },
        "outputId": "dfa72da3-d919-4e46-b169-a88f572b412d"
      },
      "execution_count": null,
      "outputs": [
        {
          "output_type": "stream",
          "name": "stdout",
          "text": [
            "Epoch 1/100\n",
            "24/24 [==============================] - 3s 25ms/step - loss: 0.2675 - val_loss: 0.0338\n",
            "Epoch 2/100\n",
            "24/24 [==============================] - 0s 5ms/step - loss: 0.0374 - val_loss: 0.0086\n",
            "Epoch 3/100\n",
            "24/24 [==============================] - 0s 5ms/step - loss: 0.0084 - val_loss: 0.0149\n",
            "Epoch 4/100\n",
            "24/24 [==============================] - 0s 5ms/step - loss: 0.0076 - val_loss: 0.0094\n",
            "Epoch 5/100\n",
            "24/24 [==============================] - 0s 6ms/step - loss: 0.0071 - val_loss: 0.0092\n",
            "Epoch 6/100\n",
            "24/24 [==============================] - 0s 6ms/step - loss: 0.0067 - val_loss: 0.0088\n",
            "Epoch 7/100\n",
            "24/24 [==============================] - 0s 6ms/step - loss: 0.0062 - val_loss: 0.0080\n",
            "Epoch 8/100\n",
            "24/24 [==============================] - 0s 6ms/step - loss: 0.0058 - val_loss: 0.0076\n",
            "Epoch 9/100\n",
            "24/24 [==============================] - 0s 7ms/step - loss: 0.0053 - val_loss: 0.0069\n",
            "Epoch 10/100\n",
            "24/24 [==============================] - 0s 7ms/step - loss: 0.0049 - val_loss: 0.0062\n",
            "Epoch 11/100\n",
            "24/24 [==============================] - 0s 8ms/step - loss: 0.0045 - val_loss: 0.0058\n",
            "Epoch 12/100\n",
            "24/24 [==============================] - 0s 7ms/step - loss: 0.0041 - val_loss: 0.0049\n",
            "Epoch 13/100\n",
            "24/24 [==============================] - 0s 6ms/step - loss: 0.0037 - val_loss: 0.0046\n",
            "Epoch 14/100\n",
            "24/24 [==============================] - 0s 6ms/step - loss: 0.0033 - val_loss: 0.0041\n",
            "Epoch 15/100\n",
            "24/24 [==============================] - 0s 6ms/step - loss: 0.0029 - val_loss: 0.0035\n",
            "Epoch 16/100\n",
            "24/24 [==============================] - 0s 6ms/step - loss: 0.0026 - val_loss: 0.0031\n",
            "Epoch 17/100\n",
            "24/24 [==============================] - 0s 6ms/step - loss: 0.0023 - val_loss: 0.0027\n",
            "Epoch 18/100\n",
            "24/24 [==============================] - 0s 7ms/step - loss: 0.0020 - val_loss: 0.0023\n",
            "Epoch 19/100\n",
            "24/24 [==============================] - 0s 6ms/step - loss: 0.0018 - val_loss: 0.0020\n",
            "Epoch 20/100\n",
            "24/24 [==============================] - 0s 5ms/step - loss: 0.0015 - val_loss: 0.0017\n",
            "Epoch 21/100\n",
            "24/24 [==============================] - 0s 5ms/step - loss: 0.0013 - val_loss: 0.0015\n",
            "Epoch 22/100\n",
            "24/24 [==============================] - 0s 5ms/step - loss: 0.0012 - val_loss: 0.0012\n",
            "Epoch 23/100\n",
            "24/24 [==============================] - 0s 5ms/step - loss: 0.0010 - val_loss: 0.0010\n",
            "Epoch 24/100\n",
            "24/24 [==============================] - 0s 6ms/step - loss: 8.8710e-04 - val_loss: 9.1576e-04\n",
            "Epoch 25/100\n",
            "24/24 [==============================] - 0s 5ms/step - loss: 7.8248e-04 - val_loss: 7.0019e-04\n",
            "Epoch 26/100\n",
            "24/24 [==============================] - 0s 5ms/step - loss: 6.8281e-04 - val_loss: 6.3785e-04\n",
            "Epoch 27/100\n",
            "24/24 [==============================] - 0s 7ms/step - loss: 6.0676e-04 - val_loss: 5.7107e-04\n",
            "Epoch 28/100\n",
            "24/24 [==============================] - 0s 6ms/step - loss: 5.4397e-04 - val_loss: 4.7546e-04\n",
            "Epoch 29/100\n",
            "24/24 [==============================] - 0s 8ms/step - loss: 4.9328e-04 - val_loss: 3.7688e-04\n",
            "Epoch 30/100\n",
            "24/24 [==============================] - 0s 11ms/step - loss: 4.5468e-04 - val_loss: 3.8694e-04\n",
            "Epoch 31/100\n",
            "24/24 [==============================] - 0s 12ms/step - loss: 4.1739e-04 - val_loss: 3.2865e-04\n",
            "Epoch 32/100\n",
            "24/24 [==============================] - 0s 11ms/step - loss: 3.9230e-04 - val_loss: 3.1260e-04\n",
            "Epoch 33/100\n",
            "24/24 [==============================] - 0s 8ms/step - loss: 3.7247e-04 - val_loss: 2.9721e-04\n",
            "Epoch 34/100\n",
            "24/24 [==============================] - 0s 9ms/step - loss: 3.5760e-04 - val_loss: 2.8286e-04\n",
            "Epoch 35/100\n",
            "24/24 [==============================] - 0s 9ms/step - loss: 3.4747e-04 - val_loss: 2.8159e-04\n",
            "Epoch 36/100\n",
            "24/24 [==============================] - 0s 8ms/step - loss: 3.3749e-04 - val_loss: 2.6650e-04\n",
            "Epoch 37/100\n",
            "24/24 [==============================] - 0s 7ms/step - loss: 3.3066e-04 - val_loss: 2.6706e-04\n",
            "Epoch 38/100\n",
            "24/24 [==============================] - 0s 7ms/step - loss: 3.2496e-04 - val_loss: 2.6462e-04\n",
            "Epoch 39/100\n",
            "24/24 [==============================] - 0s 9ms/step - loss: 3.2118e-04 - val_loss: 2.6349e-04\n",
            "Epoch 40/100\n",
            "24/24 [==============================] - 0s 7ms/step - loss: 3.1870e-04 - val_loss: 2.6400e-04\n",
            "Epoch 41/100\n",
            "24/24 [==============================] - 0s 9ms/step - loss: 3.1620e-04 - val_loss: 2.6449e-04\n",
            "Epoch 42/100\n",
            "24/24 [==============================] - 0s 7ms/step - loss: 3.1551e-04 - val_loss: 2.6358e-04\n",
            "Epoch 43/100\n",
            "24/24 [==============================] - 0s 5ms/step - loss: 3.1476e-04 - val_loss: 2.6370e-04\n",
            "Epoch 44/100\n",
            "24/24 [==============================] - 0s 4ms/step - loss: 3.1272e-04 - val_loss: 2.6699e-04\n",
            "Epoch 45/100\n",
            "24/24 [==============================] - 0s 5ms/step - loss: 3.1281e-04 - val_loss: 2.6552e-04\n",
            "Epoch 46/100\n",
            "24/24 [==============================] - 0s 5ms/step - loss: 3.1197e-04 - val_loss: 2.7507e-04\n",
            "Epoch 47/100\n",
            "24/24 [==============================] - 0s 5ms/step - loss: 3.1265e-04 - val_loss: 2.7364e-04\n",
            "Epoch 48/100\n",
            "24/24 [==============================] - 0s 6ms/step - loss: 3.1270e-04 - val_loss: 2.7626e-04\n",
            "Epoch 49/100\n",
            "24/24 [==============================] - 0s 5ms/step - loss: 3.1217e-04 - val_loss: 2.8154e-04\n",
            "Epoch 50/100\n",
            "24/24 [==============================] - 0s 6ms/step - loss: 3.1367e-04 - val_loss: 2.7596e-04\n",
            "Epoch 51/100\n",
            "24/24 [==============================] - 0s 5ms/step - loss: 3.1335e-04 - val_loss: 2.6927e-04\n",
            "Epoch 52/100\n",
            "24/24 [==============================] - 0s 5ms/step - loss: 3.1184e-04 - val_loss: 2.7262e-04\n",
            "Epoch 53/100\n",
            "24/24 [==============================] - 0s 5ms/step - loss: 3.1338e-04 - val_loss: 2.7252e-04\n",
            "Epoch 54/100\n",
            "24/24 [==============================] - 0s 5ms/step - loss: 3.1172e-04 - val_loss: 2.7339e-04\n",
            "Epoch 55/100\n",
            "24/24 [==============================] - 0s 5ms/step - loss: 3.1193e-04 - val_loss: 2.6937e-04\n",
            "Epoch 56/100\n",
            "24/24 [==============================] - 0s 6ms/step - loss: 3.1172e-04 - val_loss: 2.6910e-04\n",
            "Epoch 57/100\n",
            "24/24 [==============================] - 0s 6ms/step - loss: 3.1254e-04 - val_loss: 2.7781e-04\n",
            "Epoch 58/100\n",
            "24/24 [==============================] - 0s 7ms/step - loss: 3.1235e-04 - val_loss: 2.7218e-04\n",
            "Epoch 59/100\n",
            "24/24 [==============================] - 0s 6ms/step - loss: 3.1128e-04 - val_loss: 2.7073e-04\n",
            "Epoch 60/100\n",
            "24/24 [==============================] - 0s 6ms/step - loss: 3.1166e-04 - val_loss: 2.6725e-04\n",
            "Epoch 61/100\n",
            "24/24 [==============================] - 0s 6ms/step - loss: 3.1486e-04 - val_loss: 2.6987e-04\n",
            "Epoch 62/100\n",
            "24/24 [==============================] - 0s 7ms/step - loss: 3.1259e-04 - val_loss: 2.6854e-04\n",
            "Epoch 63/100\n",
            "24/24 [==============================] - 0s 6ms/step - loss: 3.1218e-04 - val_loss: 2.6984e-04\n",
            "Epoch 64/100\n",
            "24/24 [==============================] - 0s 6ms/step - loss: 3.1161e-04 - val_loss: 2.7594e-04\n",
            "Epoch 65/100\n",
            "24/24 [==============================] - 0s 6ms/step - loss: 3.1178e-04 - val_loss: 2.7320e-04\n",
            "Epoch 66/100\n",
            "24/24 [==============================] - 0s 6ms/step - loss: 3.1264e-04 - val_loss: 2.7938e-04\n",
            "Epoch 67/100\n",
            "24/24 [==============================] - 0s 7ms/step - loss: 3.1317e-04 - val_loss: 2.6982e-04\n",
            "Epoch 68/100\n",
            "24/24 [==============================] - 0s 6ms/step - loss: 3.1270e-04 - val_loss: 2.7327e-04\n",
            "Epoch 69/100\n",
            "24/24 [==============================] - 0s 7ms/step - loss: 3.1157e-04 - val_loss: 2.7636e-04\n",
            "Epoch 70/100\n",
            "24/24 [==============================] - 0s 5ms/step - loss: 3.1138e-04 - val_loss: 2.7529e-04\n",
            "Epoch 71/100\n",
            "24/24 [==============================] - 0s 5ms/step - loss: 3.1129e-04 - val_loss: 2.7170e-04\n",
            "Epoch 72/100\n",
            "24/24 [==============================] - 0s 5ms/step - loss: 3.1158e-04 - val_loss: 2.8935e-04\n",
            "Epoch 73/100\n",
            "24/24 [==============================] - 0s 5ms/step - loss: 3.1280e-04 - val_loss: 2.7311e-04\n",
            "Epoch 74/100\n",
            "24/24 [==============================] - 0s 5ms/step - loss: 3.1184e-04 - val_loss: 2.6862e-04\n",
            "Epoch 75/100\n",
            "24/24 [==============================] - 0s 5ms/step - loss: 3.1269e-04 - val_loss: 2.7439e-04\n",
            "Epoch 76/100\n",
            "24/24 [==============================] - 0s 5ms/step - loss: 3.1168e-04 - val_loss: 2.7349e-04\n",
            "Epoch 77/100\n",
            "24/24 [==============================] - 0s 5ms/step - loss: 3.1182e-04 - val_loss: 2.7382e-04\n",
            "Epoch 78/100\n",
            "24/24 [==============================] - 0s 6ms/step - loss: 3.1205e-04 - val_loss: 2.7285e-04\n",
            "Epoch 79/100\n",
            "24/24 [==============================] - 0s 7ms/step - loss: 3.1154e-04 - val_loss: 2.7252e-04\n",
            "Epoch 80/100\n",
            "24/24 [==============================] - 0s 6ms/step - loss: 3.1142e-04 - val_loss: 2.7002e-04\n",
            "Epoch 81/100\n",
            "24/24 [==============================] - 0s 6ms/step - loss: 3.1331e-04 - val_loss: 2.6968e-04\n",
            "Epoch 82/100\n",
            "24/24 [==============================] - 0s 6ms/step - loss: 3.1206e-04 - val_loss: 2.6628e-04\n",
            "Epoch 83/100\n",
            "24/24 [==============================] - 0s 6ms/step - loss: 3.1338e-04 - val_loss: 2.7326e-04\n",
            "Epoch 84/100\n",
            "24/24 [==============================] - 0s 6ms/step - loss: 3.1167e-04 - val_loss: 2.7063e-04\n",
            "Epoch 85/100\n",
            "24/24 [==============================] - 0s 5ms/step - loss: 3.1207e-04 - val_loss: 2.7477e-04\n",
            "Epoch 86/100\n",
            "24/24 [==============================] - 0s 5ms/step - loss: 3.1294e-04 - val_loss: 2.7859e-04\n",
            "Epoch 87/100\n",
            "24/24 [==============================] - 0s 5ms/step - loss: 3.1307e-04 - val_loss: 2.7058e-04\n",
            "Epoch 88/100\n",
            "24/24 [==============================] - 0s 6ms/step - loss: 3.1208e-04 - val_loss: 2.6668e-04\n",
            "Epoch 89/100\n",
            "24/24 [==============================] - 0s 5ms/step - loss: 3.1315e-04 - val_loss: 2.6830e-04\n",
            "Epoch 90/100\n",
            "24/24 [==============================] - 0s 5ms/step - loss: 3.1208e-04 - val_loss: 2.6817e-04\n",
            "Epoch 91/100\n",
            "24/24 [==============================] - 0s 5ms/step - loss: 3.1177e-04 - val_loss: 2.7058e-04\n",
            "Epoch 92/100\n",
            "24/24 [==============================] - 0s 5ms/step - loss: 3.1340e-04 - val_loss: 2.6616e-04\n",
            "Epoch 93/100\n",
            "24/24 [==============================] - 0s 6ms/step - loss: 3.1293e-04 - val_loss: 2.7019e-04\n",
            "Epoch 94/100\n",
            "24/24 [==============================] - 0s 6ms/step - loss: 3.1115e-04 - val_loss: 2.6666e-04\n",
            "Epoch 95/100\n",
            "24/24 [==============================] - 0s 6ms/step - loss: 3.1160e-04 - val_loss: 2.6883e-04\n",
            "Epoch 96/100\n",
            "24/24 [==============================] - 0s 6ms/step - loss: 3.1259e-04 - val_loss: 2.7915e-04\n",
            "Epoch 97/100\n",
            "24/24 [==============================] - 0s 6ms/step - loss: 3.1172e-04 - val_loss: 2.8476e-04\n",
            "Epoch 98/100\n",
            "24/24 [==============================] - 0s 7ms/step - loss: 3.1227e-04 - val_loss: 2.7546e-04\n",
            "Epoch 99/100\n",
            "24/24 [==============================] - 0s 5ms/step - loss: 3.1151e-04 - val_loss: 2.7684e-04\n",
            "Epoch 100/100\n",
            "24/24 [==============================] - 0s 5ms/step - loss: 3.1421e-04 - val_loss: 2.6849e-04\n"
          ]
        },
        {
          "output_type": "execute_result",
          "data": {
            "text/plain": [
              "<keras.callbacks.History at 0x7f0799c27130>"
            ]
          },
          "metadata": {},
          "execution_count": 87
        }
      ]
    },
    {
      "cell_type": "code",
      "source": [
        "# 10. Dự báo dữ liệu test, val\n",
        "train_predict=model.predict(X_train)\n",
        "y_pred=model.predict(X_test)\n",
        "y_pred_val=model.predict(X_val)"
      ],
      "metadata": {
        "id": "m2sZ8G4CWi__",
        "colab": {
          "base_uri": "https://localhost:8080/"
        },
        "outputId": "1a39a3b5-492f-4cbc-c1df-5e10322b39e7"
      },
      "execution_count": null,
      "outputs": [
        {
          "output_type": "stream",
          "name": "stdout",
          "text": [
            "47/47 [==============================] - 0s 1ms/step\n",
            "14/14 [==============================] - 0s 2ms/step\n",
            "7/7 [==============================] - 0s 2ms/step\n"
          ]
        }
      ]
    },
    {
      "cell_type": "code",
      "source": [
        "# 11. Chuẩn hóa dữ liệu y_pred, y_pred_val\n",
        "train_predict=scaler.inverse_transform(train_predict)\n",
        "y_pred=scaler.inverse_transform(y_pred)\n",
        "y_pred_val=scaler.inverse_transform(y_pred_val)"
      ],
      "metadata": {
        "id": "BO1brmXZWkhu"
      },
      "execution_count": null,
      "outputs": []
    },
    {
      "cell_type": "code",
      "source": [
        "ytest = scaler.inverse_transform(ytest.reshape(-1,1))\n",
        "yval = scaler.inverse_transform(yval.reshape(-1,1))"
      ],
      "metadata": {
        "id": "4i-_9D4aLCYJ"
      },
      "execution_count": null,
      "outputs": []
    },
    {
      "cell_type": "code",
      "source": [
        "# 12. Đánh giá độ chính xác thuật toán bằng RMSE\n",
        "valid_rmse = np.sqrt(np.mean((y_pred_val - yval)**2))\n",
        "test_rmse = np.sqrt(np.mean((y_pred - ytest)**2))\n",
        "test_mae = np.mean(np.abs(y_pred - ytest))\n",
        "valid_mae = np.mean(np.abs(y_pred_val - yval))\n",
        "test_mape = np.mean(np.abs((y_pred - ytest) / ytest)) * 100\n",
        "valid_mape = np.mean(np.abs((y_pred_val - yval) / np.where(yval != 0, yval, 1))) * 100\n",
        "\n",
        "print('Validation RMSE:', valid_rmse)\n",
        "print('Testing RMSE:', test_rmse)\n",
        "print('Testing MAE:', test_mae)\n",
        "print('Validation MAE:', valid_mae)\n",
        "print('Testing MAPE:', test_mape)\n",
        "print('Validation MAPE:', valid_mape)"
      ],
      "metadata": {
        "id": "YvbmquuJWmpm",
        "colab": {
          "base_uri": "https://localhost:8080/"
        },
        "outputId": "8c67617f-3e38-4514-e5b5-a92198500328"
      },
      "execution_count": null,
      "outputs": [
        {
          "output_type": "stream",
          "name": "stdout",
          "text": [
            "Validation RMSE: 0.2858304092111756\n",
            "Testing RMSE: 0.2529928930039933\n",
            "Testing MAE: 0.19701371375550625\n",
            "Validation MAE: 0.205491248796571\n",
            "Testing MAPE: 1.4740903212866308\n",
            "Validation MAPE: 1.9483300803801153\n"
          ]
        }
      ]
    },
    {
      "cell_type": "code",
      "source": [
        "# 13. Dự báo 30 ngày tiếp theo\n",
        "x_input=val_data[213:].reshape(1,-1)\n",
        "x_input.shape\n",
        "\n",
        "temp_input=list(x_input)\n",
        "temp_input=temp_input[0].tolist()\n",
        "\n",
        "from numpy import array\n",
        "\n",
        "lst_output=[]\n",
        "n_steps=1\n",
        "i=0\n",
        "while(i<30):\n",
        "\n",
        "    if(len(temp_input)>1):\n",
        "        #print(temp_input)\n",
        "        x_input=np.array(temp_input[1:])\n",
        "        # print(\"{} day input {}\".format(i,x_input))\n",
        "        x_input=x_input.reshape(1,-1)\n",
        "        x_input = x_input.reshape((1, n_steps, 1))\n",
        "        #print(x_input)\n",
        "        yhat = model.predict(x_input, verbose=0)\n",
        "        # print(\"{} day output {}\".format(i,yhat))\n",
        "        temp_input.extend(yhat[0].tolist())\n",
        "        temp_input=temp_input[1:]\n",
        "        #print(temp_input)\n",
        "        lst_output.extend(yhat.tolist())\n",
        "        i=i+1\n",
        "    else:\n",
        "        x_input = x_input.reshape((1, n_steps,1))\n",
        "        yhat = model.predict(x_input, verbose=0)\n",
        "        print(yhat[0])\n",
        "        temp_input.extend(yhat[0].tolist())\n",
        "        print(len(temp_input))\n",
        "        lst_output.extend(yhat.tolist())\n",
        "        i=i+1\n"
      ],
      "metadata": {
        "id": "F98UF9O2Woe1",
        "colab": {
          "base_uri": "https://localhost:8080/"
        },
        "outputId": "23b8defb-eefc-44cc-b121-b57bb69fa59a"
      },
      "execution_count": null,
      "outputs": [
        {
          "output_type": "stream",
          "name": "stdout",
          "text": [
            "[0.45676708]\n",
            "2\n"
          ]
        }
      ]
    },
    {
      "cell_type": "code",
      "source": [
        "# 14.Vẽ hình\n",
        "\n",
        "train_data_index = pd.RangeIndex(start=0, stop=train_size, step=1)\n",
        "plt.plot(scaler.inverse_transform(train_data))\n",
        "test_data_index = pd.RangeIndex(start=train_size, stop=train_size+test_size, step=1)\n",
        "plt.plot(test_data_index,scaler.inverse_transform(test_data))\n",
        "test_data_index = pd.RangeIndex(start=train_size+2, stop=train_size+test_size, step=1)\n",
        "plt.plot(test_data_index,(y_pred))\n",
        "val_data_index = pd.RangeIndex(start=train_size+test_size, stop=train_size+test_size+val_size, step=1)\n",
        "plt.plot(val_data_index,scaler.inverse_transform(val_data))\n",
        "val_data_index = pd.RangeIndex(start=train_size+test_size+2, stop=train_size+test_size+val_size, step=1)\n",
        "plt.plot(val_data_index,y_pred_val)\n",
        "prediect_data_index = pd.RangeIndex(start=len(df1)-1, stop=len(df1)+29, step=1)\n",
        "plt.plot(prediect_data_index,scaler.inverse_transform(lst_output))\n",
        "plt.legend(['Train','Test','Predict','Validate','ValidatePred','Predict30days'])\n",
        "plt.show()"
      ],
      "metadata": {
        "id": "OMfJ7odtWqWV",
        "colab": {
          "base_uri": "https://localhost:8080/",
          "height": 430
        },
        "outputId": "2e8742d4-c73d-4491-e0c3-e05f8578c6d0"
      },
      "execution_count": null,
      "outputs": [
        {
          "output_type": "display_data",
          "data": {
            "text/plain": [
              "<Figure size 640x480 with 1 Axes>"
            ],
            "image/png": "[encoded data removed]"
          },
          "metadata": {}
        }
      ]
    },
    {
      "cell_type": "code",
      "source": [
        "scaler.inverse_transform(lst_output)"
      ],
      "metadata": {
        "id": "i2-Pwbv-Wr2d",
        "colab": {
          "base_uri": "https://localhost:8080/"
        },
        "outputId": "49930d12-39b3-487f-f66e-184bbdeca989"
      },
      "execution_count": null,
      "outputs": [
        {
          "output_type": "execute_result",
          "data": {
            "text/plain": [
              "array([[11.29248375],\n",
              "       [11.27521486],\n",
              "       [11.25819077],\n",
              "       [11.24141194],\n",
              "       [11.22487514],\n",
              "       [11.20858039],\n",
              "       [11.19252537],\n",
              "       [11.17670733],\n",
              "       [11.16112442],\n",
              "       [11.14577481],\n",
              "       [11.13065849],\n",
              "       [11.11577087],\n",
              "       [11.10111102],\n",
              "       [11.08667802],\n",
              "       [11.07246773],\n",
              "       [11.05848016],\n",
              "       [11.04471115],\n",
              "       [11.03115934],\n",
              "       [11.01782287],\n",
              "       [11.00470038],\n",
              "       [10.99178817],\n",
              "       [10.97908441],\n",
              "       [10.96658541],\n",
              "       [10.95429164],\n",
              "       [10.94219849],\n",
              "       [10.93030505],\n",
              "       [10.91860763],\n",
              "       [10.9071044 ],\n",
              "       [10.89579488],\n",
              "       [10.88467587]])"
            ]
          },
          "metadata": {},
          "execution_count": 94
        }
      ]
    },
    {
      "cell_type": "markdown",
      "source": [
        "# Dataset MAA"
      ],
      "metadata": {
        "id": "ZsYNeX32WsSV"
      }
    },
    {
      "cell_type": "code",
      "source": [
        "# 2. Đọc file csv và gắng index với giá Price\n",
        "df = pd.read_csv('MAA-Historical-Data-final.csv')\n",
        "df1=df.reset_index()['Price']"
      ],
      "metadata": {
        "id": "1FlQyQW8Wu0l"
      },
      "execution_count": null,
      "outputs": []
    },
    {
      "cell_type": "code",
      "source": [
        "# 3. Scaler data\n",
        "scaler=MinMaxScaler(feature_range=(0,1))\n",
        "df1=scaler.fit_transform(np.array(df1).reshape(-1,1))"
      ],
      "metadata": {
        "id": "D32FDNvjWwYV"
      },
      "execution_count": null,
      "outputs": []
    },
    {
      "cell_type": "code",
      "source": [
        "# 4. Chia train test\n",
        "train_size = int(0.7 * len(df1))\n",
        "test_size = int(0.2 * len(df1))\n",
        "val_size = len(df1) - train_size - test_size\n",
        "\n",
        "train_data = df1[:train_size]\n",
        "test_data = df1[train_size:train_size+test_size]\n",
        "val_data = df1[train_size+test_size:]"
      ],
      "metadata": {
        "id": "EsNlvMnFWxhG"
      },
      "execution_count": null,
      "outputs": []
    },
    {
      "cell_type": "code",
      "source": [
        "# 5. Hàm Create Dataset\n",
        "import numpy\n",
        "# convert an array of values into a dataset matrix\n",
        "def create_dataset(dataset, time_step=1):\n",
        "\tdataX, dataY = [], []\n",
        "\tfor i in range(len(dataset)-time_step-1):\n",
        "\t\ta = dataset[i:(i+time_step), 0]   ###i=0, X=0,1,2,3-----99   Y=100\n",
        "\t\tdataX.append(a)\n",
        "\t\tdataY.append(dataset[i + time_step, 0])\n",
        "\treturn numpy.array(dataX), numpy.array(dataY)"
      ],
      "metadata": {
        "id": "Y7O5w1ebWze1"
      },
      "execution_count": null,
      "outputs": []
    },
    {
      "cell_type": "code",
      "source": [
        "#6. Reshape into X=t,t+1,t+2..t+99 and Y=t+100\n",
        "\n",
        "time_step = 1\n",
        "X_train, y_train = create_dataset(train_data, time_step)\n",
        "X_val, yval = create_dataset(val_data, time_step)\n",
        "X_test, ytest = create_dataset(test_data, time_step)"
      ],
      "metadata": {
        "id": "rusIdioyW0we"
      },
      "execution_count": null,
      "outputs": []
    },
    {
      "cell_type": "code",
      "source": [
        "# 7. Reshape input to be [samples, time steps, features] which is required for GRU\n",
        "X_train =X_train.reshape(X_train.shape[0],X_train.shape[1] , 1)\n",
        "X_test = X_test.reshape(X_test.shape[0],X_test.shape[1] , 1)\n",
        "X_val = X_val.reshape(X_val.shape[0],X_val.shape[1] , 1)"
      ],
      "metadata": {
        "id": "kzUOlRTRW10l"
      },
      "execution_count": null,
      "outputs": []
    },
    {
      "cell_type": "code",
      "source": [
        "# 8. Define GRU Model\n",
        "model = Sequential()\n",
        "model.add(GRU(64, input_shape=(time_step, 1)))\n",
        "model.add(Dense(1))\n",
        "model.compile(optimizer='adam', loss='mean_squared_error')"
      ],
      "metadata": {
        "id": "0a34VeOfW392"
      },
      "execution_count": null,
      "outputs": []
    },
    {
      "cell_type": "code",
      "source": [
        "# 9. Fit mô hình với dữ liệu train\n",
        "model.fit(X_train,y_train,validation_data=(X_test,ytest),epochs=100,batch_size=64,verbose=1)"
      ],
      "metadata": {
        "id": "LD_CT8umW5Wu",
        "colab": {
          "base_uri": "https://localhost:8080/"
        },
        "outputId": "dcf76d49-09e1-464c-ea20-c7b7275eefcf"
      },
      "execution_count": null,
      "outputs": [
        {
          "output_type": "stream",
          "name": "stdout",
          "text": [
            "Epoch 1/100\n",
            "24/24 [==============================] - 4s 28ms/step - loss: 0.0207 - val_loss: 0.1737\n",
            "Epoch 2/100\n",
            "24/24 [==============================] - 0s 5ms/step - loss: 0.0073 - val_loss: 0.1504\n",
            "Epoch 3/100\n",
            "24/24 [==============================] - 0s 5ms/step - loss: 0.0057 - val_loss: 0.1277\n",
            "Epoch 4/100\n",
            "24/24 [==============================] - 0s 5ms/step - loss: 0.0046 - val_loss: 0.0970\n",
            "Epoch 5/100\n",
            "24/24 [==============================] - 0s 6ms/step - loss: 0.0035 - val_loss: 0.0697\n",
            "Epoch 6/100\n",
            "24/24 [==============================] - 0s 6ms/step - loss: 0.0025 - val_loss: 0.0476\n",
            "Epoch 7/100\n",
            "24/24 [==============================] - 0s 6ms/step - loss: 0.0017 - val_loss: 0.0270\n",
            "Epoch 8/100\n",
            "24/24 [==============================] - 0s 6ms/step - loss: 0.0010 - val_loss: 0.0142\n",
            "Epoch 9/100\n",
            "24/24 [==============================] - 0s 6ms/step - loss: 5.6967e-04 - val_loss: 0.0059\n",
            "Epoch 10/100\n",
            "24/24 [==============================] - 0s 7ms/step - loss: 3.1202e-04 - val_loss: 0.0019\n",
            "Epoch 11/100\n",
            "24/24 [==============================] - 0s 7ms/step - loss: 1.8776e-04 - val_loss: 5.5147e-04\n",
            "Epoch 12/100\n",
            "24/24 [==============================] - 0s 7ms/step - loss: 1.3976e-04 - val_loss: 2.7353e-04\n",
            "Epoch 13/100\n",
            "24/24 [==============================] - 0s 6ms/step - loss: 1.2442e-04 - val_loss: 3.1390e-04\n",
            "Epoch 14/100\n",
            "24/24 [==============================] - 0s 7ms/step - loss: 1.1965e-04 - val_loss: 3.7059e-04\n",
            "Epoch 15/100\n",
            "24/24 [==============================] - 0s 6ms/step - loss: 1.1899e-04 - val_loss: 4.3522e-04\n",
            "Epoch 16/100\n",
            "24/24 [==============================] - 0s 6ms/step - loss: 1.1918e-04 - val_loss: 4.2497e-04\n",
            "Epoch 17/100\n",
            "24/24 [==============================] - 0s 6ms/step - loss: 1.1917e-04 - val_loss: 4.5219e-04\n",
            "Epoch 18/100\n",
            "24/24 [==============================] - 0s 8ms/step - loss: 1.1897e-04 - val_loss: 4.6493e-04\n",
            "Epoch 19/100\n",
            "24/24 [==============================] - 0s 6ms/step - loss: 1.1904e-04 - val_loss: 4.6494e-04\n",
            "Epoch 20/100\n",
            "24/24 [==============================] - 0s 7ms/step - loss: 1.1912e-04 - val_loss: 4.4040e-04\n",
            "Epoch 21/100\n",
            "24/24 [==============================] - 0s 7ms/step - loss: 1.1919e-04 - val_loss: 4.2632e-04\n",
            "Epoch 22/100\n",
            "24/24 [==============================] - 0s 6ms/step - loss: 1.1942e-04 - val_loss: 4.1812e-04\n",
            "Epoch 23/100\n",
            "24/24 [==============================] - 0s 6ms/step - loss: 1.1979e-04 - val_loss: 4.3373e-04\n",
            "Epoch 24/100\n",
            "24/24 [==============================] - 0s 6ms/step - loss: 1.1951e-04 - val_loss: 4.3632e-04\n",
            "Epoch 25/100\n",
            "24/24 [==============================] - 0s 6ms/step - loss: 1.1935e-04 - val_loss: 4.3353e-04\n",
            "Epoch 26/100\n",
            "24/24 [==============================] - 0s 7ms/step - loss: 1.1927e-04 - val_loss: 4.2808e-04\n",
            "Epoch 27/100\n",
            "24/24 [==============================] - 0s 6ms/step - loss: 1.1918e-04 - val_loss: 4.3017e-04\n",
            "Epoch 28/100\n",
            "24/24 [==============================] - 0s 6ms/step - loss: 1.1888e-04 - val_loss: 4.1638e-04\n",
            "Epoch 29/100\n",
            "24/24 [==============================] - 0s 6ms/step - loss: 1.1928e-04 - val_loss: 4.4366e-04\n",
            "Epoch 30/100\n",
            "24/24 [==============================] - 0s 6ms/step - loss: 1.1919e-04 - val_loss: 4.4371e-04\n",
            "Epoch 31/100\n",
            "24/24 [==============================] - 0s 6ms/step - loss: 1.1952e-04 - val_loss: 4.3761e-04\n",
            "Epoch 32/100\n",
            "24/24 [==============================] - 0s 7ms/step - loss: 1.1879e-04 - val_loss: 3.8665e-04\n",
            "Epoch 33/100\n",
            "24/24 [==============================] - 0s 7ms/step - loss: 1.2160e-04 - val_loss: 4.8354e-04\n",
            "Epoch 34/100\n",
            "24/24 [==============================] - 0s 6ms/step - loss: 1.2119e-04 - val_loss: 4.0673e-04\n",
            "Epoch 35/100\n",
            "24/24 [==============================] - 0s 7ms/step - loss: 1.2004e-04 - val_loss: 4.1417e-04\n",
            "Epoch 36/100\n",
            "24/24 [==============================] - 0s 6ms/step - loss: 1.1909e-04 - val_loss: 4.1801e-04\n",
            "Epoch 37/100\n",
            "24/24 [==============================] - 0s 6ms/step - loss: 1.1917e-04 - val_loss: 4.3245e-04\n",
            "Epoch 38/100\n",
            "24/24 [==============================] - 0s 6ms/step - loss: 1.1955e-04 - val_loss: 4.5093e-04\n",
            "Epoch 39/100\n",
            "24/24 [==============================] - 0s 8ms/step - loss: 1.1918e-04 - val_loss: 4.2581e-04\n",
            "Epoch 40/100\n",
            "24/24 [==============================] - 0s 8ms/step - loss: 1.1970e-04 - val_loss: 3.9099e-04\n",
            "Epoch 41/100\n",
            "24/24 [==============================] - 0s 10ms/step - loss: 1.2007e-04 - val_loss: 4.1730e-04\n",
            "Epoch 42/100\n",
            "24/24 [==============================] - 0s 10ms/step - loss: 1.1970e-04 - val_loss: 4.2566e-04\n",
            "Epoch 43/100\n",
            "24/24 [==============================] - 0s 9ms/step - loss: 1.2000e-04 - val_loss: 3.7488e-04\n",
            "Epoch 44/100\n",
            "24/24 [==============================] - 0s 8ms/step - loss: 1.2042e-04 - val_loss: 3.4543e-04\n",
            "Epoch 45/100\n",
            "24/24 [==============================] - 0s 9ms/step - loss: 1.1969e-04 - val_loss: 3.8438e-04\n",
            "Epoch 46/100\n",
            "24/24 [==============================] - 0s 9ms/step - loss: 1.1894e-04 - val_loss: 4.1197e-04\n",
            "Epoch 47/100\n",
            "24/24 [==============================] - 0s 7ms/step - loss: 1.1965e-04 - val_loss: 3.5258e-04\n",
            "Epoch 48/100\n",
            "24/24 [==============================] - 0s 10ms/step - loss: 1.1984e-04 - val_loss: 3.7437e-04\n",
            "Epoch 49/100\n",
            "24/24 [==============================] - 0s 10ms/step - loss: 1.2136e-04 - val_loss: 4.5083e-04\n",
            "Epoch 50/100\n",
            "24/24 [==============================] - 0s 12ms/step - loss: 1.2028e-04 - val_loss: 3.6796e-04\n",
            "Epoch 51/100\n",
            "24/24 [==============================] - 0s 12ms/step - loss: 1.1925e-04 - val_loss: 3.7385e-04\n",
            "Epoch 52/100\n",
            "24/24 [==============================] - 0s 7ms/step - loss: 1.2029e-04 - val_loss: 4.0565e-04\n",
            "Epoch 53/100\n",
            "24/24 [==============================] - 0s 7ms/step - loss: 1.1980e-04 - val_loss: 4.1589e-04\n",
            "Epoch 54/100\n",
            "24/24 [==============================] - 0s 6ms/step - loss: 1.1909e-04 - val_loss: 3.6254e-04\n",
            "Epoch 55/100\n",
            "24/24 [==============================] - 0s 7ms/step - loss: 1.2148e-04 - val_loss: 4.2368e-04\n",
            "Epoch 56/100\n",
            "24/24 [==============================] - 0s 6ms/step - loss: 1.1972e-04 - val_loss: 3.6802e-04\n",
            "Epoch 57/100\n",
            "24/24 [==============================] - 0s 6ms/step - loss: 1.2016e-04 - val_loss: 3.5295e-04\n",
            "Epoch 58/100\n",
            "24/24 [==============================] - 0s 6ms/step - loss: 1.2025e-04 - val_loss: 4.3704e-04\n",
            "Epoch 59/100\n",
            "24/24 [==============================] - 0s 5ms/step - loss: 1.2222e-04 - val_loss: 3.9106e-04\n",
            "Epoch 60/100\n",
            "24/24 [==============================] - 0s 5ms/step - loss: 1.2146e-04 - val_loss: 3.9768e-04\n",
            "Epoch 61/100\n",
            "24/24 [==============================] - 0s 5ms/step - loss: 1.1903e-04 - val_loss: 3.5127e-04\n",
            "Epoch 62/100\n",
            "24/24 [==============================] - 0s 5ms/step - loss: 1.2007e-04 - val_loss: 4.7133e-04\n",
            "Epoch 63/100\n",
            "24/24 [==============================] - 0s 5ms/step - loss: 1.2035e-04 - val_loss: 3.7370e-04\n",
            "Epoch 64/100\n",
            "24/24 [==============================] - 0s 5ms/step - loss: 1.1902e-04 - val_loss: 3.4695e-04\n",
            "Epoch 65/100\n",
            "24/24 [==============================] - 0s 6ms/step - loss: 1.2060e-04 - val_loss: 3.8680e-04\n",
            "Epoch 66/100\n",
            "24/24 [==============================] - 0s 6ms/step - loss: 1.2026e-04 - val_loss: 3.7387e-04\n",
            "Epoch 67/100\n",
            "24/24 [==============================] - 0s 6ms/step - loss: 1.1928e-04 - val_loss: 3.4676e-04\n",
            "Epoch 68/100\n",
            "24/24 [==============================] - 0s 7ms/step - loss: 1.2014e-04 - val_loss: 3.2792e-04\n",
            "Epoch 69/100\n",
            "24/24 [==============================] - 0s 7ms/step - loss: 1.2104e-04 - val_loss: 3.7633e-04\n",
            "Epoch 70/100\n",
            "24/24 [==============================] - 0s 6ms/step - loss: 1.2236e-04 - val_loss: 4.2433e-04\n",
            "Epoch 71/100\n",
            "24/24 [==============================] - 0s 6ms/step - loss: 1.2030e-04 - val_loss: 3.1427e-04\n",
            "Epoch 72/100\n",
            "24/24 [==============================] - 0s 7ms/step - loss: 1.2204e-04 - val_loss: 3.5780e-04\n",
            "Epoch 73/100\n",
            "24/24 [==============================] - 0s 7ms/step - loss: 1.1951e-04 - val_loss: 3.4814e-04\n",
            "Epoch 74/100\n",
            "24/24 [==============================] - 0s 7ms/step - loss: 1.2703e-04 - val_loss: 3.8063e-04\n",
            "Epoch 75/100\n",
            "24/24 [==============================] - 0s 6ms/step - loss: 1.2084e-04 - val_loss: 3.0726e-04\n",
            "Epoch 76/100\n",
            "24/24 [==============================] - 0s 6ms/step - loss: 1.2174e-04 - val_loss: 3.3386e-04\n",
            "Epoch 77/100\n",
            "24/24 [==============================] - 0s 6ms/step - loss: 1.2096e-04 - val_loss: 4.1033e-04\n",
            "Epoch 78/100\n",
            "24/24 [==============================] - 0s 7ms/step - loss: 1.2047e-04 - val_loss: 3.6739e-04\n",
            "Epoch 79/100\n",
            "24/24 [==============================] - 0s 5ms/step - loss: 1.2088e-04 - val_loss: 3.2492e-04\n",
            "Epoch 80/100\n",
            "24/24 [==============================] - 0s 5ms/step - loss: 1.2588e-04 - val_loss: 2.9698e-04\n",
            "Epoch 81/100\n",
            "24/24 [==============================] - 0s 5ms/step - loss: 1.2508e-04 - val_loss: 3.6131e-04\n",
            "Epoch 82/100\n",
            "24/24 [==============================] - 0s 5ms/step - loss: 1.2455e-04 - val_loss: 3.1799e-04\n",
            "Epoch 83/100\n",
            "24/24 [==============================] - 0s 5ms/step - loss: 1.2302e-04 - val_loss: 3.4488e-04\n",
            "Epoch 84/100\n",
            "24/24 [==============================] - 0s 5ms/step - loss: 1.2296e-04 - val_loss: 3.5597e-04\n",
            "Epoch 85/100\n",
            "24/24 [==============================] - 0s 5ms/step - loss: 1.1965e-04 - val_loss: 3.8170e-04\n",
            "Epoch 86/100\n",
            "24/24 [==============================] - 0s 5ms/step - loss: 1.1970e-04 - val_loss: 3.3263e-04\n",
            "Epoch 87/100\n",
            "24/24 [==============================] - 0s 5ms/step - loss: 1.2189e-04 - val_loss: 2.9791e-04\n",
            "Epoch 88/100\n",
            "24/24 [==============================] - 0s 5ms/step - loss: 1.3177e-04 - val_loss: 2.7710e-04\n",
            "Epoch 89/100\n",
            "24/24 [==============================] - 0s 5ms/step - loss: 1.2924e-04 - val_loss: 2.8210e-04\n",
            "Epoch 90/100\n",
            "24/24 [==============================] - 0s 5ms/step - loss: 1.1988e-04 - val_loss: 3.1118e-04\n",
            "Epoch 91/100\n",
            "24/24 [==============================] - 0s 5ms/step - loss: 1.2299e-04 - val_loss: 2.8559e-04\n",
            "Epoch 92/100\n",
            "24/24 [==============================] - 0s 5ms/step - loss: 1.2536e-04 - val_loss: 3.0618e-04\n",
            "Epoch 93/100\n",
            "24/24 [==============================] - 0s 5ms/step - loss: 1.2145e-04 - val_loss: 2.8737e-04\n",
            "Epoch 94/100\n",
            "24/24 [==============================] - 0s 5ms/step - loss: 1.2126e-04 - val_loss: 3.4700e-04\n",
            "Epoch 95/100\n",
            "24/24 [==============================] - 0s 7ms/step - loss: 1.2141e-04 - val_loss: 3.3557e-04\n",
            "Epoch 96/100\n",
            "24/24 [==============================] - 0s 6ms/step - loss: 1.2019e-04 - val_loss: 4.2053e-04\n",
            "Epoch 97/100\n",
            "24/24 [==============================] - 0s 6ms/step - loss: 1.2888e-04 - val_loss: 2.7106e-04\n",
            "Epoch 98/100\n",
            "24/24 [==============================] - 0s 6ms/step - loss: 1.2645e-04 - val_loss: 2.7440e-04\n",
            "Epoch 99/100\n",
            "24/24 [==============================] - 0s 6ms/step - loss: 1.1924e-04 - val_loss: 3.0323e-04\n",
            "Epoch 100/100\n",
            "24/24 [==============================] - 0s 6ms/step - loss: 1.2449e-04 - val_loss: 2.7509e-04\n"
          ]
        },
        {
          "output_type": "execute_result",
          "data": {
            "text/plain": [
              "<keras.callbacks.History at 0x7f079b884730>"
            ]
          },
          "metadata": {},
          "execution_count": 102
        }
      ]
    },
    {
      "cell_type": "code",
      "source": [
        "# 10. Dự báo dữ liệu test, val\n",
        "train_predict=model.predict(X_train)\n",
        "y_pred=model.predict(X_test)\n",
        "y_pred_val=model.predict(X_val)"
      ],
      "metadata": {
        "id": "mTKUqEnwW6vI",
        "colab": {
          "base_uri": "https://localhost:8080/"
        },
        "outputId": "dd6fbce0-641d-4abb-d34b-7efb8570bedb"
      },
      "execution_count": null,
      "outputs": [
        {
          "output_type": "stream",
          "name": "stdout",
          "text": [
            "47/47 [==============================] - 0s 2ms/step\n",
            "14/14 [==============================] - 0s 2ms/step\n",
            "7/7 [==============================] - 0s 2ms/step\n"
          ]
        }
      ]
    },
    {
      "cell_type": "code",
      "source": [
        "# 11. Chuẩn hóa dữ liệu y_pred, y_pred_val\n",
        "train_predict=scaler.inverse_transform(train_predict)\n",
        "y_pred=scaler.inverse_transform(y_pred)\n",
        "y_pred_val=scaler.inverse_transform(y_pred_val)"
      ],
      "metadata": {
        "id": "J1Bg7GRHW8Hm"
      },
      "execution_count": null,
      "outputs": []
    },
    {
      "cell_type": "code",
      "source": [
        "ytest = scaler.inverse_transform(ytest.reshape(-1,1))\n",
        "yval = scaler.inverse_transform(yval.reshape(-1,1))"
      ],
      "metadata": {
        "id": "BFiU5npuLHHY"
      },
      "execution_count": null,
      "outputs": []
    },
    {
      "cell_type": "code",
      "source": [
        "# 12. Đánh giá độ chính xác thuật toán bằng RMSE\n",
        "valid_rmse = np.sqrt(np.mean((y_pred_val - yval)**2))\n",
        "test_rmse = np.sqrt(np.mean((y_pred - ytest)**2))\n",
        "test_mae = np.mean(np.abs(y_pred - ytest))\n",
        "valid_mae = np.mean(np.abs(y_pred_val - yval))\n",
        "test_mape = np.mean(np.abs((y_pred - ytest) / ytest)) * 100\n",
        "valid_mape = np.mean(np.abs((y_pred_val - yval) / np.where(yval != 0, yval, 1))) * 100\n",
        "\n",
        "print('Validation RMSE:', valid_rmse)\n",
        "print('Testing RMSE:', test_rmse)\n",
        "print('Testing MAE:', test_mae)\n",
        "print('Validation MAE:', valid_mae)\n",
        "print('Testing MAPE:', test_mape)\n",
        "print('Validation MAPE:', valid_mape)"
      ],
      "metadata": {
        "id": "tDA3g5qyW9eu",
        "colab": {
          "base_uri": "https://localhost:8080/"
        },
        "outputId": "cb3683a9-5ca3-48f3-afde-c5155fbaeae7"
      },
      "execution_count": null,
      "outputs": [
        {
          "output_type": "stream",
          "name": "stdout",
          "text": [
            "Validation RMSE: 2.642094814399592\n",
            "Testing RMSE: 2.625374767761048\n",
            "Testing MAE: 2.0039373418568998\n",
            "Validation MAE: 2.0262790032152864\n",
            "Testing MAPE: 1.112868363884046\n",
            "Validation MAPE: 1.2864229041158426\n"
          ]
        }
      ]
    },
    {
      "cell_type": "code",
      "source": [
        "# 13. Dự báo 30 ngày tiếp theo\n",
        "x_input=val_data[213:].reshape(1,-1)\n",
        "x_input.shape\n",
        "\n",
        "temp_input=list(x_input)\n",
        "temp_input=temp_input[0].tolist()\n",
        "\n",
        "from numpy import array\n",
        "\n",
        "lst_output=[]\n",
        "n_steps=1\n",
        "i=0\n",
        "while(i<30):\n",
        "\n",
        "    if(len(temp_input)>1):\n",
        "        #print(temp_input)\n",
        "        x_input=np.array(temp_input[1:])\n",
        "        # print(\"{} day input {}\".format(i,x_input))\n",
        "        x_input=x_input.reshape(1,-1)\n",
        "        x_input = x_input.reshape((1, n_steps, 1))\n",
        "        #print(x_input)\n",
        "        yhat = model.predict(x_input, verbose=0)\n",
        "        # print(\"{} day output {}\".format(i,yhat))\n",
        "        temp_input.extend(yhat[0].tolist())\n",
        "        temp_input=temp_input[1:]\n",
        "        #print(temp_input)\n",
        "        lst_output.extend(yhat.tolist())\n",
        "        i=i+1\n",
        "    else:\n",
        "        x_input = x_input.reshape((1, n_steps,1))\n",
        "        yhat = model.predict(x_input, verbose=0)\n",
        "        print(yhat[0])\n",
        "        temp_input.extend(yhat[0].tolist())\n",
        "        print(len(temp_input))\n",
        "        lst_output.extend(yhat.tolist())\n",
        "        i=i+1\n"
      ],
      "metadata": {
        "id": "qlAAPYBeXBgu",
        "colab": {
          "base_uri": "https://localhost:8080/"
        },
        "outputId": "596609a9-9ea4-42c2-b423-b4b02b9fb561"
      },
      "execution_count": null,
      "outputs": [
        {
          "output_type": "stream",
          "name": "stdout",
          "text": [
            "[0.53083354]\n",
            "2\n"
          ]
        }
      ]
    },
    {
      "cell_type": "code",
      "source": [
        "# 14.Vẽ hình\n",
        "train_data_index = pd.RangeIndex(start=0, stop=train_size, step=1)\n",
        "plt.plot(scaler.inverse_transform(train_data))\n",
        "test_data_index = pd.RangeIndex(start=train_size, stop=train_size+test_size, step=1)\n",
        "plt.plot(test_data_index,scaler.inverse_transform(test_data))\n",
        "test_data_index = pd.RangeIndex(start=train_size+2, stop=train_size+test_size, step=1)\n",
        "plt.plot(test_data_index,(y_pred))\n",
        "val_data_index = pd.RangeIndex(start=train_size+test_size, stop=train_size+test_size+val_size, step=1)\n",
        "plt.plot(val_data_index,scaler.inverse_transform(val_data))\n",
        "val_data_index = pd.RangeIndex(start=train_size+test_size+2, stop=train_size+test_size+val_size, step=1)\n",
        "plt.plot(val_data_index,y_pred_val)\n",
        "prediect_data_index = pd.RangeIndex(start=len(df1)-1, stop=len(df1)+29, step=1)\n",
        "plt.plot(prediect_data_index,scaler.inverse_transform(lst_output))\n",
        "plt.legend(['Train','Test','Predict','Validate','ValidatePred','Predict30days'])\n",
        "plt.show()"
      ],
      "metadata": {
        "id": "ox0p_AvFXDIX",
        "colab": {
          "base_uri": "https://localhost:8080/",
          "height": 430
        },
        "outputId": "0d1df4be-586b-465d-efc4-427d4769b2f7"
      },
      "execution_count": null,
      "outputs": [
        {
          "output_type": "display_data",
          "data": {
            "text/plain": [
              "<Figure size 640x480 with 1 Axes>"
            ],
            "image/png": "[encoded data removed]"
          },
          "metadata": {}
        }
      ]
    },
    {
      "cell_type": "code",
      "source": [
        "scaler.inverse_transform(lst_output)"
      ],
      "metadata": {
        "id": "3IesuSALXEfu",
        "colab": {
          "base_uri": "https://localhost:8080/"
        },
        "outputId": "9a5bef7c-b782-4447-ac57-660afcebb9f0"
      },
      "execution_count": null,
      "outputs": [
        {
          "output_type": "execute_result",
          "data": {
            "text/plain": [
              "array([[155.17564142],\n",
              "       [155.05950823],\n",
              "       [154.94159186],\n",
              "       [154.82185457],\n",
              "       [154.70024918],\n",
              "       [154.57681344],\n",
              "       [154.45146243],\n",
              "       [154.32420559],\n",
              "       [154.19500518],\n",
              "       [154.06384232],\n",
              "       [153.93068872],\n",
              "       [153.79553493],\n",
              "       [153.65835266],\n",
              "       [153.51912303],\n",
              "       [153.37781775],\n",
              "       [153.23439906],\n",
              "       [153.08886697],\n",
              "       [152.94118375],\n",
              "       [152.79133051],\n",
              "       [152.63927897],\n",
              "       [152.48501024],\n",
              "       [152.32848659],\n",
              "       [152.16971745],\n",
              "       [152.00866508],\n",
              "       [151.84529176],\n",
              "       [151.67957859],\n",
              "       [151.51151616],\n",
              "       [151.34105728],\n",
              "       [151.16821139],\n",
              "       [150.99293132]])"
            ]
          },
          "metadata": {},
          "execution_count": 109
        }
      ]
    }
  ],
  "metadata": {
    "colab": {
      "provenance": [],
      "toc_visible": true
    },
    "kernelspec": {
      "display_name": "Python 3",
      "name": "python3"
    },
    "language_info": {
      "codemirror_mode": {
        "name": "ipython",
        "version": 3
      },
      "file_extension": ".py",
      "mimetype": "text/x-python",
      "name": "python",
      "nbconvert_exporter": "python",
      "pygments_lexer": "ipython3",
      "version": "3.10.11"
    }
  },
  "nbformat": 4,
  "nbformat_minor": 0
}