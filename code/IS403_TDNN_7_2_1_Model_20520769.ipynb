{
  "cells": [
    {
      "cell_type": "markdown",
      "source": [
        "# Dataset ARE"
      ],
      "metadata": {
        "id": "bJevkLRA9oKD"
      }
    },
    {
      "cell_type": "code",
      "execution_count": null,
      "metadata": {
        "id": "FMDKda-XIUAK"
      },
      "outputs": [],
      "source": [
        "# 1. Import thư viện cần thiết\n",
        "import numpy as np\n",
        "import pandas as pd\n",
        "import matplotlib.pyplot as plt\n",
        "from sklearn.preprocessing import MinMaxScaler\n",
        "from sklearn.metrics import mean_squared_error\n",
        "from tensorflow.keras.models import Sequential\n",
        "from tensorflow.keras.layers import Dense, InputLayer, TimeDistributed, Flatten, Conv1D"
      ]
    },
    {
      "cell_type": "code",
      "execution_count": null,
      "metadata": {
        "id": "aRm9GQ8KJJ5N"
      },
      "outputs": [],
      "source": [
        "# 2. Đọc file csv và gắng index với giá Close\n",
        "df = pd.read_csv('ARE-Historical-Data-final.csv')\n",
        "df1=df.reset_index()['Price']"
      ]
    },
    {
      "cell_type": "code",
      "execution_count": null,
      "metadata": {
        "id": "RdVpDho2JgL5"
      },
      "outputs": [],
      "source": [
        "# 3. Scaler data\n",
        "scaler=MinMaxScaler(feature_range=(0,1))\n",
        "df1=scaler.fit_transform(np.array(df1).reshape(-1,1))"
      ]
    },
    {
      "cell_type": "code",
      "execution_count": null,
      "metadata": {
        "id": "B5JXpenzJoR3"
      },
      "outputs": [],
      "source": [
        "# 4. Chia train test\n",
        "train_size = int(0.7 * len(df1))\n",
        "test_size = int(0.2 * len(df1))\n",
        "val_size = len(df1) - train_size - test_size\n",
        "\n",
        "train_data = df1[:train_size]\n",
        "test_data = df1[train_size:train_size+test_size]\n",
        "val_data = df1[train_size+test_size:]"
      ]
    },
    {
      "cell_type": "code",
      "execution_count": null,
      "metadata": {
        "id": "yJfmuBORLSfC"
      },
      "outputs": [],
      "source": [
        "# 5. Hàm Create Dataset\n",
        "import numpy\n",
        "# convert an array of values into a dataset matrix\n",
        "def create_dataset(dataset, time_step=1):\n",
        "\tdataX, dataY = [], []\n",
        "\tfor i in range(len(dataset)-time_step-1):\n",
        "\t\ta = dataset[i:(i+time_step), 0]   ###i=0, X=0,1,2,3-----99   Y=100\n",
        "\t\tdataX.append(a)\n",
        "\t\tdataY.append(dataset[i + time_step, 0])\n",
        "\treturn numpy.array(dataX), numpy.array(dataY)"
      ]
    },
    {
      "cell_type": "code",
      "execution_count": null,
      "metadata": {
        "id": "e81cKq03LXFB"
      },
      "outputs": [],
      "source": [
        "#6. Reshape into X=t,t+1,t+2..t+99 and Y=t+100\n",
        "time_step = 1\n",
        "X_train, y_train = create_dataset(train_data, time_step)\n",
        "X_val, yval = create_dataset(val_data, time_step)\n",
        "X_test, ytest = create_dataset(test_data, time_step)"
      ]
    },
    {
      "cell_type": "code",
      "execution_count": null,
      "metadata": {
        "id": "RdBVfku7O2qb"
      },
      "outputs": [],
      "source": [
        "# 7. Reshape input to be [samples, time steps, features] which is required for LSTM\n",
        "X_train =X_train.reshape(X_train.shape[0],X_train.shape[1] , 1)\n",
        "X_test = X_test.reshape(X_test.shape[0],X_test.shape[1] , 1)\n",
        "X_val = X_val.reshape(X_val.shape[0],X_val.shape[1] , 1)"
      ]
    },
    {
      "cell_type": "code",
      "execution_count": null,
      "metadata": {
        "id": "sSfxrE7BO9vX"
      },
      "outputs": [],
      "source": [
        "# Xây dựng mô hình TDNN\n",
        "window_size = 1\n",
        "model = Sequential()\n",
        "model.add(InputLayer(input_shape=(window_size, 1)))  # Kích thước đầu vào: (số thời điểm, số đặc trưng)\n",
        "model.add(TimeDistributed(Dense(64, activation='relu')))  # Lớp TimeDistributed với lớp Dense 64 đơn vị và hàm kích hoạt ReLU\n",
        "model.add(TimeDistributed(Dense(32, activation='relu')))  # Lớp TimeDistributed với lớp Dense 32 đơn vị và hàm kích hoạt ReLU\n",
        "model.add(Flatten())  # Dùng để làm phẳng dữ liệu đầu ra từ các lớp TimeDistributed\n",
        "model.add(Dense(1))"
      ]
    },
    {
      "cell_type": "code",
      "execution_count": null,
      "metadata": {
        "id": "zgfeujZSPEKr",
        "colab": {
          "base_uri": "https://localhost:8080/"
        },
        "outputId": "880dda81-38f9-4a6e-9153-69c17c2b9af8"
      },
      "outputs": [
        {
          "output_type": "stream",
          "name": "stdout",
          "text": [
            "Epoch 1/100\n",
            "24/24 [==============================] - 1s 10ms/step - loss: 0.1131 - val_loss: 0.2884\n",
            "Epoch 2/100\n",
            "24/24 [==============================] - 0s 10ms/step - loss: 0.0286 - val_loss: 0.0758\n",
            "Epoch 3/100\n",
            "24/24 [==============================] - 0s 7ms/step - loss: 0.0074 - val_loss: 0.0295\n",
            "Epoch 4/100\n",
            "24/24 [==============================] - 0s 3ms/step - loss: 0.0052 - val_loss: 0.0260\n",
            "Epoch 5/100\n",
            "24/24 [==============================] - 0s 3ms/step - loss: 0.0034 - val_loss: 0.0203\n",
            "Epoch 6/100\n",
            "24/24 [==============================] - 0s 3ms/step - loss: 0.0021 - val_loss: 0.0126\n",
            "Epoch 7/100\n",
            "24/24 [==============================] - 0s 3ms/step - loss: 0.0010 - val_loss: 0.0066\n",
            "Epoch 8/100\n",
            "24/24 [==============================] - 0s 3ms/step - loss: 3.2719e-04 - val_loss: 0.0034\n",
            "Epoch 9/100\n",
            "24/24 [==============================] - 0s 2ms/step - loss: 1.9039e-04 - val_loss: 0.0024\n",
            "Epoch 10/100\n",
            "24/24 [==============================] - 0s 3ms/step - loss: 1.8235e-04 - val_loss: 0.0021\n",
            "Epoch 11/100\n",
            "24/24 [==============================] - 0s 3ms/step - loss: 1.8181e-04 - val_loss: 0.0020\n",
            "Epoch 12/100\n",
            "24/24 [==============================] - 0s 3ms/step - loss: 1.8015e-04 - val_loss: 0.0018\n",
            "Epoch 13/100\n",
            "24/24 [==============================] - 0s 3ms/step - loss: 1.7750e-04 - val_loss: 0.0018\n",
            "Epoch 14/100\n",
            "24/24 [==============================] - 0s 2ms/step - loss: 1.7690e-04 - val_loss: 0.0017\n",
            "Epoch 15/100\n",
            "24/24 [==============================] - 0s 3ms/step - loss: 1.7822e-04 - val_loss: 0.0017\n",
            "Epoch 16/100\n",
            "24/24 [==============================] - 0s 2ms/step - loss: 1.7872e-04 - val_loss: 0.0017\n",
            "Epoch 17/100\n",
            "24/24 [==============================] - 0s 2ms/step - loss: 1.7543e-04 - val_loss: 0.0018\n",
            "Epoch 18/100\n",
            "24/24 [==============================] - 0s 2ms/step - loss: 1.7808e-04 - val_loss: 0.0016\n",
            "Epoch 19/100\n",
            "24/24 [==============================] - 0s 2ms/step - loss: 1.7575e-04 - val_loss: 0.0017\n",
            "Epoch 20/100\n",
            "24/24 [==============================] - 0s 2ms/step - loss: 1.8308e-04 - val_loss: 0.0016\n",
            "Epoch 21/100\n",
            "24/24 [==============================] - 0s 2ms/step - loss: 1.7446e-04 - val_loss: 0.0015\n",
            "Epoch 22/100\n",
            "24/24 [==============================] - 0s 2ms/step - loss: 1.7429e-04 - val_loss: 0.0015\n",
            "Epoch 23/100\n",
            "24/24 [==============================] - 0s 3ms/step - loss: 1.7680e-04 - val_loss: 0.0016\n",
            "Epoch 24/100\n",
            "24/24 [==============================] - 0s 2ms/step - loss: 1.7188e-04 - val_loss: 0.0015\n",
            "Epoch 25/100\n",
            "24/24 [==============================] - 0s 2ms/step - loss: 1.7380e-04 - val_loss: 0.0015\n",
            "Epoch 26/100\n",
            "24/24 [==============================] - 0s 2ms/step - loss: 1.7302e-04 - val_loss: 0.0015\n",
            "Epoch 27/100\n",
            "24/24 [==============================] - 0s 2ms/step - loss: 1.7306e-04 - val_loss: 0.0014\n",
            "Epoch 28/100\n",
            "24/24 [==============================] - 0s 2ms/step - loss: 1.7464e-04 - val_loss: 0.0015\n",
            "Epoch 29/100\n",
            "24/24 [==============================] - 0s 2ms/step - loss: 1.7319e-04 - val_loss: 0.0016\n",
            "Epoch 30/100\n",
            "24/24 [==============================] - 0s 3ms/step - loss: 1.7916e-04 - val_loss: 0.0014\n",
            "Epoch 31/100\n",
            "24/24 [==============================] - 0s 3ms/step - loss: 1.7427e-04 - val_loss: 0.0016\n",
            "Epoch 32/100\n",
            "24/24 [==============================] - 0s 2ms/step - loss: 1.7397e-04 - val_loss: 0.0014\n",
            "Epoch 33/100\n",
            "24/24 [==============================] - 0s 3ms/step - loss: 1.7252e-04 - val_loss: 0.0014\n",
            "Epoch 34/100\n",
            "24/24 [==============================] - 0s 3ms/step - loss: 1.7331e-04 - val_loss: 0.0014\n",
            "Epoch 35/100\n",
            "24/24 [==============================] - 0s 3ms/step - loss: 1.7699e-04 - val_loss: 0.0015\n",
            "Epoch 36/100\n",
            "24/24 [==============================] - 0s 3ms/step - loss: 1.7531e-04 - val_loss: 0.0014\n",
            "Epoch 37/100\n",
            "24/24 [==============================] - 0s 2ms/step - loss: 1.7390e-04 - val_loss: 0.0014\n",
            "Epoch 38/100\n",
            "24/24 [==============================] - 0s 3ms/step - loss: 1.7204e-04 - val_loss: 0.0015\n",
            "Epoch 39/100\n",
            "24/24 [==============================] - 0s 2ms/step - loss: 1.7034e-04 - val_loss: 0.0014\n",
            "Epoch 40/100\n",
            "24/24 [==============================] - 0s 3ms/step - loss: 1.7265e-04 - val_loss: 0.0014\n",
            "Epoch 41/100\n",
            "24/24 [==============================] - 0s 3ms/step - loss: 1.7062e-04 - val_loss: 0.0015\n",
            "Epoch 42/100\n",
            "24/24 [==============================] - 0s 2ms/step - loss: 1.7430e-04 - val_loss: 0.0013\n",
            "Epoch 43/100\n",
            "24/24 [==============================] - 0s 2ms/step - loss: 1.7474e-04 - val_loss: 0.0014\n",
            "Epoch 44/100\n",
            "24/24 [==============================] - 0s 3ms/step - loss: 1.7729e-04 - val_loss: 0.0015\n",
            "Epoch 45/100\n",
            "24/24 [==============================] - 0s 3ms/step - loss: 1.7277e-04 - val_loss: 0.0014\n",
            "Epoch 46/100\n",
            "24/24 [==============================] - 0s 2ms/step - loss: 1.7166e-04 - val_loss: 0.0014\n",
            "Epoch 47/100\n",
            "24/24 [==============================] - 0s 2ms/step - loss: 1.7655e-04 - val_loss: 0.0014\n",
            "Epoch 48/100\n",
            "24/24 [==============================] - 0s 3ms/step - loss: 1.7037e-04 - val_loss: 0.0014\n",
            "Epoch 49/100\n",
            "24/24 [==============================] - 0s 3ms/step - loss: 1.7372e-04 - val_loss: 0.0014\n",
            "Epoch 50/100\n",
            "24/24 [==============================] - 0s 2ms/step - loss: 1.7407e-04 - val_loss: 0.0014\n",
            "Epoch 51/100\n",
            "24/24 [==============================] - 0s 2ms/step - loss: 1.7291e-04 - val_loss: 0.0013\n",
            "Epoch 52/100\n",
            "24/24 [==============================] - 0s 2ms/step - loss: 1.7210e-04 - val_loss: 0.0013\n",
            "Epoch 53/100\n",
            "24/24 [==============================] - 0s 3ms/step - loss: 1.7573e-04 - val_loss: 0.0015\n",
            "Epoch 54/100\n",
            "24/24 [==============================] - 0s 3ms/step - loss: 1.7279e-04 - val_loss: 0.0013\n",
            "Epoch 55/100\n",
            "24/24 [==============================] - 0s 2ms/step - loss: 1.7731e-04 - val_loss: 0.0013\n",
            "Epoch 56/100\n",
            "24/24 [==============================] - 0s 2ms/step - loss: 1.7492e-04 - val_loss: 0.0015\n",
            "Epoch 57/100\n",
            "24/24 [==============================] - 0s 2ms/step - loss: 1.7003e-04 - val_loss: 0.0014\n",
            "Epoch 58/100\n",
            "24/24 [==============================] - 0s 2ms/step - loss: 1.7176e-04 - val_loss: 0.0015\n",
            "Epoch 59/100\n",
            "24/24 [==============================] - 0s 3ms/step - loss: 1.7378e-04 - val_loss: 0.0015\n",
            "Epoch 60/100\n",
            "24/24 [==============================] - 0s 2ms/step - loss: 1.7784e-04 - val_loss: 0.0014\n",
            "Epoch 61/100\n",
            "24/24 [==============================] - 0s 3ms/step - loss: 1.7391e-04 - val_loss: 0.0014\n",
            "Epoch 62/100\n",
            "24/24 [==============================] - 0s 2ms/step - loss: 1.7574e-04 - val_loss: 0.0013\n",
            "Epoch 63/100\n",
            "24/24 [==============================] - 0s 2ms/step - loss: 1.7113e-04 - val_loss: 0.0014\n",
            "Epoch 64/100\n",
            "24/24 [==============================] - 0s 2ms/step - loss: 1.7101e-04 - val_loss: 0.0013\n",
            "Epoch 65/100\n",
            "24/24 [==============================] - 0s 3ms/step - loss: 1.7279e-04 - val_loss: 0.0014\n",
            "Epoch 66/100\n",
            "24/24 [==============================] - 0s 3ms/step - loss: 1.7162e-04 - val_loss: 0.0013\n",
            "Epoch 67/100\n",
            "24/24 [==============================] - 0s 3ms/step - loss: 1.7286e-04 - val_loss: 0.0014\n",
            "Epoch 68/100\n",
            "24/24 [==============================] - 0s 3ms/step - loss: 1.7753e-04 - val_loss: 0.0014\n",
            "Epoch 69/100\n",
            "24/24 [==============================] - 0s 3ms/step - loss: 1.7308e-04 - val_loss: 0.0014\n",
            "Epoch 70/100\n",
            "24/24 [==============================] - 0s 3ms/step - loss: 1.8514e-04 - val_loss: 0.0014\n",
            "Epoch 71/100\n",
            "24/24 [==============================] - 0s 2ms/step - loss: 1.7400e-04 - val_loss: 0.0013\n",
            "Epoch 72/100\n",
            "24/24 [==============================] - 0s 3ms/step - loss: 1.7657e-04 - val_loss: 0.0012\n",
            "Epoch 73/100\n",
            "24/24 [==============================] - 0s 3ms/step - loss: 1.8088e-04 - val_loss: 0.0012\n",
            "Epoch 74/100\n",
            "24/24 [==============================] - 0s 3ms/step - loss: 1.8227e-04 - val_loss: 0.0012\n",
            "Epoch 75/100\n",
            "24/24 [==============================] - 0s 3ms/step - loss: 1.8014e-04 - val_loss: 0.0013\n",
            "Epoch 76/100\n",
            "24/24 [==============================] - 0s 3ms/step - loss: 1.7019e-04 - val_loss: 0.0012\n",
            "Epoch 77/100\n",
            "24/24 [==============================] - 0s 3ms/step - loss: 1.7571e-04 - val_loss: 0.0014\n",
            "Epoch 78/100\n",
            "24/24 [==============================] - 0s 4ms/step - loss: 1.7547e-04 - val_loss: 0.0014\n",
            "Epoch 79/100\n",
            "24/24 [==============================] - 0s 3ms/step - loss: 1.6984e-04 - val_loss: 0.0013\n",
            "Epoch 80/100\n",
            "24/24 [==============================] - 0s 3ms/step - loss: 1.7353e-04 - val_loss: 0.0013\n",
            "Epoch 81/100\n",
            "24/24 [==============================] - 0s 3ms/step - loss: 1.7359e-04 - val_loss: 0.0013\n",
            "Epoch 82/100\n",
            "24/24 [==============================] - 0s 3ms/step - loss: 1.7128e-04 - val_loss: 0.0013\n",
            "Epoch 83/100\n",
            "24/24 [==============================] - 0s 3ms/step - loss: 1.7666e-04 - val_loss: 0.0013\n",
            "Epoch 84/100\n",
            "24/24 [==============================] - 0s 3ms/step - loss: 1.7169e-04 - val_loss: 0.0013\n",
            "Epoch 85/100\n",
            "24/24 [==============================] - 0s 3ms/step - loss: 1.7422e-04 - val_loss: 0.0014\n",
            "Epoch 86/100\n",
            "24/24 [==============================] - 0s 4ms/step - loss: 1.7795e-04 - val_loss: 0.0013\n",
            "Epoch 87/100\n",
            "24/24 [==============================] - 0s 3ms/step - loss: 1.7415e-04 - val_loss: 0.0013\n",
            "Epoch 88/100\n",
            "24/24 [==============================] - 0s 3ms/step - loss: 1.7083e-04 - val_loss: 0.0013\n",
            "Epoch 89/100\n",
            "24/24 [==============================] - 0s 4ms/step - loss: 1.7730e-04 - val_loss: 0.0012\n",
            "Epoch 90/100\n",
            "24/24 [==============================] - 0s 3ms/step - loss: 1.7455e-04 - val_loss: 0.0013\n",
            "Epoch 91/100\n",
            "24/24 [==============================] - 0s 2ms/step - loss: 1.7697e-04 - val_loss: 0.0014\n",
            "Epoch 92/100\n",
            "24/24 [==============================] - 0s 3ms/step - loss: 1.7486e-04 - val_loss: 0.0014\n",
            "Epoch 93/100\n",
            "24/24 [==============================] - 0s 3ms/step - loss: 1.8035e-04 - val_loss: 0.0017\n",
            "Epoch 94/100\n",
            "24/24 [==============================] - 0s 2ms/step - loss: 1.8727e-04 - val_loss: 0.0016\n",
            "Epoch 95/100\n",
            "24/24 [==============================] - 0s 2ms/step - loss: 1.7313e-04 - val_loss: 0.0013\n",
            "Epoch 96/100\n",
            "24/24 [==============================] - 0s 2ms/step - loss: 1.7630e-04 - val_loss: 0.0015\n",
            "Epoch 97/100\n",
            "24/24 [==============================] - 0s 2ms/step - loss: 1.7470e-04 - val_loss: 0.0013\n",
            "Epoch 98/100\n",
            "24/24 [==============================] - 0s 2ms/step - loss: 1.7698e-04 - val_loss: 0.0012\n",
            "Epoch 99/100\n",
            "24/24 [==============================] - 0s 3ms/step - loss: 1.8973e-04 - val_loss: 0.0014\n",
            "Epoch 100/100\n",
            "24/24 [==============================] - 0s 2ms/step - loss: 1.8746e-04 - val_loss: 0.0013\n"
          ]
        },
        {
          "output_type": "execute_result",
          "data": {
            "text/plain": [
              "<keras.callbacks.History at 0x7f9a0fbbdc60>"
            ]
          },
          "metadata": {},
          "execution_count": 364
        }
      ],
      "source": [
        "# 9. Fit mô hình với dữ liệu train\n",
        "model.compile(optimizer='adam', loss='mean_squared_error')\n",
        "model.fit(X_train,y_train,validation_data=(X_test,ytest),epochs=100,batch_size=64,verbose=1)"
      ]
    },
    {
      "cell_type": "code",
      "execution_count": null,
      "metadata": {
        "id": "Rxx_KQSkQpBG",
        "colab": {
          "base_uri": "https://localhost:8080/"
        },
        "outputId": "c4f88184-0814-4944-c278-3f08408116d0"
      },
      "outputs": [
        {
          "output_type": "stream",
          "name": "stdout",
          "text": [
            "47/47 [==============================] - 0s 759us/step\n",
            "14/14 [==============================] - 0s 901us/step\n",
            "7/7 [==============================] - 0s 2ms/step\n"
          ]
        }
      ],
      "source": [
        "# 10. Dự báo dữ liệu test, val\n",
        "train_predict=model.predict(X_train)\n",
        "y_pred=model.predict(X_test)\n",
        "y_pred_val=model.predict(X_val)"
      ]
    },
    {
      "cell_type": "code",
      "execution_count": null,
      "metadata": {
        "id": "5rwTN10LQ7rj"
      },
      "outputs": [],
      "source": [
        "# 11. Chuẩn hóa dữ liệu y_pred, y_pred_val\n",
        "train_predict=scaler.inverse_transform(train_predict)\n",
        "y_pred=scaler.inverse_transform(y_pred)\n",
        "y_pred_val=scaler.inverse_transform(y_pred_val)"
      ]
    },
    {
      "cell_type": "code",
      "source": [
        "ytest = scaler.inverse_transform(ytest.reshape(-1,1))\n",
        "yval = scaler.inverse_transform(yval.reshape(-1,1))"
      ],
      "metadata": {
        "id": "MsDKhZ-_LiV6"
      },
      "execution_count": null,
      "outputs": []
    },
    {
      "cell_type": "code",
      "execution_count": null,
      "metadata": {
        "id": "wu_9j94kRonD",
        "colab": {
          "base_uri": "https://localhost:8080/"
        },
        "outputId": "d921ed05-43cf-48e1-99ad-a339bd3aed39"
      },
      "outputs": [
        {
          "output_type": "stream",
          "name": "stdout",
          "text": [
            "Validation RMSE: 2.8939281103692642\n",
            "Testing RMSE: 5.454342572718391\n",
            "Testing MAE: 4.3199712528742795\n",
            "Validation MAE: 2.223133187923791\n",
            "Testing MAPE: 2.246780222359294\n",
            "Validation MAPE: 1.588157076398752\n"
          ]
        }
      ],
      "source": [
        "# 12. Đánh giá độ chính xác thuật toán bằng RMSE\n",
        "valid_rmse = np.sqrt(np.mean((y_pred_val - yval)**2))\n",
        "test_rmse = np.sqrt(np.mean((y_pred - ytest)**2))\n",
        "test_mae = np.mean(np.abs(y_pred - ytest))\n",
        "valid_mae = np.mean(np.abs(y_pred_val - yval))\n",
        "test_mape = np.mean(np.abs((y_pred - ytest) / ytest)) * 100\n",
        "valid_mape = np.mean(np.abs((y_pred_val - yval) / np.where(yval != 0, yval, 1))) * 100\n",
        "\n",
        "print('Validation RMSE:', valid_rmse)\n",
        "print('Testing RMSE:', test_rmse)\n",
        "print('Testing MAE:', test_mae)\n",
        "print('Validation MAE:', valid_mae)\n",
        "print('Testing MAPE:', test_mape)\n",
        "print('Validation MAPE:', valid_mape)"
      ]
    },
    {
      "cell_type": "code",
      "execution_count": null,
      "metadata": {
        "id": "izQZ1iQyYl6N"
      },
      "outputs": [],
      "source": [
        "# Dự báo 7 ngày tiếp theo\n",
        "x_input = val_data[-1:].reshape(1, -1)\n",
        "temp_input = list(x_input)\n",
        "temp_input = temp_input[0].tolist()\n",
        "\n",
        "lst_output = []\n",
        "n_steps = 1\n",
        "i = 0\n",
        "\n",
        "while i < 7:\n",
        "    if len(temp_input) > 100:\n",
        "        x_input = np.array(temp_input[1:])\n",
        "        x_input = x_input.reshape(1, -1)\n",
        "        x_input = x_input.reshape((1, n_steps, 1))\n",
        "        yhat = model.predict(x_input, verbose=0)\n",
        "        temp_input.extend(yhat[0].tolist())\n",
        "        temp_input = temp_input[1:]\n",
        "        lst_output.extend(yhat.tolist())\n",
        "        i += 1\n",
        "    else:\n",
        "        x_input = x_input.reshape((1, n_steps, 1))\n",
        "        yhat = model.predict(x_input, verbose=0)\n",
        "        temp_input.extend(yhat[0].tolist())\n",
        "        lst_output.extend(yhat.tolist())\n",
        "        i += 1"
      ]
    },
    {
      "cell_type": "code",
      "execution_count": null,
      "metadata": {
        "id": "KSa_mX51a654",
        "colab": {
          "base_uri": "https://localhost:8080/",
          "height": 430
        },
        "outputId": "336288ff-6495-4b28-d818-d3e8a52d05e3"
      },
      "outputs": [
        {
          "output_type": "display_data",
          "data": {
            "text/plain": [
              "<Figure size 640x480 with 1 Axes>"
            ],
            "image/png": "[encoded data removed]"
          },
          "metadata": {}
        }
      ],
      "source": [
        "# 14.Vẽ hình\n",
        "train_data_index = pd.RangeIndex(start=0, stop=train_size, step=1)\n",
        "plt.plot(scaler.inverse_transform(train_data))\n",
        "test_data_index = pd.RangeIndex(start=train_size, stop=train_size+test_size, step=1)\n",
        "plt.plot(test_data_index,scaler.inverse_transform(test_data))\n",
        "test_data_index = pd.RangeIndex(start=train_size+2, stop=train_size+test_size, step=1)\n",
        "plt.plot(test_data_index,(y_pred))\n",
        "val_data_index = pd.RangeIndex(start=train_size+test_size, stop=train_size+test_size+val_size, step=1)\n",
        "plt.plot(val_data_index,scaler.inverse_transform(val_data))\n",
        "val_data_index = pd.RangeIndex(start=train_size+test_size+2, stop=train_size+test_size+val_size, step=1)\n",
        "plt.plot(val_data_index,y_pred_val)\n",
        "prediect_data_index = pd.RangeIndex(start=len(df1)-1, stop=len(df1)+6, step=1)\n",
        "plt.plot(prediect_data_index,scaler.inverse_transform(lst_output))\n",
        "plt.legend(['Train','Test','Predict','Validate','ValidatePred','Predict7days'])\n",
        "plt.show()"
      ]
    },
    {
      "cell_type": "code",
      "source": [
        "scaler.inverse_transform(lst_output)"
      ],
      "metadata": {
        "colab": {
          "base_uri": "https://localhost:8080/"
        },
        "id": "h7-dzd86AKTM",
        "outputId": "67bed1f8-d444-442f-a944-953dce7d0266"
      },
      "execution_count": null,
      "outputs": [
        {
          "output_type": "execute_result",
          "data": {
            "text/plain": [
              "array([[116.13154807],\n",
              "       [116.13154807],\n",
              "       [116.13154807],\n",
              "       [116.13154807],\n",
              "       [116.13154807],\n",
              "       [116.13154807],\n",
              "       [116.13154807]])"
            ]
          },
          "metadata": {},
          "execution_count": 371
        }
      ]
    },
    {
      "cell_type": "markdown",
      "source": [
        "# Dataset ARI"
      ],
      "metadata": {
        "id": "g5BqR9zs9yg6"
      }
    },
    {
      "cell_type": "code",
      "source": [
        "# 2. Đọc file csv và gắng index với giá Close\n",
        "df = pd.read_csv('ARI-Historical-Data-final.csv')\n",
        "df1=df.reset_index()['Price']"
      ],
      "metadata": {
        "id": "IdhgtXRT91zq"
      },
      "execution_count": null,
      "outputs": []
    },
    {
      "cell_type": "code",
      "source": [
        "# 3. Scaler data\n",
        "scaler=MinMaxScaler(feature_range=(0,1))\n",
        "df1=scaler.fit_transform(np.array(df1).reshape(-1,1))"
      ],
      "metadata": {
        "id": "LTaXeMHH-JaC"
      },
      "execution_count": null,
      "outputs": []
    },
    {
      "cell_type": "code",
      "source": [
        "# 4. Chia train test\n",
        "train_size = int(0.7 * len(df1))\n",
        "test_size = int(0.2 * len(df1))\n",
        "val_size = len(df1) - train_size - test_size\n",
        "\n",
        "train_data = df1[:train_size]\n",
        "test_data = df1[train_size:train_size+test_size]\n",
        "val_data = df1[train_size+test_size:]"
      ],
      "metadata": {
        "id": "SCa7WB3b-K-b"
      },
      "execution_count": null,
      "outputs": []
    },
    {
      "cell_type": "code",
      "source": [
        "# 5. Hàm Create Dataset\n",
        "import numpy\n",
        "# convert an array of values into a dataset matrix\n",
        "def create_dataset(dataset, time_step=1):\n",
        "\tdataX, dataY = [], []\n",
        "\tfor i in range(len(dataset)-time_step-1):\n",
        "\t\ta = dataset[i:(i+time_step), 0]   ###i=0, X=0,1,2,3-----99   Y=100\n",
        "\t\tdataX.append(a)\n",
        "\t\tdataY.append(dataset[i + time_step, 0])\n",
        "\treturn numpy.array(dataX), numpy.array(dataY)"
      ],
      "metadata": {
        "id": "UZ2bnT-T-QET"
      },
      "execution_count": null,
      "outputs": []
    },
    {
      "cell_type": "code",
      "source": [
        "#6. Reshape into X=t,t+1,t+2..t+99 and Y=t+100\n",
        "\n",
        "time_step = 1\n",
        "X_train, y_train = create_dataset(train_data, time_step)\n",
        "X_val, yval = create_dataset(val_data, time_step)\n",
        "X_test, ytest = create_dataset(test_data, time_step)"
      ],
      "metadata": {
        "id": "bFGaNO8E-OFr"
      },
      "execution_count": null,
      "outputs": []
    },
    {
      "cell_type": "code",
      "source": [
        "# 7. Reshape input to be [samples, time steps, features] which is required for LSTM\n",
        "X_train =X_train.reshape(X_train.shape[0],X_train.shape[1] , 1)\n",
        "X_test = X_test.reshape(X_test.shape[0],X_test.shape[1] , 1)\n",
        "X_val = X_val.reshape(X_val.shape[0],X_val.shape[1] , 1)"
      ],
      "metadata": {
        "id": "E-Xg00ow-Sg8"
      },
      "execution_count": null,
      "outputs": []
    },
    {
      "cell_type": "code",
      "source": [
        "# Xây dựng mô hình TDNN\n",
        "window_size = 1\n",
        "model = Sequential()\n",
        "model.add(InputLayer(input_shape=(window_size, 1)))  # Kích thước đầu vào: (số thời điểm, số đặc trưng)\n",
        "model.add(TimeDistributed(Dense(64, activation='relu')))  # Lớp TimeDistributed với lớp Dense 64 đơn vị và hàm kích hoạt ReLU\n",
        "model.add(TimeDistributed(Dense(32, activation='relu')))  # Lớp TimeDistributed với lớp Dense 32 đơn vị và hàm kích hoạt ReLU\n",
        "model.add(Flatten())  # Dùng để làm phẳng dữ liệu đầu ra từ các lớp TimeDistributed\n",
        "model.add(Dense(1))"
      ],
      "metadata": {
        "id": "3gKDwlX3-T-7"
      },
      "execution_count": null,
      "outputs": []
    },
    {
      "cell_type": "code",
      "source": [
        "# 9. Fit mô hình với dữ liệu train\n",
        "model.compile(optimizer='adam', loss='mean_squared_error')\n",
        "model.fit(X_train,y_train,validation_data=(X_test,ytest),epochs=100,batch_size=64,verbose=1)"
      ],
      "metadata": {
        "colab": {
          "base_uri": "https://localhost:8080/"
        },
        "id": "3_z4SliP-VkK",
        "outputId": "c700e37c-658e-4fc3-9fe7-540d814397b5"
      },
      "execution_count": null,
      "outputs": [
        {
          "output_type": "stream",
          "name": "stdout",
          "text": [
            "Epoch 1/100\n",
            "24/24 [==============================] - 1s 6ms/step - loss: 0.4286 - val_loss: 0.0519\n",
            "Epoch 2/100\n",
            "24/24 [==============================] - 0s 2ms/step - loss: 0.0396 - val_loss: 0.0128\n",
            "Epoch 3/100\n",
            "24/24 [==============================] - 0s 3ms/step - loss: 0.0073 - val_loss: 0.0080\n",
            "Epoch 4/100\n",
            "24/24 [==============================] - 0s 3ms/step - loss: 0.0049 - val_loss: 0.0057\n",
            "Epoch 5/100\n",
            "24/24 [==============================] - 0s 2ms/step - loss: 0.0045 - val_loss: 0.0064\n",
            "Epoch 6/100\n",
            "24/24 [==============================] - 0s 3ms/step - loss: 0.0042 - val_loss: 0.0055\n",
            "Epoch 7/100\n",
            "24/24 [==============================] - 0s 2ms/step - loss: 0.0039 - val_loss: 0.0052\n",
            "Epoch 8/100\n",
            "24/24 [==============================] - 0s 2ms/step - loss: 0.0035 - val_loss: 0.0047\n",
            "Epoch 9/100\n",
            "24/24 [==============================] - 0s 3ms/step - loss: 0.0032 - val_loss: 0.0042\n",
            "Epoch 10/100\n",
            "24/24 [==============================] - 0s 2ms/step - loss: 0.0029 - val_loss: 0.0038\n",
            "Epoch 11/100\n",
            "24/24 [==============================] - 0s 2ms/step - loss: 0.0026 - val_loss: 0.0033\n",
            "Epoch 12/100\n",
            "24/24 [==============================] - 0s 3ms/step - loss: 0.0023 - val_loss: 0.0029\n",
            "Epoch 13/100\n",
            "24/24 [==============================] - 0s 2ms/step - loss: 0.0020 - val_loss: 0.0025\n",
            "Epoch 14/100\n",
            "24/24 [==============================] - 0s 2ms/step - loss: 0.0017 - val_loss: 0.0022\n",
            "Epoch 15/100\n",
            "24/24 [==============================] - 0s 2ms/step - loss: 0.0015 - val_loss: 0.0018\n",
            "Epoch 16/100\n",
            "24/24 [==============================] - 0s 3ms/step - loss: 0.0013 - val_loss: 0.0016\n",
            "Epoch 17/100\n",
            "24/24 [==============================] - 0s 2ms/step - loss: 0.0011 - val_loss: 0.0012\n",
            "Epoch 18/100\n",
            "24/24 [==============================] - 0s 3ms/step - loss: 9.5516e-04 - val_loss: 0.0011\n",
            "Epoch 19/100\n",
            "24/24 [==============================] - 0s 3ms/step - loss: 8.2260e-04 - val_loss: 8.8407e-04\n",
            "Epoch 20/100\n",
            "24/24 [==============================] - 0s 3ms/step - loss: 7.1125e-04 - val_loss: 7.4965e-04\n",
            "Epoch 21/100\n",
            "24/24 [==============================] - 0s 2ms/step - loss: 6.1808e-04 - val_loss: 6.4889e-04\n",
            "Epoch 22/100\n",
            "24/24 [==============================] - 0s 2ms/step - loss: 5.4108e-04 - val_loss: 5.3601e-04\n",
            "Epoch 23/100\n",
            "24/24 [==============================] - 0s 2ms/step - loss: 4.7676e-04 - val_loss: 4.2468e-04\n",
            "Epoch 24/100\n",
            "24/24 [==============================] - 0s 2ms/step - loss: 4.2945e-04 - val_loss: 3.9802e-04\n",
            "Epoch 25/100\n",
            "24/24 [==============================] - 0s 3ms/step - loss: 3.9486e-04 - val_loss: 3.4642e-04\n",
            "Epoch 26/100\n",
            "24/24 [==============================] - 0s 3ms/step - loss: 3.6860e-04 - val_loss: 3.1966e-04\n",
            "Epoch 27/100\n",
            "24/24 [==============================] - 0s 2ms/step - loss: 3.4835e-04 - val_loss: 2.8822e-04\n",
            "Epoch 28/100\n",
            "24/24 [==============================] - 0s 3ms/step - loss: 3.3492e-04 - val_loss: 2.8487e-04\n",
            "Epoch 29/100\n",
            "24/24 [==============================] - 0s 2ms/step - loss: 3.2532e-04 - val_loss: 2.7590e-04\n",
            "Epoch 30/100\n",
            "24/24 [==============================] - 0s 2ms/step - loss: 3.1932e-04 - val_loss: 2.6806e-04\n",
            "Epoch 31/100\n",
            "24/24 [==============================] - 0s 2ms/step - loss: 3.1253e-04 - val_loss: 2.6347e-04\n",
            "Epoch 32/100\n",
            "24/24 [==============================] - 0s 2ms/step - loss: 3.0945e-04 - val_loss: 2.6698e-04\n",
            "Epoch 33/100\n",
            "24/24 [==============================] - 0s 2ms/step - loss: 3.0678e-04 - val_loss: 2.6375e-04\n",
            "Epoch 34/100\n",
            "24/24 [==============================] - 0s 2ms/step - loss: 3.0525e-04 - val_loss: 2.6459e-04\n",
            "Epoch 35/100\n",
            "24/24 [==============================] - 0s 2ms/step - loss: 3.0402e-04 - val_loss: 2.6525e-04\n",
            "Epoch 36/100\n",
            "24/24 [==============================] - 0s 3ms/step - loss: 3.0317e-04 - val_loss: 2.6604e-04\n",
            "Epoch 37/100\n",
            "24/24 [==============================] - 0s 3ms/step - loss: 3.0248e-04 - val_loss: 2.6769e-04\n",
            "Epoch 38/100\n",
            "24/24 [==============================] - 0s 3ms/step - loss: 3.0235e-04 - val_loss: 2.6637e-04\n",
            "Epoch 39/100\n",
            "24/24 [==============================] - 0s 2ms/step - loss: 3.0268e-04 - val_loss: 2.6811e-04\n",
            "Epoch 40/100\n",
            "24/24 [==============================] - 0s 2ms/step - loss: 3.0224e-04 - val_loss: 2.7576e-04\n",
            "Epoch 41/100\n",
            "24/24 [==============================] - 0s 3ms/step - loss: 3.0349e-04 - val_loss: 2.6887e-04\n",
            "Epoch 42/100\n",
            "24/24 [==============================] - 0s 3ms/step - loss: 3.0316e-04 - val_loss: 2.7008e-04\n",
            "Epoch 43/100\n",
            "24/24 [==============================] - 0s 2ms/step - loss: 3.0226e-04 - val_loss: 2.7004e-04\n",
            "Epoch 44/100\n",
            "24/24 [==============================] - 0s 2ms/step - loss: 3.0203e-04 - val_loss: 2.7058e-04\n",
            "Epoch 45/100\n",
            "24/24 [==============================] - 0s 3ms/step - loss: 3.0383e-04 - val_loss: 2.6855e-04\n",
            "Epoch 46/100\n",
            "24/24 [==============================] - 0s 3ms/step - loss: 3.0203e-04 - val_loss: 2.7606e-04\n",
            "Epoch 47/100\n",
            "24/24 [==============================] - 0s 2ms/step - loss: 3.0168e-04 - val_loss: 2.7293e-04\n",
            "Epoch 48/100\n",
            "24/24 [==============================] - 0s 2ms/step - loss: 3.0202e-04 - val_loss: 2.6942e-04\n",
            "Epoch 49/100\n",
            "24/24 [==============================] - 0s 2ms/step - loss: 3.0173e-04 - val_loss: 2.7004e-04\n",
            "Epoch 50/100\n",
            "24/24 [==============================] - 0s 2ms/step - loss: 3.0207e-04 - val_loss: 2.6962e-04\n",
            "Epoch 51/100\n",
            "24/24 [==============================] - 0s 3ms/step - loss: 3.0165e-04 - val_loss: 2.6893e-04\n",
            "Epoch 52/100\n",
            "24/24 [==============================] - 0s 2ms/step - loss: 3.0211e-04 - val_loss: 2.7916e-04\n",
            "Epoch 53/100\n",
            "24/24 [==============================] - 0s 2ms/step - loss: 3.0215e-04 - val_loss: 2.7308e-04\n",
            "Epoch 54/100\n",
            "24/24 [==============================] - 0s 2ms/step - loss: 3.0283e-04 - val_loss: 2.7565e-04\n",
            "Epoch 55/100\n",
            "24/24 [==============================] - 0s 3ms/step - loss: 3.0202e-04 - val_loss: 2.7221e-04\n",
            "Epoch 56/100\n",
            "24/24 [==============================] - 0s 3ms/step - loss: 3.0252e-04 - val_loss: 2.7465e-04\n",
            "Epoch 57/100\n",
            "24/24 [==============================] - 0s 3ms/step - loss: 3.0158e-04 - val_loss: 2.7189e-04\n",
            "Epoch 58/100\n",
            "24/24 [==============================] - 0s 3ms/step - loss: 3.0243e-04 - val_loss: 2.7675e-04\n",
            "Epoch 59/100\n",
            "24/24 [==============================] - 0s 2ms/step - loss: 3.0291e-04 - val_loss: 2.7132e-04\n",
            "Epoch 60/100\n",
            "24/24 [==============================] - 0s 3ms/step - loss: 3.0049e-04 - val_loss: 2.6894e-04\n",
            "Epoch 61/100\n",
            "24/24 [==============================] - 0s 3ms/step - loss: 3.0278e-04 - val_loss: 2.7428e-04\n",
            "Epoch 62/100\n",
            "24/24 [==============================] - 0s 2ms/step - loss: 3.0119e-04 - val_loss: 2.8131e-04\n",
            "Epoch 63/100\n",
            "24/24 [==============================] - 0s 2ms/step - loss: 3.0326e-04 - val_loss: 2.6974e-04\n",
            "Epoch 64/100\n",
            "24/24 [==============================] - 0s 2ms/step - loss: 3.0293e-04 - val_loss: 2.7202e-04\n",
            "Epoch 65/100\n",
            "24/24 [==============================] - 0s 2ms/step - loss: 3.0176e-04 - val_loss: 2.6817e-04\n",
            "Epoch 66/100\n",
            "24/24 [==============================] - 0s 2ms/step - loss: 3.0373e-04 - val_loss: 2.6911e-04\n",
            "Epoch 67/100\n",
            "24/24 [==============================] - 0s 3ms/step - loss: 3.0134e-04 - val_loss: 2.7702e-04\n",
            "Epoch 68/100\n",
            "24/24 [==============================] - 0s 2ms/step - loss: 3.0641e-04 - val_loss: 2.7096e-04\n",
            "Epoch 69/100\n",
            "24/24 [==============================] - 0s 2ms/step - loss: 3.0468e-04 - val_loss: 2.7470e-04\n",
            "Epoch 70/100\n",
            "24/24 [==============================] - 0s 3ms/step - loss: 3.0040e-04 - val_loss: 2.6858e-04\n",
            "Epoch 71/100\n",
            "24/24 [==============================] - 0s 3ms/step - loss: 3.0343e-04 - val_loss: 2.7085e-04\n",
            "Epoch 72/100\n",
            "24/24 [==============================] - 0s 3ms/step - loss: 3.0360e-04 - val_loss: 2.6869e-04\n",
            "Epoch 73/100\n",
            "24/24 [==============================] - 0s 2ms/step - loss: 3.0151e-04 - val_loss: 2.7408e-04\n",
            "Epoch 74/100\n",
            "24/24 [==============================] - 0s 2ms/step - loss: 3.0136e-04 - val_loss: 2.7297e-04\n",
            "Epoch 75/100\n",
            "24/24 [==============================] - 0s 2ms/step - loss: 3.0251e-04 - val_loss: 2.6916e-04\n",
            "Epoch 76/100\n",
            "24/24 [==============================] - 0s 3ms/step - loss: 3.0139e-04 - val_loss: 2.7294e-04\n",
            "Epoch 77/100\n",
            "24/24 [==============================] - 0s 3ms/step - loss: 3.0207e-04 - val_loss: 2.8231e-04\n",
            "Epoch 78/100\n",
            "24/24 [==============================] - 0s 2ms/step - loss: 3.0212e-04 - val_loss: 2.7909e-04\n",
            "Epoch 79/100\n",
            "24/24 [==============================] - 0s 3ms/step - loss: 3.0210e-04 - val_loss: 2.8831e-04\n",
            "Epoch 80/100\n",
            "24/24 [==============================] - 0s 2ms/step - loss: 3.0556e-04 - val_loss: 2.7209e-04\n",
            "Epoch 81/100\n",
            "24/24 [==============================] - 0s 2ms/step - loss: 3.0307e-04 - val_loss: 2.8030e-04\n",
            "Epoch 82/100\n",
            "24/24 [==============================] - 0s 2ms/step - loss: 3.0170e-04 - val_loss: 2.7534e-04\n",
            "Epoch 83/100\n",
            "24/24 [==============================] - 0s 2ms/step - loss: 3.0952e-04 - val_loss: 2.7158e-04\n",
            "Epoch 84/100\n",
            "24/24 [==============================] - 0s 3ms/step - loss: 3.0495e-04 - val_loss: 2.9214e-04\n",
            "Epoch 85/100\n",
            "24/24 [==============================] - 0s 3ms/step - loss: 3.0578e-04 - val_loss: 2.6825e-04\n",
            "Epoch 86/100\n",
            "24/24 [==============================] - 0s 3ms/step - loss: 3.0094e-04 - val_loss: 2.6962e-04\n",
            "Epoch 87/100\n",
            "24/24 [==============================] - 0s 2ms/step - loss: 3.0138e-04 - val_loss: 2.8239e-04\n",
            "Epoch 88/100\n",
            "24/24 [==============================] - 0s 3ms/step - loss: 3.0612e-04 - val_loss: 2.7255e-04\n",
            "Epoch 89/100\n",
            "24/24 [==============================] - 0s 2ms/step - loss: 3.0233e-04 - val_loss: 2.7094e-04\n",
            "Epoch 90/100\n",
            "24/24 [==============================] - 0s 2ms/step - loss: 3.0068e-04 - val_loss: 2.6886e-04\n",
            "Epoch 91/100\n",
            "24/24 [==============================] - 0s 3ms/step - loss: 3.0157e-04 - val_loss: 2.7599e-04\n",
            "Epoch 92/100\n",
            "24/24 [==============================] - 0s 2ms/step - loss: 3.0015e-04 - val_loss: 2.7405e-04\n",
            "Epoch 93/100\n",
            "24/24 [==============================] - 0s 2ms/step - loss: 3.0036e-04 - val_loss: 2.7266e-04\n",
            "Epoch 94/100\n",
            "24/24 [==============================] - 0s 2ms/step - loss: 3.0180e-04 - val_loss: 2.7237e-04\n",
            "Epoch 95/100\n",
            "24/24 [==============================] - 0s 2ms/step - loss: 3.0402e-04 - val_loss: 2.7535e-04\n",
            "Epoch 96/100\n",
            "24/24 [==============================] - 0s 3ms/step - loss: 3.0235e-04 - val_loss: 2.6981e-04\n",
            "Epoch 97/100\n",
            "24/24 [==============================] - 0s 2ms/step - loss: 3.0111e-04 - val_loss: 2.8983e-04\n",
            "Epoch 98/100\n",
            "24/24 [==============================] - 0s 3ms/step - loss: 3.0434e-04 - val_loss: 2.6893e-04\n",
            "Epoch 99/100\n",
            "24/24 [==============================] - 0s 2ms/step - loss: 3.0533e-04 - val_loss: 2.6769e-04\n",
            "Epoch 100/100\n",
            "24/24 [==============================] - 0s 2ms/step - loss: 3.0190e-04 - val_loss: 2.7658e-04\n"
          ]
        },
        {
          "output_type": "execute_result",
          "data": {
            "text/plain": [
              "<keras.callbacks.History at 0x7f9a0f90fbb0>"
            ]
          },
          "metadata": {},
          "execution_count": 379
        }
      ]
    },
    {
      "cell_type": "code",
      "source": [
        "# 10. Dự báo dữ liệu test, val\n",
        "train_predict=model.predict(X_train)\n",
        "y_pred=model.predict(X_test)\n",
        "y_pred_val=model.predict(X_val)"
      ],
      "metadata": {
        "colab": {
          "base_uri": "https://localhost:8080/"
        },
        "id": "SVD2wu3k-XCJ",
        "outputId": "45b88cbc-455e-4d2b-984f-8e4b1e384839"
      },
      "execution_count": null,
      "outputs": [
        {
          "output_type": "stream",
          "name": "stdout",
          "text": [
            "47/47 [==============================] - 0s 851us/step\n",
            "14/14 [==============================] - 0s 1ms/step\n",
            "7/7 [==============================] - 0s 1ms/step\n"
          ]
        }
      ]
    },
    {
      "cell_type": "code",
      "source": [
        "# 11. Chuẩn hóa dữ liệu y_pred, y_pred_val\n",
        "train_predict=scaler.inverse_transform(train_predict)\n",
        "y_pred=scaler.inverse_transform(y_pred)\n",
        "y_pred_val=scaler.inverse_transform(y_pred_val)"
      ],
      "metadata": {
        "id": "HYMH0wF4-YJp"
      },
      "execution_count": null,
      "outputs": []
    },
    {
      "cell_type": "code",
      "source": [
        "ytest = scaler.inverse_transform(ytest.reshape(-1,1))\n",
        "yval = scaler.inverse_transform(yval.reshape(-1,1))"
      ],
      "metadata": {
        "id": "d24YFsupLnyA"
      },
      "execution_count": null,
      "outputs": []
    },
    {
      "cell_type": "code",
      "source": [
        "# 12. Đánh giá độ chính xác thuật toán bằng RMSE\n",
        "valid_rmse = np.sqrt(np.mean((y_pred_val - yval)**2))\n",
        "test_rmse = np.sqrt(np.mean((y_pred - ytest)**2))\n",
        "test_mae = np.mean(np.abs(y_pred - ytest))\n",
        "valid_mae = np.mean(np.abs(y_pred_val - yval))\n",
        "test_mape = np.mean(np.abs((y_pred - ytest) / ytest)) * 100\n",
        "valid_mape = np.mean(np.abs((y_pred_val - yval) / np.where(yval != 0, yval, 1))) * 100\n",
        "\n",
        "print('Validation RMSE:', valid_rmse)\n",
        "print('Testing RMSE:', test_rmse)\n",
        "print('Testing MAE:', test_mae)\n",
        "print('Validation MAE:', valid_mae)\n",
        "print('Testing MAPE:', test_mape)\n",
        "print('Validation MAPE:', valid_mape)"
      ],
      "metadata": {
        "colab": {
          "base_uri": "https://localhost:8080/"
        },
        "id": "mqiho3jd-aPh",
        "outputId": "7990025b-2948-4be1-ab4a-c49567d0ac18"
      },
      "execution_count": null,
      "outputs": [
        {
          "output_type": "stream",
          "name": "stdout",
          "text": [
            "Validation RMSE: 0.29095713912653093\n",
            "Testing RMSE: 0.2567801815761092\n",
            "Testing MAE: 0.20121899733306678\n",
            "Validation MAE: 0.20882845482736265\n",
            "Testing MAPE: 1.50806587012944\n",
            "Validation MAPE: 1.9739485483829307\n"
          ]
        }
      ]
    },
    {
      "cell_type": "code",
      "source": [
        "# Dự báo 7 ngày tiếp theo\n",
        "x_input = val_data[-1:].reshape(1, -1)\n",
        "temp_input = list(x_input)\n",
        "temp_input = temp_input[0].tolist()\n",
        "\n",
        "lst_output = []\n",
        "n_steps = 1\n",
        "i = 0\n",
        "\n",
        "while i < 7:\n",
        "    if len(temp_input) > 100:\n",
        "        x_input = np.array(temp_input[1:])\n",
        "        x_input = x_input.reshape(1, -1)\n",
        "        x_input = x_input.reshape((1, n_steps, 1))\n",
        "        yhat = model.predict(x_input, verbose=0)\n",
        "        temp_input.extend(yhat[0].tolist())\n",
        "        temp_input = temp_input[1:]\n",
        "        lst_output.extend(yhat.tolist())\n",
        "        i += 1\n",
        "    else:\n",
        "        x_input = x_input.reshape((1, n_steps, 1))\n",
        "        yhat = model.predict(x_input, verbose=0)\n",
        "        temp_input.extend(yhat[0].tolist())\n",
        "        lst_output.extend(yhat.tolist())\n",
        "        i += 1"
      ],
      "metadata": {
        "id": "mYmPcAEW-cbq"
      },
      "execution_count": null,
      "outputs": []
    },
    {
      "cell_type": "code",
      "source": [
        "# 14.Vẽ hình\n",
        "train_data_index = pd.RangeIndex(start=0, stop=train_size, step=1)\n",
        "plt.plot(scaler.inverse_transform(train_data))\n",
        "test_data_index = pd.RangeIndex(start=train_size, stop=train_size+test_size, step=1)\n",
        "plt.plot(test_data_index,scaler.inverse_transform(test_data))\n",
        "test_data_index = pd.RangeIndex(start=train_size+2, stop=train_size+test_size, step=1)\n",
        "plt.plot(test_data_index,(y_pred))\n",
        "val_data_index = pd.RangeIndex(start=train_size+test_size, stop=train_size+test_size+val_size, step=1)\n",
        "plt.plot(val_data_index,scaler.inverse_transform(val_data))\n",
        "val_data_index = pd.RangeIndex(start=train_size+test_size+2, stop=train_size+test_size+val_size, step=1)\n",
        "plt.plot(val_data_index,y_pred_val)\n",
        "prediect_data_index = pd.RangeIndex(start=len(df1)-1, stop=len(df1)+6, step=1)\n",
        "plt.plot(prediect_data_index,scaler.inverse_transform(lst_output))\n",
        "plt.legend(['Train','Test','Predict','Validate','ValidatePred','Predict7days'])\n",
        "plt.show()"
      ],
      "metadata": {
        "colab": {
          "base_uri": "https://localhost:8080/",
          "height": 430
        },
        "id": "5atO7L25-ePp",
        "outputId": "e84bb42f-5829-4970-c7d1-cea78986ed2f"
      },
      "execution_count": null,
      "outputs": [
        {
          "output_type": "display_data",
          "data": {
            "text/plain": [
              "<Figure size 640x480 with 1 Axes>"
            ],
            "image/png": "[encoded data removed]"
          },
          "metadata": {}
        }
      ]
    },
    {
      "cell_type": "code",
      "source": [
        "scaler.inverse_transform(lst_output)"
      ],
      "metadata": {
        "colab": {
          "base_uri": "https://localhost:8080/"
        },
        "id": "hoA8Krr_-fpq",
        "outputId": "0d19f103-37d6-4dbb-b33b-6c5e331de6e4"
      },
      "execution_count": null,
      "outputs": [
        {
          "output_type": "execute_result",
          "data": {
            "text/plain": [
              "array([[11.254372],\n",
              "       [11.254372],\n",
              "       [11.254372],\n",
              "       [11.254372],\n",
              "       [11.254372],\n",
              "       [11.254372],\n",
              "       [11.254372]])"
            ]
          },
          "metadata": {},
          "execution_count": 386
        }
      ]
    },
    {
      "cell_type": "markdown",
      "source": [
        "# Dataset MAA"
      ],
      "metadata": {
        "id": "AH7ZQZ45-irJ"
      }
    },
    {
      "cell_type": "code",
      "source": [
        "# 2. Đọc file csv và gắng index với giá Close\n",
        "df = pd.read_csv('MAA-Historical-Data-final.csv')\n",
        "df1=df.reset_index()['Price']"
      ],
      "metadata": {
        "id": "_CbATOpt-syZ"
      },
      "execution_count": null,
      "outputs": []
    },
    {
      "cell_type": "code",
      "source": [
        "# 3. Scaler data\n",
        "scaler=MinMaxScaler(feature_range=(0,1))\n",
        "df1=scaler.fit_transform(np.array(df1).reshape(-1,1))"
      ],
      "metadata": {
        "id": "2Gino0Et-vUj"
      },
      "execution_count": null,
      "outputs": []
    },
    {
      "cell_type": "code",
      "source": [
        "# 4. Chia train test\n",
        "train_size = int(0.7 * len(df1))\n",
        "test_size = int(0.2 * len(df1))\n",
        "val_size = len(df1) - train_size - test_size\n",
        "\n",
        "train_data = df1[:train_size]\n",
        "test_data = df1[train_size:train_size+test_size]\n",
        "val_data = df1[train_size+test_size:]"
      ],
      "metadata": {
        "id": "F0bjNmQA-wjR"
      },
      "execution_count": null,
      "outputs": []
    },
    {
      "cell_type": "code",
      "source": [
        "# 5. Hàm Create Dataset\n",
        "import numpy\n",
        "# convert an array of values into a dataset matrix\n",
        "def create_dataset(dataset, time_step=1):\n",
        "\tdataX, dataY = [], []\n",
        "\tfor i in range(len(dataset)-time_step-1):\n",
        "\t\ta = dataset[i:(i+time_step), 0]   ###i=0, X=0,1,2,3-----99   Y=100\n",
        "\t\tdataX.append(a)\n",
        "\t\tdataY.append(dataset[i + time_step, 0])\n",
        "\treturn numpy.array(dataX), numpy.array(dataY)"
      ],
      "metadata": {
        "id": "90EkXGx5-yOL"
      },
      "execution_count": null,
      "outputs": []
    },
    {
      "cell_type": "code",
      "source": [
        "#6. Reshape into X=t,t+1,t+2..t+99 and Y=t+100\n",
        "\n",
        "time_step = 1\n",
        "X_train, y_train = create_dataset(train_data, time_step)\n",
        "X_val, yval = create_dataset(val_data, time_step)\n",
        "X_test, ytest = create_dataset(test_data, time_step)"
      ],
      "metadata": {
        "id": "LPScjiEG-1Kh"
      },
      "execution_count": null,
      "outputs": []
    },
    {
      "cell_type": "code",
      "source": [
        "# 7. Reshape input to be [samples, time steps, features] which is required for LSTM\n",
        "X_train =X_train.reshape(X_train.shape[0],X_train.shape[1] , 1)\n",
        "X_test = X_test.reshape(X_test.shape[0],X_test.shape[1] , 1)\n",
        "X_val = X_val.reshape(X_val.shape[0],X_val.shape[1] , 1)"
      ],
      "metadata": {
        "id": "AiqatCB4-2IC"
      },
      "execution_count": null,
      "outputs": []
    },
    {
      "cell_type": "code",
      "source": [
        "# Xây dựng mô hình TDNN\n",
        "window_size = 1\n",
        "model = Sequential()\n",
        "model.add(InputLayer(input_shape=(window_size, 1)))  # Kích thước đầu vào: (số thời điểm, số đặc trưng)\n",
        "model.add(TimeDistributed(Dense(64, activation='relu')))  # Lớp TimeDistributed với lớp Dense 64 đơn vị và hàm kích hoạt ReLU\n",
        "model.add(TimeDistributed(Dense(32, activation='relu')))  # Lớp TimeDistributed với lớp Dense 32 đơn vị và hàm kích hoạt ReLU\n",
        "model.add(Flatten())  # Dùng để làm phẳng dữ liệu đầu ra từ các lớp TimeDistributed\n",
        "model.add(Dense(1))"
      ],
      "metadata": {
        "id": "rQtCZypT-3ZR"
      },
      "execution_count": null,
      "outputs": []
    },
    {
      "cell_type": "code",
      "source": [
        "# 9. Fit mô hình với dữ liệu train\n",
        "model.compile(optimizer='adam', loss='mean_squared_error')\n",
        "model.fit(X_train,y_train,validation_data=(X_test,ytest),epochs=100,batch_size=64,verbose=1)"
      ],
      "metadata": {
        "colab": {
          "base_uri": "https://localhost:8080/"
        },
        "id": "sU5eZbls-5PK",
        "outputId": "1209b7b6-5b85-4838-ddaa-db3fe0d80f42"
      },
      "execution_count": null,
      "outputs": [
        {
          "output_type": "stream",
          "name": "stdout",
          "text": [
            "Epoch 1/100\n",
            "24/24 [==============================] - 1s 6ms/step - loss: 0.0189 - val_loss: 0.1013\n",
            "Epoch 2/100\n",
            "24/24 [==============================] - 0s 3ms/step - loss: 0.0027 - val_loss: 0.0503\n",
            "Epoch 3/100\n",
            "24/24 [==============================] - 0s 2ms/step - loss: 0.0015 - val_loss: 0.0339\n",
            "Epoch 4/100\n",
            "24/24 [==============================] - 0s 2ms/step - loss: 6.7915e-04 - val_loss: 0.0232\n",
            "Epoch 5/100\n",
            "24/24 [==============================] - 0s 3ms/step - loss: 2.8058e-04 - val_loss: 0.0138\n",
            "Epoch 6/100\n",
            "24/24 [==============================] - 0s 2ms/step - loss: 1.3569e-04 - val_loss: 0.0097\n",
            "Epoch 7/100\n",
            "24/24 [==============================] - 0s 3ms/step - loss: 1.2539e-04 - val_loss: 0.0091\n",
            "Epoch 8/100\n",
            "24/24 [==============================] - 0s 3ms/step - loss: 1.2272e-04 - val_loss: 0.0090\n",
            "Epoch 9/100\n",
            "24/24 [==============================] - 0s 2ms/step - loss: 1.2043e-04 - val_loss: 0.0085\n",
            "Epoch 10/100\n",
            "24/24 [==============================] - 0s 2ms/step - loss: 1.2047e-04 - val_loss: 0.0084\n",
            "Epoch 11/100\n",
            "24/24 [==============================] - 0s 3ms/step - loss: 1.2052e-04 - val_loss: 0.0084\n",
            "Epoch 12/100\n",
            "24/24 [==============================] - 0s 2ms/step - loss: 1.2021e-04 - val_loss: 0.0083\n",
            "Epoch 13/100\n",
            "24/24 [==============================] - 0s 2ms/step - loss: 1.1958e-04 - val_loss: 0.0081\n",
            "Epoch 14/100\n",
            "24/24 [==============================] - 0s 3ms/step - loss: 1.2118e-04 - val_loss: 0.0079\n",
            "Epoch 15/100\n",
            "24/24 [==============================] - 0s 2ms/step - loss: 1.1961e-04 - val_loss: 0.0080\n",
            "Epoch 16/100\n",
            "24/24 [==============================] - 0s 2ms/step - loss: 1.2203e-04 - val_loss: 0.0079\n",
            "Epoch 17/100\n",
            "24/24 [==============================] - 0s 3ms/step - loss: 1.2334e-04 - val_loss: 0.0081\n",
            "Epoch 18/100\n",
            "24/24 [==============================] - 0s 3ms/step - loss: 1.2236e-04 - val_loss: 0.0085\n",
            "Epoch 19/100\n",
            "24/24 [==============================] - 0s 2ms/step - loss: 1.2870e-04 - val_loss: 0.0075\n",
            "Epoch 20/100\n",
            "24/24 [==============================] - 0s 2ms/step - loss: 1.2010e-04 - val_loss: 0.0076\n",
            "Epoch 21/100\n",
            "24/24 [==============================] - 0s 2ms/step - loss: 1.1991e-04 - val_loss: 0.0076\n",
            "Epoch 22/100\n",
            "24/24 [==============================] - 0s 2ms/step - loss: 1.2133e-04 - val_loss: 0.0077\n",
            "Epoch 23/100\n",
            "24/24 [==============================] - 0s 2ms/step - loss: 1.1893e-04 - val_loss: 0.0077\n",
            "Epoch 24/100\n",
            "24/24 [==============================] - 0s 2ms/step - loss: 1.1824e-04 - val_loss: 0.0078\n",
            "Epoch 25/100\n",
            "24/24 [==============================] - 0s 2ms/step - loss: 1.2299e-04 - val_loss: 0.0078\n",
            "Epoch 26/100\n",
            "24/24 [==============================] - 0s 2ms/step - loss: 1.1949e-04 - val_loss: 0.0073\n",
            "Epoch 27/100\n",
            "24/24 [==============================] - 0s 3ms/step - loss: 1.2077e-04 - val_loss: 0.0077\n",
            "Epoch 28/100\n",
            "24/24 [==============================] - 0s 3ms/step - loss: 1.1907e-04 - val_loss: 0.0072\n",
            "Epoch 29/100\n",
            "24/24 [==============================] - 0s 2ms/step - loss: 1.2287e-04 - val_loss: 0.0073\n",
            "Epoch 30/100\n",
            "24/24 [==============================] - 0s 2ms/step - loss: 1.1809e-04 - val_loss: 0.0078\n",
            "Epoch 31/100\n",
            "24/24 [==============================] - 0s 2ms/step - loss: 1.1864e-04 - val_loss: 0.0076\n",
            "Epoch 32/100\n",
            "24/24 [==============================] - 0s 2ms/step - loss: 1.1823e-04 - val_loss: 0.0074\n",
            "Epoch 33/100\n",
            "24/24 [==============================] - 0s 2ms/step - loss: 1.1825e-04 - val_loss: 0.0072\n",
            "Epoch 34/100\n",
            "24/24 [==============================] - 0s 3ms/step - loss: 1.1798e-04 - val_loss: 0.0075\n",
            "Epoch 35/100\n",
            "24/24 [==============================] - 0s 3ms/step - loss: 1.1833e-04 - val_loss: 0.0076\n",
            "Epoch 36/100\n",
            "24/24 [==============================] - 0s 3ms/step - loss: 1.2005e-04 - val_loss: 0.0075\n",
            "Epoch 37/100\n",
            "24/24 [==============================] - 0s 2ms/step - loss: 1.1921e-04 - val_loss: 0.0075\n",
            "Epoch 38/100\n",
            "24/24 [==============================] - 0s 2ms/step - loss: 1.1777e-04 - val_loss: 0.0074\n",
            "Epoch 39/100\n",
            "24/24 [==============================] - 0s 3ms/step - loss: 1.2173e-04 - val_loss: 0.0066\n",
            "Epoch 40/100\n",
            "24/24 [==============================] - 0s 2ms/step - loss: 1.2008e-04 - val_loss: 0.0073\n",
            "Epoch 41/100\n",
            "24/24 [==============================] - 0s 3ms/step - loss: 1.1954e-04 - val_loss: 0.0071\n",
            "Epoch 42/100\n",
            "24/24 [==============================] - 0s 2ms/step - loss: 1.2789e-04 - val_loss: 0.0068\n",
            "Epoch 43/100\n",
            "24/24 [==============================] - 0s 2ms/step - loss: 1.1769e-04 - val_loss: 0.0080\n",
            "Epoch 44/100\n",
            "24/24 [==============================] - 0s 2ms/step - loss: 1.2407e-04 - val_loss: 0.0074\n",
            "Epoch 45/100\n",
            "24/24 [==============================] - 0s 2ms/step - loss: 1.2118e-04 - val_loss: 0.0072\n",
            "Epoch 46/100\n",
            "24/24 [==============================] - 0s 3ms/step - loss: 1.2178e-04 - val_loss: 0.0070\n",
            "Epoch 47/100\n",
            "24/24 [==============================] - 0s 2ms/step - loss: 1.2101e-04 - val_loss: 0.0072\n",
            "Epoch 48/100\n",
            "24/24 [==============================] - 0s 3ms/step - loss: 1.1955e-04 - val_loss: 0.0074\n",
            "Epoch 49/100\n",
            "24/24 [==============================] - 0s 2ms/step - loss: 1.2298e-04 - val_loss: 0.0070\n",
            "Epoch 50/100\n",
            "24/24 [==============================] - 0s 3ms/step - loss: 1.2079e-04 - val_loss: 0.0072\n",
            "Epoch 51/100\n",
            "24/24 [==============================] - 0s 2ms/step - loss: 1.1889e-04 - val_loss: 0.0073\n",
            "Epoch 52/100\n",
            "24/24 [==============================] - 0s 3ms/step - loss: 1.1939e-04 - val_loss: 0.0074\n",
            "Epoch 53/100\n",
            "24/24 [==============================] - 0s 2ms/step - loss: 1.1837e-04 - val_loss: 0.0074\n",
            "Epoch 54/100\n",
            "24/24 [==============================] - 0s 3ms/step - loss: 1.1948e-04 - val_loss: 0.0074\n",
            "Epoch 55/100\n",
            "24/24 [==============================] - 0s 3ms/step - loss: 1.2171e-04 - val_loss: 0.0071\n",
            "Epoch 56/100\n",
            "24/24 [==============================] - 0s 3ms/step - loss: 1.2501e-04 - val_loss: 0.0069\n",
            "Epoch 57/100\n",
            "24/24 [==============================] - 0s 3ms/step - loss: 1.2177e-04 - val_loss: 0.0069\n",
            "Epoch 58/100\n",
            "24/24 [==============================] - 0s 2ms/step - loss: 1.2246e-04 - val_loss: 0.0071\n",
            "Epoch 59/100\n",
            "24/24 [==============================] - 0s 3ms/step - loss: 1.1995e-04 - val_loss: 0.0075\n",
            "Epoch 60/100\n",
            "24/24 [==============================] - 0s 3ms/step - loss: 1.2210e-04 - val_loss: 0.0073\n",
            "Epoch 61/100\n",
            "24/24 [==============================] - 0s 2ms/step - loss: 1.1934e-04 - val_loss: 0.0068\n",
            "Epoch 62/100\n",
            "24/24 [==============================] - 0s 3ms/step - loss: 1.1943e-04 - val_loss: 0.0070\n",
            "Epoch 63/100\n",
            "24/24 [==============================] - 0s 2ms/step - loss: 1.1906e-04 - val_loss: 0.0070\n",
            "Epoch 64/100\n",
            "24/24 [==============================] - 0s 3ms/step - loss: 1.1872e-04 - val_loss: 0.0069\n",
            "Epoch 65/100\n",
            "24/24 [==============================] - 0s 3ms/step - loss: 1.2428e-04 - val_loss: 0.0063\n",
            "Epoch 66/100\n",
            "24/24 [==============================] - 0s 3ms/step - loss: 1.2293e-04 - val_loss: 0.0067\n",
            "Epoch 67/100\n",
            "24/24 [==============================] - 0s 3ms/step - loss: 1.2589e-04 - val_loss: 0.0065\n",
            "Epoch 68/100\n",
            "24/24 [==============================] - 0s 2ms/step - loss: 1.1944e-04 - val_loss: 0.0066\n",
            "Epoch 69/100\n",
            "24/24 [==============================] - 0s 3ms/step - loss: 1.2141e-04 - val_loss: 0.0062\n",
            "Epoch 70/100\n",
            "24/24 [==============================] - 0s 2ms/step - loss: 1.2137e-04 - val_loss: 0.0062\n",
            "Epoch 71/100\n",
            "24/24 [==============================] - 0s 3ms/step - loss: 1.2162e-04 - val_loss: 0.0069\n",
            "Epoch 72/100\n",
            "24/24 [==============================] - 0s 2ms/step - loss: 1.2433e-04 - val_loss: 0.0067\n",
            "Epoch 73/100\n",
            "24/24 [==============================] - 0s 3ms/step - loss: 1.1888e-04 - val_loss: 0.0063\n",
            "Epoch 74/100\n",
            "24/24 [==============================] - 0s 3ms/step - loss: 1.2354e-04 - val_loss: 0.0063\n",
            "Epoch 75/100\n",
            "24/24 [==============================] - 0s 2ms/step - loss: 1.1966e-04 - val_loss: 0.0066\n",
            "Epoch 76/100\n",
            "24/24 [==============================] - 0s 3ms/step - loss: 1.2317e-04 - val_loss: 0.0071\n",
            "Epoch 77/100\n",
            "24/24 [==============================] - 0s 2ms/step - loss: 1.2106e-04 - val_loss: 0.0065\n",
            "Epoch 78/100\n",
            "24/24 [==============================] - 0s 2ms/step - loss: 1.2151e-04 - val_loss: 0.0068\n",
            "Epoch 79/100\n",
            "24/24 [==============================] - 0s 3ms/step - loss: 1.2445e-04 - val_loss: 0.0064\n",
            "Epoch 80/100\n",
            "24/24 [==============================] - 0s 2ms/step - loss: 1.1914e-04 - val_loss: 0.0070\n",
            "Epoch 81/100\n",
            "24/24 [==============================] - 0s 3ms/step - loss: 1.1897e-04 - val_loss: 0.0072\n",
            "Epoch 82/100\n",
            "24/24 [==============================] - 0s 2ms/step - loss: 1.1963e-04 - val_loss: 0.0064\n",
            "Epoch 83/100\n",
            "24/24 [==============================] - 0s 2ms/step - loss: 1.2077e-04 - val_loss: 0.0067\n",
            "Epoch 84/100\n",
            "24/24 [==============================] - 0s 3ms/step - loss: 1.2771e-04 - val_loss: 0.0059\n",
            "Epoch 85/100\n",
            "24/24 [==============================] - 0s 2ms/step - loss: 1.3014e-04 - val_loss: 0.0067\n",
            "Epoch 86/100\n",
            "24/24 [==============================] - 0s 2ms/step - loss: 1.2313e-04 - val_loss: 0.0064\n",
            "Epoch 87/100\n",
            "24/24 [==============================] - 0s 2ms/step - loss: 1.1843e-04 - val_loss: 0.0065\n",
            "Epoch 88/100\n",
            "24/24 [==============================] - 0s 3ms/step - loss: 1.1982e-04 - val_loss: 0.0068\n",
            "Epoch 89/100\n",
            "24/24 [==============================] - 0s 2ms/step - loss: 1.2056e-04 - val_loss: 0.0068\n",
            "Epoch 90/100\n",
            "24/24 [==============================] - 0s 2ms/step - loss: 1.2451e-04 - val_loss: 0.0066\n",
            "Epoch 91/100\n",
            "24/24 [==============================] - 0s 2ms/step - loss: 1.2475e-04 - val_loss: 0.0065\n",
            "Epoch 92/100\n",
            "24/24 [==============================] - 0s 3ms/step - loss: 1.2424e-04 - val_loss: 0.0067\n",
            "Epoch 93/100\n",
            "24/24 [==============================] - 0s 2ms/step - loss: 1.1924e-04 - val_loss: 0.0066\n",
            "Epoch 94/100\n",
            "24/24 [==============================] - 0s 2ms/step - loss: 1.2602e-04 - val_loss: 0.0070\n",
            "Epoch 95/100\n",
            "24/24 [==============================] - 0s 2ms/step - loss: 1.2037e-04 - val_loss: 0.0063\n",
            "Epoch 96/100\n",
            "24/24 [==============================] - 0s 2ms/step - loss: 1.1984e-04 - val_loss: 0.0068\n",
            "Epoch 97/100\n",
            "24/24 [==============================] - 0s 2ms/step - loss: 1.2759e-04 - val_loss: 0.0069\n",
            "Epoch 98/100\n",
            "24/24 [==============================] - 0s 3ms/step - loss: 1.2217e-04 - val_loss: 0.0064\n",
            "Epoch 99/100\n",
            "24/24 [==============================] - 0s 3ms/step - loss: 1.2249e-04 - val_loss: 0.0069\n",
            "Epoch 100/100\n",
            "24/24 [==============================] - 0s 3ms/step - loss: 1.2508e-04 - val_loss: 0.0069\n"
          ]
        },
        {
          "output_type": "execute_result",
          "data": {
            "text/plain": [
              "<keras.callbacks.History at 0x7f9a0d5188b0>"
            ]
          },
          "metadata": {},
          "execution_count": 394
        }
      ]
    },
    {
      "cell_type": "code",
      "source": [
        "# 10. Dự báo dữ liệu test, val\n",
        "train_predict=model.predict(X_train)\n",
        "y_pred=model.predict(X_test)\n",
        "y_pred_val=model.predict(X_val)"
      ],
      "metadata": {
        "colab": {
          "base_uri": "https://localhost:8080/"
        },
        "id": "Ruzm72cz-7lQ",
        "outputId": "47d6e68a-018b-4d4c-c204-4650d719e35b"
      },
      "execution_count": null,
      "outputs": [
        {
          "output_type": "stream",
          "name": "stdout",
          "text": [
            "47/47 [==============================] - 0s 732us/step\n",
            "14/14 [==============================] - 0s 1ms/step\n",
            "7/7 [==============================] - 0s 1ms/step\n"
          ]
        }
      ]
    },
    {
      "cell_type": "code",
      "source": [
        "# 11. Chuẩn hóa dữ liệu y_pred, y_pred_val\n",
        "train_predict=scaler.inverse_transform(train_predict)\n",
        "y_pred=scaler.inverse_transform(y_pred)\n",
        "y_pred_val=scaler.inverse_transform(y_pred_val)"
      ],
      "metadata": {
        "id": "udI5me5r-8l4"
      },
      "execution_count": null,
      "outputs": []
    },
    {
      "cell_type": "code",
      "source": [
        "ytest = scaler.inverse_transform(ytest.reshape(-1,1))\n",
        "yval = scaler.inverse_transform(yval.reshape(-1,1))"
      ],
      "metadata": {
        "id": "VGLzAm7yLp4Q"
      },
      "execution_count": null,
      "outputs": []
    },
    {
      "cell_type": "code",
      "source": [
        "# 12. Đánh giá độ chính xác thuật toán bằng RMSE\n",
        "valid_rmse = np.sqrt(np.mean((y_pred_val - yval)**2))\n",
        "test_rmse = np.sqrt(np.mean((y_pred - ytest)**2))\n",
        "test_mae = np.mean(np.abs(y_pred - ytest))\n",
        "valid_mae = np.mean(np.abs(y_pred_val - yval))\n",
        "test_mape = np.mean(np.abs((y_pred - ytest) / ytest)) * 100\n",
        "valid_mape = np.mean(np.abs((y_pred_val - yval) / np.where(yval != 0, yval, 1))) * 100\n",
        "\n",
        "print('Validation RMSE:', valid_rmse)\n",
        "print('Testing RMSE:', test_rmse)\n",
        "print('Testing MAE:', test_mae)\n",
        "print('Validation MAE:', valid_mae)\n",
        "print('Testing MAPE:', test_mape)\n",
        "print('Validation MAPE:', valid_mape)"
      ],
      "metadata": {
        "colab": {
          "base_uri": "https://localhost:8080/"
        },
        "id": "hicPJ_3c-96J",
        "outputId": "3a1a52ee-5f0d-4afc-fd81-6230a3b137ed"
      },
      "execution_count": null,
      "outputs": [
        {
          "output_type": "stream",
          "name": "stdout",
          "text": [
            "Validation RMSE: 5.552665975880354\n",
            "Testing RMSE: 13.171340330791875\n",
            "Testing MAE: 11.038590433467927\n",
            "Validation MAE: 4.585523960905258\n",
            "Testing MAPE: 5.705345899924082\n",
            "Validation MAPE: 2.827967856068604\n"
          ]
        }
      ]
    },
    {
      "cell_type": "code",
      "source": [
        "# Dự báo 7 ngày tiếp theo\n",
        "x_input = val_data[-1:].reshape(1, -1)\n",
        "temp_input = list(x_input)\n",
        "temp_input = temp_input[0].tolist()\n",
        "\n",
        "lst_output = []\n",
        "n_steps = 1\n",
        "i = 0\n",
        "\n",
        "while i < 7:\n",
        "    if len(temp_input) > 100:\n",
        "        x_input = np.array(temp_input[1:])\n",
        "        x_input = x_input.reshape(1, -1)\n",
        "        x_input = x_input.reshape((1, n_steps, 1))\n",
        "        yhat = model.predict(x_input, verbose=0)\n",
        "        temp_input.extend(yhat[0].tolist())\n",
        "        temp_input = temp_input[1:]\n",
        "        lst_output.extend(yhat.tolist())\n",
        "        i += 1\n",
        "    else:\n",
        "        x_input = x_input.reshape((1, n_steps, 1))\n",
        "        yhat = model.predict(x_input, verbose=0)\n",
        "        temp_input.extend(yhat[0].tolist())\n",
        "        lst_output.extend(yhat.tolist())\n",
        "        i += 1"
      ],
      "metadata": {
        "id": "0uSjm_XL_CHQ"
      },
      "execution_count": null,
      "outputs": []
    },
    {
      "cell_type": "code",
      "source": [
        "# 14.Vẽ hình\n",
        "train_data_index = pd.RangeIndex(start=0, stop=train_size, step=1)\n",
        "plt.plot(scaler.inverse_transform(train_data))\n",
        "test_data_index = pd.RangeIndex(start=train_size, stop=train_size+test_size, step=1)\n",
        "plt.plot(test_data_index,scaler.inverse_transform(test_data))\n",
        "test_data_index = pd.RangeIndex(start=train_size+2, stop=train_size+test_size, step=1)\n",
        "plt.plot(test_data_index,(y_pred))\n",
        "val_data_index = pd.RangeIndex(start=train_size+test_size, stop=train_size+test_size+val_size, step=1)\n",
        "plt.plot(val_data_index,scaler.inverse_transform(val_data))\n",
        "val_data_index = pd.RangeIndex(start=train_size+test_size+2, stop=train_size+test_size+val_size, step=1)\n",
        "plt.plot(val_data_index,y_pred_val)\n",
        "prediect_data_index = pd.RangeIndex(start=len(df1)-1, stop=len(df1)+6, step=1)\n",
        "plt.plot(prediect_data_index,scaler.inverse_transform(lst_output))\n",
        "plt.legend(['Train','Test','Predict','Validate','ValidatePred','Predict7days'])\n",
        "plt.show()"
      ],
      "metadata": {
        "colab": {
          "base_uri": "https://localhost:8080/",
          "height": 430
        },
        "id": "jsAGe1Gr_FOK",
        "outputId": "c16cdb8e-250e-4ecd-d074-d7c68ea689a5"
      },
      "execution_count": null,
      "outputs": [
        {
          "output_type": "display_data",
          "data": {
            "text/plain": [
              "<Figure size 640x480 with 1 Axes>"
            ],
            "image/png": "[encoded data removed]"
          },
          "metadata": {}
        }
      ]
    },
    {
      "cell_type": "code",
      "source": [
        "scaler.inverse_transform(lst_output)"
      ],
      "metadata": {
        "colab": {
          "base_uri": "https://localhost:8080/"
        },
        "id": "kM5Wx0Qk_GWo",
        "outputId": "71ca6fb3-fadf-49cb-f866-4edb6b172e68"
      },
      "execution_count": null,
      "outputs": [
        {
          "output_type": "execute_result",
          "data": {
            "text/plain": [
              "array([[151.38135339],\n",
              "       [151.38135339],\n",
              "       [151.38135339],\n",
              "       [151.38135339],\n",
              "       [151.38135339],\n",
              "       [151.38135339],\n",
              "       [151.38135339]])"
            ]
          },
          "metadata": {},
          "execution_count": 401
        }
      ]
    }
  ],
  "metadata": {
    "colab": {
      "provenance": [],
      "toc_visible": true
    },
    "kernelspec": {
      "display_name": "Python 3",
      "name": "python3"
    },
    "language_info": {
      "codemirror_mode": {
        "name": "ipython",
        "version": 3
      },
      "file_extension": ".py",
      "mimetype": "text/x-python",
      "name": "python",
      "nbconvert_exporter": "python",
      "pygments_lexer": "ipython3",
      "version": "3.10.11"
    }
  },
  "nbformat": 4,
  "nbformat_minor": 0
}