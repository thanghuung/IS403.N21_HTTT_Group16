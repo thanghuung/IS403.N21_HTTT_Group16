{
  "cells": [
    {
      "cell_type": "markdown",
      "source": [
        "#**ARE 6:2:2**"
      ],
      "metadata": {
        "id": "4kyPcXUwuJzy"
      }
    },
    {
      "cell_type": "code",
      "source": [
        "# 1. Import thư viện cần thiết\n",
        "from google.colab import drive\n",
        "drive.mount('/content/drive')\n",
        "import numpy as np\n",
        "import pandas as pd\n",
        "import matplotlib.pyplot as plt\n",
        "from sklearn.preprocessing import MinMaxScaler\n",
        "from keras.models import Sequential\n",
        "from keras.layers import Dense, SimpleRNN"
      ],
      "metadata": {
        "colab": {
          "base_uri": "https://localhost:8080/"
        },
        "outputId": "34f65b48-16ff-4b0f-b9f2-8ddb998e21cf",
        "id": "FL4D9Gr8uJz6"
      },
      "execution_count": null,
      "outputs": [
        {
          "output_type": "stream",
          "name": "stdout",
          "text": [
            "Drive already mounted at /content/drive; to attempt to forcibly remount, call drive.mount(\"/content/drive\", force_remount=True).\n"
          ]
        }
      ]
    },
    {
      "cell_type": "code",
      "source": [
        "# 2. Đọc file csv và gắng index với giá Price\n",
        "df = pd.read_csv('/content/ARE-Historical-Data.csv')\n",
        "df = df.iloc[::-1]\n",
        "df1=df.reset_index()['Price']\n"
      ],
      "metadata": {
        "id": "S70hM9iJuJz6"
      },
      "execution_count": null,
      "outputs": []
    },
    {
      "cell_type": "code",
      "source": [
        "df"
      ],
      "metadata": {
        "colab": {
          "base_uri": "https://localhost:8080/",
          "height": 423
        },
        "outputId": "7dc8bc55-0225-4c28-c2b7-e7b50288815a",
        "id": "P8gyzJU1uJz6"
      },
      "execution_count": null,
      "outputs": [
        {
          "output_type": "execute_result",
          "data": {
            "text/plain": [
              "            Date   Price    Open    High     Low     Vol. Change %\n",
              "2128  01/02/2015   89.79   89.11   89.88   88.54  277.62K    1.18%\n",
              "2127  01/05/2015   90.87   89.31   91.17   89.15  359.76K    1.20%\n",
              "2126  01/06/2015   91.33   90.65   91.56   90.25    1.33M    0.51%\n",
              "2125  01/07/2015   92.57   91.55   92.57   90.69  543.40K    1.36%\n",
              "2124  01/08/2015   93.63   92.57   93.85   92.43  718.78K    1.15%\n",
              "...          ...     ...     ...     ...     ...      ...      ...\n",
              "4     06/12/2023  121.00  120.28  121.71  120.03  788.83K    0.34%\n",
              "3     06/13/2023  122.06  121.15  123.93  120.50  846.11K    0.88%\n",
              "2     06/14/2023  121.92  122.99  123.79  120.83    1.01M   -0.11%\n",
              "1     06/15/2023  121.15  121.16  121.78  119.87  931.08K   -0.63%\n",
              "0     06/16/2023  115.45  113.75  119.96  113.75    2.92M   -4.70%\n",
              "\n",
              "[2129 rows x 7 columns]"
            ],
            "text/html": [
              "\n",
              "  <div id=\"df-0d6d0d64-e5d9-4524-aaa4-7f517d3c12b9\">\n",
              "    <div class=\"colab-df-container\">\n",
              "      <div>\n",
              "<style scoped>\n",
              "    .dataframe tbody tr th:only-of-type {\n",
              "        vertical-align: middle;\n",
              "    }\n",
              "\n",
              "    .dataframe tbody tr th {\n",
              "        vertical-align: top;\n",
              "    }\n",
              "\n",
              "    .dataframe thead th {\n",
              "        text-align: right;\n",
              "    }\n",
              "</style>\n",
              "<table border=\"1\" class=\"dataframe\">\n",
              "  <thead>\n",
              "    <tr style=\"text-align: right;\">\n",
              "      <th></th>\n",
              "      <th>Date</th>\n",
              "      <th>Price</th>\n",
              "      <th>Open</th>\n",
              "      <th>High</th>\n",
              "      <th>Low</th>\n",
              "      <th>Vol.</th>\n",
              "      <th>Change %</th>\n",
              "    </tr>\n",
              "  </thead>\n",
              "  <tbody>\n",
              "    <tr>\n",
              "      <th>2128</th>\n",
              "      <td>01/02/2015</td>\n",
              "      <td>89.79</td>\n",
              "      <td>89.11</td>\n",
              "      <td>89.88</td>\n",
              "      <td>88.54</td>\n",
              "      <td>277.62K</td>\n",
              "      <td>1.18%</td>\n",
              "    </tr>\n",
              "    <tr>\n",
              "      <th>2127</th>\n",
              "      <td>01/05/2015</td>\n",
              "      <td>90.87</td>\n",
              "      <td>89.31</td>\n",
              "      <td>91.17</td>\n",
              "      <td>89.15</td>\n",
              "      <td>359.76K</td>\n",
              "      <td>1.20%</td>\n",
              "    </tr>\n",
              "    <tr>\n",
              "      <th>2126</th>\n",
              "      <td>01/06/2015</td>\n",
              "      <td>91.33</td>\n",
              "      <td>90.65</td>\n",
              "      <td>91.56</td>\n",
              "      <td>90.25</td>\n",
              "      <td>1.33M</td>\n",
              "      <td>0.51%</td>\n",
              "    </tr>\n",
              "    <tr>\n",
              "      <th>2125</th>\n",
              "      <td>01/07/2015</td>\n",
              "      <td>92.57</td>\n",
              "      <td>91.55</td>\n",
              "      <td>92.57</td>\n",
              "      <td>90.69</td>\n",
              "      <td>543.40K</td>\n",
              "      <td>1.36%</td>\n",
              "    </tr>\n",
              "    <tr>\n",
              "      <th>2124</th>\n",
              "      <td>01/08/2015</td>\n",
              "      <td>93.63</td>\n",
              "      <td>92.57</td>\n",
              "      <td>93.85</td>\n",
              "      <td>92.43</td>\n",
              "      <td>718.78K</td>\n",
              "      <td>1.15%</td>\n",
              "    </tr>\n",
              "    <tr>\n",
              "      <th>...</th>\n",
              "      <td>...</td>\n",
              "      <td>...</td>\n",
              "      <td>...</td>\n",
              "      <td>...</td>\n",
              "      <td>...</td>\n",
              "      <td>...</td>\n",
              "      <td>...</td>\n",
              "    </tr>\n",
              "    <tr>\n",
              "      <th>4</th>\n",
              "      <td>06/12/2023</td>\n",
              "      <td>121.00</td>\n",
              "      <td>120.28</td>\n",
              "      <td>121.71</td>\n",
              "      <td>120.03</td>\n",
              "      <td>788.83K</td>\n",
              "      <td>0.34%</td>\n",
              "    </tr>\n",
              "    <tr>\n",
              "      <th>3</th>\n",
              "      <td>06/13/2023</td>\n",
              "      <td>122.06</td>\n",
              "      <td>121.15</td>\n",
              "      <td>123.93</td>\n",
              "      <td>120.50</td>\n",
              "      <td>846.11K</td>\n",
              "      <td>0.88%</td>\n",
              "    </tr>\n",
              "    <tr>\n",
              "      <th>2</th>\n",
              "      <td>06/14/2023</td>\n",
              "      <td>121.92</td>\n",
              "      <td>122.99</td>\n",
              "      <td>123.79</td>\n",
              "      <td>120.83</td>\n",
              "      <td>1.01M</td>\n",
              "      <td>-0.11%</td>\n",
              "    </tr>\n",
              "    <tr>\n",
              "      <th>1</th>\n",
              "      <td>06/15/2023</td>\n",
              "      <td>121.15</td>\n",
              "      <td>121.16</td>\n",
              "      <td>121.78</td>\n",
              "      <td>119.87</td>\n",
              "      <td>931.08K</td>\n",
              "      <td>-0.63%</td>\n",
              "    </tr>\n",
              "    <tr>\n",
              "      <th>0</th>\n",
              "      <td>06/16/2023</td>\n",
              "      <td>115.45</td>\n",
              "      <td>113.75</td>\n",
              "      <td>119.96</td>\n",
              "      <td>113.75</td>\n",
              "      <td>2.92M</td>\n",
              "      <td>-4.70%</td>\n",
              "    </tr>\n",
              "  </tbody>\n",
              "</table>\n",
              "<p>2129 rows × 7 columns</p>\n",
              "</div>\n",
              "      <button class=\"colab-df-convert\" onclick=\"convertToInteractive('df-0d6d0d64-e5d9-4524-aaa4-7f517d3c12b9')\"\n",
              "              title=\"Convert this dataframe to an interactive table.\"\n",
              "              style=\"display:none;\">\n",
              "        \n",
              "  <svg xmlns=\"http://www.w3.org/2000/svg\" height=\"24px\"viewBox=\"0 0 24 24\"\n",
              "       width=\"24px\">\n",
              "    <path d=\"M0 0h24v24H0V0z\" fill=\"none\"/>\n",
              "    <path d=\"M18.56 5.44l.94 2.06.94-2.06 2.06-.94-2.06-.94-.94-2.06-.94 2.06-2.06.94zm-11 1L8.5 8.5l.94-2.06 2.06-.94-2.06-.94L8.5 2.5l-.94 2.06-2.06.94zm10 10l.94 2.06.94-2.06 2.06-.94-2.06-.94-.94-2.06-.94 2.06-2.06.94z\"/><path d=\"M17.41 7.96l-1.37-1.37c-.4-.4-.92-.59-1.43-.59-.52 0-1.04.2-1.43.59L10.3 9.45l-7.72 7.72c-.78.78-.78 2.05 0 2.83L4 21.41c.39.39.9.59 1.41.59.51 0 1.02-.2 1.41-.59l7.78-7.78 2.81-2.81c.8-.78.8-2.07 0-2.86zM5.41 20L4 18.59l7.72-7.72 1.47 1.35L5.41 20z\"/>\n",
              "  </svg>\n",
              "      </button>\n",
              "      \n",
              "  <style>\n",
              "    .colab-df-container {\n",
              "      display:flex;\n",
              "      flex-wrap:wrap;\n",
              "      gap: 12px;\n",
              "    }\n",
              "\n",
              "    .colab-df-convert {\n",
              "      background-color: #E8F0FE;\n",
              "      border: none;\n",
              "      border-radius: 50%;\n",
              "      cursor: pointer;\n",
              "      display: none;\n",
              "      fill: #1967D2;\n",
              "      height: 32px;\n",
              "      padding: 0 0 0 0;\n",
              "      width: 32px;\n",
              "    }\n",
              "\n",
              "    .colab-df-convert:hover {\n",
              "      background-color: #E2EBFA;\n",
              "      box-shadow: 0px 1px 2px rgba(60, 64, 67, 0.3), 0px 1px 3px 1px rgba(60, 64, 67, 0.15);\n",
              "      fill: #174EA6;\n",
              "    }\n",
              "\n",
              "    [theme=dark] .colab-df-convert {\n",
              "      background-color: #3B4455;\n",
              "      fill: #D2E3FC;\n",
              "    }\n",
              "\n",
              "    [theme=dark] .colab-df-convert:hover {\n",
              "      background-color: #434B5C;\n",
              "      box-shadow: 0px 1px 3px 1px rgba(0, 0, 0, 0.15);\n",
              "      filter: drop-shadow(0px 1px 2px rgba(0, 0, 0, 0.3));\n",
              "      fill: #FFFFFF;\n",
              "    }\n",
              "  </style>\n",
              "\n",
              "      <script>\n",
              "        const buttonEl =\n",
              "          document.querySelector('#df-0d6d0d64-e5d9-4524-aaa4-7f517d3c12b9 button.colab-df-convert');\n",
              "        buttonEl.style.display =\n",
              "          google.colab.kernel.accessAllowed ? 'block' : 'none';\n",
              "\n",
              "        async function convertToInteractive(key) {\n",
              "          const element = document.querySelector('#df-0d6d0d64-e5d9-4524-aaa4-7f517d3c12b9');\n",
              "          const dataTable =\n",
              "            await google.colab.kernel.invokeFunction('convertToInteractive',\n",
              "                                                     [key], {});\n",
              "          if (!dataTable) return;\n",
              "\n",
              "          const docLinkHtml = 'Like what you see? Visit the ' +\n",
              "            '<a target=\"_blank\" href=https://colab.research.google.com/notebooks/data_table.ipynb>data table notebook</a>'\n",
              "            + ' to learn more about interactive tables.';\n",
              "          element.innerHTML = '';\n",
              "          dataTable['output_type'] = 'display_data';\n",
              "          await google.colab.output.renderOutput(dataTable, element);\n",
              "          const docLink = document.createElement('div');\n",
              "          docLink.innerHTML = docLinkHtml;\n",
              "          element.appendChild(docLink);\n",
              "        }\n",
              "      </script>\n",
              "    </div>\n",
              "  </div>\n",
              "  "
            ]
          },
          "metadata": {},
          "execution_count": 66
        }
      ]
    },
    {
      "cell_type": "code",
      "source": [
        "# 3. Scaler data\n",
        "scaler=MinMaxScaler(feature_range=(0,1))\n",
        "df1=scaler.fit_transform(np.array(df1).reshape(-1,1))"
      ],
      "metadata": {
        "id": "3ycPaI5QuJz7"
      },
      "execution_count": null,
      "outputs": []
    },
    {
      "cell_type": "code",
      "source": [
        "# 4. Chia train test\n",
        "train_size = int(0.6 * len(df1))\n",
        "test_size = int(0.2 * len(df1))\n",
        "val_size = len(df1) - train_size - test_size\n",
        "\n",
        "train_data = df1[:train_size]\n",
        "test_data = df1[train_size:train_size+test_size]\n",
        "val_data = df1[train_size+test_size:]"
      ],
      "metadata": {
        "id": "lNnM59mquJz7"
      },
      "execution_count": null,
      "outputs": []
    },
    {
      "cell_type": "code",
      "source": [
        "# 5. Hàm Create Dataset\n",
        "import numpy\n",
        "# convert an array of values into a dataset matrix\n",
        "def create_dataset(dataset, time_step=1):\n",
        "\tdataX, dataY = [], []\n",
        "\tfor i in range(len(dataset)-time_step-1):\n",
        "\t\ta = dataset[i:(i+time_step), 0]   ###i=0, X=0,1,2,3-----99   Y=100\n",
        "\t\tdataX.append(a)\n",
        "\t\tdataY.append(dataset[i + time_step, 0])\n",
        "\treturn numpy.array(dataX), numpy.array(dataY)"
      ],
      "metadata": {
        "id": "7qSo08gWuJz7"
      },
      "execution_count": null,
      "outputs": []
    },
    {
      "cell_type": "code",
      "source": [
        "#6. Reshape into X=t,t+1,t+2..t+99 and Y=t+100\n",
        "\n",
        "time_step = 1\n",
        "X_train, y_train = create_dataset(train_data, time_step)\n",
        "X_val, yval = create_dataset(val_data, time_step)\n",
        "X_test, ytest = create_dataset(test_data, time_step)"
      ],
      "metadata": {
        "id": "OmjbMHieuJz7"
      },
      "execution_count": null,
      "outputs": []
    },
    {
      "cell_type": "code",
      "source": [
        "# 7. Reshape input to be [samples, time steps, features] which is required for LSTM\n",
        "X_train =X_train.reshape(X_train.shape[0],X_train.shape[1] , 1)\n",
        "X_test = X_test.reshape(X_test.shape[0],X_test.shape[1] , 1)\n",
        "X_val = X_val.reshape(X_val.shape[0],X_val.shape[1] , 1)"
      ],
      "metadata": {
        "id": "wY0kt1YbuJz7"
      },
      "execution_count": null,
      "outputs": []
    },
    {
      "cell_type": "code",
      "source": [
        "# 8. Define RNN Model\n",
        "\n",
        "model = Sequential()\n",
        "model.add(SimpleRNN(50, input_shape=(time_step, 1)))\n",
        "model.add(Dense(1))\n",
        "model.compile(loss='mean_squared_error',optimizer='adam')"
      ],
      "metadata": {
        "id": "RMl3N6w3uJz7"
      },
      "execution_count": null,
      "outputs": []
    },
    {
      "cell_type": "code",
      "source": [
        "# 9. Fit mô hình với dữ liệu train\n",
        "model.fit(X_train,y_train,validation_data=(X_test,ytest),epochs=100,batch_size=64,verbose=1)"
      ],
      "metadata": {
        "colab": {
          "base_uri": "https://localhost:8080/"
        },
        "outputId": "e6e863c3-a88d-4cb7-ffd3-484b2afb6e99",
        "id": "sNyz6WOkuJz8"
      },
      "execution_count": null,
      "outputs": [
        {
          "output_type": "stream",
          "name": "stdout",
          "text": [
            "Epoch 1/100\n",
            "20/20 [==============================] - 1s 16ms/step - loss: 0.1601 - val_loss: 0.4207\n",
            "Epoch 2/100\n",
            "20/20 [==============================] - 0s 4ms/step - loss: 0.0368 - val_loss: 0.1479\n",
            "Epoch 3/100\n",
            "20/20 [==============================] - 0s 4ms/step - loss: 0.0179 - val_loss: 0.0885\n",
            "Epoch 4/100\n",
            "20/20 [==============================] - 0s 5ms/step - loss: 0.0159 - val_loss: 0.0866\n",
            "Epoch 5/100\n",
            "20/20 [==============================] - 0s 7ms/step - loss: 0.0134 - val_loss: 0.0805\n",
            "Epoch 6/100\n",
            "20/20 [==============================] - 0s 7ms/step - loss: 0.0113 - val_loss: 0.0666\n",
            "Epoch 7/100\n",
            "20/20 [==============================] - 0s 8ms/step - loss: 0.0094 - val_loss: 0.0538\n",
            "Epoch 8/100\n",
            "20/20 [==============================] - 0s 7ms/step - loss: 0.0076 - val_loss: 0.0438\n",
            "Epoch 9/100\n",
            "20/20 [==============================] - 0s 7ms/step - loss: 0.0061 - val_loss: 0.0348\n",
            "Epoch 10/100\n",
            "20/20 [==============================] - 0s 6ms/step - loss: 0.0048 - val_loss: 0.0272\n",
            "Epoch 11/100\n",
            "20/20 [==============================] - 0s 6ms/step - loss: 0.0037 - val_loss: 0.0214\n",
            "Epoch 12/100\n",
            "20/20 [==============================] - 0s 8ms/step - loss: 0.0028 - val_loss: 0.0163\n",
            "Epoch 13/100\n",
            "20/20 [==============================] - 0s 6ms/step - loss: 0.0021 - val_loss: 0.0119\n",
            "Epoch 14/100\n",
            "20/20 [==============================] - 0s 7ms/step - loss: 0.0015 - val_loss: 0.0088\n",
            "Epoch 15/100\n",
            "20/20 [==============================] - 0s 7ms/step - loss: 0.0011 - val_loss: 0.0064\n",
            "Epoch 16/100\n",
            "20/20 [==============================] - 0s 7ms/step - loss: 7.5583e-04 - val_loss: 0.0045\n",
            "Epoch 17/100\n",
            "20/20 [==============================] - 0s 7ms/step - loss: 5.2859e-04 - val_loss: 0.0034\n",
            "Epoch 18/100\n",
            "20/20 [==============================] - 0s 7ms/step - loss: 3.7044e-04 - val_loss: 0.0024\n",
            "Epoch 19/100\n",
            "20/20 [==============================] - 0s 7ms/step - loss: 2.6285e-04 - val_loss: 0.0018\n",
            "Epoch 20/100\n",
            "20/20 [==============================] - 0s 7ms/step - loss: 1.9202e-04 - val_loss: 0.0014\n",
            "Epoch 21/100\n",
            "20/20 [==============================] - 0s 6ms/step - loss: 1.4680e-04 - val_loss: 0.0011\n",
            "Epoch 22/100\n",
            "20/20 [==============================] - 0s 6ms/step - loss: 1.1820e-04 - val_loss: 8.9524e-04\n",
            "Epoch 23/100\n",
            "20/20 [==============================] - 0s 7ms/step - loss: 1.0108e-04 - val_loss: 7.7453e-04\n",
            "Epoch 24/100\n",
            "20/20 [==============================] - 0s 9ms/step - loss: 9.0869e-05 - val_loss: 6.7940e-04\n",
            "Epoch 25/100\n",
            "20/20 [==============================] - 0s 7ms/step - loss: 8.4996e-05 - val_loss: 6.3683e-04\n",
            "Epoch 26/100\n",
            "20/20 [==============================] - 0s 7ms/step - loss: 8.1527e-05 - val_loss: 5.8758e-04\n",
            "Epoch 27/100\n",
            "20/20 [==============================] - 0s 7ms/step - loss: 7.9581e-05 - val_loss: 5.7964e-04\n",
            "Epoch 28/100\n",
            "20/20 [==============================] - 0s 7ms/step - loss: 7.8537e-05 - val_loss: 5.5338e-04\n",
            "Epoch 29/100\n",
            "20/20 [==============================] - 0s 7ms/step - loss: 7.8185e-05 - val_loss: 5.4997e-04\n",
            "Epoch 30/100\n",
            "20/20 [==============================] - 0s 6ms/step - loss: 7.7855e-05 - val_loss: 5.3389e-04\n",
            "Epoch 31/100\n",
            "20/20 [==============================] - 0s 7ms/step - loss: 7.7938e-05 - val_loss: 5.3663e-04\n",
            "Epoch 32/100\n",
            "20/20 [==============================] - 0s 7ms/step - loss: 7.7755e-05 - val_loss: 5.2741e-04\n",
            "Epoch 33/100\n",
            "20/20 [==============================] - 0s 7ms/step - loss: 7.7705e-05 - val_loss: 5.2879e-04\n",
            "Epoch 34/100\n",
            "20/20 [==============================] - 0s 7ms/step - loss: 7.7688e-05 - val_loss: 5.2519e-04\n",
            "Epoch 35/100\n",
            "20/20 [==============================] - 0s 7ms/step - loss: 7.7679e-05 - val_loss: 5.2385e-04\n",
            "Epoch 36/100\n",
            "20/20 [==============================] - 0s 6ms/step - loss: 7.7582e-05 - val_loss: 5.2043e-04\n",
            "Epoch 37/100\n",
            "20/20 [==============================] - 0s 6ms/step - loss: 7.7841e-05 - val_loss: 5.2843e-04\n",
            "Epoch 38/100\n",
            "20/20 [==============================] - 0s 5ms/step - loss: 7.7861e-05 - val_loss: 5.1917e-04\n",
            "Epoch 39/100\n",
            "20/20 [==============================] - 0s 6ms/step - loss: 7.7591e-05 - val_loss: 5.2587e-04\n",
            "Epoch 40/100\n",
            "20/20 [==============================] - 0s 5ms/step - loss: 7.7638e-05 - val_loss: 5.2262e-04\n",
            "Epoch 41/100\n",
            "20/20 [==============================] - 0s 5ms/step - loss: 7.7632e-05 - val_loss: 5.1991e-04\n",
            "Epoch 42/100\n",
            "20/20 [==============================] - 0s 5ms/step - loss: 7.7638e-05 - val_loss: 5.3308e-04\n",
            "Epoch 43/100\n",
            "20/20 [==============================] - 0s 5ms/step - loss: 7.7713e-05 - val_loss: 5.1195e-04\n",
            "Epoch 44/100\n",
            "20/20 [==============================] - 0s 4ms/step - loss: 7.7966e-05 - val_loss: 5.3928e-04\n",
            "Epoch 45/100\n",
            "20/20 [==============================] - 0s 5ms/step - loss: 7.8255e-05 - val_loss: 5.2357e-04\n",
            "Epoch 46/100\n",
            "20/20 [==============================] - 0s 5ms/step - loss: 7.7721e-05 - val_loss: 5.1789e-04\n",
            "Epoch 47/100\n",
            "20/20 [==============================] - 0s 4ms/step - loss: 7.7579e-05 - val_loss: 5.2361e-04\n",
            "Epoch 48/100\n",
            "20/20 [==============================] - 0s 4ms/step - loss: 7.8446e-05 - val_loss: 5.0777e-04\n",
            "Epoch 49/100\n",
            "20/20 [==============================] - 0s 5ms/step - loss: 7.7865e-05 - val_loss: 5.2385e-04\n",
            "Epoch 50/100\n",
            "20/20 [==============================] - 0s 5ms/step - loss: 7.7730e-05 - val_loss: 5.2502e-04\n",
            "Epoch 51/100\n",
            "20/20 [==============================] - 0s 4ms/step - loss: 7.7885e-05 - val_loss: 5.1308e-04\n",
            "Epoch 52/100\n",
            "20/20 [==============================] - 0s 4ms/step - loss: 7.7977e-05 - val_loss: 5.1588e-04\n",
            "Epoch 53/100\n",
            "20/20 [==============================] - 0s 5ms/step - loss: 7.7666e-05 - val_loss: 5.2115e-04\n",
            "Epoch 54/100\n",
            "20/20 [==============================] - 0s 5ms/step - loss: 7.7642e-05 - val_loss: 5.2069e-04\n",
            "Epoch 55/100\n",
            "20/20 [==============================] - 0s 4ms/step - loss: 7.7623e-05 - val_loss: 5.2253e-04\n",
            "Epoch 56/100\n",
            "20/20 [==============================] - 0s 5ms/step - loss: 7.7626e-05 - val_loss: 5.1373e-04\n",
            "Epoch 57/100\n",
            "20/20 [==============================] - 0s 5ms/step - loss: 7.7830e-05 - val_loss: 5.1996e-04\n",
            "Epoch 58/100\n",
            "20/20 [==============================] - 0s 5ms/step - loss: 7.8078e-05 - val_loss: 5.2941e-04\n",
            "Epoch 59/100\n",
            "20/20 [==============================] - 0s 4ms/step - loss: 7.7388e-05 - val_loss: 5.1029e-04\n",
            "Epoch 60/100\n",
            "20/20 [==============================] - 0s 4ms/step - loss: 7.7900e-05 - val_loss: 5.2739e-04\n",
            "Epoch 61/100\n",
            "20/20 [==============================] - 0s 6ms/step - loss: 7.7537e-05 - val_loss: 5.1867e-04\n",
            "Epoch 62/100\n",
            "20/20 [==============================] - 0s 5ms/step - loss: 7.7699e-05 - val_loss: 5.1381e-04\n",
            "Epoch 63/100\n",
            "20/20 [==============================] - 0s 5ms/step - loss: 7.7817e-05 - val_loss: 5.2570e-04\n",
            "Epoch 64/100\n",
            "20/20 [==============================] - 0s 5ms/step - loss: 7.7766e-05 - val_loss: 5.2914e-04\n",
            "Epoch 65/100\n",
            "20/20 [==============================] - 0s 5ms/step - loss: 7.7747e-05 - val_loss: 5.2105e-04\n",
            "Epoch 66/100\n",
            "20/20 [==============================] - 0s 5ms/step - loss: 7.7655e-05 - val_loss: 5.3719e-04\n",
            "Epoch 67/100\n",
            "20/20 [==============================] - 0s 4ms/step - loss: 7.8553e-05 - val_loss: 5.0958e-04\n",
            "Epoch 68/100\n",
            "20/20 [==============================] - 0s 5ms/step - loss: 7.7876e-05 - val_loss: 5.1450e-04\n",
            "Epoch 69/100\n",
            "20/20 [==============================] - 0s 4ms/step - loss: 7.7625e-05 - val_loss: 5.3092e-04\n",
            "Epoch 70/100\n",
            "20/20 [==============================] - 0s 4ms/step - loss: 7.7758e-05 - val_loss: 5.2076e-04\n",
            "Epoch 71/100\n",
            "20/20 [==============================] - 0s 5ms/step - loss: 7.7541e-05 - val_loss: 5.1481e-04\n",
            "Epoch 72/100\n",
            "20/20 [==============================] - 0s 5ms/step - loss: 7.7979e-05 - val_loss: 5.0912e-04\n",
            "Epoch 73/100\n",
            "20/20 [==============================] - 0s 5ms/step - loss: 7.7956e-05 - val_loss: 5.2746e-04\n",
            "Epoch 74/100\n",
            "20/20 [==============================] - 0s 4ms/step - loss: 7.7707e-05 - val_loss: 5.2246e-04\n",
            "Epoch 75/100\n",
            "20/20 [==============================] - 0s 4ms/step - loss: 7.7825e-05 - val_loss: 5.3078e-04\n",
            "Epoch 76/100\n",
            "20/20 [==============================] - 0s 4ms/step - loss: 7.7731e-05 - val_loss: 5.1408e-04\n",
            "Epoch 77/100\n",
            "20/20 [==============================] - 0s 5ms/step - loss: 7.7621e-05 - val_loss: 5.2375e-04\n",
            "Epoch 78/100\n",
            "20/20 [==============================] - 0s 5ms/step - loss: 7.7922e-05 - val_loss: 5.2889e-04\n",
            "Epoch 79/100\n",
            "20/20 [==============================] - 0s 4ms/step - loss: 7.7604e-05 - val_loss: 5.1240e-04\n",
            "Epoch 80/100\n",
            "20/20 [==============================] - 0s 5ms/step - loss: 7.8401e-05 - val_loss: 5.2632e-04\n",
            "Epoch 81/100\n",
            "20/20 [==============================] - 0s 4ms/step - loss: 7.7645e-05 - val_loss: 5.2386e-04\n",
            "Epoch 82/100\n",
            "20/20 [==============================] - 0s 5ms/step - loss: 7.8083e-05 - val_loss: 5.0488e-04\n",
            "Epoch 83/100\n",
            "20/20 [==============================] - 0s 5ms/step - loss: 7.7998e-05 - val_loss: 5.3915e-04\n",
            "Epoch 84/100\n",
            "20/20 [==============================] - 0s 4ms/step - loss: 7.8252e-05 - val_loss: 5.3440e-04\n",
            "Epoch 85/100\n",
            "20/20 [==============================] - 0s 4ms/step - loss: 7.8248e-05 - val_loss: 5.3998e-04\n",
            "Epoch 86/100\n",
            "20/20 [==============================] - 0s 5ms/step - loss: 7.8424e-05 - val_loss: 5.1868e-04\n",
            "Epoch 87/100\n",
            "20/20 [==============================] - 0s 5ms/step - loss: 7.8620e-05 - val_loss: 5.0736e-04\n",
            "Epoch 88/100\n",
            "20/20 [==============================] - 0s 4ms/step - loss: 7.8035e-05 - val_loss: 5.1942e-04\n",
            "Epoch 89/100\n",
            "20/20 [==============================] - 0s 5ms/step - loss: 7.7610e-05 - val_loss: 5.2669e-04\n",
            "Epoch 90/100\n",
            "20/20 [==============================] - 0s 5ms/step - loss: 7.7606e-05 - val_loss: 5.1534e-04\n",
            "Epoch 91/100\n",
            "20/20 [==============================] - 0s 4ms/step - loss: 7.7622e-05 - val_loss: 5.2172e-04\n",
            "Epoch 92/100\n",
            "20/20 [==============================] - 0s 5ms/step - loss: 7.7648e-05 - val_loss: 5.1827e-04\n",
            "Epoch 93/100\n",
            "20/20 [==============================] - 0s 4ms/step - loss: 7.7782e-05 - val_loss: 5.2480e-04\n",
            "Epoch 94/100\n",
            "20/20 [==============================] - 0s 4ms/step - loss: 7.7769e-05 - val_loss: 5.3147e-04\n",
            "Epoch 95/100\n",
            "20/20 [==============================] - 0s 4ms/step - loss: 7.7924e-05 - val_loss: 5.2354e-04\n",
            "Epoch 96/100\n",
            "20/20 [==============================] - 0s 4ms/step - loss: 7.7938e-05 - val_loss: 5.1896e-04\n",
            "Epoch 97/100\n",
            "20/20 [==============================] - 0s 4ms/step - loss: 7.7687e-05 - val_loss: 5.1592e-04\n",
            "Epoch 98/100\n",
            "20/20 [==============================] - 0s 4ms/step - loss: 7.7998e-05 - val_loss: 5.1597e-04\n",
            "Epoch 99/100\n",
            "20/20 [==============================] - 0s 5ms/step - loss: 7.7935e-05 - val_loss: 5.3125e-04\n",
            "Epoch 100/100\n",
            "20/20 [==============================] - 0s 4ms/step - loss: 7.7772e-05 - val_loss: 5.0516e-04\n"
          ]
        },
        {
          "output_type": "execute_result",
          "data": {
            "text/plain": [
              "<keras.callbacks.History at 0x7f6fecd701c0>"
            ]
          },
          "metadata": {},
          "execution_count": 73
        }
      ]
    },
    {
      "cell_type": "code",
      "source": [
        "# 10. Dự báo dữ liệu test, val\n",
        "train_predict=model.predict(X_train)\n",
        "y_pred=model.predict(X_test)\n",
        "y_pred_val=model.predict(X_val)"
      ],
      "metadata": {
        "colab": {
          "base_uri": "https://localhost:8080/"
        },
        "outputId": "45c44680-3985-47f4-cdc6-8f1f3e2a1622",
        "id": "hGsTl-wyuJz8"
      },
      "execution_count": null,
      "outputs": [
        {
          "output_type": "stream",
          "name": "stdout",
          "text": [
            "40/40 [==============================] - 0s 2ms/step\n",
            "14/14 [==============================] - 0s 2ms/step\n",
            "14/14 [==============================] - 0s 2ms/step\n"
          ]
        }
      ]
    },
    {
      "cell_type": "code",
      "source": [
        "# 11. Chuẩn hóa dữ liệu y_pred, y_pred_val\n",
        "train_predict=scaler.inverse_transform(train_predict)\n",
        "y_pred=scaler.inverse_transform(y_pred)\n",
        "y_pred_val=scaler.inverse_transform(y_pred_val)\n",
        "\n",
        "ytest = scaler.inverse_transform(ytest.reshape(-1,1))\n",
        "yval = scaler.inverse_transform(yval.reshape(-1,1))"
      ],
      "metadata": {
        "id": "slYc7_EvuJz8"
      },
      "execution_count": null,
      "outputs": []
    },
    {
      "cell_type": "markdown",
      "source": [
        "## **Đánh giá**"
      ],
      "metadata": {
        "id": "kSFhPxpXu1Yb"
      }
    },
    {
      "cell_type": "code",
      "source": [
        "# 12. Đánh giá độ chính xác thuật toán bằng RMSE\n",
        "valid_rmse = np.sqrt(np.mean((y_pred_val - yval)**2))\n",
        "test_rmse = np.sqrt(np.mean((y_pred - ytest)**2))\n",
        "test_mae = np.mean(np.abs(y_pred - ytest))\n",
        "valid_mae = np.mean(np.abs(y_pred_val - yval))\n",
        "test_mape = np.mean(np.abs((ytest - y_pred) / ytest)) * 100\n",
        "valid_mape = np.mean(np.abs((yval - y_pred_val) / np.where(yval != 0, yval, 1))) * 100\n",
        "\n",
        "print('Validation RMSE:', valid_rmse)\n",
        "print('Testing RMSE:', test_rmse)\n",
        "print('Testing MAE:', test_mae)\n",
        "print('Validation MAE:', valid_mae)\n",
        "print('Testing MAPE:', test_mape)\n",
        "print('Validation MAPE:', valid_mape)"
      ],
      "metadata": {
        "colab": {
          "base_uri": "https://localhost:8080/"
        },
        "outputId": "26dcb779-7fbb-47ae-cc70-31cdcfb030c2",
        "id": "_F0RnYD2uJz8"
      },
      "execution_count": null,
      "outputs": [
        {
          "output_type": "stream",
          "name": "stdout",
          "text": [
            "Validation RMSE: 3.2256771967884057\n",
            "Testing RMSE: 3.4145274712231815\n",
            "Testing MAE: 2.3468179234714386\n",
            "Validation MAE: 2.5234134011661307\n",
            "Testing MAPE: 1.4335188748207748\n",
            "Validation MAPE: 1.5401140072157085\n"
          ]
        }
      ]
    },
    {
      "cell_type": "code",
      "source": [
        "# 13. Dự báo 30 ngày tiếp theo\n",
        "x_input=val_data[426:].reshape(1,-1)\n",
        "x_input.shape\n",
        "\n",
        "temp_input=list(x_input)\n",
        "temp_input=temp_input[0].tolist()\n",
        "\n",
        "from numpy import array\n",
        "\n",
        "lst_output=[]\n",
        "n_steps=1\n",
        "i=0\n",
        "while(i<30):\n",
        "\n",
        "    if(len(temp_input)>1):\n",
        "        #print(temp_input)\n",
        "        x_input=np.array(temp_input[1:])\n",
        "        # print(\"{} day input {}\".format(i,x_input))\n",
        "        x_input=x_input.reshape(1,-1)\n",
        "        x_input = x_input.reshape((1, n_steps, 1))\n",
        "        #print(x_input)\n",
        "        yhat = model.predict(x_input, verbose=0)\n",
        "        # print(\"{} day output {}\".format(i,yhat))\n",
        "        temp_input.extend(yhat[0].tolist())\n",
        "        temp_input=temp_input[1:]\n",
        "        #print(temp_input)\n",
        "        lst_output.extend(yhat.tolist())\n",
        "        i=i+1\n",
        "    else:\n",
        "        x_input = x_input.reshape((1, n_steps,1))\n",
        "        yhat = model.predict(x_input, verbose=0)\n",
        "        print(yhat[0])\n",
        "        temp_input.extend(yhat[0].tolist())\n",
        "        print(len(temp_input))\n",
        "        lst_output.extend(yhat.tolist())\n",
        "        i=i+1\n"
      ],
      "metadata": {
        "colab": {
          "base_uri": "https://localhost:8080/"
        },
        "outputId": "3f1cf637-c2ae-422b-f49a-2da15d935082",
        "id": "1mh6NmbpuJz8"
      },
      "execution_count": null,
      "outputs": [
        {
          "output_type": "stream",
          "name": "stdout",
          "text": [
            "[0.2906341]\n",
            "2\n"
          ]
        }
      ]
    },
    {
      "cell_type": "markdown",
      "source": [
        "## **Kết quả**"
      ],
      "metadata": {
        "id": "cVglabiZvAzD"
      }
    },
    {
      "cell_type": "code",
      "source": [
        "# 14.Vẽ hình\n",
        "\n",
        "train_data_index = pd.RangeIndex(start=0, stop=train_size, step=1)\n",
        "plt.plot(scaler.inverse_transform(train_data))\n",
        "test_data_index = pd.RangeIndex(start=train_size, stop=train_size+test_size, step=1)\n",
        "plt.plot(test_data_index,scaler.inverse_transform(test_data))\n",
        "test_data_index = pd.RangeIndex(start=train_size+2, stop=train_size+test_size, step=1)\n",
        "plt.plot(test_data_index,(y_pred))\n",
        "val_data_index = pd.RangeIndex(start=train_size+test_size, stop=train_size+test_size+val_size, step=1)\n",
        "plt.plot(val_data_index,scaler.inverse_transform(val_data))\n",
        "val_data_index = pd.RangeIndex(start=train_size+test_size+2, stop=train_size+test_size+val_size, step=1)\n",
        "plt.plot(val_data_index,y_pred_val)\n",
        "prediect_data_index = pd.RangeIndex(start=len(df1)-1, stop=len(df1)+29, step=1)\n",
        "plt.plot(prediect_data_index,scaler.inverse_transform(lst_output))\n",
        "plt.legend(['Train','Test','Predict','Validate','ValidatePred','Predict30days'])\n",
        "plt.show()"
      ],
      "metadata": {
        "colab": {
          "base_uri": "https://localhost:8080/",
          "height": 430
        },
        "outputId": "4f5230a0-8080-40ba-b1ee-dd49f3a674f5",
        "id": "9IaziJP1uJz8"
      },
      "execution_count": null,
      "outputs": [
        {
          "output_type": "display_data",
          "data": {
            "text/plain": [
              "<Figure size 640x480 with 1 Axes>"
            ],
            "image/png": "[encoded data removed]"
          },
          "metadata": {}
        }
      ]
    },
    {
      "cell_type": "markdown",
      "source": [
        "#**MAA 6:2:2**"
      ],
      "metadata": {
        "id": "KG0VtM9auJz9"
      }
    },
    {
      "cell_type": "code",
      "source": [
        "# 1. Import thư viện cần thiết\n",
        "from google.colab import drive\n",
        "drive.mount('/content/drive')\n",
        "import numpy as np\n",
        "import pandas as pd\n",
        "import matplotlib.pyplot as plt\n",
        "from sklearn.preprocessing import MinMaxScaler\n",
        "from keras.models import Sequential\n",
        "from keras.layers import Dense, SimpleRNN"
      ],
      "metadata": {
        "colab": {
          "base_uri": "https://localhost:8080/"
        },
        "outputId": "51219194-5410-457e-91ce-fc678c20aa89",
        "id": "x2Obh4zJuJz9"
      },
      "execution_count": null,
      "outputs": [
        {
          "output_type": "stream",
          "name": "stdout",
          "text": [
            "Drive already mounted at /content/drive; to attempt to forcibly remount, call drive.mount(\"/content/drive\", force_remount=True).\n"
          ]
        }
      ]
    },
    {
      "cell_type": "code",
      "source": [
        "# 2. Đọc file csv và gắng index với giá Price\n",
        "df = pd.read_csv('/content/MAA-Historical-Data.csv')\n",
        "df = df.iloc[::-1]\n",
        "df1=df.reset_index()['Price']\n"
      ],
      "metadata": {
        "id": "7ePtkSj1uJz9"
      },
      "execution_count": null,
      "outputs": []
    },
    {
      "cell_type": "code",
      "source": [
        "df"
      ],
      "metadata": {
        "colab": {
          "base_uri": "https://localhost:8080/",
          "height": 423
        },
        "outputId": "b0eee399-4ece-4a62-a703-6612b4b9bfbd",
        "id": "uoWY_4v_uJz9"
      },
      "execution_count": null,
      "outputs": [
        {
          "output_type": "execute_result",
          "data": {
            "text/plain": [
              "            Date   Price    Open    High     Low     Vol. Change %\n",
              "2128  01/02/2015   76.15   74.47   76.19   74.47  276.36K    1.97%\n",
              "2127  01/05/2015   75.86   75.86   76.34   75.43  549.69K   -0.38%\n",
              "2126  01/06/2015   77.18   76.28   77.83   76.27  833.74K    1.74%\n",
              "2125  01/07/2015   78.14   76.48   78.34   76.29  544.77K    1.24%\n",
              "2124  01/08/2015   78.34   78.14   78.46   77.36  544.03K    0.26%\n",
              "...          ...     ...     ...     ...     ...      ...      ...\n",
              "4     06/12/2023  152.73  153.97  153.97  151.50  489.48K   -1.00%\n",
              "3     06/13/2023  153.68  151.82  153.78  151.28  513.48K    0.62%\n",
              "2     06/14/2023  153.40  154.35  155.11  152.47  388.42K   -0.18%\n",
              "1     06/15/2023  154.17  153.20  154.92  152.00  549.30K    0.50%\n",
              "0     06/16/2023  155.29  155.23  156.47  154.26    1.20M    0.73%\n",
              "\n",
              "[2129 rows x 7 columns]"
            ],
            "text/html": [
              "\n",
              "  <div id=\"df-68440277-d536-411d-aca8-98de92a3f530\">\n",
              "    <div class=\"colab-df-container\">\n",
              "      <div>\n",
              "<style scoped>\n",
              "    .dataframe tbody tr th:only-of-type {\n",
              "        vertical-align: middle;\n",
              "    }\n",
              "\n",
              "    .dataframe tbody tr th {\n",
              "        vertical-align: top;\n",
              "    }\n",
              "\n",
              "    .dataframe thead th {\n",
              "        text-align: right;\n",
              "    }\n",
              "</style>\n",
              "<table border=\"1\" class=\"dataframe\">\n",
              "  <thead>\n",
              "    <tr style=\"text-align: right;\">\n",
              "      <th></th>\n",
              "      <th>Date</th>\n",
              "      <th>Price</th>\n",
              "      <th>Open</th>\n",
              "      <th>High</th>\n",
              "      <th>Low</th>\n",
              "      <th>Vol.</th>\n",
              "      <th>Change %</th>\n",
              "    </tr>\n",
              "  </thead>\n",
              "  <tbody>\n",
              "    <tr>\n",
              "      <th>2128</th>\n",
              "      <td>01/02/2015</td>\n",
              "      <td>76.15</td>\n",
              "      <td>74.47</td>\n",
              "      <td>76.19</td>\n",
              "      <td>74.47</td>\n",
              "      <td>276.36K</td>\n",
              "      <td>1.97%</td>\n",
              "    </tr>\n",
              "    <tr>\n",
              "      <th>2127</th>\n",
              "      <td>01/05/2015</td>\n",
              "      <td>75.86</td>\n",
              "      <td>75.86</td>\n",
              "      <td>76.34</td>\n",
              "      <td>75.43</td>\n",
              "      <td>549.69K</td>\n",
              "      <td>-0.38%</td>\n",
              "    </tr>\n",
              "    <tr>\n",
              "      <th>2126</th>\n",
              "      <td>01/06/2015</td>\n",
              "      <td>77.18</td>\n",
              "      <td>76.28</td>\n",
              "      <td>77.83</td>\n",
              "      <td>76.27</td>\n",
              "      <td>833.74K</td>\n",
              "      <td>1.74%</td>\n",
              "    </tr>\n",
              "    <tr>\n",
              "      <th>2125</th>\n",
              "      <td>01/07/2015</td>\n",
              "      <td>78.14</td>\n",
              "      <td>76.48</td>\n",
              "      <td>78.34</td>\n",
              "      <td>76.29</td>\n",
              "      <td>544.77K</td>\n",
              "      <td>1.24%</td>\n",
              "    </tr>\n",
              "    <tr>\n",
              "      <th>2124</th>\n",
              "      <td>01/08/2015</td>\n",
              "      <td>78.34</td>\n",
              "      <td>78.14</td>\n",
              "      <td>78.46</td>\n",
              "      <td>77.36</td>\n",
              "      <td>544.03K</td>\n",
              "      <td>0.26%</td>\n",
              "    </tr>\n",
              "    <tr>\n",
              "      <th>...</th>\n",
              "      <td>...</td>\n",
              "      <td>...</td>\n",
              "      <td>...</td>\n",
              "      <td>...</td>\n",
              "      <td>...</td>\n",
              "      <td>...</td>\n",
              "      <td>...</td>\n",
              "    </tr>\n",
              "    <tr>\n",
              "      <th>4</th>\n",
              "      <td>06/12/2023</td>\n",
              "      <td>152.73</td>\n",
              "      <td>153.97</td>\n",
              "      <td>153.97</td>\n",
              "      <td>151.50</td>\n",
              "      <td>489.48K</td>\n",
              "      <td>-1.00%</td>\n",
              "    </tr>\n",
              "    <tr>\n",
              "      <th>3</th>\n",
              "      <td>06/13/2023</td>\n",
              "      <td>153.68</td>\n",
              "      <td>151.82</td>\n",
              "      <td>153.78</td>\n",
              "      <td>151.28</td>\n",
              "      <td>513.48K</td>\n",
              "      <td>0.62%</td>\n",
              "    </tr>\n",
              "    <tr>\n",
              "      <th>2</th>\n",
              "      <td>06/14/2023</td>\n",
              "      <td>153.40</td>\n",
              "      <td>154.35</td>\n",
              "      <td>155.11</td>\n",
              "      <td>152.47</td>\n",
              "      <td>388.42K</td>\n",
              "      <td>-0.18%</td>\n",
              "    </tr>\n",
              "    <tr>\n",
              "      <th>1</th>\n",
              "      <td>06/15/2023</td>\n",
              "      <td>154.17</td>\n",
              "      <td>153.20</td>\n",
              "      <td>154.92</td>\n",
              "      <td>152.00</td>\n",
              "      <td>549.30K</td>\n",
              "      <td>0.50%</td>\n",
              "    </tr>\n",
              "    <tr>\n",
              "      <th>0</th>\n",
              "      <td>06/16/2023</td>\n",
              "      <td>155.29</td>\n",
              "      <td>155.23</td>\n",
              "      <td>156.47</td>\n",
              "      <td>154.26</td>\n",
              "      <td>1.20M</td>\n",
              "      <td>0.73%</td>\n",
              "    </tr>\n",
              "  </tbody>\n",
              "</table>\n",
              "<p>2129 rows × 7 columns</p>\n",
              "</div>\n",
              "      <button class=\"colab-df-convert\" onclick=\"convertToInteractive('df-68440277-d536-411d-aca8-98de92a3f530')\"\n",
              "              title=\"Convert this dataframe to an interactive table.\"\n",
              "              style=\"display:none;\">\n",
              "        \n",
              "  <svg xmlns=\"http://www.w3.org/2000/svg\" height=\"24px\"viewBox=\"0 0 24 24\"\n",
              "       width=\"24px\">\n",
              "    <path d=\"M0 0h24v24H0V0z\" fill=\"none\"/>\n",
              "    <path d=\"M18.56 5.44l.94 2.06.94-2.06 2.06-.94-2.06-.94-.94-2.06-.94 2.06-2.06.94zm-11 1L8.5 8.5l.94-2.06 2.06-.94-2.06-.94L8.5 2.5l-.94 2.06-2.06.94zm10 10l.94 2.06.94-2.06 2.06-.94-2.06-.94-.94-2.06-.94 2.06-2.06.94z\"/><path d=\"M17.41 7.96l-1.37-1.37c-.4-.4-.92-.59-1.43-.59-.52 0-1.04.2-1.43.59L10.3 9.45l-7.72 7.72c-.78.78-.78 2.05 0 2.83L4 21.41c.39.39.9.59 1.41.59.51 0 1.02-.2 1.41-.59l7.78-7.78 2.81-2.81c.8-.78.8-2.07 0-2.86zM5.41 20L4 18.59l7.72-7.72 1.47 1.35L5.41 20z\"/>\n",
              "  </svg>\n",
              "      </button>\n",
              "      \n",
              "  <style>\n",
              "    .colab-df-container {\n",
              "      display:flex;\n",
              "      flex-wrap:wrap;\n",
              "      gap: 12px;\n",
              "    }\n",
              "\n",
              "    .colab-df-convert {\n",
              "      background-color: #E8F0FE;\n",
              "      border: none;\n",
              "      border-radius: 50%;\n",
              "      cursor: pointer;\n",
              "      display: none;\n",
              "      fill: #1967D2;\n",
              "      height: 32px;\n",
              "      padding: 0 0 0 0;\n",
              "      width: 32px;\n",
              "    }\n",
              "\n",
              "    .colab-df-convert:hover {\n",
              "      background-color: #E2EBFA;\n",
              "      box-shadow: 0px 1px 2px rgba(60, 64, 67, 0.3), 0px 1px 3px 1px rgba(60, 64, 67, 0.15);\n",
              "      fill: #174EA6;\n",
              "    }\n",
              "\n",
              "    [theme=dark] .colab-df-convert {\n",
              "      background-color: #3B4455;\n",
              "      fill: #D2E3FC;\n",
              "    }\n",
              "\n",
              "    [theme=dark] .colab-df-convert:hover {\n",
              "      background-color: #434B5C;\n",
              "      box-shadow: 0px 1px 3px 1px rgba(0, 0, 0, 0.15);\n",
              "      filter: drop-shadow(0px 1px 2px rgba(0, 0, 0, 0.3));\n",
              "      fill: #FFFFFF;\n",
              "    }\n",
              "  </style>\n",
              "\n",
              "      <script>\n",
              "        const buttonEl =\n",
              "          document.querySelector('#df-68440277-d536-411d-aca8-98de92a3f530 button.colab-df-convert');\n",
              "        buttonEl.style.display =\n",
              "          google.colab.kernel.accessAllowed ? 'block' : 'none';\n",
              "\n",
              "        async function convertToInteractive(key) {\n",
              "          const element = document.querySelector('#df-68440277-d536-411d-aca8-98de92a3f530');\n",
              "          const dataTable =\n",
              "            await google.colab.kernel.invokeFunction('convertToInteractive',\n",
              "                                                     [key], {});\n",
              "          if (!dataTable) return;\n",
              "\n",
              "          const docLinkHtml = 'Like what you see? Visit the ' +\n",
              "            '<a target=\"_blank\" href=https://colab.research.google.com/notebooks/data_table.ipynb>data table notebook</a>'\n",
              "            + ' to learn more about interactive tables.';\n",
              "          element.innerHTML = '';\n",
              "          dataTable['output_type'] = 'display_data';\n",
              "          await google.colab.output.renderOutput(dataTable, element);\n",
              "          const docLink = document.createElement('div');\n",
              "          docLink.innerHTML = docLinkHtml;\n",
              "          element.appendChild(docLink);\n",
              "        }\n",
              "      </script>\n",
              "    </div>\n",
              "  </div>\n",
              "  "
            ]
          },
          "metadata": {},
          "execution_count": 81
        }
      ]
    },
    {
      "cell_type": "code",
      "source": [
        "# 3. Scaler data\n",
        "scaler=MinMaxScaler(feature_range=(0,1))\n",
        "df1=scaler.fit_transform(np.array(df1).reshape(-1,1))"
      ],
      "metadata": {
        "id": "zhE2bmc7uJz9"
      },
      "execution_count": null,
      "outputs": []
    },
    {
      "cell_type": "code",
      "source": [
        "# 4. Chia train test\n",
        "train_size = int(0.6 * len(df1))\n",
        "test_size = int(0.2 * len(df1))\n",
        "val_size = len(df1) - train_size - test_size\n",
        "\n",
        "train_data = df1[:train_size]\n",
        "test_data = df1[train_size:train_size+test_size]\n",
        "val_data = df1[train_size+test_size:]"
      ],
      "metadata": {
        "id": "x6mdssyouJz9"
      },
      "execution_count": null,
      "outputs": []
    },
    {
      "cell_type": "code",
      "source": [
        "# 5. Hàm Create Dataset\n",
        "import numpy\n",
        "# convert an array of values into a dataset matrix\n",
        "def create_dataset(dataset, time_step=1):\n",
        "\tdataX, dataY = [], []\n",
        "\tfor i in range(len(dataset)-time_step-1):\n",
        "\t\ta = dataset[i:(i+time_step), 0]   ###i=0, X=0,1,2,3-----99   Y=100\n",
        "\t\tdataX.append(a)\n",
        "\t\tdataY.append(dataset[i + time_step, 0])\n",
        "\treturn numpy.array(dataX), numpy.array(dataY)"
      ],
      "metadata": {
        "id": "UgoFFvPduJz-"
      },
      "execution_count": null,
      "outputs": []
    },
    {
      "cell_type": "code",
      "source": [
        "#6. Reshape into X=t,t+1,t+2..t+99 and Y=t+100\n",
        "\n",
        "time_step = 1\n",
        "X_train, y_train = create_dataset(train_data, time_step)\n",
        "X_val, yval = create_dataset(val_data, time_step)\n",
        "X_test, ytest = create_dataset(test_data, time_step)"
      ],
      "metadata": {
        "id": "ACCcfSfBuJz-"
      },
      "execution_count": null,
      "outputs": []
    },
    {
      "cell_type": "code",
      "source": [
        "# 7. Reshape input to be [samples, time steps, features] which is required for LSTM\n",
        "X_train =X_train.reshape(X_train.shape[0],X_train.shape[1] , 1)\n",
        "X_test = X_test.reshape(X_test.shape[0],X_test.shape[1] , 1)\n",
        "X_val = X_val.reshape(X_val.shape[0],X_val.shape[1] , 1)"
      ],
      "metadata": {
        "id": "eDW2HkczuJz-"
      },
      "execution_count": null,
      "outputs": []
    },
    {
      "cell_type": "code",
      "source": [
        "# 8. Define RNN Model\n",
        "\n",
        "model = Sequential()\n",
        "model.add(SimpleRNN(50, input_shape=(time_step, 1)))\n",
        "model.add(Dense(1))\n",
        "model.compile(loss='mean_squared_error',optimizer='adam')"
      ],
      "metadata": {
        "id": "f-oLh-tguJz-"
      },
      "execution_count": null,
      "outputs": []
    },
    {
      "cell_type": "code",
      "source": [
        "# 9. Fit mô hình với dữ liệu train\n",
        "model.fit(X_train,y_train,validation_data=(X_test,ytest),epochs=100,batch_size=64,verbose=1)"
      ],
      "metadata": {
        "colab": {
          "base_uri": "https://localhost:8080/"
        },
        "outputId": "2cb3602d-d44f-47fa-ca1e-7fb97e80a0c4",
        "id": "cYF-xDoDuJz-"
      },
      "execution_count": null,
      "outputs": [
        {
          "output_type": "stream",
          "name": "stdout",
          "text": [
            "Epoch 1/100\n",
            "20/20 [==============================] - 2s 25ms/step - loss: 0.0270 - val_loss: 0.0887\n",
            "Epoch 2/100\n",
            "20/20 [==============================] - 0s 7ms/step - loss: 0.0072 - val_loss: 0.0481\n",
            "Epoch 3/100\n",
            "20/20 [==============================] - 0s 8ms/step - loss: 0.0059 - val_loss: 0.0522\n",
            "Epoch 4/100\n",
            "20/20 [==============================] - 0s 8ms/step - loss: 0.0045 - val_loss: 0.0369\n",
            "Epoch 5/100\n",
            "20/20 [==============================] - 0s 8ms/step - loss: 0.0033 - val_loss: 0.0270\n",
            "Epoch 6/100\n",
            "20/20 [==============================] - 0s 7ms/step - loss: 0.0024 - val_loss: 0.0190\n",
            "Epoch 7/100\n",
            "20/20 [==============================] - 0s 7ms/step - loss: 0.0016 - val_loss: 0.0126\n",
            "Epoch 8/100\n",
            "20/20 [==============================] - 0s 7ms/step - loss: 0.0010 - val_loss: 0.0079\n",
            "Epoch 9/100\n",
            "20/20 [==============================] - 0s 8ms/step - loss: 6.1228e-04 - val_loss: 0.0047\n",
            "Epoch 10/100\n",
            "20/20 [==============================] - 0s 9ms/step - loss: 3.4202e-04 - val_loss: 0.0026\n",
            "Epoch 11/100\n",
            "20/20 [==============================] - 0s 7ms/step - loss: 1.9339e-04 - val_loss: 0.0014\n",
            "Epoch 12/100\n",
            "20/20 [==============================] - 0s 7ms/step - loss: 1.1363e-04 - val_loss: 8.3446e-04\n",
            "Epoch 13/100\n",
            "20/20 [==============================] - 0s 7ms/step - loss: 7.4791e-05 - val_loss: 5.5108e-04\n",
            "Epoch 14/100\n",
            "20/20 [==============================] - 0s 7ms/step - loss: 5.9189e-05 - val_loss: 4.4017e-04\n",
            "Epoch 15/100\n",
            "20/20 [==============================] - 0s 7ms/step - loss: 5.3045e-05 - val_loss: 3.8591e-04\n",
            "Epoch 16/100\n",
            "20/20 [==============================] - 0s 7ms/step - loss: 5.0683e-05 - val_loss: 3.6436e-04\n",
            "Epoch 17/100\n",
            "20/20 [==============================] - 0s 9ms/step - loss: 5.0060e-05 - val_loss: 3.5057e-04\n",
            "Epoch 18/100\n",
            "20/20 [==============================] - 0s 7ms/step - loss: 4.9970e-05 - val_loss: 3.4955e-04\n",
            "Epoch 19/100\n",
            "20/20 [==============================] - 0s 7ms/step - loss: 4.9908e-05 - val_loss: 3.4871e-04\n",
            "Epoch 20/100\n",
            "20/20 [==============================] - 0s 7ms/step - loss: 4.9916e-05 - val_loss: 3.4287e-04\n",
            "Epoch 21/100\n",
            "20/20 [==============================] - 0s 7ms/step - loss: 5.0010e-05 - val_loss: 3.4399e-04\n",
            "Epoch 22/100\n",
            "20/20 [==============================] - 0s 7ms/step - loss: 4.9988e-05 - val_loss: 3.4307e-04\n",
            "Epoch 23/100\n",
            "20/20 [==============================] - 0s 6ms/step - loss: 5.0101e-05 - val_loss: 3.4687e-04\n",
            "Epoch 24/100\n",
            "20/20 [==============================] - 0s 6ms/step - loss: 4.9751e-05 - val_loss: 3.4148e-04\n",
            "Epoch 25/100\n",
            "20/20 [==============================] - 0s 4ms/step - loss: 5.0502e-05 - val_loss: 3.4521e-04\n",
            "Epoch 26/100\n",
            "20/20 [==============================] - 0s 5ms/step - loss: 5.0080e-05 - val_loss: 3.4380e-04\n",
            "Epoch 27/100\n",
            "20/20 [==============================] - 0s 5ms/step - loss: 5.0111e-05 - val_loss: 3.5177e-04\n",
            "Epoch 28/100\n",
            "20/20 [==============================] - 0s 6ms/step - loss: 5.0222e-05 - val_loss: 3.4574e-04\n",
            "Epoch 29/100\n",
            "20/20 [==============================] - 0s 5ms/step - loss: 5.0293e-05 - val_loss: 3.4135e-04\n",
            "Epoch 30/100\n",
            "20/20 [==============================] - 0s 4ms/step - loss: 5.0406e-05 - val_loss: 3.4462e-04\n",
            "Epoch 31/100\n",
            "20/20 [==============================] - 0s 5ms/step - loss: 4.9884e-05 - val_loss: 3.4601e-04\n",
            "Epoch 32/100\n",
            "20/20 [==============================] - 0s 6ms/step - loss: 4.9829e-05 - val_loss: 3.5071e-04\n",
            "Epoch 33/100\n",
            "20/20 [==============================] - 0s 5ms/step - loss: 5.0036e-05 - val_loss: 3.4657e-04\n",
            "Epoch 34/100\n",
            "20/20 [==============================] - 0s 5ms/step - loss: 4.9854e-05 - val_loss: 3.4398e-04\n",
            "Epoch 35/100\n",
            "20/20 [==============================] - 0s 4ms/step - loss: 4.9842e-05 - val_loss: 3.5044e-04\n",
            "Epoch 36/100\n",
            "20/20 [==============================] - 0s 4ms/step - loss: 4.9936e-05 - val_loss: 3.5199e-04\n",
            "Epoch 37/100\n",
            "20/20 [==============================] - 0s 5ms/step - loss: 4.9890e-05 - val_loss: 3.4423e-04\n",
            "Epoch 38/100\n",
            "20/20 [==============================] - 0s 4ms/step - loss: 4.9871e-05 - val_loss: 3.4848e-04\n",
            "Epoch 39/100\n",
            "20/20 [==============================] - 0s 4ms/step - loss: 4.9823e-05 - val_loss: 3.4755e-04\n",
            "Epoch 40/100\n",
            "20/20 [==============================] - 0s 6ms/step - loss: 5.0366e-05 - val_loss: 3.5270e-04\n",
            "Epoch 41/100\n",
            "20/20 [==============================] - 0s 5ms/step - loss: 5.0269e-05 - val_loss: 3.5318e-04\n",
            "Epoch 42/100\n",
            "20/20 [==============================] - 0s 4ms/step - loss: 5.0059e-05 - val_loss: 3.4533e-04\n",
            "Epoch 43/100\n",
            "20/20 [==============================] - 0s 6ms/step - loss: 5.0108e-05 - val_loss: 3.4430e-04\n",
            "Epoch 44/100\n",
            "20/20 [==============================] - 0s 5ms/step - loss: 4.9905e-05 - val_loss: 3.4521e-04\n",
            "Epoch 45/100\n",
            "20/20 [==============================] - 0s 5ms/step - loss: 4.9748e-05 - val_loss: 3.4997e-04\n",
            "Epoch 46/100\n",
            "20/20 [==============================] - 0s 5ms/step - loss: 5.0399e-05 - val_loss: 3.4777e-04\n",
            "Epoch 47/100\n",
            "20/20 [==============================] - 0s 6ms/step - loss: 5.0069e-05 - val_loss: 3.4282e-04\n",
            "Epoch 48/100\n",
            "20/20 [==============================] - 0s 4ms/step - loss: 4.9888e-05 - val_loss: 3.4850e-04\n",
            "Epoch 49/100\n",
            "20/20 [==============================] - 0s 5ms/step - loss: 5.0128e-05 - val_loss: 3.4672e-04\n",
            "Epoch 50/100\n",
            "20/20 [==============================] - 0s 5ms/step - loss: 4.9858e-05 - val_loss: 3.4319e-04\n",
            "Epoch 51/100\n",
            "20/20 [==============================] - 0s 6ms/step - loss: 5.0146e-05 - val_loss: 3.4152e-04\n",
            "Epoch 52/100\n",
            "20/20 [==============================] - 0s 5ms/step - loss: 5.0927e-05 - val_loss: 3.4134e-04\n",
            "Epoch 53/100\n",
            "20/20 [==============================] - 0s 6ms/step - loss: 4.9834e-05 - val_loss: 3.5535e-04\n",
            "Epoch 54/100\n",
            "20/20 [==============================] - 0s 5ms/step - loss: 5.0307e-05 - val_loss: 3.4756e-04\n",
            "Epoch 55/100\n",
            "20/20 [==============================] - 0s 5ms/step - loss: 4.9941e-05 - val_loss: 3.4205e-04\n",
            "Epoch 56/100\n",
            "20/20 [==============================] - 0s 5ms/step - loss: 5.0288e-05 - val_loss: 3.4516e-04\n",
            "Epoch 57/100\n",
            "20/20 [==============================] - 0s 5ms/step - loss: 5.0331e-05 - val_loss: 3.4625e-04\n",
            "Epoch 58/100\n",
            "20/20 [==============================] - 0s 4ms/step - loss: 4.9981e-05 - val_loss: 3.3914e-04\n",
            "Epoch 59/100\n",
            "20/20 [==============================] - 0s 5ms/step - loss: 5.1787e-05 - val_loss: 3.4636e-04\n",
            "Epoch 60/100\n",
            "20/20 [==============================] - 0s 5ms/step - loss: 5.0382e-05 - val_loss: 3.4872e-04\n",
            "Epoch 61/100\n",
            "20/20 [==============================] - 0s 5ms/step - loss: 5.0053e-05 - val_loss: 3.5721e-04\n",
            "Epoch 62/100\n",
            "20/20 [==============================] - 0s 4ms/step - loss: 5.0600e-05 - val_loss: 3.4824e-04\n",
            "Epoch 63/100\n",
            "20/20 [==============================] - 0s 5ms/step - loss: 4.9890e-05 - val_loss: 3.4557e-04\n",
            "Epoch 64/100\n",
            "20/20 [==============================] - 0s 5ms/step - loss: 5.0043e-05 - val_loss: 3.5018e-04\n",
            "Epoch 65/100\n",
            "20/20 [==============================] - 0s 4ms/step - loss: 5.0220e-05 - val_loss: 3.4370e-04\n",
            "Epoch 66/100\n",
            "20/20 [==============================] - 0s 4ms/step - loss: 4.9995e-05 - val_loss: 3.4451e-04\n",
            "Epoch 67/100\n",
            "20/20 [==============================] - 0s 5ms/step - loss: 5.1079e-05 - val_loss: 3.4726e-04\n",
            "Epoch 68/100\n",
            "20/20 [==============================] - 0s 5ms/step - loss: 4.9936e-05 - val_loss: 3.4897e-04\n",
            "Epoch 69/100\n",
            "20/20 [==============================] - 0s 5ms/step - loss: 5.0230e-05 - val_loss: 3.4418e-04\n",
            "Epoch 70/100\n",
            "20/20 [==============================] - 0s 6ms/step - loss: 5.1451e-05 - val_loss: 3.4195e-04\n",
            "Epoch 71/100\n",
            "20/20 [==============================] - 0s 5ms/step - loss: 5.0548e-05 - val_loss: 3.5323e-04\n",
            "Epoch 72/100\n",
            "20/20 [==============================] - 0s 5ms/step - loss: 5.1114e-05 - val_loss: 3.4869e-04\n",
            "Epoch 73/100\n",
            "20/20 [==============================] - 0s 5ms/step - loss: 5.0132e-05 - val_loss: 3.4768e-04\n",
            "Epoch 74/100\n",
            "20/20 [==============================] - 0s 5ms/step - loss: 5.0021e-05 - val_loss: 3.4637e-04\n",
            "Epoch 75/100\n",
            "20/20 [==============================] - 0s 6ms/step - loss: 5.0240e-05 - val_loss: 3.4029e-04\n",
            "Epoch 76/100\n",
            "20/20 [==============================] - 0s 5ms/step - loss: 5.0745e-05 - val_loss: 3.5271e-04\n",
            "Epoch 77/100\n",
            "20/20 [==============================] - 0s 5ms/step - loss: 5.0320e-05 - val_loss: 3.4118e-04\n",
            "Epoch 78/100\n",
            "20/20 [==============================] - 0s 5ms/step - loss: 5.0958e-05 - val_loss: 3.4646e-04\n",
            "Epoch 79/100\n",
            "20/20 [==============================] - 0s 4ms/step - loss: 5.0985e-05 - val_loss: 3.4346e-04\n",
            "Epoch 80/100\n",
            "20/20 [==============================] - 0s 5ms/step - loss: 5.1187e-05 - val_loss: 3.4996e-04\n",
            "Epoch 81/100\n",
            "20/20 [==============================] - 0s 5ms/step - loss: 5.1187e-05 - val_loss: 3.4483e-04\n",
            "Epoch 82/100\n",
            "20/20 [==============================] - 0s 5ms/step - loss: 5.0441e-05 - val_loss: 3.4002e-04\n",
            "Epoch 83/100\n",
            "20/20 [==============================] - 0s 5ms/step - loss: 5.0307e-05 - val_loss: 3.4225e-04\n",
            "Epoch 84/100\n",
            "20/20 [==============================] - 0s 7ms/step - loss: 5.0112e-05 - val_loss: 3.4845e-04\n",
            "Epoch 85/100\n",
            "20/20 [==============================] - 0s 5ms/step - loss: 5.0001e-05 - val_loss: 3.3838e-04\n",
            "Epoch 86/100\n",
            "20/20 [==============================] - 0s 4ms/step - loss: 5.1712e-05 - val_loss: 3.4449e-04\n",
            "Epoch 87/100\n",
            "20/20 [==============================] - 0s 4ms/step - loss: 4.9907e-05 - val_loss: 3.4381e-04\n",
            "Epoch 88/100\n",
            "20/20 [==============================] - 0s 4ms/step - loss: 5.0958e-05 - val_loss: 3.4771e-04\n",
            "Epoch 89/100\n",
            "20/20 [==============================] - 0s 6ms/step - loss: 4.9983e-05 - val_loss: 3.5009e-04\n",
            "Epoch 90/100\n",
            "20/20 [==============================] - 0s 5ms/step - loss: 5.0543e-05 - val_loss: 3.4862e-04\n",
            "Epoch 91/100\n",
            "20/20 [==============================] - 0s 5ms/step - loss: 5.2126e-05 - val_loss: 3.5319e-04\n",
            "Epoch 92/100\n",
            "20/20 [==============================] - 0s 5ms/step - loss: 5.1457e-05 - val_loss: 3.6514e-04\n",
            "Epoch 93/100\n",
            "20/20 [==============================] - 0s 5ms/step - loss: 5.0200e-05 - val_loss: 3.4072e-04\n",
            "Epoch 94/100\n",
            "20/20 [==============================] - 0s 5ms/step - loss: 5.0004e-05 - val_loss: 3.4784e-04\n",
            "Epoch 95/100\n",
            "20/20 [==============================] - 0s 4ms/step - loss: 5.0392e-05 - val_loss: 3.3926e-04\n",
            "Epoch 96/100\n",
            "20/20 [==============================] - 0s 5ms/step - loss: 5.0537e-05 - val_loss: 3.4906e-04\n",
            "Epoch 97/100\n",
            "20/20 [==============================] - 0s 5ms/step - loss: 5.0864e-05 - val_loss: 3.5460e-04\n",
            "Epoch 98/100\n",
            "20/20 [==============================] - 0s 5ms/step - loss: 5.1021e-05 - val_loss: 3.4677e-04\n",
            "Epoch 99/100\n",
            "20/20 [==============================] - 0s 5ms/step - loss: 5.0680e-05 - val_loss: 3.4288e-04\n",
            "Epoch 100/100\n",
            "20/20 [==============================] - 0s 5ms/step - loss: 5.0586e-05 - val_loss: 3.4960e-04\n"
          ]
        },
        {
          "output_type": "execute_result",
          "data": {
            "text/plain": [
              "<keras.callbacks.History at 0x7f6fe68f3400>"
            ]
          },
          "metadata": {},
          "execution_count": 88
        }
      ]
    },
    {
      "cell_type": "code",
      "source": [
        "# 10. Dự báo dữ liệu test, val\n",
        "train_predict=model.predict(X_train)\n",
        "y_pred=model.predict(X_test)\n",
        "y_pred_val=model.predict(X_val)"
      ],
      "metadata": {
        "colab": {
          "base_uri": "https://localhost:8080/"
        },
        "outputId": "066adc6a-e188-4f4a-af7b-4257935a5648",
        "id": "oAW3xskCuJz-"
      },
      "execution_count": null,
      "outputs": [
        {
          "output_type": "stream",
          "name": "stdout",
          "text": [
            "40/40 [==============================] - 0s 2ms/step\n",
            "14/14 [==============================] - 0s 2ms/step\n",
            "14/14 [==============================] - 0s 2ms/step\n"
          ]
        }
      ]
    },
    {
      "cell_type": "code",
      "source": [
        "# 11. Chuẩn hóa dữ liệu y_pred, y_pred_val\n",
        "train_predict=scaler.inverse_transform(train_predict)\n",
        "y_pred=scaler.inverse_transform(y_pred)\n",
        "y_pred_val=scaler.inverse_transform(y_pred_val)\n",
        "\n",
        "ytest = scaler.inverse_transform(ytest.reshape(-1,1))\n",
        "yval = scaler.inverse_transform(yval.reshape(-1,1))"
      ],
      "metadata": {
        "id": "Sfx7H64IuJz-"
      },
      "execution_count": null,
      "outputs": []
    },
    {
      "cell_type": "markdown",
      "source": [
        "## **Đánh giá**"
      ],
      "metadata": {
        "id": "O5F_Hy1gvI0C"
      }
    },
    {
      "cell_type": "code",
      "source": [
        "# 12. Đánh giá độ chính xác thuật toán bằng RMSE\n",
        "valid_rmse = np.sqrt(np.mean((y_pred_val - yval)**2))\n",
        "test_rmse = np.sqrt(np.mean((y_pred - ytest)**2))\n",
        "test_mae = np.mean(np.abs(y_pred - ytest))\n",
        "valid_mae = np.mean(np.abs(y_pred_val - yval))\n",
        "test_mape = np.mean(np.abs((ytest - y_pred) / ytest)) * 100\n",
        "valid_mape = np.mean(np.abs((yval - y_pred_val) / np.where(yval != 0, yval, 1))) * 100\n",
        "\n",
        "print('Validation RMSE:', valid_rmse)\n",
        "print('Testing RMSE:', test_rmse)\n",
        "print('Testing MAE:', test_mae)\n",
        "print('Validation MAE:', valid_mae)\n",
        "print('Testing MAPE:', test_mape)\n",
        "print('Validation MAPE:', valid_mape)"
      ],
      "metadata": {
        "colab": {
          "base_uri": "https://localhost:8080/"
        },
        "outputId": "df437fec-3c1e-47a2-c09a-1eedde62d834",
        "id": "TAzon2VtuJz_"
      },
      "execution_count": null,
      "outputs": [
        {
          "output_type": "stream",
          "name": "stdout",
          "text": [
            "Validation RMSE: 3.1191447560913796\n",
            "Testing RMSE: 2.959628596128642\n",
            "Testing MAE: 2.0307305020812554\n",
            "Validation MAE: 2.4089288976332717\n",
            "Testing MAPE: 1.5582732326504671\n",
            "Validation MAPE: 1.3398661138457537\n"
          ]
        }
      ]
    },
    {
      "cell_type": "code",
      "source": [
        "# 13. Dự báo 30 ngày tiếp theo\n",
        "x_input=val_data[426:].reshape(1,-1)\n",
        "x_input.shape\n",
        "\n",
        "temp_input=list(x_input)\n",
        "temp_input=temp_input[0].tolist()\n",
        "\n",
        "from numpy import array\n",
        "\n",
        "lst_output=[]\n",
        "n_steps=1\n",
        "i=0\n",
        "while(i<30):\n",
        "\n",
        "    if(len(temp_input)>1):\n",
        "        #print(temp_input)\n",
        "        x_input=np.array(temp_input[1:])\n",
        "        # print(\"{} day input {}\".format(i,x_input))\n",
        "        x_input=x_input.reshape(1,-1)\n",
        "        x_input = x_input.reshape((1, n_steps, 1))\n",
        "        #print(x_input)\n",
        "        yhat = model.predict(x_input, verbose=0)\n",
        "        # print(\"{} day output {}\".format(i,yhat))\n",
        "        temp_input.extend(yhat[0].tolist())\n",
        "        temp_input=temp_input[1:]\n",
        "        #print(temp_input)\n",
        "        lst_output.extend(yhat.tolist())\n",
        "        i=i+1\n",
        "    else:\n",
        "        x_input = x_input.reshape((1, n_steps,1))\n",
        "        yhat = model.predict(x_input, verbose=0)\n",
        "        print(yhat[0])\n",
        "        temp_input.extend(yhat[0].tolist())\n",
        "        print(len(temp_input))\n",
        "        lst_output.extend(yhat.tolist())\n",
        "        i=i+1\n"
      ],
      "metadata": {
        "colab": {
          "base_uri": "https://localhost:8080/"
        },
        "outputId": "70f40023-8daa-4977-be9d-02cb801bc2b1",
        "id": "vzKvNsHwuJz_"
      },
      "execution_count": null,
      "outputs": [
        {
          "output_type": "stream",
          "name": "stdout",
          "text": [
            "[0.52868307]\n",
            "2\n"
          ]
        }
      ]
    },
    {
      "cell_type": "markdown",
      "source": [
        "## **Kết quả**"
      ],
      "metadata": {
        "id": "quC1jRIFvNJi"
      }
    },
    {
      "cell_type": "code",
      "source": [
        "# 14.Vẽ hình\n",
        "\n",
        "train_data_index = pd.RangeIndex(start=0, stop=train_size, step=1)\n",
        "plt.plot(scaler.inverse_transform(train_data))\n",
        "test_data_index = pd.RangeIndex(start=train_size, stop=train_size+test_size, step=1)\n",
        "plt.plot(test_data_index,scaler.inverse_transform(test_data))\n",
        "test_data_index = pd.RangeIndex(start=train_size+2, stop=train_size+test_size, step=1)\n",
        "plt.plot(test_data_index,(y_pred))\n",
        "val_data_index = pd.RangeIndex(start=train_size+test_size, stop=train_size+test_size+val_size, step=1)\n",
        "plt.plot(val_data_index,scaler.inverse_transform(val_data))\n",
        "val_data_index = pd.RangeIndex(start=train_size+test_size+2, stop=train_size+test_size+val_size, step=1)\n",
        "plt.plot(val_data_index,y_pred_val)\n",
        "prediect_data_index = pd.RangeIndex(start=len(df1)-1, stop=len(df1)+29, step=1)\n",
        "plt.plot(prediect_data_index,scaler.inverse_transform(lst_output))\n",
        "plt.legend(['Train','Test','Predict','Validate','ValidatePred','Predict30days'])\n",
        "plt.show()"
      ],
      "metadata": {
        "colab": {
          "base_uri": "https://localhost:8080/",
          "height": 430
        },
        "outputId": "38eb2158-2a52-465f-d957-94f594180650",
        "id": "UVBwzuieuJz_"
      },
      "execution_count": null,
      "outputs": [
        {
          "output_type": "display_data",
          "data": {
            "text/plain": [
              "<Figure size 640x480 with 1 Axes>"
            ],
            "image/png": "[encoded data removed]"
          },
          "metadata": {}
        }
      ]
    },
    {
      "cell_type": "markdown",
      "source": [
        "#**ARI 6:2:2**"
      ],
      "metadata": {
        "id": "OAIkZp3luJz_"
      }
    },
    {
      "cell_type": "code",
      "source": [
        "# 1. Import thư viện cần thiết\n",
        "from google.colab import drive\n",
        "drive.mount('/content/drive')\n",
        "import numpy as np\n",
        "import pandas as pd\n",
        "import matplotlib.pyplot as plt\n",
        "from sklearn.preprocessing import MinMaxScaler\n",
        "from keras.models import Sequential\n",
        "from keras.layers import Dense, SimpleRNN"
      ],
      "metadata": {
        "colab": {
          "base_uri": "https://localhost:8080/"
        },
        "outputId": "057df90c-680d-48c2-96dc-4b8ffddb26fc",
        "id": "liZCkSfjuJ0A"
      },
      "execution_count": 142,
      "outputs": [
        {
          "output_type": "stream",
          "name": "stdout",
          "text": [
            "Drive already mounted at /content/drive; to attempt to forcibly remount, call drive.mount(\"/content/drive\", force_remount=True).\n"
          ]
        }
      ]
    },
    {
      "cell_type": "code",
      "source": [
        "# 2. Đọc file csv và gắng index với giá Price\n",
        "df = pd.read_csv('/content/ARI-Historical-Data.csv')\n",
        "df = df.iloc[::-1]\n",
        "df1=df.reset_index()['Price']\n"
      ],
      "metadata": {
        "id": "2_byQ27uuJ0A"
      },
      "execution_count": 143,
      "outputs": []
    },
    {
      "cell_type": "code",
      "source": [
        "df"
      ],
      "metadata": {
        "colab": {
          "base_uri": "https://localhost:8080/",
          "height": 423
        },
        "outputId": "053b8d54-d644-46ea-b11a-e933dbb66be4",
        "id": "Oiw0bStFuJ0A"
      },
      "execution_count": 144,
      "outputs": [
        {
          "output_type": "execute_result",
          "data": {
            "text/plain": [
              "            Date  Price   Open   High    Low     Vol. Change %\n",
              "2128  01/02/2015  16.54  16.49  16.55  16.35  184.56K    1.10%\n",
              "2127  01/05/2015  16.51  16.47  16.63  16.45  387.43K   -0.18%\n",
              "2126  01/06/2015  16.42  16.60  16.64  16.37  225.81K   -0.55%\n",
              "2125  01/07/2015  16.63  16.48  16.65  16.44  492.81K    1.28%\n",
              "2124  01/08/2015  16.49  16.69  16.69  16.45  440.70K   -0.84%\n",
              "...          ...    ...    ...    ...    ...      ...      ...\n",
              "4     06/12/2023  11.09  10.83  11.11  10.83  754.88K    2.21%\n",
              "3     06/13/2023  11.22  11.12  11.25  11.08  799.04K    1.17%\n",
              "2     06/14/2023  11.19  11.27  11.38  11.09  876.19K   -0.27%\n",
              "1     06/15/2023  11.42  11.15  11.44  11.14    1.07M    2.06%\n",
              "0     06/16/2023  11.31  11.45  11.45  11.19    2.29M   -0.96%\n",
              "\n",
              "[2129 rows x 7 columns]"
            ],
            "text/html": [
              "\n",
              "  <div id=\"df-59ee38b2-160b-48bb-a96a-28f475f24429\">\n",
              "    <div class=\"colab-df-container\">\n",
              "      <div>\n",
              "<style scoped>\n",
              "    .dataframe tbody tr th:only-of-type {\n",
              "        vertical-align: middle;\n",
              "    }\n",
              "\n",
              "    .dataframe tbody tr th {\n",
              "        vertical-align: top;\n",
              "    }\n",
              "\n",
              "    .dataframe thead th {\n",
              "        text-align: right;\n",
              "    }\n",
              "</style>\n",
              "<table border=\"1\" class=\"dataframe\">\n",
              "  <thead>\n",
              "    <tr style=\"text-align: right;\">\n",
              "      <th></th>\n",
              "      <th>Date</th>\n",
              "      <th>Price</th>\n",
              "      <th>Open</th>\n",
              "      <th>High</th>\n",
              "      <th>Low</th>\n",
              "      <th>Vol.</th>\n",
              "      <th>Change %</th>\n",
              "    </tr>\n",
              "  </thead>\n",
              "  <tbody>\n",
              "    <tr>\n",
              "      <th>2128</th>\n",
              "      <td>01/02/2015</td>\n",
              "      <td>16.54</td>\n",
              "      <td>16.49</td>\n",
              "      <td>16.55</td>\n",
              "      <td>16.35</td>\n",
              "      <td>184.56K</td>\n",
              "      <td>1.10%</td>\n",
              "    </tr>\n",
              "    <tr>\n",
              "      <th>2127</th>\n",
              "      <td>01/05/2015</td>\n",
              "      <td>16.51</td>\n",
              "      <td>16.47</td>\n",
              "      <td>16.63</td>\n",
              "      <td>16.45</td>\n",
              "      <td>387.43K</td>\n",
              "      <td>-0.18%</td>\n",
              "    </tr>\n",
              "    <tr>\n",
              "      <th>2126</th>\n",
              "      <td>01/06/2015</td>\n",
              "      <td>16.42</td>\n",
              "      <td>16.60</td>\n",
              "      <td>16.64</td>\n",
              "      <td>16.37</td>\n",
              "      <td>225.81K</td>\n",
              "      <td>-0.55%</td>\n",
              "    </tr>\n",
              "    <tr>\n",
              "      <th>2125</th>\n",
              "      <td>01/07/2015</td>\n",
              "      <td>16.63</td>\n",
              "      <td>16.48</td>\n",
              "      <td>16.65</td>\n",
              "      <td>16.44</td>\n",
              "      <td>492.81K</td>\n",
              "      <td>1.28%</td>\n",
              "    </tr>\n",
              "    <tr>\n",
              "      <th>2124</th>\n",
              "      <td>01/08/2015</td>\n",
              "      <td>16.49</td>\n",
              "      <td>16.69</td>\n",
              "      <td>16.69</td>\n",
              "      <td>16.45</td>\n",
              "      <td>440.70K</td>\n",
              "      <td>-0.84%</td>\n",
              "    </tr>\n",
              "    <tr>\n",
              "      <th>...</th>\n",
              "      <td>...</td>\n",
              "      <td>...</td>\n",
              "      <td>...</td>\n",
              "      <td>...</td>\n",
              "      <td>...</td>\n",
              "      <td>...</td>\n",
              "      <td>...</td>\n",
              "    </tr>\n",
              "    <tr>\n",
              "      <th>4</th>\n",
              "      <td>06/12/2023</td>\n",
              "      <td>11.09</td>\n",
              "      <td>10.83</td>\n",
              "      <td>11.11</td>\n",
              "      <td>10.83</td>\n",
              "      <td>754.88K</td>\n",
              "      <td>2.21%</td>\n",
              "    </tr>\n",
              "    <tr>\n",
              "      <th>3</th>\n",
              "      <td>06/13/2023</td>\n",
              "      <td>11.22</td>\n",
              "      <td>11.12</td>\n",
              "      <td>11.25</td>\n",
              "      <td>11.08</td>\n",
              "      <td>799.04K</td>\n",
              "      <td>1.17%</td>\n",
              "    </tr>\n",
              "    <tr>\n",
              "      <th>2</th>\n",
              "      <td>06/14/2023</td>\n",
              "      <td>11.19</td>\n",
              "      <td>11.27</td>\n",
              "      <td>11.38</td>\n",
              "      <td>11.09</td>\n",
              "      <td>876.19K</td>\n",
              "      <td>-0.27%</td>\n",
              "    </tr>\n",
              "    <tr>\n",
              "      <th>1</th>\n",
              "      <td>06/15/2023</td>\n",
              "      <td>11.42</td>\n",
              "      <td>11.15</td>\n",
              "      <td>11.44</td>\n",
              "      <td>11.14</td>\n",
              "      <td>1.07M</td>\n",
              "      <td>2.06%</td>\n",
              "    </tr>\n",
              "    <tr>\n",
              "      <th>0</th>\n",
              "      <td>06/16/2023</td>\n",
              "      <td>11.31</td>\n",
              "      <td>11.45</td>\n",
              "      <td>11.45</td>\n",
              "      <td>11.19</td>\n",
              "      <td>2.29M</td>\n",
              "      <td>-0.96%</td>\n",
              "    </tr>\n",
              "  </tbody>\n",
              "</table>\n",
              "<p>2129 rows × 7 columns</p>\n",
              "</div>\n",
              "      <button class=\"colab-df-convert\" onclick=\"convertToInteractive('df-59ee38b2-160b-48bb-a96a-28f475f24429')\"\n",
              "              title=\"Convert this dataframe to an interactive table.\"\n",
              "              style=\"display:none;\">\n",
              "        \n",
              "  <svg xmlns=\"http://www.w3.org/2000/svg\" height=\"24px\"viewBox=\"0 0 24 24\"\n",
              "       width=\"24px\">\n",
              "    <path d=\"M0 0h24v24H0V0z\" fill=\"none\"/>\n",
              "    <path d=\"M18.56 5.44l.94 2.06.94-2.06 2.06-.94-2.06-.94-.94-2.06-.94 2.06-2.06.94zm-11 1L8.5 8.5l.94-2.06 2.06-.94-2.06-.94L8.5 2.5l-.94 2.06-2.06.94zm10 10l.94 2.06.94-2.06 2.06-.94-2.06-.94-.94-2.06-.94 2.06-2.06.94z\"/><path d=\"M17.41 7.96l-1.37-1.37c-.4-.4-.92-.59-1.43-.59-.52 0-1.04.2-1.43.59L10.3 9.45l-7.72 7.72c-.78.78-.78 2.05 0 2.83L4 21.41c.39.39.9.59 1.41.59.51 0 1.02-.2 1.41-.59l7.78-7.78 2.81-2.81c.8-.78.8-2.07 0-2.86zM5.41 20L4 18.59l7.72-7.72 1.47 1.35L5.41 20z\"/>\n",
              "  </svg>\n",
              "      </button>\n",
              "      \n",
              "  <style>\n",
              "    .colab-df-container {\n",
              "      display:flex;\n",
              "      flex-wrap:wrap;\n",
              "      gap: 12px;\n",
              "    }\n",
              "\n",
              "    .colab-df-convert {\n",
              "      background-color: #E8F0FE;\n",
              "      border: none;\n",
              "      border-radius: 50%;\n",
              "      cursor: pointer;\n",
              "      display: none;\n",
              "      fill: #1967D2;\n",
              "      height: 32px;\n",
              "      padding: 0 0 0 0;\n",
              "      width: 32px;\n",
              "    }\n",
              "\n",
              "    .colab-df-convert:hover {\n",
              "      background-color: #E2EBFA;\n",
              "      box-shadow: 0px 1px 2px rgba(60, 64, 67, 0.3), 0px 1px 3px 1px rgba(60, 64, 67, 0.15);\n",
              "      fill: #174EA6;\n",
              "    }\n",
              "\n",
              "    [theme=dark] .colab-df-convert {\n",
              "      background-color: #3B4455;\n",
              "      fill: #D2E3FC;\n",
              "    }\n",
              "\n",
              "    [theme=dark] .colab-df-convert:hover {\n",
              "      background-color: #434B5C;\n",
              "      box-shadow: 0px 1px 3px 1px rgba(0, 0, 0, 0.15);\n",
              "      filter: drop-shadow(0px 1px 2px rgba(0, 0, 0, 0.3));\n",
              "      fill: #FFFFFF;\n",
              "    }\n",
              "  </style>\n",
              "\n",
              "      <script>\n",
              "        const buttonEl =\n",
              "          document.querySelector('#df-59ee38b2-160b-48bb-a96a-28f475f24429 button.colab-df-convert');\n",
              "        buttonEl.style.display =\n",
              "          google.colab.kernel.accessAllowed ? 'block' : 'none';\n",
              "\n",
              "        async function convertToInteractive(key) {\n",
              "          const element = document.querySelector('#df-59ee38b2-160b-48bb-a96a-28f475f24429');\n",
              "          const dataTable =\n",
              "            await google.colab.kernel.invokeFunction('convertToInteractive',\n",
              "                                                     [key], {});\n",
              "          if (!dataTable) return;\n",
              "\n",
              "          const docLinkHtml = 'Like what you see? Visit the ' +\n",
              "            '<a target=\"_blank\" href=https://colab.research.google.com/notebooks/data_table.ipynb>data table notebook</a>'\n",
              "            + ' to learn more about interactive tables.';\n",
              "          element.innerHTML = '';\n",
              "          dataTable['output_type'] = 'display_data';\n",
              "          await google.colab.output.renderOutput(dataTable, element);\n",
              "          const docLink = document.createElement('div');\n",
              "          docLink.innerHTML = docLinkHtml;\n",
              "          element.appendChild(docLink);\n",
              "        }\n",
              "      </script>\n",
              "    </div>\n",
              "  </div>\n",
              "  "
            ]
          },
          "metadata": {},
          "execution_count": 144
        }
      ]
    },
    {
      "cell_type": "code",
      "source": [
        "# 3. Scaler data\n",
        "scaler=MinMaxScaler(feature_range=(0,1))\n",
        "df1=scaler.fit_transform(np.array(df1).reshape(-1,1))"
      ],
      "metadata": {
        "id": "xwYYvSp8uJ0A"
      },
      "execution_count": 145,
      "outputs": []
    },
    {
      "cell_type": "code",
      "source": [
        "# 4. Chia train test\n",
        "train_size = int(0.6 * len(df1))\n",
        "test_size = int(0.2 * len(df1))\n",
        "val_size = len(df1) - train_size - test_size\n",
        "\n",
        "train_data = df1[:train_size]\n",
        "test_data = df1[train_size:train_size+test_size]\n",
        "val_data = df1[train_size+test_size:]"
      ],
      "metadata": {
        "id": "AMCmXm4MuJ0A"
      },
      "execution_count": 146,
      "outputs": []
    },
    {
      "cell_type": "code",
      "source": [
        "# 5. Hàm Create Dataset\n",
        "import numpy\n",
        "# convert an array of values into a dataset matrix\n",
        "def create_dataset(dataset, time_step=1):\n",
        "\tdataX, dataY = [], []\n",
        "\tfor i in range(len(dataset)-time_step-1):\n",
        "\t\ta = dataset[i:(i+time_step), 0]   ###i=0, X=0,1,2,3-----99   Y=100\n",
        "\t\tdataX.append(a)\n",
        "\t\tdataY.append(dataset[i + time_step, 0])\n",
        "\treturn numpy.array(dataX), numpy.array(dataY)"
      ],
      "metadata": {
        "id": "viyMZTjluJ0A"
      },
      "execution_count": 147,
      "outputs": []
    },
    {
      "cell_type": "code",
      "source": [
        "#6. Reshape into X=t,t+1,t+2..t+99 and Y=t+100\n",
        "\n",
        "time_step = 1\n",
        "X_train, y_train = create_dataset(train_data, time_step)\n",
        "X_val, yval = create_dataset(val_data, time_step)\n",
        "X_test, ytest = create_dataset(test_data, time_step)"
      ],
      "metadata": {
        "id": "mM6kk0O-uJ0B"
      },
      "execution_count": 148,
      "outputs": []
    },
    {
      "cell_type": "code",
      "source": [
        "# 7. Reshape input to be [samples, time steps, features] which is required for LSTM\n",
        "X_train =X_train.reshape(X_train.shape[0],X_train.shape[1] , 1)\n",
        "X_test = X_test.reshape(X_test.shape[0],X_test.shape[1] , 1)\n",
        "X_val = X_val.reshape(X_val.shape[0],X_val.shape[1] , 1)"
      ],
      "metadata": {
        "id": "ahFgDCrIuJ0B"
      },
      "execution_count": 149,
      "outputs": []
    },
    {
      "cell_type": "code",
      "source": [
        "# 8. Define RNN Model\n",
        "\n",
        "model = Sequential()\n",
        "model.add(SimpleRNN(50, input_shape=(time_step, 1)))\n",
        "model.add(Dense(1))\n",
        "model.compile(loss='mean_squared_error',optimizer='adam')"
      ],
      "metadata": {
        "id": "zZ-WgmBLuJ0B"
      },
      "execution_count": 150,
      "outputs": []
    },
    {
      "cell_type": "code",
      "source": [
        "# 9. Fit mô hình với dữ liệu train\n",
        "model.fit(X_train,y_train,validation_data=(X_test,ytest),epochs=100,batch_size=64,verbose=1)"
      ],
      "metadata": {
        "colab": {
          "base_uri": "https://localhost:8080/"
        },
        "outputId": "95def212-77ef-4a94-ae73-fe12fbdd7d36",
        "id": "21Ct5rbbuJ0B"
      },
      "execution_count": 151,
      "outputs": [
        {
          "output_type": "stream",
          "name": "stdout",
          "text": [
            "Epoch 1/100\n",
            "20/20 [==============================] - 1s 17ms/step - loss: 0.5875 - val_loss: 0.0888\n",
            "Epoch 2/100\n",
            "20/20 [==============================] - 0s 4ms/step - loss: 0.1434 - val_loss: 0.0145\n",
            "Epoch 3/100\n",
            "20/20 [==============================] - 0s 4ms/step - loss: 0.0122 - val_loss: 0.0330\n",
            "Epoch 4/100\n",
            "20/20 [==============================] - 0s 5ms/step - loss: 0.0014 - val_loss: 0.0400\n",
            "Epoch 5/100\n",
            "20/20 [==============================] - 0s 5ms/step - loss: 0.0013 - val_loss: 0.0353\n",
            "Epoch 6/100\n",
            "20/20 [==============================] - 0s 5ms/step - loss: 9.9838e-04 - val_loss: 0.0336\n",
            "Epoch 7/100\n",
            "20/20 [==============================] - 0s 4ms/step - loss: 9.8741e-04 - val_loss: 0.0339\n",
            "Epoch 8/100\n",
            "20/20 [==============================] - 0s 5ms/step - loss: 9.8048e-04 - val_loss: 0.0339\n",
            "Epoch 9/100\n",
            "20/20 [==============================] - 0s 10ms/step - loss: 9.7618e-04 - val_loss: 0.0336\n",
            "Epoch 10/100\n",
            "20/20 [==============================] - 0s 7ms/step - loss: 9.7304e-04 - val_loss: 0.0333\n",
            "Epoch 11/100\n",
            "20/20 [==============================] - 0s 6ms/step - loss: 9.6676e-04 - val_loss: 0.0334\n",
            "Epoch 12/100\n",
            "20/20 [==============================] - 0s 7ms/step - loss: 9.6279e-04 - val_loss: 0.0331\n",
            "Epoch 13/100\n",
            "20/20 [==============================] - 0s 7ms/step - loss: 9.5830e-04 - val_loss: 0.0331\n",
            "Epoch 14/100\n",
            "20/20 [==============================] - 0s 7ms/step - loss: 9.5258e-04 - val_loss: 0.0326\n",
            "Epoch 15/100\n",
            "20/20 [==============================] - 0s 7ms/step - loss: 9.4805e-04 - val_loss: 0.0326\n",
            "Epoch 16/100\n",
            "20/20 [==============================] - 0s 7ms/step - loss: 9.4059e-04 - val_loss: 0.0321\n",
            "Epoch 17/100\n",
            "20/20 [==============================] - 0s 6ms/step - loss: 9.3506e-04 - val_loss: 0.0319\n",
            "Epoch 18/100\n",
            "20/20 [==============================] - 0s 9ms/step - loss: 9.2906e-04 - val_loss: 0.0318\n",
            "Epoch 19/100\n",
            "20/20 [==============================] - 0s 6ms/step - loss: 9.2326e-04 - val_loss: 0.0314\n",
            "Epoch 20/100\n",
            "20/20 [==============================] - 0s 6ms/step - loss: 9.1732e-04 - val_loss: 0.0312\n",
            "Epoch 21/100\n",
            "20/20 [==============================] - 0s 6ms/step - loss: 9.1022e-04 - val_loss: 0.0309\n",
            "Epoch 22/100\n",
            "20/20 [==============================] - 0s 7ms/step - loss: 9.0433e-04 - val_loss: 0.0308\n",
            "Epoch 23/100\n",
            "20/20 [==============================] - 0s 7ms/step - loss: 8.9772e-04 - val_loss: 0.0305\n",
            "Epoch 24/100\n",
            "20/20 [==============================] - 0s 10ms/step - loss: 8.9043e-04 - val_loss: 0.0302\n",
            "Epoch 25/100\n",
            "20/20 [==============================] - 0s 6ms/step - loss: 8.8340e-04 - val_loss: 0.0300\n",
            "Epoch 26/100\n",
            "20/20 [==============================] - 0s 7ms/step - loss: 8.7621e-04 - val_loss: 0.0296\n",
            "Epoch 27/100\n",
            "20/20 [==============================] - 0s 7ms/step - loss: 8.6905e-04 - val_loss: 0.0293\n",
            "Epoch 28/100\n",
            "20/20 [==============================] - 0s 7ms/step - loss: 8.6201e-04 - val_loss: 0.0290\n",
            "Epoch 29/100\n",
            "20/20 [==============================] - 0s 7ms/step - loss: 8.5569e-04 - val_loss: 0.0288\n",
            "Epoch 30/100\n",
            "20/20 [==============================] - 0s 6ms/step - loss: 8.4751e-04 - val_loss: 0.0284\n",
            "Epoch 31/100\n",
            "20/20 [==============================] - 0s 9ms/step - loss: 8.4001e-04 - val_loss: 0.0281\n",
            "Epoch 32/100\n",
            "20/20 [==============================] - 0s 6ms/step - loss: 8.3299e-04 - val_loss: 0.0278\n",
            "Epoch 33/100\n",
            "20/20 [==============================] - 0s 7ms/step - loss: 8.2331e-04 - val_loss: 0.0275\n",
            "Epoch 34/100\n",
            "20/20 [==============================] - 0s 6ms/step - loss: 8.1621e-04 - val_loss: 0.0271\n",
            "Epoch 35/100\n",
            "20/20 [==============================] - 0s 7ms/step - loss: 8.0746e-04 - val_loss: 0.0270\n",
            "Epoch 36/100\n",
            "20/20 [==============================] - 0s 7ms/step - loss: 8.0019e-04 - val_loss: 0.0267\n",
            "Epoch 37/100\n",
            "20/20 [==============================] - 0s 8ms/step - loss: 7.9190e-04 - val_loss: 0.0264\n",
            "Epoch 38/100\n",
            "20/20 [==============================] - 0s 7ms/step - loss: 7.8487e-04 - val_loss: 0.0259\n",
            "Epoch 39/100\n",
            "20/20 [==============================] - 0s 5ms/step - loss: 7.7543e-04 - val_loss: 0.0256\n",
            "Epoch 40/100\n",
            "20/20 [==============================] - 0s 4ms/step - loss: 7.6702e-04 - val_loss: 0.0253\n",
            "Epoch 41/100\n",
            "20/20 [==============================] - 0s 4ms/step - loss: 7.5791e-04 - val_loss: 0.0250\n",
            "Epoch 42/100\n",
            "20/20 [==============================] - 0s 5ms/step - loss: 7.4938e-04 - val_loss: 0.0246\n",
            "Epoch 43/100\n",
            "20/20 [==============================] - 0s 5ms/step - loss: 7.4138e-04 - val_loss: 0.0244\n",
            "Epoch 44/100\n",
            "20/20 [==============================] - 0s 4ms/step - loss: 7.3232e-04 - val_loss: 0.0239\n",
            "Epoch 45/100\n",
            "20/20 [==============================] - 0s 5ms/step - loss: 7.2448e-04 - val_loss: 0.0237\n",
            "Epoch 46/100\n",
            "20/20 [==============================] - 0s 4ms/step - loss: 7.1597e-04 - val_loss: 0.0233\n",
            "Epoch 47/100\n",
            "20/20 [==============================] - 0s 5ms/step - loss: 7.0870e-04 - val_loss: 0.0229\n",
            "Epoch 48/100\n",
            "20/20 [==============================] - 0s 5ms/step - loss: 6.9926e-04 - val_loss: 0.0228\n",
            "Epoch 49/100\n",
            "20/20 [==============================] - 0s 5ms/step - loss: 6.8989e-04 - val_loss: 0.0223\n",
            "Epoch 50/100\n",
            "20/20 [==============================] - 0s 4ms/step - loss: 6.8098e-04 - val_loss: 0.0220\n",
            "Epoch 51/100\n",
            "20/20 [==============================] - 0s 4ms/step - loss: 6.7295e-04 - val_loss: 0.0216\n",
            "Epoch 52/100\n",
            "20/20 [==============================] - 0s 5ms/step - loss: 6.6449e-04 - val_loss: 0.0211\n",
            "Epoch 53/100\n",
            "20/20 [==============================] - 0s 5ms/step - loss: 6.5708e-04 - val_loss: 0.0212\n",
            "Epoch 54/100\n",
            "20/20 [==============================] - 0s 5ms/step - loss: 6.4735e-04 - val_loss: 0.0207\n",
            "Epoch 55/100\n",
            "20/20 [==============================] - 0s 4ms/step - loss: 6.3758e-04 - val_loss: 0.0204\n",
            "Epoch 56/100\n",
            "20/20 [==============================] - 0s 4ms/step - loss: 6.2959e-04 - val_loss: 0.0199\n",
            "Epoch 57/100\n",
            "20/20 [==============================] - 0s 5ms/step - loss: 6.2115e-04 - val_loss: 0.0195\n",
            "Epoch 58/100\n",
            "20/20 [==============================] - 0s 4ms/step - loss: 6.1134e-04 - val_loss: 0.0193\n",
            "Epoch 59/100\n",
            "20/20 [==============================] - 0s 5ms/step - loss: 6.0241e-04 - val_loss: 0.0189\n",
            "Epoch 60/100\n",
            "20/20 [==============================] - 0s 4ms/step - loss: 5.9435e-04 - val_loss: 0.0188\n",
            "Epoch 61/100\n",
            "20/20 [==============================] - 0s 5ms/step - loss: 5.8588e-04 - val_loss: 0.0183\n",
            "Epoch 62/100\n",
            "20/20 [==============================] - 0s 4ms/step - loss: 5.7814e-04 - val_loss: 0.0180\n",
            "Epoch 63/100\n",
            "20/20 [==============================] - 0s 4ms/step - loss: 5.6736e-04 - val_loss: 0.0176\n",
            "Epoch 64/100\n",
            "20/20 [==============================] - 0s 5ms/step - loss: 5.6099e-04 - val_loss: 0.0172\n",
            "Epoch 65/100\n",
            "20/20 [==============================] - 0s 5ms/step - loss: 5.5215e-04 - val_loss: 0.0170\n",
            "Epoch 66/100\n",
            "20/20 [==============================] - 0s 5ms/step - loss: 5.4449e-04 - val_loss: 0.0167\n",
            "Epoch 67/100\n",
            "20/20 [==============================] - 0s 4ms/step - loss: 5.3438e-04 - val_loss: 0.0163\n",
            "Epoch 68/100\n",
            "20/20 [==============================] - 0s 4ms/step - loss: 5.2466e-04 - val_loss: 0.0158\n",
            "Epoch 69/100\n",
            "20/20 [==============================] - 0s 5ms/step - loss: 5.1677e-04 - val_loss: 0.0157\n",
            "Epoch 70/100\n",
            "20/20 [==============================] - 0s 4ms/step - loss: 5.0789e-04 - val_loss: 0.0151\n",
            "Epoch 71/100\n",
            "20/20 [==============================] - 0s 5ms/step - loss: 5.0052e-04 - val_loss: 0.0150\n",
            "Epoch 72/100\n",
            "20/20 [==============================] - 0s 4ms/step - loss: 4.9263e-04 - val_loss: 0.0147\n",
            "Epoch 73/100\n",
            "20/20 [==============================] - 0s 5ms/step - loss: 4.8325e-04 - val_loss: 0.0144\n",
            "Epoch 74/100\n",
            "20/20 [==============================] - 0s 5ms/step - loss: 4.7604e-04 - val_loss: 0.0140\n",
            "Epoch 75/100\n",
            "20/20 [==============================] - 0s 5ms/step - loss: 4.6696e-04 - val_loss: 0.0137\n",
            "Epoch 76/100\n",
            "20/20 [==============================] - 0s 5ms/step - loss: 4.5965e-04 - val_loss: 0.0132\n",
            "Epoch 77/100\n",
            "20/20 [==============================] - 0s 4ms/step - loss: 4.5145e-04 - val_loss: 0.0133\n",
            "Epoch 78/100\n",
            "20/20 [==============================] - 0s 5ms/step - loss: 4.4294e-04 - val_loss: 0.0127\n",
            "Epoch 79/100\n",
            "20/20 [==============================] - 0s 5ms/step - loss: 4.3504e-04 - val_loss: 0.0127\n",
            "Epoch 80/100\n",
            "20/20 [==============================] - 0s 5ms/step - loss: 4.2816e-04 - val_loss: 0.0122\n",
            "Epoch 81/100\n",
            "20/20 [==============================] - 0s 5ms/step - loss: 4.1924e-04 - val_loss: 0.0119\n",
            "Epoch 82/100\n",
            "20/20 [==============================] - 0s 5ms/step - loss: 4.1208e-04 - val_loss: 0.0116\n",
            "Epoch 83/100\n",
            "20/20 [==============================] - 0s 4ms/step - loss: 4.0496e-04 - val_loss: 0.0116\n",
            "Epoch 84/100\n",
            "20/20 [==============================] - 0s 4ms/step - loss: 3.9569e-04 - val_loss: 0.0107\n",
            "Epoch 85/100\n",
            "20/20 [==============================] - 0s 5ms/step - loss: 3.9211e-04 - val_loss: 0.0108\n",
            "Epoch 86/100\n",
            "20/20 [==============================] - 0s 5ms/step - loss: 3.8331e-04 - val_loss: 0.0107\n",
            "Epoch 87/100\n",
            "20/20 [==============================] - 0s 5ms/step - loss: 3.7399e-04 - val_loss: 0.0100\n",
            "Epoch 88/100\n",
            "20/20 [==============================] - 0s 4ms/step - loss: 3.6780e-04 - val_loss: 0.0100\n",
            "Epoch 89/100\n",
            "20/20 [==============================] - 0s 4ms/step - loss: 3.5994e-04 - val_loss: 0.0096\n",
            "Epoch 90/100\n",
            "20/20 [==============================] - 0s 4ms/step - loss: 3.5511e-04 - val_loss: 0.0093\n",
            "Epoch 91/100\n",
            "20/20 [==============================] - 0s 4ms/step - loss: 3.4896e-04 - val_loss: 0.0091\n",
            "Epoch 92/100\n",
            "20/20 [==============================] - 0s 4ms/step - loss: 3.3991e-04 - val_loss: 0.0088\n",
            "Epoch 93/100\n",
            "20/20 [==============================] - 0s 5ms/step - loss: 3.3298e-04 - val_loss: 0.0087\n",
            "Epoch 94/100\n",
            "20/20 [==============================] - 0s 6ms/step - loss: 3.2703e-04 - val_loss: 0.0084\n",
            "Epoch 95/100\n",
            "20/20 [==============================] - 0s 4ms/step - loss: 3.1988e-04 - val_loss: 0.0082\n",
            "Epoch 96/100\n",
            "20/20 [==============================] - 0s 5ms/step - loss: 3.1332e-04 - val_loss: 0.0078\n",
            "Epoch 97/100\n",
            "20/20 [==============================] - 0s 5ms/step - loss: 3.0779e-04 - val_loss: 0.0077\n",
            "Epoch 98/100\n",
            "20/20 [==============================] - 0s 5ms/step - loss: 3.0129e-04 - val_loss: 0.0074\n",
            "Epoch 99/100\n",
            "20/20 [==============================] - 0s 4ms/step - loss: 2.9732e-04 - val_loss: 0.0071\n",
            "Epoch 100/100\n",
            "20/20 [==============================] - 0s 5ms/step - loss: 2.8860e-04 - val_loss: 0.0071\n"
          ]
        },
        {
          "output_type": "execute_result",
          "data": {
            "text/plain": [
              "<keras.callbacks.History at 0x7f6fde33e620>"
            ]
          },
          "metadata": {},
          "execution_count": 151
        }
      ]
    },
    {
      "cell_type": "code",
      "source": [
        "# 10. Dự báo dữ liệu test, val\n",
        "train_predict=model.predict(X_train)\n",
        "y_pred=model.predict(X_test)\n",
        "y_pred_val=model.predict(X_val)"
      ],
      "metadata": {
        "colab": {
          "base_uri": "https://localhost:8080/"
        },
        "outputId": "ca9c02ff-5a2e-4b4b-f9ab-79940edb8748",
        "id": "hYX_KyEeuJ0B"
      },
      "execution_count": 152,
      "outputs": [
        {
          "output_type": "stream",
          "name": "stdout",
          "text": [
            "40/40 [==============================] - 0s 2ms/step\n",
            "14/14 [==============================] - 0s 2ms/step\n",
            "14/14 [==============================] - 0s 2ms/step\n"
          ]
        }
      ]
    },
    {
      "cell_type": "code",
      "source": [
        "# 11. Chuẩn hóa dữ liệu y_pred, y_pred_val\n",
        "train_predict=scaler.inverse_transform(train_predict)\n",
        "y_pred=scaler.inverse_transform(y_pred)\n",
        "y_pred_val=scaler.inverse_transform(y_pred_val)\n",
        "\n",
        "ytest = scaler.inverse_transform(ytest.reshape(-1,1))\n",
        "yval = scaler.inverse_transform(yval.reshape(-1,1))"
      ],
      "metadata": {
        "id": "0KhfM4ihuJ0B"
      },
      "execution_count": 153,
      "outputs": []
    },
    {
      "cell_type": "markdown",
      "source": [
        "## **Đánh giá**"
      ],
      "metadata": {
        "id": "5ctTGqxcvUJ7"
      }
    },
    {
      "cell_type": "code",
      "source": [
        "# 12. Đánh giá độ chính xác thuật toán bằng RMSE\n",
        "valid_rmse = np.sqrt(np.mean((y_pred_val - yval)**2))\n",
        "test_rmse = np.sqrt(np.mean((y_pred - ytest)**2))\n",
        "test_mae = np.mean(np.abs(y_pred - ytest))\n",
        "valid_mae = np.mean(np.abs(y_pred_val - yval))\n",
        "test_mape = np.mean(np.abs((ytest - y_pred) / ytest)) * 100\n",
        "valid_mape = np.mean(np.abs((yval - y_pred_val) / np.where(yval != 0, yval, 1))) * 100\n",
        "\n",
        "print('Validation RMSE:', valid_rmse)\n",
        "print('Testing RMSE:', test_rmse)\n",
        "print('Testing MAE:', test_mae)\n",
        "print('Validation MAE:', valid_mae)\n",
        "print('Testing MAPE:', test_mape)\n",
        "print('Validation MAPE:', valid_mape)"
      ],
      "metadata": {
        "colab": {
          "base_uri": "https://localhost:8080/"
        },
        "outputId": "96d7ef8e-8d70-4131-896c-ef8952a8eb93",
        "id": "e8msP28MuJ0C"
      },
      "execution_count": 154,
      "outputs": [
        {
          "output_type": "stream",
          "name": "stdout",
          "text": [
            "Validation RMSE: 1.2118638221644107\n",
            "Testing RMSE: 1.3017351617016077\n",
            "Testing MAE: 1.107366021970203\n",
            "Validation MAE: 1.1484863552317894\n",
            "Testing MAPE: 11.347153528180955\n",
            "Validation MAPE: 10.213740955349396\n"
          ]
        }
      ]
    },
    {
      "cell_type": "code",
      "source": [
        "# 13. Dự báo 30 ngày tiếp theo\n",
        "x_input=val_data[426:].reshape(1,-1)\n",
        "x_input.shape\n",
        "\n",
        "temp_input=list(x_input)\n",
        "temp_input=temp_input[0].tolist()\n",
        "\n",
        "from numpy import array\n",
        "\n",
        "lst_output=[]\n",
        "n_steps=1\n",
        "i=0\n",
        "while(i<30):\n",
        "\n",
        "    if(len(temp_input)>1):\n",
        "        #print(temp_input)\n",
        "        x_input=np.array(temp_input[1:])\n",
        "        # print(\"{} day input {}\".format(i,x_input))\n",
        "        x_input=x_input.reshape(1,-1)\n",
        "        x_input = x_input.reshape((1, n_steps, 1))\n",
        "        #print(x_input)\n",
        "        yhat = model.predict(x_input, verbose=0)\n",
        "        # print(\"{} day output {}\".format(i,yhat))\n",
        "        temp_input.extend(yhat[0].tolist())\n",
        "        temp_input=temp_input[1:]\n",
        "        #print(temp_input)\n",
        "        lst_output.extend(yhat.tolist())\n",
        "        i=i+1\n",
        "    else:\n",
        "        x_input = x_input.reshape((1, n_steps,1))\n",
        "        yhat = model.predict(x_input, verbose=0)\n",
        "        print(yhat[0])\n",
        "        temp_input.extend(yhat[0].tolist())\n",
        "        print(len(temp_input))\n",
        "        lst_output.extend(yhat.tolist())\n",
        "        i=i+1\n"
      ],
      "metadata": {
        "colab": {
          "base_uri": "https://localhost:8080/"
        },
        "outputId": "7fe4ff3b-0116-4017-b640-f1823c915af3",
        "id": "lEXjiCayuJ0C"
      },
      "execution_count": 162,
      "outputs": [
        {
          "output_type": "stream",
          "name": "stdout",
          "text": [
            "[0.5395724]\n",
            "2\n"
          ]
        }
      ]
    },
    {
      "cell_type": "markdown",
      "source": [
        "## **Kết quả**"
      ],
      "metadata": {
        "id": "z4RpLhPJvYwz"
      }
    },
    {
      "cell_type": "code",
      "source": [
        "# 14.Vẽ hình\n",
        "\n",
        "train_data_index = pd.RangeIndex(start=0, stop=train_size, step=1)\n",
        "plt.plot(scaler.inverse_transform(train_data))\n",
        "test_data_index = pd.RangeIndex(start=train_size, stop=train_size+test_size, step=1)\n",
        "plt.plot(test_data_index,scaler.inverse_transform(test_data))\n",
        "test_data_index = pd.RangeIndex(start=train_size+2, stop=train_size+test_size, step=1)\n",
        "plt.plot(test_data_index,(y_pred))\n",
        "val_data_index = pd.RangeIndex(start=train_size+test_size, stop=train_size+test_size+val_size, step=1)\n",
        "plt.plot(val_data_index,scaler.inverse_transform(val_data))\n",
        "val_data_index = pd.RangeIndex(start=train_size+test_size+2, stop=train_size+test_size+val_size, step=1)\n",
        "plt.plot(val_data_index,y_pred_val)\n",
        "prediect_data_index = pd.RangeIndex(start=len(df1)-1, stop=len(df1)+29, step=1)\n",
        "plt.plot(prediect_data_index,scaler.inverse_transform(lst_output))\n",
        "plt.legend(['Train','Test','Predict','Validate','ValidatePred','Predict30days'])\n",
        "plt.show()"
      ],
      "metadata": {
        "colab": {
          "base_uri": "https://localhost:8080/",
          "height": 430
        },
        "outputId": "d4dbc4d6-3173-45e6-b6db-978ad8fcc264",
        "id": "L_p6CQ0UuJ0C"
      },
      "execution_count": 160,
      "outputs": [
        {
          "output_type": "display_data",
          "data": {
            "text/plain": [
              "<Figure size 640x480 with 1 Axes>"
            ],
            "image/png": "[encoded data removed]"
          },
          "metadata": {}
        }
      ]
    }
  ],
  "metadata": {
    "colab": {
      "provenance": [],
      "toc_visible": true
    },
    "kernelspec": {
      "display_name": "Python 3",
      "name": "python3"
    },
    "language_info": {
      "name": "python"
    }
  },
  "nbformat": 4,
  "nbformat_minor": 0
}