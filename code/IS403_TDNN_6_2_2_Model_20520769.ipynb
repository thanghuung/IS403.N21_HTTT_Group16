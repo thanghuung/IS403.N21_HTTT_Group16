{
  "cells": [
    {
      "cell_type": "markdown",
      "source": [
        "# Dataset ARE"
      ],
      "metadata": {
        "id": "bJevkLRA9oKD"
      }
    },
    {
      "cell_type": "code",
      "execution_count": null,
      "metadata": {
        "id": "FMDKda-XIUAK"
      },
      "outputs": [],
      "source": [
        "# 1. Import thư viện cần thiết\n",
        "import numpy as np\n",
        "import pandas as pd\n",
        "import matplotlib.pyplot as plt\n",
        "from sklearn.preprocessing import MinMaxScaler\n",
        "from sklearn.metrics import mean_squared_error\n",
        "from tensorflow.keras.models import Sequential\n",
        "from tensorflow.keras.layers import Dense, InputLayer, TimeDistributed, Flatten, Conv1D"
      ]
    },
    {
      "cell_type": "code",
      "execution_count": null,
      "metadata": {
        "id": "aRm9GQ8KJJ5N"
      },
      "outputs": [],
      "source": [
        "# 2. Đọc file csv và gắng index với giá Close\n",
        "df = pd.read_csv('ARE-Historical-Data-final.csv')\n",
        "df1=df.reset_index()['Price']"
      ]
    },
    {
      "cell_type": "code",
      "execution_count": null,
      "metadata": {
        "id": "RdVpDho2JgL5"
      },
      "outputs": [],
      "source": [
        "# 3. Scaler data\n",
        "scaler=MinMaxScaler(feature_range=(0,1))\n",
        "df1=scaler.fit_transform(np.array(df1).reshape(-1,1))"
      ]
    },
    {
      "cell_type": "code",
      "execution_count": null,
      "metadata": {
        "id": "B5JXpenzJoR3"
      },
      "outputs": [],
      "source": [
        "# 4. Chia train test\n",
        "train_size = int(0.6 * len(df1))\n",
        "test_size = int(0.2 * len(df1))\n",
        "val_size = len(df1) - train_size - test_size\n",
        "\n",
        "train_data = df1[:train_size]\n",
        "test_data = df1[train_size:train_size+test_size]\n",
        "val_data = df1[train_size+test_size:]"
      ]
    },
    {
      "cell_type": "code",
      "execution_count": null,
      "metadata": {
        "id": "yJfmuBORLSfC"
      },
      "outputs": [],
      "source": [
        "# 5. Hàm Create Dataset\n",
        "import numpy\n",
        "# convert an array of values into a dataset matrix\n",
        "def create_dataset(dataset, time_step=1):\n",
        "\tdataX, dataY = [], []\n",
        "\tfor i in range(len(dataset)-time_step-1):\n",
        "\t\ta = dataset[i:(i+time_step), 0]   ###i=0, X=0,1,2,3-----99   Y=100\n",
        "\t\tdataX.append(a)\n",
        "\t\tdataY.append(dataset[i + time_step, 0])\n",
        "\treturn numpy.array(dataX), numpy.array(dataY)"
      ]
    },
    {
      "cell_type": "code",
      "execution_count": null,
      "metadata": {
        "id": "e81cKq03LXFB"
      },
      "outputs": [],
      "source": [
        "#6. Reshape into X=t,t+1,t+2..t+99 and Y=t+100\n",
        "time_step = 1\n",
        "X_train, y_train = create_dataset(train_data, time_step)\n",
        "X_val, yval = create_dataset(val_data, time_step)\n",
        "X_test, ytest = create_dataset(test_data, time_step)"
      ]
    },
    {
      "cell_type": "code",
      "execution_count": null,
      "metadata": {
        "id": "RdBVfku7O2qb"
      },
      "outputs": [],
      "source": [
        "# 7. Reshape input to be [samples, time steps, features] which is required for LSTM\n",
        "X_train =X_train.reshape(X_train.shape[0],X_train.shape[1] , 1)\n",
        "X_test = X_test.reshape(X_test.shape[0],X_test.shape[1] , 1)\n",
        "X_val = X_val.reshape(X_val.shape[0],X_val.shape[1] , 1)"
      ]
    },
    {
      "cell_type": "code",
      "execution_count": null,
      "metadata": {
        "id": "sSfxrE7BO9vX"
      },
      "outputs": [],
      "source": [
        "# Xây dựng mô hình TDNN\n",
        "window_size = 1\n",
        "\n",
        "model = Sequential()\n",
        "model.add(InputLayer(input_shape=(window_size, 1)))  # Kích thước đầu vào: (số thời điểm, số đặc trưng)\n",
        "model.add(TimeDistributed(Dense(64, activation='relu')))  # Lớp TimeDistributed với lớp Dense 64 đơn vị và hàm kích hoạt ReLU\n",
        "model.add(TimeDistributed(Dense(32, activation='relu')))  # Lớp TimeDistributed với lớp Dense 32 đơn vị và hàm kích hoạt ReLU\n",
        "model.add(Flatten())  # Dùng để làm phẳng dữ liệu đầu ra từ các lớp TimeDistributed\n",
        "model.add(Dense(1))"
      ]
    },
    {
      "cell_type": "code",
      "execution_count": null,
      "metadata": {
        "id": "zgfeujZSPEKr",
        "colab": {
          "base_uri": "https://localhost:8080/"
        },
        "outputId": "39382051-2d45-412c-9a4e-422cbcfcd5b4"
      },
      "outputs": [
        {
          "output_type": "stream",
          "name": "stdout",
          "text": [
            "Epoch 1/100\n",
            "20/20 [==============================] - 1s 10ms/step - loss: 0.0423 - val_loss: 0.0704\n",
            "Epoch 2/100\n",
            "20/20 [==============================] - 0s 4ms/step - loss: 0.0049 - val_loss: 0.0136\n",
            "Epoch 3/100\n",
            "20/20 [==============================] - 0s 4ms/step - loss: 0.0027 - val_loss: 0.0117\n",
            "Epoch 4/100\n",
            "20/20 [==============================] - 0s 4ms/step - loss: 0.0014 - val_loss: 0.0062\n",
            "Epoch 5/100\n",
            "20/20 [==============================] - 0s 4ms/step - loss: 6.7117e-04 - val_loss: 0.0043\n",
            "Epoch 6/100\n",
            "20/20 [==============================] - 0s 3ms/step - loss: 2.9580e-04 - val_loss: 0.0031\n",
            "Epoch 7/100\n",
            "20/20 [==============================] - 0s 4ms/step - loss: 1.2357e-04 - val_loss: 0.0020\n",
            "Epoch 8/100\n",
            "20/20 [==============================] - 0s 6ms/step - loss: 9.7641e-05 - val_loss: 0.0016\n",
            "Epoch 9/100\n",
            "20/20 [==============================] - 0s 6ms/step - loss: 9.3400e-05 - val_loss: 0.0015\n",
            "Epoch 10/100\n",
            "20/20 [==============================] - 0s 6ms/step - loss: 9.1442e-05 - val_loss: 0.0015\n",
            "Epoch 11/100\n",
            "20/20 [==============================] - 0s 5ms/step - loss: 8.9797e-05 - val_loss: 0.0014\n",
            "Epoch 12/100\n",
            "20/20 [==============================] - 0s 6ms/step - loss: 8.8943e-05 - val_loss: 0.0014\n",
            "Epoch 13/100\n",
            "20/20 [==============================] - 0s 5ms/step - loss: 8.6444e-05 - val_loss: 0.0014\n",
            "Epoch 14/100\n",
            "20/20 [==============================] - 0s 6ms/step - loss: 8.6191e-05 - val_loss: 0.0014\n",
            "Epoch 15/100\n",
            "20/20 [==============================] - 0s 5ms/step - loss: 8.8264e-05 - val_loss: 0.0013\n",
            "Epoch 16/100\n",
            "20/20 [==============================] - 0s 5ms/step - loss: 8.6085e-05 - val_loss: 0.0013\n",
            "Epoch 17/100\n",
            "20/20 [==============================] - 0s 4ms/step - loss: 8.4773e-05 - val_loss: 0.0013\n",
            "Epoch 18/100\n",
            "20/20 [==============================] - 0s 4ms/step - loss: 8.2602e-05 - val_loss: 0.0013\n",
            "Epoch 19/100\n",
            "20/20 [==============================] - 0s 3ms/step - loss: 8.3725e-05 - val_loss: 0.0013\n",
            "Epoch 20/100\n",
            "20/20 [==============================] - 0s 3ms/step - loss: 8.2060e-05 - val_loss: 0.0013\n",
            "Epoch 21/100\n",
            "20/20 [==============================] - 0s 3ms/step - loss: 8.1083e-05 - val_loss: 0.0013\n",
            "Epoch 22/100\n",
            "20/20 [==============================] - 0s 4ms/step - loss: 8.1647e-05 - val_loss: 0.0013\n",
            "Epoch 23/100\n",
            "20/20 [==============================] - 0s 3ms/step - loss: 8.1345e-05 - val_loss: 0.0013\n",
            "Epoch 24/100\n",
            "20/20 [==============================] - 0s 3ms/step - loss: 8.0635e-05 - val_loss: 0.0013\n",
            "Epoch 25/100\n",
            "20/20 [==============================] - 0s 3ms/step - loss: 8.1240e-05 - val_loss: 0.0013\n",
            "Epoch 26/100\n",
            "20/20 [==============================] - 0s 4ms/step - loss: 8.0534e-05 - val_loss: 0.0013\n",
            "Epoch 27/100\n",
            "20/20 [==============================] - 0s 4ms/step - loss: 8.0267e-05 - val_loss: 0.0013\n",
            "Epoch 28/100\n",
            "20/20 [==============================] - 0s 3ms/step - loss: 7.9759e-05 - val_loss: 0.0013\n",
            "Epoch 29/100\n",
            "20/20 [==============================] - 0s 4ms/step - loss: 7.9718e-05 - val_loss: 0.0013\n",
            "Epoch 30/100\n",
            "20/20 [==============================] - 0s 3ms/step - loss: 7.9922e-05 - val_loss: 0.0012\n",
            "Epoch 31/100\n",
            "20/20 [==============================] - 0s 4ms/step - loss: 8.1595e-05 - val_loss: 0.0013\n",
            "Epoch 32/100\n",
            "20/20 [==============================] - 0s 4ms/step - loss: 8.3021e-05 - val_loss: 0.0013\n",
            "Epoch 33/100\n",
            "20/20 [==============================] - 0s 4ms/step - loss: 8.2179e-05 - val_loss: 0.0012\n",
            "Epoch 34/100\n",
            "20/20 [==============================] - 0s 3ms/step - loss: 7.9260e-05 - val_loss: 0.0013\n",
            "Epoch 35/100\n",
            "20/20 [==============================] - 0s 3ms/step - loss: 8.1443e-05 - val_loss: 0.0013\n",
            "Epoch 36/100\n",
            "20/20 [==============================] - 0s 4ms/step - loss: 7.9725e-05 - val_loss: 0.0012\n",
            "Epoch 37/100\n",
            "20/20 [==============================] - 0s 3ms/step - loss: 7.9760e-05 - val_loss: 0.0012\n",
            "Epoch 38/100\n",
            "20/20 [==============================] - 0s 4ms/step - loss: 8.3065e-05 - val_loss: 0.0012\n",
            "Epoch 39/100\n",
            "20/20 [==============================] - 0s 4ms/step - loss: 7.9085e-05 - val_loss: 0.0013\n",
            "Epoch 40/100\n",
            "20/20 [==============================] - 0s 4ms/step - loss: 8.0691e-05 - val_loss: 0.0012\n",
            "Epoch 41/100\n",
            "20/20 [==============================] - 0s 3ms/step - loss: 8.2997e-05 - val_loss: 0.0012\n",
            "Epoch 42/100\n",
            "20/20 [==============================] - 0s 4ms/step - loss: 8.7605e-05 - val_loss: 0.0012\n",
            "Epoch 43/100\n",
            "20/20 [==============================] - 0s 4ms/step - loss: 8.2945e-05 - val_loss: 0.0013\n",
            "Epoch 44/100\n",
            "20/20 [==============================] - 0s 4ms/step - loss: 7.8454e-05 - val_loss: 0.0012\n",
            "Epoch 45/100\n",
            "20/20 [==============================] - 0s 3ms/step - loss: 7.9263e-05 - val_loss: 0.0013\n",
            "Epoch 46/100\n",
            "20/20 [==============================] - 0s 4ms/step - loss: 8.0699e-05 - val_loss: 0.0013\n",
            "Epoch 47/100\n",
            "20/20 [==============================] - 0s 4ms/step - loss: 7.8060e-05 - val_loss: 0.0012\n",
            "Epoch 48/100\n",
            "20/20 [==============================] - 0s 3ms/step - loss: 7.9070e-05 - val_loss: 0.0013\n",
            "Epoch 49/100\n",
            "20/20 [==============================] - 0s 3ms/step - loss: 7.7895e-05 - val_loss: 0.0012\n",
            "Epoch 50/100\n",
            "20/20 [==============================] - 0s 4ms/step - loss: 7.7978e-05 - val_loss: 0.0012\n",
            "Epoch 51/100\n",
            "20/20 [==============================] - 0s 3ms/step - loss: 7.8390e-05 - val_loss: 0.0012\n",
            "Epoch 52/100\n",
            "20/20 [==============================] - 0s 4ms/step - loss: 7.7563e-05 - val_loss: 0.0013\n",
            "Epoch 53/100\n",
            "20/20 [==============================] - 0s 4ms/step - loss: 7.8854e-05 - val_loss: 0.0012\n",
            "Epoch 54/100\n",
            "20/20 [==============================] - 0s 5ms/step - loss: 7.8176e-05 - val_loss: 0.0012\n",
            "Epoch 55/100\n",
            "20/20 [==============================] - 0s 6ms/step - loss: 7.7596e-05 - val_loss: 0.0012\n",
            "Epoch 56/100\n",
            "20/20 [==============================] - 0s 6ms/step - loss: 7.7656e-05 - val_loss: 0.0012\n",
            "Epoch 57/100\n",
            "20/20 [==============================] - 0s 5ms/step - loss: 7.9793e-05 - val_loss: 0.0012\n",
            "Epoch 58/100\n",
            "20/20 [==============================] - 0s 5ms/step - loss: 7.8024e-05 - val_loss: 0.0012\n",
            "Epoch 59/100\n",
            "20/20 [==============================] - 0s 5ms/step - loss: 7.8078e-05 - val_loss: 0.0012\n",
            "Epoch 60/100\n",
            "20/20 [==============================] - 0s 5ms/step - loss: 8.0111e-05 - val_loss: 0.0013\n",
            "Epoch 61/100\n",
            "20/20 [==============================] - 0s 6ms/step - loss: 7.9024e-05 - val_loss: 0.0013\n",
            "Epoch 62/100\n",
            "20/20 [==============================] - 0s 6ms/step - loss: 7.8641e-05 - val_loss: 0.0013\n",
            "Epoch 63/100\n",
            "20/20 [==============================] - 0s 5ms/step - loss: 7.7661e-05 - val_loss: 0.0012\n",
            "Epoch 64/100\n",
            "20/20 [==============================] - 0s 5ms/step - loss: 7.8533e-05 - val_loss: 0.0012\n",
            "Epoch 65/100\n",
            "20/20 [==============================] - 0s 6ms/step - loss: 7.8934e-05 - val_loss: 0.0012\n",
            "Epoch 66/100\n",
            "20/20 [==============================] - 0s 6ms/step - loss: 7.9138e-05 - val_loss: 0.0013\n",
            "Epoch 67/100\n",
            "20/20 [==============================] - 0s 6ms/step - loss: 7.9055e-05 - val_loss: 0.0012\n",
            "Epoch 68/100\n",
            "20/20 [==============================] - 0s 5ms/step - loss: 8.2822e-05 - val_loss: 0.0012\n",
            "Epoch 69/100\n",
            "20/20 [==============================] - 0s 5ms/step - loss: 8.6429e-05 - val_loss: 0.0013\n",
            "Epoch 70/100\n",
            "20/20 [==============================] - 0s 5ms/step - loss: 8.1496e-05 - val_loss: 0.0012\n",
            "Epoch 71/100\n",
            "20/20 [==============================] - 0s 5ms/step - loss: 8.3832e-05 - val_loss: 0.0012\n",
            "Epoch 72/100\n",
            "20/20 [==============================] - 0s 5ms/step - loss: 8.0056e-05 - val_loss: 0.0012\n",
            "Epoch 73/100\n",
            "20/20 [==============================] - 0s 5ms/step - loss: 7.8523e-05 - val_loss: 0.0013\n",
            "Epoch 74/100\n",
            "20/20 [==============================] - 0s 6ms/step - loss: 7.7773e-05 - val_loss: 0.0012\n",
            "Epoch 75/100\n",
            "20/20 [==============================] - 0s 6ms/step - loss: 7.7308e-05 - val_loss: 0.0013\n",
            "Epoch 76/100\n",
            "20/20 [==============================] - 0s 5ms/step - loss: 8.0858e-05 - val_loss: 0.0013\n",
            "Epoch 77/100\n",
            "20/20 [==============================] - 0s 5ms/step - loss: 8.1163e-05 - val_loss: 0.0013\n",
            "Epoch 78/100\n",
            "20/20 [==============================] - 0s 4ms/step - loss: 7.7319e-05 - val_loss: 0.0013\n",
            "Epoch 79/100\n",
            "20/20 [==============================] - 0s 4ms/step - loss: 7.9355e-05 - val_loss: 0.0013\n",
            "Epoch 80/100\n",
            "20/20 [==============================] - 0s 4ms/step - loss: 7.9720e-05 - val_loss: 0.0013\n",
            "Epoch 81/100\n",
            "20/20 [==============================] - 0s 4ms/step - loss: 7.7689e-05 - val_loss: 0.0012\n",
            "Epoch 82/100\n",
            "20/20 [==============================] - 0s 6ms/step - loss: 8.2349e-05 - val_loss: 0.0013\n",
            "Epoch 83/100\n",
            "20/20 [==============================] - 0s 6ms/step - loss: 7.9443e-05 - val_loss: 0.0012\n",
            "Epoch 84/100\n",
            "20/20 [==============================] - 0s 7ms/step - loss: 8.1494e-05 - val_loss: 0.0013\n",
            "Epoch 85/100\n",
            "20/20 [==============================] - 0s 6ms/step - loss: 8.5316e-05 - val_loss: 0.0012\n",
            "Epoch 86/100\n",
            "20/20 [==============================] - 0s 6ms/step - loss: 8.2088e-05 - val_loss: 0.0012\n",
            "Epoch 87/100\n",
            "20/20 [==============================] - 0s 6ms/step - loss: 7.7753e-05 - val_loss: 0.0013\n",
            "Epoch 88/100\n",
            "20/20 [==============================] - 0s 5ms/step - loss: 7.7664e-05 - val_loss: 0.0012\n",
            "Epoch 89/100\n",
            "20/20 [==============================] - 0s 6ms/step - loss: 8.0017e-05 - val_loss: 0.0012\n",
            "Epoch 90/100\n",
            "20/20 [==============================] - 0s 5ms/step - loss: 7.8902e-05 - val_loss: 0.0011\n",
            "Epoch 91/100\n",
            "20/20 [==============================] - 0s 5ms/step - loss: 7.7624e-05 - val_loss: 0.0012\n",
            "Epoch 92/100\n",
            "20/20 [==============================] - 0s 6ms/step - loss: 7.8530e-05 - val_loss: 0.0011\n",
            "Epoch 93/100\n",
            "20/20 [==============================] - 0s 6ms/step - loss: 7.7572e-05 - val_loss: 0.0012\n",
            "Epoch 94/100\n",
            "20/20 [==============================] - 0s 6ms/step - loss: 7.8746e-05 - val_loss: 0.0012\n",
            "Epoch 95/100\n",
            "20/20 [==============================] - 0s 5ms/step - loss: 7.8023e-05 - val_loss: 0.0011\n",
            "Epoch 96/100\n",
            "20/20 [==============================] - 0s 5ms/step - loss: 7.8930e-05 - val_loss: 0.0012\n",
            "Epoch 97/100\n",
            "20/20 [==============================] - 0s 5ms/step - loss: 7.8870e-05 - val_loss: 0.0012\n",
            "Epoch 98/100\n",
            "20/20 [==============================] - 0s 5ms/step - loss: 7.7147e-05 - val_loss: 0.0012\n",
            "Epoch 99/100\n",
            "20/20 [==============================] - 0s 5ms/step - loss: 7.8237e-05 - val_loss: 0.0012\n",
            "Epoch 100/100\n",
            "20/20 [==============================] - 0s 5ms/step - loss: 7.8893e-05 - val_loss: 0.0012\n"
          ]
        },
        {
          "output_type": "execute_result",
          "data": {
            "text/plain": [
              "<keras.callbacks.History at 0x7f3408235540>"
            ]
          },
          "metadata": {},
          "execution_count": 55
        }
      ],
      "source": [
        "# 9. Fit mô hình với dữ liệu train\n",
        "model.compile(optimizer='adam', loss='mean_squared_error')\n",
        "model.fit(X_train,y_train,validation_data=(X_test,ytest),epochs=100,batch_size=64,verbose=1)"
      ]
    },
    {
      "cell_type": "code",
      "execution_count": null,
      "metadata": {
        "id": "Rxx_KQSkQpBG",
        "colab": {
          "base_uri": "https://localhost:8080/"
        },
        "outputId": "f31bcc46-5809-41ff-b0f8-de3664442db3"
      },
      "outputs": [
        {
          "output_type": "stream",
          "name": "stdout",
          "text": [
            "40/40 [==============================] - 0s 2ms/step\n",
            "14/14 [==============================] - 0s 2ms/step\n",
            "14/14 [==============================] - 0s 2ms/step\n"
          ]
        }
      ],
      "source": [
        "# 10. Dự báo dữ liệu test, val\n",
        "train_predict=model.predict(X_train)\n",
        "y_pred=model.predict(X_test)\n",
        "y_pred_val=model.predict(X_val)"
      ]
    },
    {
      "cell_type": "code",
      "execution_count": null,
      "metadata": {
        "id": "5rwTN10LQ7rj"
      },
      "outputs": [],
      "source": [
        "# 11. Chuẩn hóa dữ liệu y_pred, y_pred_val\n",
        "train_predict=scaler.inverse_transform(train_predict)\n",
        "y_pred=scaler.inverse_transform(y_pred)\n",
        "y_pred_val=scaler.inverse_transform(y_pred_val)\n"
      ]
    },
    {
      "cell_type": "code",
      "source": [
        "ytest = scaler.inverse_transform(ytest.reshape(-1,1))\n",
        "yval = scaler.inverse_transform(yval.reshape(-1,1))"
      ],
      "metadata": {
        "id": "Tts2GnDeLXu5"
      },
      "execution_count": null,
      "outputs": []
    },
    {
      "cell_type": "code",
      "execution_count": null,
      "metadata": {
        "id": "wu_9j94kRonD",
        "colab": {
          "base_uri": "https://localhost:8080/"
        },
        "outputId": "21ad36a3-2f83-46f9-d071-7cfaf5a2b8ba"
      },
      "outputs": [
        {
          "output_type": "stream",
          "name": "stdout",
          "text": [
            "Validation RMSE: 6.350275603625121\n",
            "Testing RMSE: 5.350049628926732\n",
            "Testing MAE: 4.047339978229352\n",
            "Validation MAE: 4.648712487074908\n",
            "Testing MAPE: 2.3238651120303286\n",
            "Validation MAPE: 2.5792350982540833\n"
          ]
        }
      ],
      "source": [
        "# 12. Đánh giá độ chính xác thuật toán bằng RMSE\n",
        "valid_rmse = np.sqrt(np.mean((y_pred_val - yval)**2))\n",
        "test_rmse = np.sqrt(np.mean((y_pred - ytest)**2))\n",
        "test_mae = np.mean(np.abs(y_pred - ytest))\n",
        "valid_mae = np.mean(np.abs(y_pred_val - yval))\n",
        "test_mape = np.mean(np.abs((y_pred - ytest) / ytest)) * 100\n",
        "valid_mape = np.mean(np.abs((y_pred_val - yval) / np.where(yval != 0, yval, 1))) * 100\n",
        "\n",
        "print('Validation RMSE:', valid_rmse)\n",
        "print('Testing RMSE:', test_rmse)\n",
        "print('Testing MAE:', test_mae)\n",
        "print('Validation MAE:', valid_mae)\n",
        "print('Testing MAPE:', test_mape)\n",
        "print('Validation MAPE:', valid_mape)"
      ]
    },
    {
      "cell_type": "code",
      "execution_count": null,
      "metadata": {
        "id": "izQZ1iQyYl6N"
      },
      "outputs": [],
      "source": [
        "# Dự báo 7 ngày tiếp theo\n",
        "x_input = val_data[-1:].reshape(1, -1)\n",
        "temp_input = list(x_input)\n",
        "temp_input = temp_input[0].tolist()\n",
        "\n",
        "lst_output = []\n",
        "n_steps = 1\n",
        "i = 0\n",
        "\n",
        "while i < 7:\n",
        "    if len(temp_input) > 100:\n",
        "        x_input = np.array(temp_input[1:])\n",
        "        x_input = x_input.reshape(1, -1)\n",
        "        x_input = x_input.reshape((1, n_steps, 1))\n",
        "        yhat = model.predict(x_input, verbose=0)\n",
        "        temp_input.extend(yhat[0].tolist())\n",
        "        temp_input = temp_input[1:]\n",
        "        lst_output.extend(yhat.tolist())\n",
        "        i += 1\n",
        "    else:\n",
        "        x_input = x_input.reshape((1, n_steps, 1))\n",
        "        yhat = model.predict(x_input, verbose=0)\n",
        "        temp_input.extend(yhat[0].tolist())\n",
        "        lst_output.extend(yhat.tolist())\n",
        "        i += 1"
      ]
    },
    {
      "cell_type": "code",
      "execution_count": null,
      "metadata": {
        "id": "KSa_mX51a654",
        "colab": {
          "base_uri": "https://localhost:8080/",
          "height": 430
        },
        "outputId": "95b9438b-40d2-454c-8fff-d48f8c48f5a4"
      },
      "outputs": [
        {
          "output_type": "display_data",
          "data": {
            "text/plain": [
              "<Figure size 640x480 with 1 Axes>"
            ],
            "image/png": "[encoded data removed]"
          },
          "metadata": {}
        }
      ],
      "source": [
        "# # 14.Vẽ hình\n",
        "train_data_index = pd.RangeIndex(start=0, stop=train_size, step=1)\n",
        "plt.plot(scaler.inverse_transform(train_data))\n",
        "test_data_index = pd.RangeIndex(start=train_size, stop=train_size+test_size, step=1)\n",
        "plt.plot(test_data_index,scaler.inverse_transform(test_data))\n",
        "test_data_index = pd.RangeIndex(start=train_size+2, stop=train_size+test_size, step=1)\n",
        "plt.plot(test_data_index,(y_pred))\n",
        "val_data_index = pd.RangeIndex(start=train_size+test_size, stop=train_size+test_size+val_size, step=1)\n",
        "plt.plot(val_data_index,scaler.inverse_transform(val_data))\n",
        "val_data_index = pd.RangeIndex(start=train_size+test_size+2, stop=train_size+test_size+val_size, step=1)\n",
        "plt.plot(val_data_index,y_pred_val)\n",
        "prediect_data_index = pd.RangeIndex(start=len(df1)-1, stop=len(df1)+6, step=1)\n",
        "plt.plot(prediect_data_index,scaler.inverse_transform(lst_output))\n",
        "plt.legend(['Train','Test','Predict','Validate','ValidatePred','Predict7days'])\n",
        "plt.show()"
      ]
    },
    {
      "cell_type": "code",
      "source": [
        "scaler.inverse_transform(lst_output)"
      ],
      "metadata": {
        "colab": {
          "base_uri": "https://localhost:8080/"
        },
        "id": "h7-dzd86AKTM",
        "outputId": "c7fdd259-6249-45fb-aef5-35aaa5ec3123"
      },
      "execution_count": null,
      "outputs": [
        {
          "output_type": "execute_result",
          "data": {
            "text/plain": [
              "array([[115.38827521],\n",
              "       [115.38827521],\n",
              "       [115.38827521],\n",
              "       [115.38827521],\n",
              "       [115.38827521],\n",
              "       [115.38827521],\n",
              "       [115.38827521]])"
            ]
          },
          "metadata": {},
          "execution_count": 62
        }
      ]
    },
    {
      "cell_type": "markdown",
      "source": [
        "# Dataset ARI"
      ],
      "metadata": {
        "id": "g5BqR9zs9yg6"
      }
    },
    {
      "cell_type": "code",
      "source": [
        "# 2. Đọc file csv và gắng index với giá Close\n",
        "df = pd.read_csv('ARI-Historical-Data-final.csv')\n",
        "df1=df.reset_index()['Price']"
      ],
      "metadata": {
        "id": "IdhgtXRT91zq"
      },
      "execution_count": null,
      "outputs": []
    },
    {
      "cell_type": "code",
      "source": [
        "# 3. Scaler data\n",
        "scaler=MinMaxScaler(feature_range=(0,1))\n",
        "df1=scaler.fit_transform(np.array(df1).reshape(-1,1))"
      ],
      "metadata": {
        "id": "LTaXeMHH-JaC"
      },
      "execution_count": null,
      "outputs": []
    },
    {
      "cell_type": "code",
      "source": [
        "# 4. Chia train test\n",
        "train_size = int(0.6 * len(df1))\n",
        "test_size = int(0.2 * len(df1))\n",
        "val_size = len(df1) - train_size - test_size\n",
        "\n",
        "train_data = df1[:train_size]\n",
        "test_data = df1[train_size:train_size+test_size]\n",
        "val_data = df1[train_size+test_size:]"
      ],
      "metadata": {
        "id": "SCa7WB3b-K-b"
      },
      "execution_count": null,
      "outputs": []
    },
    {
      "cell_type": "code",
      "source": [
        "# 5. Hàm Create Dataset\n",
        "import numpy\n",
        "# convert an array of values into a dataset matrix\n",
        "def create_dataset(dataset, time_step=1):\n",
        "\tdataX, dataY = [], []\n",
        "\tfor i in range(len(dataset)-time_step-1):\n",
        "\t\ta = dataset[i:(i+time_step), 0]   ###i=0, X=0,1,2,3-----99   Y=100\n",
        "\t\tdataX.append(a)\n",
        "\t\tdataY.append(dataset[i + time_step, 0])\n",
        "\treturn numpy.array(dataX), numpy.array(dataY)"
      ],
      "metadata": {
        "id": "UZ2bnT-T-QET"
      },
      "execution_count": null,
      "outputs": []
    },
    {
      "cell_type": "code",
      "source": [
        "#6. Reshape into X=t,t+1,t+2..t+99 and Y=t+100\n",
        "time_step = 1\n",
        "X_train, y_train = create_dataset(train_data, time_step)\n",
        "X_val, yval = create_dataset(val_data, time_step)\n",
        "X_test, ytest = create_dataset(test_data, time_step)"
      ],
      "metadata": {
        "id": "bFGaNO8E-OFr"
      },
      "execution_count": null,
      "outputs": []
    },
    {
      "cell_type": "code",
      "source": [
        "# 7. Reshape input to be [samples, time steps, features] which is required for LSTM\n",
        "X_train =X_train.reshape(X_train.shape[0],X_train.shape[1] , 1)\n",
        "X_test = X_test.reshape(X_test.shape[0],X_test.shape[1] , 1)\n",
        "X_val = X_val.reshape(X_val.shape[0],X_val.shape[1] , 1)"
      ],
      "metadata": {
        "id": "E-Xg00ow-Sg8"
      },
      "execution_count": null,
      "outputs": []
    },
    {
      "cell_type": "code",
      "source": [
        "# Xây dựng mô hình TDNN\n",
        "window_size = 1\n",
        "\n",
        "model = Sequential()\n",
        "model.add(InputLayer(input_shape=(window_size, 1)))  # Kích thước đầu vào: (số thời điểm, số đặc trưng)\n",
        "model.add(TimeDistributed(Dense(64, activation='relu')))  # Lớp TimeDistributed với lớp Dense 64 đơn vị và hàm kích hoạt ReLU\n",
        "model.add(TimeDistributed(Dense(32, activation='relu')))  # Lớp TimeDistributed với lớp Dense 32 đơn vị và hàm kích hoạt ReLU\n",
        "model.add(Flatten())  # Dùng để làm phẳng dữ liệu đầu ra từ các lớp TimeDistributed\n",
        "model.add(Dense(1))"
      ],
      "metadata": {
        "id": "3gKDwlX3-T-7"
      },
      "execution_count": null,
      "outputs": []
    },
    {
      "cell_type": "code",
      "source": [
        "# 9. Fit mô hình với dữ liệu train\n",
        "model.compile(optimizer='adam', loss='mean_squared_error')\n",
        "model.fit(X_train,y_train,validation_data=(X_test,ytest),epochs=100,batch_size=64,verbose=1)"
      ],
      "metadata": {
        "colab": {
          "base_uri": "https://localhost:8080/"
        },
        "id": "3_z4SliP-VkK",
        "outputId": "ed28514d-609e-444a-8ea3-e45833f7a7da"
      },
      "execution_count": null,
      "outputs": [
        {
          "output_type": "stream",
          "name": "stdout",
          "text": [
            "Epoch 1/100\n",
            "20/20 [==============================] - 1s 15ms/step - loss: 0.2284 - val_loss: 0.0092\n",
            "Epoch 2/100\n",
            "20/20 [==============================] - 0s 5ms/step - loss: 0.0078 - val_loss: 0.0214\n",
            "Epoch 3/100\n",
            "20/20 [==============================] - 0s 5ms/step - loss: 0.0028 - val_loss: 0.0085\n",
            "Epoch 4/100\n",
            "20/20 [==============================] - 0s 7ms/step - loss: 5.4145e-04 - val_loss: 0.0090\n",
            "Epoch 5/100\n",
            "20/20 [==============================] - 0s 5ms/step - loss: 3.2737e-04 - val_loss: 0.0098\n",
            "Epoch 6/100\n",
            "20/20 [==============================] - 0s 5ms/step - loss: 3.0217e-04 - val_loss: 0.0091\n",
            "Epoch 7/100\n",
            "20/20 [==============================] - 0s 5ms/step - loss: 3.0225e-04 - val_loss: 0.0093\n",
            "Epoch 8/100\n",
            "20/20 [==============================] - 0s 6ms/step - loss: 2.9961e-04 - val_loss: 0.0092\n",
            "Epoch 9/100\n",
            "20/20 [==============================] - 0s 5ms/step - loss: 2.9741e-04 - val_loss: 0.0091\n",
            "Epoch 10/100\n",
            "20/20 [==============================] - 0s 6ms/step - loss: 2.9549e-04 - val_loss: 0.0091\n",
            "Epoch 11/100\n",
            "20/20 [==============================] - 0s 5ms/step - loss: 2.9381e-04 - val_loss: 0.0089\n",
            "Epoch 12/100\n",
            "20/20 [==============================] - 0s 5ms/step - loss: 2.9179e-04 - val_loss: 0.0089\n",
            "Epoch 13/100\n",
            "20/20 [==============================] - 0s 7ms/step - loss: 2.8901e-04 - val_loss: 0.0087\n",
            "Epoch 14/100\n",
            "20/20 [==============================] - 0s 6ms/step - loss: 2.8628e-04 - val_loss: 0.0087\n",
            "Epoch 15/100\n",
            "20/20 [==============================] - 0s 5ms/step - loss: 2.8414e-04 - val_loss: 0.0085\n",
            "Epoch 16/100\n",
            "20/20 [==============================] - 0s 5ms/step - loss: 2.8138e-04 - val_loss: 0.0083\n",
            "Epoch 17/100\n",
            "20/20 [==============================] - 0s 5ms/step - loss: 2.7964e-04 - val_loss: 0.0083\n",
            "Epoch 18/100\n",
            "20/20 [==============================] - 0s 5ms/step - loss: 2.7634e-04 - val_loss: 0.0082\n",
            "Epoch 19/100\n",
            "20/20 [==============================] - 0s 4ms/step - loss: 2.7436e-04 - val_loss: 0.0081\n",
            "Epoch 20/100\n",
            "20/20 [==============================] - 0s 4ms/step - loss: 2.7179e-04 - val_loss: 0.0079\n",
            "Epoch 21/100\n",
            "20/20 [==============================] - 0s 4ms/step - loss: 2.6796e-04 - val_loss: 0.0079\n",
            "Epoch 22/100\n",
            "20/20 [==============================] - 0s 3ms/step - loss: 2.6543e-04 - val_loss: 0.0078\n",
            "Epoch 23/100\n",
            "20/20 [==============================] - 0s 4ms/step - loss: 2.6244e-04 - val_loss: 0.0077\n",
            "Epoch 24/100\n",
            "20/20 [==============================] - 0s 3ms/step - loss: 2.5974e-04 - val_loss: 0.0074\n",
            "Epoch 25/100\n",
            "20/20 [==============================] - 0s 4ms/step - loss: 2.5614e-04 - val_loss: 0.0074\n",
            "Epoch 26/100\n",
            "20/20 [==============================] - 0s 3ms/step - loss: 2.5343e-04 - val_loss: 0.0072\n",
            "Epoch 27/100\n",
            "20/20 [==============================] - 0s 3ms/step - loss: 2.5016e-04 - val_loss: 0.0071\n",
            "Epoch 28/100\n",
            "20/20 [==============================] - 0s 4ms/step - loss: 2.4715e-04 - val_loss: 0.0070\n",
            "Epoch 29/100\n",
            "20/20 [==============================] - 0s 4ms/step - loss: 2.4483e-04 - val_loss: 0.0067\n",
            "Epoch 30/100\n",
            "20/20 [==============================] - 0s 4ms/step - loss: 2.4213e-04 - val_loss: 0.0067\n",
            "Epoch 31/100\n",
            "20/20 [==============================] - 0s 3ms/step - loss: 2.3781e-04 - val_loss: 0.0066\n",
            "Epoch 32/100\n",
            "20/20 [==============================] - 0s 3ms/step - loss: 2.3522e-04 - val_loss: 0.0065\n",
            "Epoch 33/100\n",
            "20/20 [==============================] - 0s 4ms/step - loss: 2.3195e-04 - val_loss: 0.0064\n",
            "Epoch 34/100\n",
            "20/20 [==============================] - 0s 4ms/step - loss: 2.2907e-04 - val_loss: 0.0062\n",
            "Epoch 35/100\n",
            "20/20 [==============================] - 0s 4ms/step - loss: 2.2592e-04 - val_loss: 0.0061\n",
            "Epoch 36/100\n",
            "20/20 [==============================] - 0s 4ms/step - loss: 2.2390e-04 - val_loss: 0.0059\n",
            "Epoch 37/100\n",
            "20/20 [==============================] - 0s 3ms/step - loss: 2.1972e-04 - val_loss: 0.0057\n",
            "Epoch 38/100\n",
            "20/20 [==============================] - 0s 4ms/step - loss: 2.1834e-04 - val_loss: 0.0056\n",
            "Epoch 39/100\n",
            "20/20 [==============================] - 0s 4ms/step - loss: 2.1516e-04 - val_loss: 0.0055\n",
            "Epoch 40/100\n",
            "20/20 [==============================] - 0s 4ms/step - loss: 2.1073e-04 - val_loss: 0.0055\n",
            "Epoch 41/100\n",
            "20/20 [==============================] - 0s 3ms/step - loss: 2.0722e-04 - val_loss: 0.0053\n",
            "Epoch 42/100\n",
            "20/20 [==============================] - 0s 4ms/step - loss: 2.0529e-04 - val_loss: 0.0052\n",
            "Epoch 43/100\n",
            "20/20 [==============================] - 0s 4ms/step - loss: 2.0203e-04 - val_loss: 0.0050\n",
            "Epoch 44/100\n",
            "20/20 [==============================] - 0s 3ms/step - loss: 1.9920e-04 - val_loss: 0.0049\n",
            "Epoch 45/100\n",
            "20/20 [==============================] - 0s 4ms/step - loss: 1.9728e-04 - val_loss: 0.0047\n",
            "Epoch 46/100\n",
            "20/20 [==============================] - 0s 4ms/step - loss: 1.9457e-04 - val_loss: 0.0047\n",
            "Epoch 47/100\n",
            "20/20 [==============================] - 0s 4ms/step - loss: 1.9073e-04 - val_loss: 0.0046\n",
            "Epoch 48/100\n",
            "20/20 [==============================] - 0s 4ms/step - loss: 1.8774e-04 - val_loss: 0.0045\n",
            "Epoch 49/100\n",
            "20/20 [==============================] - 0s 3ms/step - loss: 1.8568e-04 - val_loss: 0.0044\n",
            "Epoch 50/100\n",
            "20/20 [==============================] - 0s 5ms/step - loss: 1.8281e-04 - val_loss: 0.0042\n",
            "Epoch 51/100\n",
            "20/20 [==============================] - 0s 5ms/step - loss: 1.8032e-04 - val_loss: 0.0041\n",
            "Epoch 52/100\n",
            "20/20 [==============================] - 0s 5ms/step - loss: 1.7834e-04 - val_loss: 0.0039\n",
            "Epoch 53/100\n",
            "20/20 [==============================] - 0s 5ms/step - loss: 1.7443e-04 - val_loss: 0.0039\n",
            "Epoch 54/100\n",
            "20/20 [==============================] - 0s 5ms/step - loss: 1.7146e-04 - val_loss: 0.0039\n",
            "Epoch 55/100\n",
            "20/20 [==============================] - 0s 8ms/step - loss: 1.6991e-04 - val_loss: 0.0037\n",
            "Epoch 56/100\n",
            "20/20 [==============================] - 0s 8ms/step - loss: 1.6811e-04 - val_loss: 0.0036\n",
            "Epoch 57/100\n",
            "20/20 [==============================] - 0s 8ms/step - loss: 1.6473e-04 - val_loss: 0.0035\n",
            "Epoch 58/100\n",
            "20/20 [==============================] - 0s 8ms/step - loss: 1.6399e-04 - val_loss: 0.0034\n",
            "Epoch 59/100\n",
            "20/20 [==============================] - 0s 8ms/step - loss: 1.6036e-04 - val_loss: 0.0033\n",
            "Epoch 60/100\n",
            "20/20 [==============================] - 0s 7ms/step - loss: 1.5821e-04 - val_loss: 0.0032\n",
            "Epoch 61/100\n",
            "20/20 [==============================] - 0s 8ms/step - loss: 1.5769e-04 - val_loss: 0.0032\n",
            "Epoch 62/100\n",
            "20/20 [==============================] - 0s 5ms/step - loss: 1.5346e-04 - val_loss: 0.0030\n",
            "Epoch 63/100\n",
            "20/20 [==============================] - 0s 5ms/step - loss: 1.5161e-04 - val_loss: 0.0029\n",
            "Epoch 64/100\n",
            "20/20 [==============================] - 0s 5ms/step - loss: 1.5230e-04 - val_loss: 0.0028\n",
            "Epoch 65/100\n",
            "20/20 [==============================] - 0s 6ms/step - loss: 1.4884e-04 - val_loss: 0.0029\n",
            "Epoch 66/100\n",
            "20/20 [==============================] - 0s 5ms/step - loss: 1.4589e-04 - val_loss: 0.0028\n",
            "Epoch 67/100\n",
            "20/20 [==============================] - 0s 5ms/step - loss: 1.4502e-04 - val_loss: 0.0027\n",
            "Epoch 68/100\n",
            "20/20 [==============================] - 0s 5ms/step - loss: 1.4259e-04 - val_loss: 0.0027\n",
            "Epoch 69/100\n",
            "20/20 [==============================] - 0s 5ms/step - loss: 1.4200e-04 - val_loss: 0.0025\n",
            "Epoch 70/100\n",
            "20/20 [==============================] - 0s 4ms/step - loss: 1.3954e-04 - val_loss: 0.0024\n",
            "Epoch 71/100\n",
            "20/20 [==============================] - 0s 5ms/step - loss: 1.3785e-04 - val_loss: 0.0024\n",
            "Epoch 72/100\n",
            "20/20 [==============================] - 0s 5ms/step - loss: 1.3617e-04 - val_loss: 0.0023\n",
            "Epoch 73/100\n",
            "20/20 [==============================] - 0s 5ms/step - loss: 1.3474e-04 - val_loss: 0.0022\n",
            "Epoch 74/100\n",
            "20/20 [==============================] - 0s 5ms/step - loss: 1.3317e-04 - val_loss: 0.0022\n",
            "Epoch 75/100\n",
            "20/20 [==============================] - 0s 4ms/step - loss: 1.3270e-04 - val_loss: 0.0022\n",
            "Epoch 76/100\n",
            "20/20 [==============================] - 0s 4ms/step - loss: 1.3235e-04 - val_loss: 0.0021\n",
            "Epoch 77/100\n",
            "20/20 [==============================] - 0s 4ms/step - loss: 1.3054e-04 - val_loss: 0.0021\n",
            "Epoch 78/100\n",
            "20/20 [==============================] - 0s 3ms/step - loss: 1.2892e-04 - val_loss: 0.0020\n",
            "Epoch 79/100\n",
            "20/20 [==============================] - 0s 4ms/step - loss: 1.2707e-04 - val_loss: 0.0019\n",
            "Epoch 80/100\n",
            "20/20 [==============================] - 0s 4ms/step - loss: 1.2662e-04 - val_loss: 0.0018\n",
            "Epoch 81/100\n",
            "20/20 [==============================] - 0s 3ms/step - loss: 1.2576e-04 - val_loss: 0.0017\n",
            "Epoch 82/100\n",
            "20/20 [==============================] - 0s 3ms/step - loss: 1.2531e-04 - val_loss: 0.0018\n",
            "Epoch 83/100\n",
            "20/20 [==============================] - 0s 4ms/step - loss: 1.2304e-04 - val_loss: 0.0017\n",
            "Epoch 84/100\n",
            "20/20 [==============================] - 0s 4ms/step - loss: 1.2317e-04 - val_loss: 0.0017\n",
            "Epoch 85/100\n",
            "20/20 [==============================] - 0s 4ms/step - loss: 1.2277e-04 - val_loss: 0.0016\n",
            "Epoch 86/100\n",
            "20/20 [==============================] - 0s 3ms/step - loss: 1.2171e-04 - val_loss: 0.0016\n",
            "Epoch 87/100\n",
            "20/20 [==============================] - 0s 4ms/step - loss: 1.1990e-04 - val_loss: 0.0015\n",
            "Epoch 88/100\n",
            "20/20 [==============================] - 0s 4ms/step - loss: 1.1918e-04 - val_loss: 0.0015\n",
            "Epoch 89/100\n",
            "20/20 [==============================] - 0s 3ms/step - loss: 1.1963e-04 - val_loss: 0.0015\n",
            "Epoch 90/100\n",
            "20/20 [==============================] - 0s 5ms/step - loss: 1.1914e-04 - val_loss: 0.0015\n",
            "Epoch 91/100\n",
            "20/20 [==============================] - 0s 3ms/step - loss: 1.1758e-04 - val_loss: 0.0015\n",
            "Epoch 92/100\n",
            "20/20 [==============================] - 0s 3ms/step - loss: 1.1636e-04 - val_loss: 0.0014\n",
            "Epoch 93/100\n",
            "20/20 [==============================] - 0s 3ms/step - loss: 1.1635e-04 - val_loss: 0.0014\n",
            "Epoch 94/100\n",
            "20/20 [==============================] - 0s 3ms/step - loss: 1.1591e-04 - val_loss: 0.0013\n",
            "Epoch 95/100\n",
            "20/20 [==============================] - 0s 3ms/step - loss: 1.1580e-04 - val_loss: 0.0013\n",
            "Epoch 96/100\n",
            "20/20 [==============================] - 0s 3ms/step - loss: 1.1785e-04 - val_loss: 0.0014\n",
            "Epoch 97/100\n",
            "20/20 [==============================] - 0s 3ms/step - loss: 1.1746e-04 - val_loss: 0.0013\n",
            "Epoch 98/100\n",
            "20/20 [==============================] - 0s 3ms/step - loss: 1.1517e-04 - val_loss: 0.0012\n",
            "Epoch 99/100\n",
            "20/20 [==============================] - 0s 4ms/step - loss: 1.1624e-04 - val_loss: 0.0013\n",
            "Epoch 100/100\n",
            "20/20 [==============================] - 0s 3ms/step - loss: 1.1731e-04 - val_loss: 0.0012\n"
          ]
        },
        {
          "output_type": "execute_result",
          "data": {
            "text/plain": [
              "<keras.callbacks.History at 0x7f33f5167370>"
            ]
          },
          "metadata": {},
          "execution_count": 70
        }
      ]
    },
    {
      "cell_type": "code",
      "source": [
        "# 10. Dự báo dữ liệu test, val\n",
        "train_predict=model.predict(X_train)\n",
        "y_pred=model.predict(X_test)\n",
        "y_pred_val=model.predict(X_val)"
      ],
      "metadata": {
        "colab": {
          "base_uri": "https://localhost:8080/"
        },
        "id": "SVD2wu3k-XCJ",
        "outputId": "2bb2fd82-b640-46a9-cd28-1231fd7ad0a5"
      },
      "execution_count": null,
      "outputs": [
        {
          "output_type": "stream",
          "name": "stdout",
          "text": [
            "40/40 [==============================] - 0s 1ms/step\n",
            "14/14 [==============================] - 0s 3ms/step\n",
            "14/14 [==============================] - 0s 2ms/step\n"
          ]
        }
      ]
    },
    {
      "cell_type": "code",
      "source": [
        "# 11. Chuẩn hóa dữ liệu y_pred, y_pred_val\n",
        "train_predict=scaler.inverse_transform(train_predict)\n",
        "y_pred=scaler.inverse_transform(y_pred)\n",
        "y_pred_val=scaler.inverse_transform(y_pred_val)"
      ],
      "metadata": {
        "id": "HYMH0wF4-YJp"
      },
      "execution_count": null,
      "outputs": []
    },
    {
      "cell_type": "code",
      "source": [
        "ytest = scaler.inverse_transform(ytest.reshape(-1,1))\n",
        "yval = scaler.inverse_transform(yval.reshape(-1,1))"
      ],
      "metadata": {
        "id": "Zh1ktLUnLa_R"
      },
      "execution_count": null,
      "outputs": []
    },
    {
      "cell_type": "code",
      "source": [
        "# 12. Đánh giá độ chính xác thuật toán bằng RMSE\n",
        "valid_rmse = np.sqrt(np.mean((y_pred_val - yval)**2))\n",
        "test_rmse = np.sqrt(np.mean((y_pred - ytest)**2))\n",
        "test_mae = np.mean(np.abs(y_pred - ytest))\n",
        "valid_mae = np.mean(np.abs(y_pred_val - yval))\n",
        "test_mape = np.mean(np.abs((y_pred - ytest) / ytest)) * 100\n",
        "valid_mape = np.mean(np.abs((y_pred_val - yval) / np.where(yval != 0, yval, 1))) * 100\n",
        "\n",
        "print('Validation RMSE:', valid_rmse)\n",
        "print('Testing RMSE:', test_rmse)\n",
        "print('Testing MAE:', test_mae)\n",
        "print('Validation MAE:', valid_mae)\n",
        "print('Testing MAPE:', test_mape)\n",
        "print('Validation MAPE:', valid_mape)"
      ],
      "metadata": {
        "colab": {
          "base_uri": "https://localhost:8080/"
        },
        "id": "mqiho3jd-aPh",
        "outputId": "f23522cd-a334-4896-d3bb-505fdaf0828f"
      },
      "execution_count": null,
      "outputs": [
        {
          "output_type": "stream",
          "name": "stdout",
          "text": [
            "Validation RMSE: 0.3603648610570692\n",
            "Testing RMSE: 0.5262394102416357\n",
            "Testing MAE: 0.3522833558120908\n",
            "Validation MAE: 0.27689859861486077\n",
            "Testing MAPE: 3.626822260922477\n",
            "Validation MAPE: 2.476022724654236\n"
          ]
        }
      ]
    },
    {
      "cell_type": "code",
      "source": [
        "# Dự báo 7 ngày tiếp theo\n",
        "x_input = val_data[-1:].reshape(1, -1)\n",
        "temp_input = list(x_input)\n",
        "temp_input = temp_input[0].tolist()\n",
        "\n",
        "lst_output = []\n",
        "n_steps = 1\n",
        "i = 0\n",
        "\n",
        "while i < 7:\n",
        "    if len(temp_input) > 100:\n",
        "        x_input = np.array(temp_input[1:])\n",
        "        x_input = x_input.reshape(1, -1)\n",
        "        x_input = x_input.reshape((1, n_steps, 1))\n",
        "        yhat = model.predict(x_input, verbose=0)\n",
        "        temp_input.extend(yhat[0].tolist())\n",
        "        temp_input = temp_input[1:]\n",
        "        lst_output.extend(yhat.tolist())\n",
        "        i += 1\n",
        "    else:\n",
        "        x_input = x_input.reshape((1, n_steps, 1))\n",
        "        yhat = model.predict(x_input, verbose=0)\n",
        "        temp_input.extend(yhat[0].tolist())\n",
        "        lst_output.extend(yhat.tolist())\n",
        "        i += 1"
      ],
      "metadata": {
        "id": "mYmPcAEW-cbq"
      },
      "execution_count": null,
      "outputs": []
    },
    {
      "cell_type": "code",
      "source": [
        "# 14.Vẽ hình\n",
        "train_data_index = pd.RangeIndex(start=0, stop=train_size, step=1)\n",
        "plt.plot(scaler.inverse_transform(train_data))\n",
        "test_data_index = pd.RangeIndex(start=train_size, stop=train_size+test_size, step=1)\n",
        "plt.plot(test_data_index,scaler.inverse_transform(test_data))\n",
        "test_data_index = pd.RangeIndex(start=train_size+2, stop=train_size+test_size, step=1)\n",
        "plt.plot(test_data_index,(y_pred))\n",
        "val_data_index = pd.RangeIndex(start=train_size+test_size, stop=train_size+test_size+val_size, step=1)\n",
        "plt.plot(val_data_index,scaler.inverse_transform(val_data))\n",
        "val_data_index = pd.RangeIndex(start=train_size+test_size+2, stop=train_size+test_size+val_size, step=1)\n",
        "plt.plot(val_data_index,y_pred_val)\n",
        "prediect_data_index = pd.RangeIndex(start=len(df1)-1, stop=len(df1)+6, step=1)\n",
        "plt.plot(prediect_data_index,scaler.inverse_transform(lst_output))\n",
        "plt.legend(['Train','Test','Predict','Validate','ValidatePred','Predict7days'])\n",
        "plt.show()"
      ],
      "metadata": {
        "colab": {
          "base_uri": "https://localhost:8080/",
          "height": 430
        },
        "id": "5atO7L25-ePp",
        "outputId": "b4cc9364-ff37-4e3a-fb55-7d0c08de61cd"
      },
      "execution_count": null,
      "outputs": [
        {
          "output_type": "display_data",
          "data": {
            "text/plain": [
              "<Figure size 640x480 with 1 Axes>"
            ],
            "image/png": "[encoded data removed]"
          },
          "metadata": {}
        }
      ]
    },
    {
      "cell_type": "code",
      "source": [
        "scaler.inverse_transform(lst_output)"
      ],
      "metadata": {
        "colab": {
          "base_uri": "https://localhost:8080/"
        },
        "id": "hoA8Krr_-fpq",
        "outputId": "3128d5de-8fe1-43a2-de51-716e56f2b56c"
      },
      "execution_count": null,
      "outputs": [
        {
          "output_type": "execute_result",
          "data": {
            "text/plain": [
              "array([[11.55607899],\n",
              "       [11.55607899],\n",
              "       [11.55607899],\n",
              "       [11.55607899],\n",
              "       [11.55607899],\n",
              "       [11.55607899],\n",
              "       [11.55607899]])"
            ]
          },
          "metadata": {},
          "execution_count": 77
        }
      ]
    },
    {
      "cell_type": "markdown",
      "source": [
        "# Dataset MAA"
      ],
      "metadata": {
        "id": "AH7ZQZ45-irJ"
      }
    },
    {
      "cell_type": "code",
      "source": [
        "# 2. Đọc file csv và gắng index với giá Close\n",
        "df = pd.read_csv('MAA-Historical-Data-final.csv')\n",
        "df1=df.reset_index()['Price']"
      ],
      "metadata": {
        "id": "_CbATOpt-syZ"
      },
      "execution_count": null,
      "outputs": []
    },
    {
      "cell_type": "code",
      "source": [
        "# 3. Scaler data\n",
        "scaler=MinMaxScaler(feature_range=(0,1))\n",
        "df1=scaler.fit_transform(np.array(df1).reshape(-1,1))"
      ],
      "metadata": {
        "id": "2Gino0Et-vUj"
      },
      "execution_count": null,
      "outputs": []
    },
    {
      "cell_type": "code",
      "source": [
        "# 4. Chia train test\n",
        "train_size = int(0.6 * len(df1))\n",
        "test_size = int(0.2 * len(df1))\n",
        "val_size = len(df1) - train_size - test_size\n",
        "\n",
        "train_data = df1[:train_size]\n",
        "test_data = df1[train_size:train_size+test_size]\n",
        "val_data = df1[train_size+test_size:]"
      ],
      "metadata": {
        "id": "F0bjNmQA-wjR"
      },
      "execution_count": null,
      "outputs": []
    },
    {
      "cell_type": "code",
      "source": [
        "# 5. Hàm Create Dataset\n",
        "import numpy\n",
        "# convert an array of values into a dataset matrix\n",
        "def create_dataset(dataset, time_step=1):\n",
        "\tdataX, dataY = [], []\n",
        "\tfor i in range(len(dataset)-time_step-1):\n",
        "\t\ta = dataset[i:(i+time_step), 0]   ###i=0, X=0,1,2,3-----99   Y=100\n",
        "\t\tdataX.append(a)\n",
        "\t\tdataY.append(dataset[i + time_step, 0])\n",
        "\treturn numpy.array(dataX), numpy.array(dataY)"
      ],
      "metadata": {
        "id": "90EkXGx5-yOL"
      },
      "execution_count": null,
      "outputs": []
    },
    {
      "cell_type": "code",
      "source": [
        "#6. Reshape into X=t,t+1,t+2..t+99 and Y=t+100\n",
        "time_step = 1\n",
        "X_train, y_train = create_dataset(train_data, time_step)\n",
        "X_val, yval = create_dataset(val_data, time_step)\n",
        "X_test, ytest = create_dataset(test_data, time_step)"
      ],
      "metadata": {
        "id": "LPScjiEG-1Kh"
      },
      "execution_count": null,
      "outputs": []
    },
    {
      "cell_type": "code",
      "source": [
        "# 7. Reshape input to be [samples, time steps, features] which is required for LSTM\n",
        "X_train =X_train.reshape(X_train.shape[0],X_train.shape[1] , 1)\n",
        "X_test = X_test.reshape(X_test.shape[0],X_test.shape[1] , 1)\n",
        "X_val = X_val.reshape(X_val.shape[0],X_val.shape[1] , 1)"
      ],
      "metadata": {
        "id": "AiqatCB4-2IC"
      },
      "execution_count": null,
      "outputs": []
    },
    {
      "cell_type": "code",
      "source": [
        "# Xây dựng mô hình TDNN\n",
        "window_size = 1\n",
        "\n",
        "model = Sequential()\n",
        "model.add(InputLayer(input_shape=(window_size, 1)))  # Kích thước đầu vào: (số thời điểm, số đặc trưng)\n",
        "model.add(TimeDistributed(Dense(64, activation='relu')))  # Lớp TimeDistributed với lớp Dense 64 đơn vị và hàm kích hoạt ReLU\n",
        "model.add(TimeDistributed(Dense(32, activation='relu')))  # Lớp TimeDistributed với lớp Dense 32 đơn vị và hàm kích hoạt ReLU\n",
        "model.add(Flatten())  # Dùng để làm phẳng dữ liệu đầu ra từ các lớp TimeDistributed\n",
        "model.add(Dense(1))"
      ],
      "metadata": {
        "id": "rQtCZypT-3ZR"
      },
      "execution_count": null,
      "outputs": []
    },
    {
      "cell_type": "code",
      "source": [
        "# 9. Fit mô hình với dữ liệu train\n",
        "model.compile(optimizer='adam', loss='mean_squared_error')\n",
        "model.fit(X_train,y_train,validation_data=(X_test,ytest),epochs=100,batch_size=64,verbose=1)"
      ],
      "metadata": {
        "colab": {
          "base_uri": "https://localhost:8080/"
        },
        "id": "sU5eZbls-5PK",
        "outputId": "09765b1f-387f-4b22-e1b1-ecf94a9ab456"
      },
      "execution_count": null,
      "outputs": [
        {
          "output_type": "stream",
          "name": "stdout",
          "text": [
            "Epoch 1/100\n",
            "20/20 [==============================] - 1s 12ms/step - loss: 0.0145 - val_loss: 0.0336\n",
            "Epoch 2/100\n",
            "20/20 [==============================] - 0s 4ms/step - loss: 0.0022 - val_loss: 0.0136\n",
            "Epoch 3/100\n",
            "20/20 [==============================] - 0s 3ms/step - loss: 0.0013 - val_loss: 0.0087\n",
            "Epoch 4/100\n",
            "20/20 [==============================] - 0s 4ms/step - loss: 5.1365e-04 - val_loss: 0.0050\n",
            "Epoch 5/100\n",
            "20/20 [==============================] - 0s 4ms/step - loss: 1.6753e-04 - val_loss: 0.0027\n",
            "Epoch 6/100\n",
            "20/20 [==============================] - 0s 4ms/step - loss: 6.4636e-05 - val_loss: 0.0018\n",
            "Epoch 7/100\n",
            "20/20 [==============================] - 0s 4ms/step - loss: 5.2765e-05 - val_loss: 0.0015\n",
            "Epoch 8/100\n",
            "20/20 [==============================] - 0s 6ms/step - loss: 5.1926e-05 - val_loss: 0.0014\n",
            "Epoch 9/100\n",
            "20/20 [==============================] - 0s 6ms/step - loss: 5.0931e-05 - val_loss: 0.0014\n",
            "Epoch 10/100\n",
            "20/20 [==============================] - 0s 5ms/step - loss: 5.1512e-05 - val_loss: 0.0014\n",
            "Epoch 11/100\n",
            "20/20 [==============================] - 0s 7ms/step - loss: 5.0801e-05 - val_loss: 0.0014\n",
            "Epoch 12/100\n",
            "20/20 [==============================] - 0s 5ms/step - loss: 5.0629e-05 - val_loss: 0.0014\n",
            "Epoch 13/100\n",
            "20/20 [==============================] - 0s 6ms/step - loss: 5.0353e-05 - val_loss: 0.0014\n",
            "Epoch 14/100\n",
            "20/20 [==============================] - 0s 6ms/step - loss: 5.0542e-05 - val_loss: 0.0014\n",
            "Epoch 15/100\n",
            "20/20 [==============================] - 0s 6ms/step - loss: 5.0804e-05 - val_loss: 0.0014\n",
            "Epoch 16/100\n",
            "20/20 [==============================] - 0s 5ms/step - loss: 4.9680e-05 - val_loss: 0.0014\n",
            "Epoch 17/100\n",
            "20/20 [==============================] - 0s 4ms/step - loss: 5.0011e-05 - val_loss: 0.0014\n",
            "Epoch 18/100\n",
            "20/20 [==============================] - 0s 3ms/step - loss: 4.9410e-05 - val_loss: 0.0014\n",
            "Epoch 19/100\n",
            "20/20 [==============================] - 0s 3ms/step - loss: 5.0283e-05 - val_loss: 0.0014\n",
            "Epoch 20/100\n",
            "20/20 [==============================] - 0s 3ms/step - loss: 4.9715e-05 - val_loss: 0.0014\n",
            "Epoch 21/100\n",
            "20/20 [==============================] - 0s 4ms/step - loss: 5.0037e-05 - val_loss: 0.0014\n",
            "Epoch 22/100\n",
            "20/20 [==============================] - 0s 4ms/step - loss: 5.0323e-05 - val_loss: 0.0014\n",
            "Epoch 23/100\n",
            "20/20 [==============================] - 0s 3ms/step - loss: 5.1016e-05 - val_loss: 0.0013\n",
            "Epoch 24/100\n",
            "20/20 [==============================] - 0s 4ms/step - loss: 5.0908e-05 - val_loss: 0.0014\n",
            "Epoch 25/100\n",
            "20/20 [==============================] - 0s 3ms/step - loss: 5.2124e-05 - val_loss: 0.0014\n",
            "Epoch 26/100\n",
            "20/20 [==============================] - 0s 4ms/step - loss: 4.9995e-05 - val_loss: 0.0014\n",
            "Epoch 27/100\n",
            "20/20 [==============================] - 0s 4ms/step - loss: 5.0057e-05 - val_loss: 0.0014\n",
            "Epoch 28/100\n",
            "20/20 [==============================] - 0s 4ms/step - loss: 5.0030e-05 - val_loss: 0.0014\n",
            "Epoch 29/100\n",
            "20/20 [==============================] - 0s 5ms/step - loss: 5.0442e-05 - val_loss: 0.0014\n",
            "Epoch 30/100\n",
            "20/20 [==============================] - 0s 6ms/step - loss: 5.1932e-05 - val_loss: 0.0014\n",
            "Epoch 31/100\n",
            "20/20 [==============================] - 0s 5ms/step - loss: 5.1733e-05 - val_loss: 0.0013\n",
            "Epoch 32/100\n",
            "20/20 [==============================] - 0s 6ms/step - loss: 5.0319e-05 - val_loss: 0.0014\n",
            "Epoch 33/100\n",
            "20/20 [==============================] - 0s 5ms/step - loss: 4.9808e-05 - val_loss: 0.0013\n",
            "Epoch 34/100\n",
            "20/20 [==============================] - 0s 6ms/step - loss: 5.0271e-05 - val_loss: 0.0014\n",
            "Epoch 35/100\n",
            "20/20 [==============================] - 0s 6ms/step - loss: 4.9928e-05 - val_loss: 0.0014\n",
            "Epoch 36/100\n",
            "20/20 [==============================] - 0s 6ms/step - loss: 4.9741e-05 - val_loss: 0.0014\n",
            "Epoch 37/100\n",
            "20/20 [==============================] - 0s 5ms/step - loss: 5.0763e-05 - val_loss: 0.0014\n",
            "Epoch 38/100\n",
            "20/20 [==============================] - 0s 4ms/step - loss: 5.0731e-05 - val_loss: 0.0014\n",
            "Epoch 39/100\n",
            "20/20 [==============================] - 0s 3ms/step - loss: 5.0888e-05 - val_loss: 0.0013\n",
            "Epoch 40/100\n",
            "20/20 [==============================] - 0s 4ms/step - loss: 5.3453e-05 - val_loss: 0.0013\n",
            "Epoch 41/100\n",
            "20/20 [==============================] - 0s 4ms/step - loss: 5.1425e-05 - val_loss: 0.0014\n",
            "Epoch 42/100\n",
            "20/20 [==============================] - 0s 4ms/step - loss: 4.9624e-05 - val_loss: 0.0014\n",
            "Epoch 43/100\n",
            "20/20 [==============================] - 0s 4ms/step - loss: 4.9786e-05 - val_loss: 0.0014\n",
            "Epoch 44/100\n",
            "20/20 [==============================] - 0s 4ms/step - loss: 5.0933e-05 - val_loss: 0.0014\n",
            "Epoch 45/100\n",
            "20/20 [==============================] - 0s 4ms/step - loss: 4.9915e-05 - val_loss: 0.0013\n",
            "Epoch 46/100\n",
            "20/20 [==============================] - 0s 4ms/step - loss: 4.9764e-05 - val_loss: 0.0014\n",
            "Epoch 47/100\n",
            "20/20 [==============================] - 0s 3ms/step - loss: 5.0978e-05 - val_loss: 0.0014\n",
            "Epoch 48/100\n",
            "20/20 [==============================] - 0s 4ms/step - loss: 5.2184e-05 - val_loss: 0.0014\n",
            "Epoch 49/100\n",
            "20/20 [==============================] - 0s 5ms/step - loss: 5.2400e-05 - val_loss: 0.0014\n",
            "Epoch 50/100\n",
            "20/20 [==============================] - 0s 7ms/step - loss: 5.0911e-05 - val_loss: 0.0014\n",
            "Epoch 51/100\n",
            "20/20 [==============================] - 0s 8ms/step - loss: 4.9893e-05 - val_loss: 0.0014\n",
            "Epoch 52/100\n",
            "20/20 [==============================] - 0s 8ms/step - loss: 5.0388e-05 - val_loss: 0.0013\n",
            "Epoch 53/100\n",
            "20/20 [==============================] - 0s 8ms/step - loss: 5.0199e-05 - val_loss: 0.0014\n",
            "Epoch 54/100\n",
            "20/20 [==============================] - 0s 7ms/step - loss: 5.0900e-05 - val_loss: 0.0014\n",
            "Epoch 55/100\n",
            "20/20 [==============================] - 0s 8ms/step - loss: 5.2435e-05 - val_loss: 0.0013\n",
            "Epoch 56/100\n",
            "20/20 [==============================] - 0s 5ms/step - loss: 5.1557e-05 - val_loss: 0.0014\n",
            "Epoch 57/100\n",
            "20/20 [==============================] - 0s 5ms/step - loss: 5.0642e-05 - val_loss: 0.0014\n",
            "Epoch 58/100\n",
            "20/20 [==============================] - 0s 5ms/step - loss: 4.9949e-05 - val_loss: 0.0014\n",
            "Epoch 59/100\n",
            "20/20 [==============================] - 0s 5ms/step - loss: 4.9618e-05 - val_loss: 0.0014\n",
            "Epoch 60/100\n",
            "20/20 [==============================] - 0s 5ms/step - loss: 5.0570e-05 - val_loss: 0.0014\n",
            "Epoch 61/100\n",
            "20/20 [==============================] - 0s 5ms/step - loss: 5.1930e-05 - val_loss: 0.0014\n",
            "Epoch 62/100\n",
            "20/20 [==============================] - 0s 5ms/step - loss: 4.9892e-05 - val_loss: 0.0014\n",
            "Epoch 63/100\n",
            "20/20 [==============================] - 0s 5ms/step - loss: 5.0829e-05 - val_loss: 0.0014\n",
            "Epoch 64/100\n",
            "20/20 [==============================] - 0s 5ms/step - loss: 5.0185e-05 - val_loss: 0.0013\n",
            "Epoch 65/100\n",
            "20/20 [==============================] - 0s 5ms/step - loss: 5.0027e-05 - val_loss: 0.0014\n",
            "Epoch 66/100\n",
            "20/20 [==============================] - 0s 8ms/step - loss: 5.0188e-05 - val_loss: 0.0014\n",
            "Epoch 67/100\n",
            "20/20 [==============================] - 0s 9ms/step - loss: 5.0491e-05 - val_loss: 0.0014\n",
            "Epoch 68/100\n",
            "20/20 [==============================] - 0s 10ms/step - loss: 5.0710e-05 - val_loss: 0.0014\n",
            "Epoch 69/100\n",
            "20/20 [==============================] - 0s 8ms/step - loss: 5.0186e-05 - val_loss: 0.0013\n",
            "Epoch 70/100\n",
            "20/20 [==============================] - 0s 8ms/step - loss: 5.0074e-05 - val_loss: 0.0014\n",
            "Epoch 71/100\n",
            "20/20 [==============================] - 0s 8ms/step - loss: 4.9870e-05 - val_loss: 0.0014\n",
            "Epoch 72/100\n",
            "20/20 [==============================] - 0s 4ms/step - loss: 4.9944e-05 - val_loss: 0.0014\n",
            "Epoch 73/100\n",
            "20/20 [==============================] - 0s 4ms/step - loss: 5.4625e-05 - val_loss: 0.0014\n",
            "Epoch 74/100\n",
            "20/20 [==============================] - 0s 3ms/step - loss: 5.0504e-05 - val_loss: 0.0014\n",
            "Epoch 75/100\n",
            "20/20 [==============================] - 0s 3ms/step - loss: 5.2908e-05 - val_loss: 0.0013\n",
            "Epoch 76/100\n",
            "20/20 [==============================] - 0s 3ms/step - loss: 5.4011e-05 - val_loss: 0.0013\n",
            "Epoch 77/100\n",
            "20/20 [==============================] - 0s 3ms/step - loss: 5.1264e-05 - val_loss: 0.0014\n",
            "Epoch 78/100\n",
            "20/20 [==============================] - 0s 4ms/step - loss: 5.1250e-05 - val_loss: 0.0014\n",
            "Epoch 79/100\n",
            "20/20 [==============================] - 0s 3ms/step - loss: 5.0852e-05 - val_loss: 0.0014\n",
            "Epoch 80/100\n",
            "20/20 [==============================] - 0s 4ms/step - loss: 5.0542e-05 - val_loss: 0.0014\n",
            "Epoch 81/100\n",
            "20/20 [==============================] - 0s 3ms/step - loss: 5.1280e-05 - val_loss: 0.0014\n",
            "Epoch 82/100\n",
            "20/20 [==============================] - 0s 3ms/step - loss: 5.0955e-05 - val_loss: 0.0015\n",
            "Epoch 83/100\n",
            "20/20 [==============================] - 0s 4ms/step - loss: 5.1279e-05 - val_loss: 0.0015\n",
            "Epoch 84/100\n",
            "20/20 [==============================] - 0s 4ms/step - loss: 5.1393e-05 - val_loss: 0.0015\n",
            "Epoch 85/100\n",
            "20/20 [==============================] - 0s 5ms/step - loss: 4.9602e-05 - val_loss: 0.0013\n",
            "Epoch 86/100\n",
            "20/20 [==============================] - 0s 6ms/step - loss: 5.3119e-05 - val_loss: 0.0013\n",
            "Epoch 87/100\n",
            "20/20 [==============================] - 0s 6ms/step - loss: 5.1715e-05 - val_loss: 0.0013\n",
            "Epoch 88/100\n",
            "20/20 [==============================] - 0s 5ms/step - loss: 5.0783e-05 - val_loss: 0.0013\n",
            "Epoch 89/100\n",
            "20/20 [==============================] - 0s 6ms/step - loss: 5.0380e-05 - val_loss: 0.0013\n",
            "Epoch 90/100\n",
            "20/20 [==============================] - 0s 6ms/step - loss: 5.0719e-05 - val_loss: 0.0013\n",
            "Epoch 91/100\n",
            "20/20 [==============================] - 0s 6ms/step - loss: 5.0545e-05 - val_loss: 0.0013\n",
            "Epoch 92/100\n",
            "20/20 [==============================] - 0s 6ms/step - loss: 5.0533e-05 - val_loss: 0.0014\n",
            "Epoch 93/100\n",
            "20/20 [==============================] - 0s 4ms/step - loss: 5.0952e-05 - val_loss: 0.0013\n",
            "Epoch 94/100\n",
            "20/20 [==============================] - 0s 4ms/step - loss: 5.0086e-05 - val_loss: 0.0014\n",
            "Epoch 95/100\n",
            "20/20 [==============================] - 0s 4ms/step - loss: 5.1330e-05 - val_loss: 0.0014\n",
            "Epoch 96/100\n",
            "20/20 [==============================] - 0s 4ms/step - loss: 5.1323e-05 - val_loss: 0.0013\n",
            "Epoch 97/100\n",
            "20/20 [==============================] - 0s 3ms/step - loss: 5.0673e-05 - val_loss: 0.0013\n",
            "Epoch 98/100\n",
            "20/20 [==============================] - 0s 3ms/step - loss: 5.2703e-05 - val_loss: 0.0014\n",
            "Epoch 99/100\n",
            "20/20 [==============================] - 0s 4ms/step - loss: 5.0128e-05 - val_loss: 0.0013\n",
            "Epoch 100/100\n",
            "20/20 [==============================] - 0s 3ms/step - loss: 5.0441e-05 - val_loss: 0.0014\n"
          ]
        },
        {
          "output_type": "execute_result",
          "data": {
            "text/plain": [
              "<keras.callbacks.History at 0x7f33ead03f40>"
            ]
          },
          "metadata": {},
          "execution_count": 85
        }
      ]
    },
    {
      "cell_type": "code",
      "source": [
        "# 10. Dự báo dữ liệu test, val\n",
        "train_predict=model.predict(X_train)\n",
        "y_pred=model.predict(X_test)\n",
        "y_pred_val=model.predict(X_val)"
      ],
      "metadata": {
        "colab": {
          "base_uri": "https://localhost:8080/"
        },
        "id": "Ruzm72cz-7lQ",
        "outputId": "e37448cf-0fd4-4dbf-a9f1-a788c28ffa17"
      },
      "execution_count": null,
      "outputs": [
        {
          "output_type": "stream",
          "name": "stdout",
          "text": [
            "40/40 [==============================] - 0s 1ms/step\n",
            "14/14 [==============================] - 0s 2ms/step\n",
            "14/14 [==============================] - 0s 1ms/step\n"
          ]
        }
      ]
    },
    {
      "cell_type": "code",
      "source": [
        "# 11. Chuẩn hóa dữ liệu y_pred, y_pred_val\n",
        "train_predict=scaler.inverse_transform(train_predict)\n",
        "y_pred=scaler.inverse_transform(y_pred)\n",
        "y_pred_val=scaler.inverse_transform(y_pred_val)"
      ],
      "metadata": {
        "id": "udI5me5r-8l4"
      },
      "execution_count": null,
      "outputs": []
    },
    {
      "cell_type": "code",
      "source": [
        "ytest = scaler.inverse_transform(ytest.reshape(-1,1))\n",
        "yval = scaler.inverse_transform(yval.reshape(-1,1))"
      ],
      "metadata": {
        "id": "SJUjbAIlLdpB"
      },
      "execution_count": null,
      "outputs": []
    },
    {
      "cell_type": "code",
      "source": [
        "# 12. Đánh giá độ chính xác thuật toán bằng RMSE\n",
        "valid_rmse = np.sqrt(np.mean((y_pred_val - yval)**2))\n",
        "test_rmse = np.sqrt(np.mean((y_pred - ytest)**2))\n",
        "test_mae = np.mean(np.abs(y_pred - ytest))\n",
        "valid_mae = np.mean(np.abs(y_pred_val - yval))\n",
        "test_mape = np.mean(np.abs((y_pred - ytest) / ytest)) * 100\n",
        "valid_mape = np.mean(np.abs((y_pred_val - yval) / np.where(yval != 0, yval, 1))) * 100\n",
        "\n",
        "print('Validation RMSE:', valid_rmse)\n",
        "print('Testing RMSE:', test_rmse)\n",
        "print('Testing MAE:', test_mae)\n",
        "print('Validation MAE:', valid_mae)\n",
        "print('Testing MAPE:', test_mape)\n",
        "print('Validation MAPE:', valid_mape)"
      ],
      "metadata": {
        "colab": {
          "base_uri": "https://localhost:8080/"
        },
        "id": "hicPJ_3c-96J",
        "outputId": "9ffeb869-089e-4d80-ab25-25738cec7f61"
      },
      "execution_count": null,
      "outputs": [
        {
          "output_type": "stream",
          "name": "stdout",
          "text": [
            "Validation RMSE: 11.213391578448238\n",
            "Testing RMSE: 5.940431632944288\n",
            "Testing MAE: 4.193847765189817\n",
            "Validation MAE: 9.43839295869715\n",
            "Testing MAPE: 2.768476200231907\n",
            "Validation MAPE: 4.986236977065409\n"
          ]
        }
      ]
    },
    {
      "cell_type": "code",
      "source": [
        "# Dự báo 7 ngày tiếp theo\n",
        "x_input = val_data[-1:].reshape(1, -1)\n",
        "temp_input = list(x_input)\n",
        "temp_input = temp_input[0].tolist()\n",
        "\n",
        "lst_output = []\n",
        "n_steps = 1\n",
        "i = 0\n",
        "\n",
        "while i < 7:\n",
        "    if len(temp_input) > 100:\n",
        "        x_input = np.array(temp_input[1:])\n",
        "        x_input = x_input.reshape(1, -1)\n",
        "        x_input = x_input.reshape((1, n_steps, 1))\n",
        "        yhat = model.predict(x_input, verbose=0)\n",
        "        temp_input.extend(yhat[0].tolist())\n",
        "        temp_input = temp_input[1:]\n",
        "        lst_output.extend(yhat.tolist())\n",
        "        i += 1\n",
        "    else:\n",
        "        x_input = x_input.reshape((1, n_steps, 1))\n",
        "        yhat = model.predict(x_input, verbose=0)\n",
        "        temp_input.extend(yhat[0].tolist())\n",
        "        lst_output.extend(yhat.tolist())\n",
        "        i += 1"
      ],
      "metadata": {
        "id": "0uSjm_XL_CHQ"
      },
      "execution_count": null,
      "outputs": []
    },
    {
      "cell_type": "code",
      "source": [
        "# 14.Vẽ hình\n",
        "train_data_index = pd.RangeIndex(start=0, stop=train_size, step=1)\n",
        "plt.plot(scaler.inverse_transform(train_data))\n",
        "test_data_index = pd.RangeIndex(start=train_size, stop=train_size+test_size, step=1)\n",
        "plt.plot(test_data_index,scaler.inverse_transform(test_data))\n",
        "test_data_index = pd.RangeIndex(start=train_size+2, stop=train_size+test_size, step=1)\n",
        "plt.plot(test_data_index,(y_pred))\n",
        "val_data_index = pd.RangeIndex(start=train_size+test_size, stop=train_size+test_size+val_size, step=1)\n",
        "plt.plot(val_data_index,scaler.inverse_transform(val_data))\n",
        "val_data_index = pd.RangeIndex(start=train_size+test_size+2, stop=train_size+test_size+val_size, step=1)\n",
        "plt.plot(val_data_index,y_pred_val)\n",
        "prediect_data_index = pd.RangeIndex(start=len(df1)-1, stop=len(df1)+6, step=1)\n",
        "plt.plot(prediect_data_index,scaler.inverse_transform(lst_output))\n",
        "plt.legend(['Train','Test','Predict','Validate','ValidatePred','Predict7days'])\n",
        "plt.show()"
      ],
      "metadata": {
        "colab": {
          "base_uri": "https://localhost:8080/",
          "height": 430
        },
        "id": "jsAGe1Gr_FOK",
        "outputId": "e02f208b-5a8f-4f74-fc44-2d7380edeea3"
      },
      "execution_count": null,
      "outputs": [
        {
          "output_type": "display_data",
          "data": {
            "text/plain": [
              "<Figure size 640x480 with 1 Axes>"
            ],
            "image/png": "[encoded data removed]"
          },
          "metadata": {}
        }
      ]
    },
    {
      "cell_type": "code",
      "source": [
        "scaler.inverse_transform(lst_output)"
      ],
      "metadata": {
        "colab": {
          "base_uri": "https://localhost:8080/"
        },
        "id": "kM5Wx0Qk_GWo",
        "outputId": "fd1e8bc7-84fd-4a78-cad1-1ad5457bc641"
      },
      "execution_count": null,
      "outputs": [
        {
          "output_type": "execute_result",
          "data": {
            "text/plain": [
              "array([[150.85456026],\n",
              "       [150.85456026],\n",
              "       [150.85456026],\n",
              "       [150.85456026],\n",
              "       [150.85456026],\n",
              "       [150.85456026],\n",
              "       [150.85456026]])"
            ]
          },
          "metadata": {},
          "execution_count": 92
        }
      ]
    }
  ],
  "metadata": {
    "colab": {
      "provenance": [],
      "toc_visible": true
    },
    "kernelspec": {
      "display_name": "Python 3",
      "name": "python3"
    },
    "language_info": {
      "codemirror_mode": {
        "name": "ipython",
        "version": 3
      },
      "file_extension": ".py",
      "mimetype": "text/x-python",
      "name": "python",
      "nbconvert_exporter": "python",
      "pygments_lexer": "ipython3",
      "version": "3.10.11"
    }
  },
  "nbformat": 4,
  "nbformat_minor": 0
}