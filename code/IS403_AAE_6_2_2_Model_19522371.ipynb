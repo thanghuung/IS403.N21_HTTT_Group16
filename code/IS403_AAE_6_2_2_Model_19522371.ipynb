{
  "nbformat": 4,
  "nbformat_minor": 0,
  "metadata": {
    "colab": {
      "provenance": [],
      "gpuType": "T4",
      "collapsed_sections": [
        "FNc017WLRtgN",
        "-k0MGn2zKKLl",
        "fzNxvmWFKKLr",
        "bppT8j6gKKLu",
        "3murH5LiKE7u",
        "hnB-y4bblU9c",
        "ONYuR_I2lU9t"
      ],
      "toc_visible": true
    },
    "kernelspec": {
      "name": "python3",
      "display_name": "Python 3"
    },
    "language_info": {
      "name": "python"
    },
    "accelerator": "GPU",
    "gpuClass": "standard"
  },
  "cells": [
    {
      "cell_type": "markdown",
      "source": [
        "# **ARI 6:2:2**"
      ],
      "metadata": {
        "id": "umYjJBDq7R64"
      }
    },
    {
      "cell_type": "markdown",
      "source": [
        "## **Thuật toán AAE**\n"
      ],
      "metadata": {
        "id": "bpLmbgQi7R6-"
      }
    },
    {
      "cell_type": "code",
      "execution_count": null,
      "metadata": {
        "colab": {
          "base_uri": "https://localhost:8080/"
        },
        "outputId": "9d183a7a-2ea4-4bf6-fc39-187c90cdd592",
        "id": "t_YnMC2Y7R6-"
      },
      "outputs": [
        {
          "output_type": "stream",
          "name": "stdout",
          "text": [
            "Drive already mounted at /content/drive; to attempt to forcibly remount, call drive.mount(\"/content/drive\", force_remount=True).\n"
          ]
        }
      ],
      "source": [
        "from google.colab import drive\n",
        "drive.mount('/content/drive')"
      ]
    },
    {
      "cell_type": "code",
      "source": [
        "import pandas as pd\n",
        "import numpy as np\n",
        "import math\n",
        "import itertools\n",
        "\n",
        "import torchvision.transforms as transforms\n",
        "from torchvision.utils import save_image\n",
        "\n",
        "from torch.utils.data import DataLoader\n",
        "from torchvision import datasets\n",
        "from torch.autograd import Variable\n",
        "\n",
        "import torch.nn as nn\n",
        "import torch.nn.functional as F\n",
        "import torch"
      ],
      "metadata": {
        "id": "Q74IrmOZ7R6_"
      },
      "execution_count": null,
      "outputs": []
    },
    {
      "cell_type": "code",
      "source": [
        "fileName = '/content/ARI-Historical-Data.csv'\n",
        "dataset = pd.read_csv(fileName)\n",
        "dataset = dataset.iloc[::-1]\n"
      ],
      "metadata": {
        "id": "kdnC1DG67R6_"
      },
      "execution_count": null,
      "outputs": []
    },
    {
      "cell_type": "code",
      "source": [
        "dataset.head()"
      ],
      "metadata": {
        "colab": {
          "base_uri": "https://localhost:8080/",
          "height": 206
        },
        "outputId": "39dcc507-93ea-4583-ebbb-1e4124de1ae7",
        "id": "vowoKBik7R6_"
      },
      "execution_count": null,
      "outputs": [
        {
          "output_type": "execute_result",
          "data": {
            "text/plain": [
              "            Date  Price   Open   High    Low     Vol. Change %\n",
              "2128  01/02/2015  16.54  16.49  16.55  16.35  184.56K    1.10%\n",
              "2127  01/05/2015  16.51  16.47  16.63  16.45  387.43K   -0.18%\n",
              "2126  01/06/2015  16.42  16.60  16.64  16.37  225.81K   -0.55%\n",
              "2125  01/07/2015  16.63  16.48  16.65  16.44  492.81K    1.28%\n",
              "2124  01/08/2015  16.49  16.69  16.69  16.45  440.70K   -0.84%"
            ],
            "text/html": [
              "\n",
              "  <div id=\"df-354fd487-bfce-4ded-8f16-795acd15ecd6\">\n",
              "    <div class=\"colab-df-container\">\n",
              "      <div>\n",
              "<style scoped>\n",
              "    .dataframe tbody tr th:only-of-type {\n",
              "        vertical-align: middle;\n",
              "    }\n",
              "\n",
              "    .dataframe tbody tr th {\n",
              "        vertical-align: top;\n",
              "    }\n",
              "\n",
              "    .dataframe thead th {\n",
              "        text-align: right;\n",
              "    }\n",
              "</style>\n",
              "<table border=\"1\" class=\"dataframe\">\n",
              "  <thead>\n",
              "    <tr style=\"text-align: right;\">\n",
              "      <th></th>\n",
              "      <th>Date</th>\n",
              "      <th>Price</th>\n",
              "      <th>Open</th>\n",
              "      <th>High</th>\n",
              "      <th>Low</th>\n",
              "      <th>Vol.</th>\n",
              "      <th>Change %</th>\n",
              "    </tr>\n",
              "  </thead>\n",
              "  <tbody>\n",
              "    <tr>\n",
              "      <th>2128</th>\n",
              "      <td>01/02/2015</td>\n",
              "      <td>16.54</td>\n",
              "      <td>16.49</td>\n",
              "      <td>16.55</td>\n",
              "      <td>16.35</td>\n",
              "      <td>184.56K</td>\n",
              "      <td>1.10%</td>\n",
              "    </tr>\n",
              "    <tr>\n",
              "      <th>2127</th>\n",
              "      <td>01/05/2015</td>\n",
              "      <td>16.51</td>\n",
              "      <td>16.47</td>\n",
              "      <td>16.63</td>\n",
              "      <td>16.45</td>\n",
              "      <td>387.43K</td>\n",
              "      <td>-0.18%</td>\n",
              "    </tr>\n",
              "    <tr>\n",
              "      <th>2126</th>\n",
              "      <td>01/06/2015</td>\n",
              "      <td>16.42</td>\n",
              "      <td>16.60</td>\n",
              "      <td>16.64</td>\n",
              "      <td>16.37</td>\n",
              "      <td>225.81K</td>\n",
              "      <td>-0.55%</td>\n",
              "    </tr>\n",
              "    <tr>\n",
              "      <th>2125</th>\n",
              "      <td>01/07/2015</td>\n",
              "      <td>16.63</td>\n",
              "      <td>16.48</td>\n",
              "      <td>16.65</td>\n",
              "      <td>16.44</td>\n",
              "      <td>492.81K</td>\n",
              "      <td>1.28%</td>\n",
              "    </tr>\n",
              "    <tr>\n",
              "      <th>2124</th>\n",
              "      <td>01/08/2015</td>\n",
              "      <td>16.49</td>\n",
              "      <td>16.69</td>\n",
              "      <td>16.69</td>\n",
              "      <td>16.45</td>\n",
              "      <td>440.70K</td>\n",
              "      <td>-0.84%</td>\n",
              "    </tr>\n",
              "  </tbody>\n",
              "</table>\n",
              "</div>\n",
              "      <button class=\"colab-df-convert\" onclick=\"convertToInteractive('df-354fd487-bfce-4ded-8f16-795acd15ecd6')\"\n",
              "              title=\"Convert this dataframe to an interactive table.\"\n",
              "              style=\"display:none;\">\n",
              "        \n",
              "  <svg xmlns=\"http://www.w3.org/2000/svg\" height=\"24px\"viewBox=\"0 0 24 24\"\n",
              "       width=\"24px\">\n",
              "    <path d=\"M0 0h24v24H0V0z\" fill=\"none\"/>\n",
              "    <path d=\"M18.56 5.44l.94 2.06.94-2.06 2.06-.94-2.06-.94-.94-2.06-.94 2.06-2.06.94zm-11 1L8.5 8.5l.94-2.06 2.06-.94-2.06-.94L8.5 2.5l-.94 2.06-2.06.94zm10 10l.94 2.06.94-2.06 2.06-.94-2.06-.94-.94-2.06-.94 2.06-2.06.94z\"/><path d=\"M17.41 7.96l-1.37-1.37c-.4-.4-.92-.59-1.43-.59-.52 0-1.04.2-1.43.59L10.3 9.45l-7.72 7.72c-.78.78-.78 2.05 0 2.83L4 21.41c.39.39.9.59 1.41.59.51 0 1.02-.2 1.41-.59l7.78-7.78 2.81-2.81c.8-.78.8-2.07 0-2.86zM5.41 20L4 18.59l7.72-7.72 1.47 1.35L5.41 20z\"/>\n",
              "  </svg>\n",
              "      </button>\n",
              "      \n",
              "  <style>\n",
              "    .colab-df-container {\n",
              "      display:flex;\n",
              "      flex-wrap:wrap;\n",
              "      gap: 12px;\n",
              "    }\n",
              "\n",
              "    .colab-df-convert {\n",
              "      background-color: #E8F0FE;\n",
              "      border: none;\n",
              "      border-radius: 50%;\n",
              "      cursor: pointer;\n",
              "      display: none;\n",
              "      fill: #1967D2;\n",
              "      height: 32px;\n",
              "      padding: 0 0 0 0;\n",
              "      width: 32px;\n",
              "    }\n",
              "\n",
              "    .colab-df-convert:hover {\n",
              "      background-color: #E2EBFA;\n",
              "      box-shadow: 0px 1px 2px rgba(60, 64, 67, 0.3), 0px 1px 3px 1px rgba(60, 64, 67, 0.15);\n",
              "      fill: #174EA6;\n",
              "    }\n",
              "\n",
              "    [theme=dark] .colab-df-convert {\n",
              "      background-color: #3B4455;\n",
              "      fill: #D2E3FC;\n",
              "    }\n",
              "\n",
              "    [theme=dark] .colab-df-convert:hover {\n",
              "      background-color: #434B5C;\n",
              "      box-shadow: 0px 1px 3px 1px rgba(0, 0, 0, 0.15);\n",
              "      filter: drop-shadow(0px 1px 2px rgba(0, 0, 0, 0.3));\n",
              "      fill: #FFFFFF;\n",
              "    }\n",
              "  </style>\n",
              "\n",
              "      <script>\n",
              "        const buttonEl =\n",
              "          document.querySelector('#df-354fd487-bfce-4ded-8f16-795acd15ecd6 button.colab-df-convert');\n",
              "        buttonEl.style.display =\n",
              "          google.colab.kernel.accessAllowed ? 'block' : 'none';\n",
              "\n",
              "        async function convertToInteractive(key) {\n",
              "          const element = document.querySelector('#df-354fd487-bfce-4ded-8f16-795acd15ecd6');\n",
              "          const dataTable =\n",
              "            await google.colab.kernel.invokeFunction('convertToInteractive',\n",
              "                                                     [key], {});\n",
              "          if (!dataTable) return;\n",
              "\n",
              "          const docLinkHtml = 'Like what you see? Visit the ' +\n",
              "            '<a target=\"_blank\" href=https://colab.research.google.com/notebooks/data_table.ipynb>data table notebook</a>'\n",
              "            + ' to learn more about interactive tables.';\n",
              "          element.innerHTML = '';\n",
              "          dataTable['output_type'] = 'display_data';\n",
              "          await google.colab.output.renderOutput(dataTable, element);\n",
              "          const docLink = document.createElement('div');\n",
              "          docLink.innerHTML = docLinkHtml;\n",
              "          element.appendChild(docLink);\n",
              "        }\n",
              "      </script>\n",
              "    </div>\n",
              "  </div>\n",
              "  "
            ]
          },
          "metadata": {},
          "execution_count": 439
        }
      ]
    },
    {
      "cell_type": "code",
      "source": [
        "# Chuyển đổi hàm để xử lý chuỗi 'Vol.'\n",
        "def convert_vol(value):\n",
        "    if 'K' in value:\n",
        "        # Loại bỏ ký tự 'K' và chuyển đổi thành giá trị số\n",
        "        return float(value.replace('K', '')) * 1000\n",
        "    elif 'M' in value:\n",
        "        # Loại bỏ ký tự 'M' và chuyển đổi thành giá trị số\n",
        "        return float(value.replace('M', '')) * 1000000\n",
        "    else:\n",
        "        # Trường hợp không có đơn vị, giữ nguyên giá trị\n",
        "        return float(value)\n",
        "\n",
        "# Áp dụng hàm chuyển đổi vào cột 'Vol.' của dataset\n",
        "dataset['Vol.'] = dataset['Vol.'].apply(convert_vol)"
      ],
      "metadata": {
        "id": "7C7ZyIm17R6_"
      },
      "execution_count": null,
      "outputs": []
    },
    {
      "cell_type": "code",
      "source": [
        "# Chuyển đổi hàm để xử lý chuỗi 'Change %'\n",
        "def convert_change(value):\n",
        "    # Loại bỏ ký tự '%' và chuyển đổi thành giá trị số\n",
        "    return float(value.replace('%', ''))\n",
        "\n",
        "# Áp dụng hàm chuyển đổi bằng phương pháp map\n",
        "dataset['Change %'] = dataset['Change %'].map(convert_change)\n"
      ],
      "metadata": {
        "id": "y5w2L-a47R6_"
      },
      "execution_count": null,
      "outputs": []
    },
    {
      "cell_type": "code",
      "source": [
        "data_transform = dataset.drop('Date', axis=1)\n",
        "data_transform = data_transform.drop('Open', axis=1)\n",
        "data_transform = data_transform.drop('Vol.', axis=1)\n",
        "# data_transform = data_transform.drop('Change %', axis=1)\n",
        "# data_transform = data_transform.drop('Low', axis=1)\n",
        "# data_transform = data_transform.drop('High', axis=1)\n"
      ],
      "metadata": {
        "id": "ViHtQ9gd7R6_"
      },
      "execution_count": null,
      "outputs": []
    },
    {
      "cell_type": "code",
      "source": [
        "from sklearn.preprocessing import MinMaxScaler\n",
        "scaler = MinMaxScaler(feature_range=(0,1))"
      ],
      "metadata": {
        "id": "PQ25yKny7R7A"
      },
      "execution_count": null,
      "outputs": []
    },
    {
      "cell_type": "code",
      "source": [
        "data_transform=scaler.fit_transform(np.array(data_transform))"
      ],
      "metadata": {
        "id": "bBsQdxaN7R7A"
      },
      "execution_count": null,
      "outputs": []
    },
    {
      "cell_type": "code",
      "source": [
        "import numpy as np\n",
        "import torch\n",
        "import torch.nn as nn\n",
        "import torch.optim as optim\n",
        "from torch.utils.data import DataLoader, TensorDataset\n",
        "from torchvision import datasets\n",
        "from torch.autograd import Variable\n",
        "import torch.nn.functional as F\n",
        "import random\n",
        "import tensorflow as tf\n",
        "\n",
        "seed_value = 42\n",
        "\n",
        "random.seed(seed_value)\n",
        "np.random.seed(seed_value)\n",
        "tf.random.set_seed(seed_value)\n",
        "\n",
        "# dùng 'gpu'.\n",
        "device = 'cuda' if torch.cuda.is_available() else 'cpu'\n",
        "Tensor = torch.cuda.FloatTensor if torch.cuda.is_available() else torch.FloatTensor\n",
        "\n",
        "# số chiều không gian tiềm ẩn\n",
        "latent_dim = 1\n",
        "\n",
        "# số chiều vector đầu vào.\n",
        "embedding = 4\n",
        "\n",
        "# sampling từ trung bình và độ lệch chuẩn.\n",
        "def reparameterization(mu, logvar):\n",
        "    std = torch.exp(logvar / 2)\n",
        "    sampled_z = Variable(Tensor(np.random.normal(0, 1, (mu.size(0), latent_dim))))\n",
        "    # sampled_z = Variable(torch.randn((mu.size(0), latent_dim))).to(device)\n",
        "    z = sampled_z * std + mu\n",
        "    return z\n",
        "\n",
        "class Encoder(nn.Module):\n",
        "    def __init__(self, embedding):\n",
        "        super(Encoder, self).__init__()\n",
        "\n",
        "        self.model = nn.Sequential(\n",
        "            nn.Linear(embedding, 512),\n",
        "            nn.LeakyReLU(0.2, inplace=True),\n",
        "            nn.Linear(512, 512),\n",
        "            nn.BatchNorm1d(512),\n",
        "            nn.LeakyReLU(0.2, inplace=True),\n",
        "        )\n",
        "\n",
        "        self.mu = nn.Linear(512, latent_dim)\n",
        "        self.logvar = nn.Linear(512, latent_dim)\n",
        "\n",
        "    def forward(self, img):\n",
        "        img_flat = img.view(img.shape[0], -1)\n",
        "        x = self.model(img_flat)\n",
        "        mu = self.mu(x)\n",
        "        logvar = self.logvar(x)\n",
        "        z = reparameterization(mu, logvar)\n",
        "        return z\n",
        "\n",
        "\n",
        "class Decoder(nn.Module):\n",
        "    def __init__(self, embedding):\n",
        "        super(Decoder, self).__init__()\n",
        "\n",
        "        self.model = nn.Sequential(\n",
        "            nn.Linear(latent_dim, 512),\n",
        "            nn.LeakyReLU(0.2, inplace=True),\n",
        "            nn.Linear(512, 512),\n",
        "            nn.BatchNorm1d(512),\n",
        "            nn.LeakyReLU(0.2, inplace=True),\n",
        "            nn.Linear(512, embedding),\n",
        "            nn.Tanh(),\n",
        "        )\n",
        "\n",
        "    def forward(self, z):\n",
        "        img_flat = self.model(z)\n",
        "        img = img_flat.view(img_flat.shape[0], -1)\n",
        "        return img\n",
        "\n",
        "\n",
        "class Discriminator(nn.Module):\n",
        "    def __init__(self):\n",
        "        super(Discriminator, self).__init__()\n",
        "\n",
        "        self.model = nn.Sequential(\n",
        "            nn.Linear(latent_dim, 512),\n",
        "            nn.LeakyReLU(0.2, inplace=True),\n",
        "            nn.Linear(512, 256),\n",
        "            nn.LeakyReLU(0.2, inplace=True),\n",
        "            nn.Linear(256, 1),\n",
        "            nn.Sigmoid(),\n",
        "        )\n",
        "\n",
        "    def forward(self, z):\n",
        "        validity = self.model(z)\n",
        "        return validity\n",
        "\n",
        "\n"
      ],
      "metadata": {
        "id": "lT0aCjdI7R7A"
      },
      "execution_count": null,
      "outputs": []
    },
    {
      "cell_type": "code",
      "source": [
        "batch_size=512\n",
        "n_epochs=50"
      ],
      "metadata": {
        "id": "kJIhmVnU7R7A"
      },
      "execution_count": null,
      "outputs": []
    },
    {
      "cell_type": "code",
      "source": [
        "# Chuẩn bị dữ liệu huấn luyện (torch dùng đc gpu, numpy -> cpu)\n",
        "tensor_data = torch.from_numpy(data_transform).float()  # Chuyển đổi thành Tensor và kiểu dữ liệu float\n",
        "\n",
        "# Tạo DataLoader\n",
        "data_loader = DataLoader(tensor_data, batch_size=batch_size, shuffle=False)"
      ],
      "metadata": {
        "id": "Mq45ydiR7R7A"
      },
      "execution_count": null,
      "outputs": []
    },
    {
      "cell_type": "code",
      "source": [
        "# Use binary cross-entropy loss\n",
        "adversarial_loss = torch.nn.BCELoss().to(device)\n",
        "pixelwise_loss = torch.nn.L1Loss().to(device)\n",
        "\n",
        "# Initialize generator and discriminator\n",
        "encoder = Encoder(embedding).to(device)\n",
        "decoder = Decoder(embedding).to(device)\n",
        "discriminator = Discriminator().to(device)\n"
      ],
      "metadata": {
        "id": "adc8djnq7R7B"
      },
      "execution_count": null,
      "outputs": []
    },
    {
      "cell_type": "code",
      "source": [
        "# Optimizers\n",
        "optimizer_G = torch.optim.Adam(\n",
        "    itertools.chain(encoder.parameters(), decoder.parameters()), lr=0.0005\n",
        ")\n",
        "optimizer_D = torch.optim.Adam(discriminator.parameters(), lr=0.00005)"
      ],
      "metadata": {
        "id": "vo3Xe9D97R7B"
      },
      "execution_count": null,
      "outputs": []
    },
    {
      "cell_type": "code",
      "source": [
        "import random\n",
        "import numpy as np\n",
        "import tensorflow as tf\n",
        "\n",
        "# Khởi tạo list để lưu loss\n",
        "d_losses = []\n",
        "g_losses = []\n",
        "\n",
        "for epoch in range(n_epochs):\n",
        "    for i, imgs in enumerate(data_loader):\n",
        "\n",
        "        # Adversarial ground truths\n",
        "        valid = Variable(Tensor(imgs.shape[0], 1).fill_(1.0), requires_grad=False)\n",
        "        fake = Variable(Tensor(imgs.shape[0], 1).fill_(0.0), requires_grad=False)\n",
        "\n",
        "        # Configure input\n",
        "        real_imgs = Variable(imgs.type(Tensor)).to(device)\n",
        "\n",
        "        # -----------------\n",
        "        #  Train Generator\n",
        "        # -----------------\n",
        "\n",
        "        optimizer_G.zero_grad()\n",
        "        # print(real_imgs.shape)\n",
        "        encoded_imgs = encoder(real_imgs)\n",
        "        decoded_imgs = decoder(encoded_imgs)\n",
        "\n",
        "        # Loss measures generator's ability to fool the discriminator\n",
        "        g_loss = 0.001 * adversarial_loss(discriminator(encoded_imgs), valid) + 0.999 * pixelwise_loss(\n",
        "            decoded_imgs, real_imgs\n",
        "        )\n",
        "\n",
        "        g_loss.backward()\n",
        "        optimizer_G.step()\n",
        "\n",
        "        # ---------------------\n",
        "        #  Train Discriminator\n",
        "        # ---------------------\n",
        "\n",
        "        optimizer_D.zero_grad()\n",
        "\n",
        "        # Sample noise as discriminator ground truth\n",
        "        z = Variable(Tensor(np.random.normal(0, 1, (real_imgs.shape[0], latent_dim))))\n",
        "\n",
        "        # Measure discriminator's ability to classify real from generated samples\n",
        "        real_loss = adversarial_loss(discriminator(z), valid)\n",
        "        fake_loss = adversarial_loss(discriminator(encoded_imgs.detach()), fake)\n",
        "        d_loss = 0.5 * (real_loss + fake_loss)\n",
        "\n",
        "        d_loss.backward()\n",
        "        optimizer_D.step()\n",
        "\n",
        "        d_losses.append(d_loss.item())\n",
        "        g_losses.append(g_loss.item())\n",
        "\n",
        "        if (epoch + 1) % 5 == 0:\n",
        "          print(\n",
        "              \"[Epoch %d/%d] [Batch %d/%d] [D loss: %f] [G loss: %f]\"\n",
        "              % (epoch, n_epochs, i, len(data_loader), d_loss.item(), g_loss.item())\n",
        "          )"
      ],
      "metadata": {
        "colab": {
          "base_uri": "https://localhost:8080/"
        },
        "outputId": "fc78a064-abcb-40c9-ee87-49d09ccad300",
        "id": "zwBsVOE17R7B"
      },
      "execution_count": null,
      "outputs": [
        {
          "output_type": "stream",
          "name": "stdout",
          "text": [
            "[Epoch 4/50] [Batch 0/5] [D loss: 0.685623] [G loss: 0.124850]\n",
            "[Epoch 4/50] [Batch 1/5] [D loss: 0.685128] [G loss: 0.169978]\n",
            "[Epoch 4/50] [Batch 2/5] [D loss: 0.690018] [G loss: 0.242292]\n",
            "[Epoch 4/50] [Batch 3/5] [D loss: 0.699014] [G loss: 0.167520]\n",
            "[Epoch 4/50] [Batch 4/5] [D loss: 0.688109] [G loss: 0.293190]\n",
            "[Epoch 9/50] [Batch 0/5] [D loss: 0.678914] [G loss: 0.070743]\n",
            "[Epoch 9/50] [Batch 1/5] [D loss: 0.680909] [G loss: 0.135947]\n",
            "[Epoch 9/50] [Batch 2/5] [D loss: 0.675824] [G loss: 0.134671]\n",
            "[Epoch 9/50] [Batch 3/5] [D loss: 0.681503] [G loss: 0.129385]\n",
            "[Epoch 9/50] [Batch 4/5] [D loss: 0.697035] [G loss: 0.234515]\n",
            "[Epoch 14/50] [Batch 0/5] [D loss: 0.654295] [G loss: 0.053043]\n",
            "[Epoch 14/50] [Batch 1/5] [D loss: 0.648459] [G loss: 0.130897]\n",
            "[Epoch 14/50] [Batch 2/5] [D loss: 0.649100] [G loss: 0.093655]\n",
            "[Epoch 14/50] [Batch 3/5] [D loss: 0.668025] [G loss: 0.155134]\n",
            "[Epoch 14/50] [Batch 4/5] [D loss: 0.683296] [G loss: 0.263833]\n",
            "[Epoch 19/50] [Batch 0/5] [D loss: 0.651021] [G loss: 0.060532]\n",
            "[Epoch 19/50] [Batch 1/5] [D loss: 0.651261] [G loss: 0.132216]\n",
            "[Epoch 19/50] [Batch 2/5] [D loss: 0.660011] [G loss: 0.244908]\n",
            "[Epoch 19/50] [Batch 3/5] [D loss: 0.665665] [G loss: 0.129113]\n",
            "[Epoch 19/50] [Batch 4/5] [D loss: 0.684255] [G loss: 0.174493]\n",
            "[Epoch 24/50] [Batch 0/5] [D loss: 0.633654] [G loss: 0.047057]\n",
            "[Epoch 24/50] [Batch 1/5] [D loss: 0.632475] [G loss: 0.121372]\n",
            "[Epoch 24/50] [Batch 2/5] [D loss: 0.601512] [G loss: 0.140329]\n",
            "[Epoch 24/50] [Batch 3/5] [D loss: 0.630448] [G loss: 0.117246]\n",
            "[Epoch 24/50] [Batch 4/5] [D loss: 0.634716] [G loss: 0.161684]\n",
            "[Epoch 29/50] [Batch 0/5] [D loss: 0.606842] [G loss: 0.073620]\n",
            "[Epoch 29/50] [Batch 1/5] [D loss: 0.611867] [G loss: 0.126384]\n",
            "[Epoch 29/50] [Batch 2/5] [D loss: 0.597674] [G loss: 0.115299]\n",
            "[Epoch 29/50] [Batch 3/5] [D loss: 0.658244] [G loss: 0.106119]\n",
            "[Epoch 29/50] [Batch 4/5] [D loss: 0.674665] [G loss: 0.204117]\n",
            "[Epoch 34/50] [Batch 0/5] [D loss: 0.609658] [G loss: 0.047981]\n",
            "[Epoch 34/50] [Batch 1/5] [D loss: 0.613415] [G loss: 0.105840]\n",
            "[Epoch 34/50] [Batch 2/5] [D loss: 0.591173] [G loss: 0.087569]\n",
            "[Epoch 34/50] [Batch 3/5] [D loss: 0.619519] [G loss: 0.088659]\n",
            "[Epoch 34/50] [Batch 4/5] [D loss: 0.654603] [G loss: 0.144283]\n",
            "[Epoch 39/50] [Batch 0/5] [D loss: 0.591907] [G loss: 0.058296]\n",
            "[Epoch 39/50] [Batch 1/5] [D loss: 0.594976] [G loss: 0.094423]\n",
            "[Epoch 39/50] [Batch 2/5] [D loss: 0.581190] [G loss: 0.112344]\n",
            "[Epoch 39/50] [Batch 3/5] [D loss: 0.610624] [G loss: 0.106713]\n",
            "[Epoch 39/50] [Batch 4/5] [D loss: 0.696877] [G loss: 0.171685]\n",
            "[Epoch 44/50] [Batch 0/5] [D loss: 0.651506] [G loss: 0.036847]\n",
            "[Epoch 44/50] [Batch 1/5] [D loss: 0.631059] [G loss: 0.085046]\n",
            "[Epoch 44/50] [Batch 2/5] [D loss: 0.615199] [G loss: 0.085766]\n",
            "[Epoch 44/50] [Batch 3/5] [D loss: 0.629683] [G loss: 0.097428]\n",
            "[Epoch 44/50] [Batch 4/5] [D loss: 0.671348] [G loss: 0.120956]\n",
            "[Epoch 49/50] [Batch 0/5] [D loss: 0.632694] [G loss: 0.052743]\n",
            "[Epoch 49/50] [Batch 1/5] [D loss: 0.633533] [G loss: 0.088657]\n",
            "[Epoch 49/50] [Batch 2/5] [D loss: 0.616943] [G loss: 0.095644]\n",
            "[Epoch 49/50] [Batch 3/5] [D loss: 0.619125] [G loss: 0.102758]\n",
            "[Epoch 49/50] [Batch 4/5] [D loss: 0.598600] [G loss: 0.122058]\n"
          ]
        }
      ]
    },
    {
      "cell_type": "code",
      "source": [
        "# import matplotlib.pyplot as plt\n",
        "# # Vẽ biểu đồ Discriminator Loss\n",
        "# plt.plot(range(len(d_losses)), d_losses, label='Discriminator Loss')\n",
        "# plt.xlabel('Iterations')\n",
        "# plt.ylabel('Loss')\n",
        "# plt.legend()\n",
        "# plt.title('Discriminator Loss')\n",
        "# plt.show()\n"
      ],
      "metadata": {
        "id": "4EEPdl117R7B"
      },
      "execution_count": null,
      "outputs": []
    },
    {
      "cell_type": "code",
      "source": [
        "# # Vẽ biểu đồ Generator Loss\n",
        "# plt.plot(range(len(g_losses)), g_losses, label='Generator Loss')\n",
        "# plt.xlabel('Iterations')\n",
        "# plt.ylabel('Loss')\n",
        "# plt.legend()\n",
        "# plt.title('Generator Loss')\n",
        "# plt.show()"
      ],
      "metadata": {
        "id": "1EipFpqs7R7B"
      },
      "execution_count": null,
      "outputs": []
    },
    {
      "cell_type": "code",
      "source": [
        "# Chuyển đổi dữ liệu thành tensor\n",
        "tensor_data = torch.tensor(data_transform, dtype=torch.float32).to(device)\n",
        "latent_vectors = encoder(tensor_data)\n",
        "# reconstructed_data = decoder(latent_vectors)\n",
        "\n",
        "# # Chuyển đổi dữ liệu mới thành dạng ban đầu\n",
        "# generated_data = reconstructed_data.cpu().detach().numpy()"
      ],
      "metadata": {
        "id": "U8I98TWs7R7B"
      },
      "execution_count": null,
      "outputs": []
    },
    {
      "cell_type": "markdown",
      "source": [
        "## **Thuật toán LSTM**\n"
      ],
      "metadata": {
        "id": "ghXmJY0O7R7B"
      }
    },
    {
      "cell_type": "code",
      "source": [
        "# 1. Import thư viện cần thiết\n",
        "import numpy as np\n",
        "import pandas as pd\n",
        "import matplotlib.pyplot as plt\n",
        "from sklearn.preprocessing import MinMaxScaler\n",
        "from keras.models import Sequential\n",
        "from keras.layers import Dense, LSTM"
      ],
      "metadata": {
        "id": "YiC1B_Op7R7C"
      },
      "execution_count": null,
      "outputs": []
    },
    {
      "cell_type": "code",
      "source": [
        "# 2. dùng latent_vectors làm đầu vào cho LSTM\n",
        "df1 = latent_vectors.cpu().detach().numpy()\n"
      ],
      "metadata": {
        "id": "JV5Qd0Md7R7C"
      },
      "execution_count": null,
      "outputs": []
    },
    {
      "cell_type": "code",
      "source": [
        "# 3. Scaler data\n",
        "scaler=MinMaxScaler(feature_range=(0,1))\n",
        "df1=scaler.fit_transform(np.array(df1).reshape(-1,1))"
      ],
      "metadata": {
        "id": "xygsy58y7R7C"
      },
      "execution_count": null,
      "outputs": []
    },
    {
      "cell_type": "code",
      "source": [
        "# 4. Chia train test\n",
        "train_size = int(0.6 * len(df1))\n",
        "test_size = int(0.2 * len(df1))\n",
        "val_size = len(df1) - train_size - test_size\n",
        "\n",
        "train_data = df1[:train_size]\n",
        "test_data = df1[train_size:train_size+test_size]\n",
        "val_data = df1[train_size+test_size:]"
      ],
      "metadata": {
        "id": "8v-4HMdS7R7C"
      },
      "execution_count": null,
      "outputs": []
    },
    {
      "cell_type": "code",
      "source": [
        "# 5. Hàm Create Dataset\n",
        "import numpy\n",
        "# convert an array of values into a dataset matrix\n",
        "def create_dataset(dataset, time_step=1):\n",
        "\tdataX, dataY = [], []\n",
        "\tfor i in range(len(dataset)-time_step-1):\n",
        "\t\ta = dataset[i:(i+time_step), 0]   ###i=0, X=0,1,2,3-----99   Y=100\n",
        "\t\tdataX.append(a)\n",
        "\t\tdataY.append(dataset[i + time_step, 0])\n",
        "\treturn numpy.array(dataX), numpy.array(dataY)"
      ],
      "metadata": {
        "id": "msJT6-1H7R7C"
      },
      "execution_count": null,
      "outputs": []
    },
    {
      "cell_type": "code",
      "source": [
        "#6. Reshape into X=t,t+1,t+2..t+99 and Y=t+100\n",
        "\n",
        "time_step = 1\n",
        "X_train, y_train = create_dataset(train_data, time_step)\n",
        "X_val, yval = create_dataset(val_data, time_step)\n",
        "X_test, ytest = create_dataset(test_data, time_step)"
      ],
      "metadata": {
        "id": "l5VBJaBE7R7C"
      },
      "execution_count": null,
      "outputs": []
    },
    {
      "cell_type": "code",
      "source": [
        "# 7. Reshape input to be [samples, time steps, features] which is required for LSTM\n",
        "X_train =X_train.reshape(X_train.shape[0],X_train.shape[1] , 1)\n",
        "X_test = X_test.reshape(X_test.shape[0],X_test.shape[1] , 1)\n",
        "X_val = X_val.reshape(X_val.shape[0],X_val.shape[1] , 1)"
      ],
      "metadata": {
        "id": "qGN2jSBe7R7C"
      },
      "execution_count": null,
      "outputs": []
    },
    {
      "cell_type": "code",
      "source": [
        "# 8. Define LSTM Model\n",
        "\n",
        "model=Sequential()\n",
        "model.add(LSTM(50,return_sequences=True,input_shape=(1,1)))\n",
        "model.add(LSTM(50,return_sequences=True))\n",
        "model.add(LSTM(50))\n",
        "model.add(Dense(1))\n",
        "model.compile(loss='mean_squared_error',optimizer='adam')"
      ],
      "metadata": {
        "id": "s-GK1lFn7R7C"
      },
      "execution_count": null,
      "outputs": []
    },
    {
      "cell_type": "code",
      "source": [
        "# 9. Fit mô hình với dữ liệu train\n",
        "model.fit(X_train,y_train,validation_data=(X_test,ytest),epochs=50,batch_size=64,verbose=1)"
      ],
      "metadata": {
        "colab": {
          "base_uri": "https://localhost:8080/"
        },
        "outputId": "62d2c77f-13a1-407a-d14b-43e80274693e",
        "id": "dGV5eO2w7R7D"
      },
      "execution_count": null,
      "outputs": [
        {
          "output_type": "stream",
          "name": "stdout",
          "text": [
            "Epoch 1/50\n",
            "20/20 [==============================] - 7s 62ms/step - loss: 0.1128 - val_loss: 0.0132\n",
            "Epoch 2/50\n",
            "20/20 [==============================] - 0s 8ms/step - loss: 0.0441 - val_loss: 0.0278\n",
            "Epoch 3/50\n",
            "20/20 [==============================] - 0s 9ms/step - loss: 0.0054 - val_loss: 0.0527\n",
            "Epoch 4/50\n",
            "20/20 [==============================] - 0s 8ms/step - loss: 0.0038 - val_loss: 0.0434\n",
            "Epoch 5/50\n",
            "20/20 [==============================] - 0s 9ms/step - loss: 0.0035 - val_loss: 0.0456\n",
            "Epoch 6/50\n",
            "20/20 [==============================] - 0s 9ms/step - loss: 0.0035 - val_loss: 0.0444\n",
            "Epoch 7/50\n",
            "20/20 [==============================] - 0s 9ms/step - loss: 0.0034 - val_loss: 0.0426\n",
            "Epoch 8/50\n",
            "20/20 [==============================] - 0s 9ms/step - loss: 0.0033 - val_loss: 0.0411\n",
            "Epoch 9/50\n",
            "20/20 [==============================] - 0s 9ms/step - loss: 0.0032 - val_loss: 0.0396\n",
            "Epoch 10/50\n",
            "20/20 [==============================] - 0s 9ms/step - loss: 0.0031 - val_loss: 0.0359\n",
            "Epoch 11/50\n",
            "20/20 [==============================] - 0s 9ms/step - loss: 0.0030 - val_loss: 0.0342\n",
            "Epoch 12/50\n",
            "20/20 [==============================] - 0s 9ms/step - loss: 0.0028 - val_loss: 0.0332\n",
            "Epoch 13/50\n",
            "20/20 [==============================] - 0s 11ms/step - loss: 0.0027 - val_loss: 0.0290\n",
            "Epoch 14/50\n",
            "20/20 [==============================] - 0s 8ms/step - loss: 0.0025 - val_loss: 0.0264\n",
            "Epoch 15/50\n",
            "20/20 [==============================] - 0s 9ms/step - loss: 0.0023 - val_loss: 0.0221\n",
            "Epoch 16/50\n",
            "20/20 [==============================] - 0s 9ms/step - loss: 0.0022 - val_loss: 0.0197\n",
            "Epoch 17/50\n",
            "20/20 [==============================] - 0s 9ms/step - loss: 0.0020 - val_loss: 0.0166\n",
            "Epoch 18/50\n",
            "20/20 [==============================] - 0s 9ms/step - loss: 0.0019 - val_loss: 0.0148\n",
            "Epoch 19/50\n",
            "20/20 [==============================] - 0s 8ms/step - loss: 0.0018 - val_loss: 0.0134\n",
            "Epoch 20/50\n",
            "20/20 [==============================] - 0s 11ms/step - loss: 0.0018 - val_loss: 0.0122\n",
            "Epoch 21/50\n",
            "20/20 [==============================] - 0s 11ms/step - loss: 0.0018 - val_loss: 0.0117\n",
            "Epoch 22/50\n",
            "20/20 [==============================] - 0s 9ms/step - loss: 0.0018 - val_loss: 0.0111\n",
            "Epoch 23/50\n",
            "20/20 [==============================] - 0s 9ms/step - loss: 0.0018 - val_loss: 0.0110\n",
            "Epoch 24/50\n",
            "20/20 [==============================] - 0s 8ms/step - loss: 0.0018 - val_loss: 0.0106\n",
            "Epoch 25/50\n",
            "20/20 [==============================] - 0s 9ms/step - loss: 0.0018 - val_loss: 0.0105\n",
            "Epoch 26/50\n",
            "20/20 [==============================] - 0s 9ms/step - loss: 0.0018 - val_loss: 0.0098\n",
            "Epoch 27/50\n",
            "20/20 [==============================] - 0s 9ms/step - loss: 0.0018 - val_loss: 0.0108\n",
            "Epoch 28/50\n",
            "20/20 [==============================] - 0s 9ms/step - loss: 0.0018 - val_loss: 0.0108\n",
            "Epoch 29/50\n",
            "20/20 [==============================] - 0s 9ms/step - loss: 0.0018 - val_loss: 0.0107\n",
            "Epoch 30/50\n",
            "20/20 [==============================] - 0s 8ms/step - loss: 0.0018 - val_loss: 0.0107\n",
            "Epoch 31/50\n",
            "20/20 [==============================] - 0s 8ms/step - loss: 0.0018 - val_loss: 0.0104\n",
            "Epoch 32/50\n",
            "20/20 [==============================] - 0s 8ms/step - loss: 0.0018 - val_loss: 0.0106\n",
            "Epoch 33/50\n",
            "20/20 [==============================] - 0s 9ms/step - loss: 0.0018 - val_loss: 0.0108\n",
            "Epoch 34/50\n",
            "20/20 [==============================] - 0s 9ms/step - loss: 0.0018 - val_loss: 0.0108\n",
            "Epoch 35/50\n",
            "20/20 [==============================] - 0s 8ms/step - loss: 0.0018 - val_loss: 0.0108\n",
            "Epoch 36/50\n",
            "20/20 [==============================] - 0s 9ms/step - loss: 0.0018 - val_loss: 0.0106\n",
            "Epoch 37/50\n",
            "20/20 [==============================] - 0s 13ms/step - loss: 0.0018 - val_loss: 0.0109\n",
            "Epoch 38/50\n",
            "20/20 [==============================] - 0s 13ms/step - loss: 0.0018 - val_loss: 0.0109\n",
            "Epoch 39/50\n",
            "20/20 [==============================] - 0s 11ms/step - loss: 0.0018 - val_loss: 0.0111\n",
            "Epoch 40/50\n",
            "20/20 [==============================] - 0s 14ms/step - loss: 0.0018 - val_loss: 0.0118\n",
            "Epoch 41/50\n",
            "20/20 [==============================] - 0s 13ms/step - loss: 0.0018 - val_loss: 0.0108\n",
            "Epoch 42/50\n",
            "20/20 [==============================] - 0s 12ms/step - loss: 0.0018 - val_loss: 0.0110\n",
            "Epoch 43/50\n",
            "20/20 [==============================] - 0s 13ms/step - loss: 0.0018 - val_loss: 0.0110\n",
            "Epoch 44/50\n",
            "20/20 [==============================] - 0s 14ms/step - loss: 0.0018 - val_loss: 0.0113\n",
            "Epoch 45/50\n",
            "20/20 [==============================] - 0s 14ms/step - loss: 0.0018 - val_loss: 0.0112\n",
            "Epoch 46/50\n",
            "20/20 [==============================] - 0s 12ms/step - loss: 0.0018 - val_loss: 0.0109\n",
            "Epoch 47/50\n",
            "20/20 [==============================] - 0s 14ms/step - loss: 0.0018 - val_loss: 0.0118\n",
            "Epoch 48/50\n",
            "20/20 [==============================] - 0s 14ms/step - loss: 0.0018 - val_loss: 0.0108\n",
            "Epoch 49/50\n",
            "20/20 [==============================] - 0s 9ms/step - loss: 0.0018 - val_loss: 0.0117\n",
            "Epoch 50/50\n",
            "20/20 [==============================] - 0s 9ms/step - loss: 0.0018 - val_loss: 0.0110\n"
          ]
        },
        {
          "output_type": "execute_result",
          "data": {
            "text/plain": [
              "<keras.callbacks.History at 0x7f9ad43698d0>"
            ]
          },
          "metadata": {},
          "execution_count": 462
        }
      ]
    },
    {
      "cell_type": "code",
      "source": [
        "#Doc lai du lieu\n",
        "\n",
        "# 2. Đọc file csv và gắng index với giá Close\n",
        "df1 = dataset.reset_index()['Price']\n",
        "\n",
        "# 3. Scaler data\n",
        "scaler=MinMaxScaler(feature_range=(0,1))\n",
        "df1=scaler.fit_transform(np.array(df1).reshape(-1,1))\n",
        "\n",
        "# 4. Chia train test\n",
        "train_size = int(0.6 * len(df1))\n",
        "test_size = int(0.2 * len(df1))\n",
        "val_size = len(df1) - train_size - test_size\n",
        "\n",
        "train_data = df1[:train_size]\n",
        "test_data = df1[train_size:train_size+test_size]\n",
        "val_data = df1[train_size+test_size:]\n",
        "\n",
        "#6. Reshape into X=t,t+1,t+2..t+99 and Y=t+100\n",
        "\n",
        "time_step = 1\n",
        "X_train, y_train = create_dataset(train_data, time_step)\n",
        "X_val, yval = create_dataset(val_data, time_step)\n",
        "X_test, ytest = create_dataset(test_data, time_step)\n",
        "\n",
        "# 7. Reshape input to be [samples, time steps, features] which is required for LSTM\n",
        "X_train =X_train.reshape(X_train.shape[0],X_train.shape[1] , 1)\n",
        "X_test = X_test.reshape(X_test.shape[0],X_test.shape[1] , 1)\n",
        "X_val = X_val.reshape(X_val.shape[0],X_val.shape[1] , 1)\n"
      ],
      "metadata": {
        "id": "lT4XQPlt7R7D"
      },
      "execution_count": null,
      "outputs": []
    },
    {
      "cell_type": "code",
      "source": [
        "# 10. Dự báo dữ liệu test, val\n",
        "train_predict=model.predict(X_train)\n",
        "y_pred=model.predict(X_test)\n",
        "y_pred_val=model.predict(X_val)"
      ],
      "metadata": {
        "colab": {
          "base_uri": "https://localhost:8080/"
        },
        "outputId": "28fd6ec6-b62e-4cf3-fa4b-4759af587905",
        "id": "D7RaItfx7R7D"
      },
      "execution_count": null,
      "outputs": [
        {
          "output_type": "stream",
          "name": "stdout",
          "text": [
            "40/40 [==============================] - 1s 3ms/step\n",
            "14/14 [==============================] - 0s 3ms/step\n",
            "14/14 [==============================] - 0s 3ms/step\n"
          ]
        }
      ]
    },
    {
      "cell_type": "code",
      "source": [
        "# 11. Chuẩn hóa dữ liệu y_pred, y_pred_val\n",
        "train_predict=scaler.inverse_transform(train_predict)\n",
        "y_pred=scaler.inverse_transform(y_pred)\n",
        "y_pred_val=scaler.inverse_transform(y_pred_val)\n",
        "ytest = scaler.inverse_transform(ytest.reshape(-1,1))\n",
        "yval = scaler.inverse_transform(yval.reshape(-1,1))"
      ],
      "metadata": {
        "id": "t3m_7c8J7R7D"
      },
      "execution_count": null,
      "outputs": []
    },
    {
      "cell_type": "markdown",
      "source": [
        "## **Đánh giá**"
      ],
      "metadata": {
        "id": "DwucBx6x7R7D"
      }
    },
    {
      "cell_type": "code",
      "source": [
        "# 12. Đánh giá độ chính xác thuật toán bằng RMSE\n",
        "valid_rmse = np.sqrt(np.mean((y_pred_val - yval)**2))\n",
        "test_rmse = np.sqrt(np.mean((y_pred - ytest)**2))\n",
        "test_mae = np.mean(np.abs(y_pred - ytest))\n",
        "valid_mae = np.mean(np.abs(y_pred_val - yval))\n",
        "test_mape = np.mean(np.abs((ytest - y_pred) / ytest)) * 100\n",
        "valid_mape = np.mean(np.abs((yval - y_pred_val) / np.where(yval != 0, yval, 1))) * 100\n",
        "\n",
        "print('Validation RMSE:', valid_rmse)\n",
        "print('Testing RMSE:', test_rmse)\n",
        "print('Testing MAE:', test_mae)\n",
        "print('Validation MAE:', valid_mae)\n",
        "print('Testing MAPE:', test_mape)\n",
        "print('Validation MAPE:', valid_mape)"
      ],
      "metadata": {
        "colab": {
          "base_uri": "https://localhost:8080/"
        },
        "outputId": "6eaa5a49-b3ca-4c68-dd12-116e8b569240",
        "id": "51itlX3-7R7D"
      },
      "execution_count": null,
      "outputs": [
        {
          "output_type": "stream",
          "name": "stdout",
          "text": [
            "Validation RMSE: 0.382459268077301\n",
            "Testing RMSE: 0.6263239572632049\n",
            "Testing MAE: 0.4272109810849454\n",
            "Validation MAE: 0.31409084885541155\n",
            "Testing MAPE: 3.8795289642060196\n",
            "Validation MAPE: 2.655388727557074\n"
          ]
        }
      ]
    },
    {
      "cell_type": "code",
      "source": [
        "# 13. Dự báo 30 ngày tiếp theo\n",
        "x_input=val_data[426:].reshape(1,-1)\n",
        "x_input.shape\n",
        "\n",
        "temp_input=list(x_input)\n",
        "temp_input=temp_input[0].tolist()\n",
        "\n",
        "from numpy import array\n",
        "\n",
        "lst_output=[]\n",
        "n_steps=1\n",
        "i=0\n",
        "while(i<30):\n",
        "    # print(len(temp_input))\n",
        "    if(len(temp_input)>1):\n",
        "        #print(temp_input)\n",
        "        x_input=np.array(temp_input[1:])\n",
        "        # print(\"{} day input {}\".format(i,x_input))\n",
        "        x_input=x_input.reshape(1,-1)\n",
        "        x_input = x_input.reshape((1, n_steps, 1))\n",
        "        #print(x_input)\n",
        "        yhat = model.predict(x_input, verbose=0)\n",
        "        # print(\"{} day output {}\".format(i,yhat))\n",
        "        temp_input.extend(yhat[0].tolist())\n",
        "        temp_input=temp_input[1:]\n",
        "        #print(temp_input)\n",
        "        lst_output.extend(yhat.tolist())\n",
        "        i=i+1\n",
        "    else:\n",
        "        x_input = x_input.reshape((1, n_steps,1))\n",
        "        yhat = model.predict(x_input, verbose=0)\n",
        "        # print(yhat[0])\n",
        "        temp_input.extend(yhat[0].tolist())\n",
        "        # print(len(temp_input))\n",
        "        lst_output.extend(yhat.tolist())\n",
        "        i=i+1"
      ],
      "metadata": {
        "id": "vm0COUaK7R7D"
      },
      "execution_count": null,
      "outputs": []
    },
    {
      "cell_type": "markdown",
      "source": [
        "## **kẾT QUẢ**"
      ],
      "metadata": {
        "id": "Mt9hLssj7R7E"
      }
    },
    {
      "cell_type": "code",
      "source": [
        "# 14.Vẽ hình\n",
        "\n",
        "train_data_index = pd.RangeIndex(start=0, stop=train_size, step=1)\n",
        "plt.plot(scaler.inverse_transform(train_data))\n",
        "test_data_index = pd.RangeIndex(start=train_size, stop=train_size+test_size, step=1)\n",
        "plt.plot(test_data_index,scaler.inverse_transform(test_data))\n",
        "test_data_index = pd.RangeIndex(start=train_size+2, stop=train_size+test_size, step=1)\n",
        "plt.plot(test_data_index,(y_pred))\n",
        "val_data_index = pd.RangeIndex(start=train_size+test_size, stop=train_size+test_size+val_size, step=1)\n",
        "plt.plot(val_data_index,scaler.inverse_transform(val_data))\n",
        "val_data_index = pd.RangeIndex(start=train_size+test_size+2, stop=train_size+test_size+val_size, step=1)\n",
        "plt.plot(val_data_index,y_pred_val)\n",
        "prediect_data_index = pd.RangeIndex(start=len(df1)-1, stop=len(df1)+29, step=1)\n",
        "plt.plot(prediect_data_index,scaler.inverse_transform(lst_output))\n",
        "plt.legend(['Train','Test','Predict','Validate','ValidatePred','Predict30days'])\n",
        "plt.show()"
      ],
      "metadata": {
        "colab": {
          "base_uri": "https://localhost:8080/",
          "height": 430
        },
        "outputId": "b830151b-fc58-403d-c1d3-d6515af82aca",
        "id": "-Go-al1f7R7E"
      },
      "execution_count": null,
      "outputs": [
        {
          "output_type": "display_data",
          "data": {
            "text/plain": [
              "<Figure size 640x480 with 1 Axes>"
            ],
            "image/png": "[encoded data removed]"
          },
          "metadata": {}
        }
      ]
    },
    {
      "cell_type": "markdown",
      "source": [
        "# **ARE 6:2:2**"
      ],
      "metadata": {
        "id": "yXw1UaEJ7R7J"
      }
    },
    {
      "cell_type": "markdown",
      "source": [
        "## **Thuật toán AAE**\n"
      ],
      "metadata": {
        "id": "kDRPoJy87R7J"
      }
    },
    {
      "cell_type": "code",
      "execution_count": 1890,
      "metadata": {
        "colab": {
          "base_uri": "https://localhost:8080/"
        },
        "outputId": "fde50fe8-af5e-4a1a-9ace-8384c7f04c01",
        "id": "LgMqRpyh7R7J"
      },
      "outputs": [
        {
          "output_type": "stream",
          "name": "stdout",
          "text": [
            "Drive already mounted at /content/drive; to attempt to forcibly remount, call drive.mount(\"/content/drive\", force_remount=True).\n"
          ]
        }
      ],
      "source": [
        "from google.colab import drive\n",
        "drive.mount('/content/drive')"
      ]
    },
    {
      "cell_type": "code",
      "source": [
        "import pandas as pd\n",
        "import numpy as np\n",
        "import math\n",
        "import itertools\n",
        "\n",
        "import torchvision.transforms as transforms\n",
        "from torchvision.utils import save_image\n",
        "\n",
        "from torch.utils.data import DataLoader\n",
        "from torchvision import datasets\n",
        "from torch.autograd import Variable\n",
        "\n",
        "import torch.nn as nn\n",
        "import torch.nn.functional as F\n",
        "import torch"
      ],
      "metadata": {
        "id": "k9oBtKRs7R7J"
      },
      "execution_count": 1891,
      "outputs": []
    },
    {
      "cell_type": "code",
      "source": [
        "fileName = '/content/ARE-Historical-Data.csv'\n",
        "dataset = pd.read_csv(fileName)\n",
        "dataset = dataset.iloc[::-1]\n"
      ],
      "metadata": {
        "id": "qOSm68pk7R7J"
      },
      "execution_count": 1892,
      "outputs": []
    },
    {
      "cell_type": "code",
      "source": [
        "dataset.head()"
      ],
      "metadata": {
        "colab": {
          "base_uri": "https://localhost:8080/",
          "height": 206
        },
        "outputId": "73bf6490-2319-4fe9-dd83-bbfad488c2c6",
        "id": "wtUxwkzN7R7J"
      },
      "execution_count": 1893,
      "outputs": [
        {
          "output_type": "execute_result",
          "data": {
            "text/plain": [
              "            Date  Price   Open   High    Low     Vol. Change %\n",
              "2128  01/02/2015  89.79  89.11  89.88  88.54  277.62K    1.18%\n",
              "2127  01/05/2015  90.87  89.31  91.17  89.15  359.76K    1.20%\n",
              "2126  01/06/2015  91.33  90.65  91.56  90.25    1.33M    0.51%\n",
              "2125  01/07/2015  92.57  91.55  92.57  90.69  543.40K    1.36%\n",
              "2124  01/08/2015  93.63  92.57  93.85  92.43  718.78K    1.15%"
            ],
            "text/html": [
              "\n",
              "  <div id=\"df-65158abd-94d1-4484-bfc6-8a36f61d799b\">\n",
              "    <div class=\"colab-df-container\">\n",
              "      <div>\n",
              "<style scoped>\n",
              "    .dataframe tbody tr th:only-of-type {\n",
              "        vertical-align: middle;\n",
              "    }\n",
              "\n",
              "    .dataframe tbody tr th {\n",
              "        vertical-align: top;\n",
              "    }\n",
              "\n",
              "    .dataframe thead th {\n",
              "        text-align: right;\n",
              "    }\n",
              "</style>\n",
              "<table border=\"1\" class=\"dataframe\">\n",
              "  <thead>\n",
              "    <tr style=\"text-align: right;\">\n",
              "      <th></th>\n",
              "      <th>Date</th>\n",
              "      <th>Price</th>\n",
              "      <th>Open</th>\n",
              "      <th>High</th>\n",
              "      <th>Low</th>\n",
              "      <th>Vol.</th>\n",
              "      <th>Change %</th>\n",
              "    </tr>\n",
              "  </thead>\n",
              "  <tbody>\n",
              "    <tr>\n",
              "      <th>2128</th>\n",
              "      <td>01/02/2015</td>\n",
              "      <td>89.79</td>\n",
              "      <td>89.11</td>\n",
              "      <td>89.88</td>\n",
              "      <td>88.54</td>\n",
              "      <td>277.62K</td>\n",
              "      <td>1.18%</td>\n",
              "    </tr>\n",
              "    <tr>\n",
              "      <th>2127</th>\n",
              "      <td>01/05/2015</td>\n",
              "      <td>90.87</td>\n",
              "      <td>89.31</td>\n",
              "      <td>91.17</td>\n",
              "      <td>89.15</td>\n",
              "      <td>359.76K</td>\n",
              "      <td>1.20%</td>\n",
              "    </tr>\n",
              "    <tr>\n",
              "      <th>2126</th>\n",
              "      <td>01/06/2015</td>\n",
              "      <td>91.33</td>\n",
              "      <td>90.65</td>\n",
              "      <td>91.56</td>\n",
              "      <td>90.25</td>\n",
              "      <td>1.33M</td>\n",
              "      <td>0.51%</td>\n",
              "    </tr>\n",
              "    <tr>\n",
              "      <th>2125</th>\n",
              "      <td>01/07/2015</td>\n",
              "      <td>92.57</td>\n",
              "      <td>91.55</td>\n",
              "      <td>92.57</td>\n",
              "      <td>90.69</td>\n",
              "      <td>543.40K</td>\n",
              "      <td>1.36%</td>\n",
              "    </tr>\n",
              "    <tr>\n",
              "      <th>2124</th>\n",
              "      <td>01/08/2015</td>\n",
              "      <td>93.63</td>\n",
              "      <td>92.57</td>\n",
              "      <td>93.85</td>\n",
              "      <td>92.43</td>\n",
              "      <td>718.78K</td>\n",
              "      <td>1.15%</td>\n",
              "    </tr>\n",
              "  </tbody>\n",
              "</table>\n",
              "</div>\n",
              "      <button class=\"colab-df-convert\" onclick=\"convertToInteractive('df-65158abd-94d1-4484-bfc6-8a36f61d799b')\"\n",
              "              title=\"Convert this dataframe to an interactive table.\"\n",
              "              style=\"display:none;\">\n",
              "        \n",
              "  <svg xmlns=\"http://www.w3.org/2000/svg\" height=\"24px\"viewBox=\"0 0 24 24\"\n",
              "       width=\"24px\">\n",
              "    <path d=\"M0 0h24v24H0V0z\" fill=\"none\"/>\n",
              "    <path d=\"M18.56 5.44l.94 2.06.94-2.06 2.06-.94-2.06-.94-.94-2.06-.94 2.06-2.06.94zm-11 1L8.5 8.5l.94-2.06 2.06-.94-2.06-.94L8.5 2.5l-.94 2.06-2.06.94zm10 10l.94 2.06.94-2.06 2.06-.94-2.06-.94-.94-2.06-.94 2.06-2.06.94z\"/><path d=\"M17.41 7.96l-1.37-1.37c-.4-.4-.92-.59-1.43-.59-.52 0-1.04.2-1.43.59L10.3 9.45l-7.72 7.72c-.78.78-.78 2.05 0 2.83L4 21.41c.39.39.9.59 1.41.59.51 0 1.02-.2 1.41-.59l7.78-7.78 2.81-2.81c.8-.78.8-2.07 0-2.86zM5.41 20L4 18.59l7.72-7.72 1.47 1.35L5.41 20z\"/>\n",
              "  </svg>\n",
              "      </button>\n",
              "      \n",
              "  <style>\n",
              "    .colab-df-container {\n",
              "      display:flex;\n",
              "      flex-wrap:wrap;\n",
              "      gap: 12px;\n",
              "    }\n",
              "\n",
              "    .colab-df-convert {\n",
              "      background-color: #E8F0FE;\n",
              "      border: none;\n",
              "      border-radius: 50%;\n",
              "      cursor: pointer;\n",
              "      display: none;\n",
              "      fill: #1967D2;\n",
              "      height: 32px;\n",
              "      padding: 0 0 0 0;\n",
              "      width: 32px;\n",
              "    }\n",
              "\n",
              "    .colab-df-convert:hover {\n",
              "      background-color: #E2EBFA;\n",
              "      box-shadow: 0px 1px 2px rgba(60, 64, 67, 0.3), 0px 1px 3px 1px rgba(60, 64, 67, 0.15);\n",
              "      fill: #174EA6;\n",
              "    }\n",
              "\n",
              "    [theme=dark] .colab-df-convert {\n",
              "      background-color: #3B4455;\n",
              "      fill: #D2E3FC;\n",
              "    }\n",
              "\n",
              "    [theme=dark] .colab-df-convert:hover {\n",
              "      background-color: #434B5C;\n",
              "      box-shadow: 0px 1px 3px 1px rgba(0, 0, 0, 0.15);\n",
              "      filter: drop-shadow(0px 1px 2px rgba(0, 0, 0, 0.3));\n",
              "      fill: #FFFFFF;\n",
              "    }\n",
              "  </style>\n",
              "\n",
              "      <script>\n",
              "        const buttonEl =\n",
              "          document.querySelector('#df-65158abd-94d1-4484-bfc6-8a36f61d799b button.colab-df-convert');\n",
              "        buttonEl.style.display =\n",
              "          google.colab.kernel.accessAllowed ? 'block' : 'none';\n",
              "\n",
              "        async function convertToInteractive(key) {\n",
              "          const element = document.querySelector('#df-65158abd-94d1-4484-bfc6-8a36f61d799b');\n",
              "          const dataTable =\n",
              "            await google.colab.kernel.invokeFunction('convertToInteractive',\n",
              "                                                     [key], {});\n",
              "          if (!dataTable) return;\n",
              "\n",
              "          const docLinkHtml = 'Like what you see? Visit the ' +\n",
              "            '<a target=\"_blank\" href=https://colab.research.google.com/notebooks/data_table.ipynb>data table notebook</a>'\n",
              "            + ' to learn more about interactive tables.';\n",
              "          element.innerHTML = '';\n",
              "          dataTable['output_type'] = 'display_data';\n",
              "          await google.colab.output.renderOutput(dataTable, element);\n",
              "          const docLink = document.createElement('div');\n",
              "          docLink.innerHTML = docLinkHtml;\n",
              "          element.appendChild(docLink);\n",
              "        }\n",
              "      </script>\n",
              "    </div>\n",
              "  </div>\n",
              "  "
            ]
          },
          "metadata": {},
          "execution_count": 1893
        }
      ]
    },
    {
      "cell_type": "code",
      "source": [
        "# Chuyển đổi hàm để xử lý chuỗi 'Vol.'\n",
        "def convert_vol(value):\n",
        "    if 'K' in value:\n",
        "        # Loại bỏ ký tự 'K' và chuyển đổi thành giá trị số\n",
        "        return float(value.replace('K', '')) * 1000\n",
        "    elif 'M' in value:\n",
        "        # Loại bỏ ký tự 'M' và chuyển đổi thành giá trị số\n",
        "        return float(value.replace('M', '')) * 1000000\n",
        "    else:\n",
        "        # Trường hợp không có đơn vị, giữ nguyên giá trị\n",
        "        return float(value)\n",
        "\n",
        "# Áp dụng hàm chuyển đổi vào cột 'Vol.' của dataset\n",
        "dataset['Vol.'] = dataset['Vol.'].apply(convert_vol)"
      ],
      "metadata": {
        "id": "bZTMqhmz7R7K"
      },
      "execution_count": 1894,
      "outputs": []
    },
    {
      "cell_type": "code",
      "source": [
        "# Chuyển đổi hàm để xử lý chuỗi 'Change %'\n",
        "def convert_change(value):\n",
        "    # Loại bỏ ký tự '%' và chuyển đổi thành giá trị số\n",
        "    return float(value.replace('%', ''))\n",
        "\n",
        "# Áp dụng hàm chuyển đổi bằng phương pháp map\n",
        "dataset['Change %'] = dataset['Change %'].map(convert_change)\n"
      ],
      "metadata": {
        "id": "IfpNIS2Y7R7K"
      },
      "execution_count": 1895,
      "outputs": []
    },
    {
      "cell_type": "code",
      "source": [
        "data_transform = dataset.drop('Date', axis=1)\n",
        "# data_transform = data_transform.drop('Open', axis=1)\n",
        "data_transform = data_transform.drop('Vol.', axis=1)\n",
        "# data_transform = data_transform.drop('Change %', axis=1)\n",
        "data_transform = data_transform.drop('Low', axis=1)\n",
        "# data_transform = data_transform.drop('High', axis=1)\n"
      ],
      "metadata": {
        "id": "xRa-MZHV7R7K"
      },
      "execution_count": 1896,
      "outputs": []
    },
    {
      "cell_type": "code",
      "source": [
        "from sklearn.preprocessing import MinMaxScaler\n",
        "scaler = MinMaxScaler(feature_range=(0,1))"
      ],
      "metadata": {
        "id": "6iYJvTje7R7K"
      },
      "execution_count": 1897,
      "outputs": []
    },
    {
      "cell_type": "code",
      "source": [
        "data_transform=scaler.fit_transform(np.array(data_transform))"
      ],
      "metadata": {
        "id": "oHQZnDMI7R7K"
      },
      "execution_count": 1898,
      "outputs": []
    },
    {
      "cell_type": "code",
      "source": [
        "import numpy as np\n",
        "import torch\n",
        "import torch.nn as nn\n",
        "import torch.optim as optim\n",
        "from torch.utils.data import DataLoader, TensorDataset\n",
        "from torchvision import datasets\n",
        "from torch.autograd import Variable\n",
        "import torch.nn.functional as F\n",
        "import random\n",
        "import tensorflow as tf\n",
        "\n",
        "# dùng 'gpu'.\n",
        "device = 'cuda' if torch.cuda.is_available() else 'cpu'\n",
        "Tensor = torch.cuda.FloatTensor if torch.cuda.is_available() else torch.FloatTensor\n",
        "\n",
        "# số chiều không gian tiềm ẩn\n",
        "latent_dim = 1\n",
        "\n",
        "# số chiều vector đầu vào.\n",
        "embedding = 4\n",
        "\n",
        "# sampling từ trung bình và độ lệch chuẩn.\n",
        "def reparameterization(mu, logvar):\n",
        "    std = torch.exp(logvar / 2)\n",
        "    sampled_z = Variable(torch.randn((mu.size(0), latent_dim))).to(device)\n",
        "    z = sampled_z * std + mu\n",
        "    return z\n",
        "\n",
        "class Encoder(nn.Module):\n",
        "    def __init__(self, embedding):\n",
        "        super(Encoder, self).__init__()\n",
        "\n",
        "        self.model = nn.Sequential(\n",
        "            nn.Linear(embedding, 512),\n",
        "            nn.LeakyReLU(0.2, inplace=True),\n",
        "            nn.Linear(512, 512),\n",
        "            nn.BatchNorm1d(512),\n",
        "            nn.LeakyReLU(0.2, inplace=True),\n",
        "        )\n",
        "\n",
        "        self.mu = nn.Linear(512, latent_dim)\n",
        "        self.logvar = nn.Linear(512, latent_dim)\n",
        "\n",
        "    def forward(self, img):\n",
        "        img_flat = img.view(img.shape[0], -1)\n",
        "        x = self.model(img_flat)\n",
        "        mu = self.mu(x)\n",
        "        logvar = self.logvar(x)\n",
        "        z = reparameterization(mu, logvar)\n",
        "        return z\n",
        "\n",
        "\n",
        "class Decoder(nn.Module):\n",
        "    def __init__(self, embedding):\n",
        "        super(Decoder, self).__init__()\n",
        "\n",
        "        self.model = nn.Sequential(\n",
        "            nn.Linear(latent_dim, 512),\n",
        "            nn.LeakyReLU(0.2, inplace=True),\n",
        "            nn.Linear(512, 512),\n",
        "            nn.BatchNorm1d(512),\n",
        "            nn.LeakyReLU(0.2, inplace=True),\n",
        "            nn.Linear(512, embedding),\n",
        "            nn.Tanh(),\n",
        "        )\n",
        "\n",
        "    def forward(self, z):\n",
        "        img_flat = self.model(z)\n",
        "        img = img_flat.view(img_flat.shape[0], -1)\n",
        "        return img\n",
        "\n",
        "\n",
        "class Discriminator(nn.Module):\n",
        "    def __init__(self):\n",
        "        super(Discriminator, self).__init__()\n",
        "\n",
        "        self.model = nn.Sequential(\n",
        "            nn.Linear(latent_dim, 512),\n",
        "            nn.LeakyReLU(0.2, inplace=True),\n",
        "            nn.Linear(512, 256),\n",
        "            nn.LeakyReLU(0.2, inplace=True),\n",
        "            nn.Linear(256, 1),\n",
        "            nn.Sigmoid(),\n",
        "        )\n",
        "\n",
        "    def forward(self, z):\n",
        "        validity = self.model(z)\n",
        "        return validity\n",
        "\n",
        "\n"
      ],
      "metadata": {
        "id": "liC0UMr77R7K"
      },
      "execution_count": 1899,
      "outputs": []
    },
    {
      "cell_type": "code",
      "source": [
        "batch_size=512\n",
        "n_epochs=50"
      ],
      "metadata": {
        "id": "Kss471z57R7K"
      },
      "execution_count": 1900,
      "outputs": []
    },
    {
      "cell_type": "code",
      "source": [
        "# Chuẩn bị dữ liệu huấn luyện (torch dùng đc gpu, numpy -> cpu)\n",
        "tensor_data = torch.from_numpy(data_transform).float()  # Chuyển đổi thành Tensor và kiểu dữ liệu float\n",
        "\n",
        "# Tạo DataLoader\n",
        "data_loader = DataLoader(tensor_data, batch_size=batch_size, shuffle=False)"
      ],
      "metadata": {
        "id": "anTEmSbU7R7K"
      },
      "execution_count": 1901,
      "outputs": []
    },
    {
      "cell_type": "code",
      "source": [
        "# Use binary cross-entropy loss\n",
        "adversarial_loss = torch.nn.BCELoss().to(device)\n",
        "pixelwise_loss = torch.nn.L1Loss().to(device)\n",
        "\n",
        "# Initialize generator and discriminator\n",
        "encoder = Encoder(embedding).to(device)\n",
        "decoder = Decoder(embedding).to(device)\n",
        "discriminator = Discriminator().to(device)\n"
      ],
      "metadata": {
        "id": "H15xFluR7R7L"
      },
      "execution_count": 1902,
      "outputs": []
    },
    {
      "cell_type": "code",
      "source": [
        "# Optimizers\n",
        "optimizer_G = torch.optim.Adam(\n",
        "    itertools.chain(encoder.parameters(), decoder.parameters()), lr=0.0005\n",
        ")\n",
        "optimizer_D = torch.optim.Adam(discriminator.parameters(), lr=0.00005)"
      ],
      "metadata": {
        "id": "s_KdgW5e7R7L"
      },
      "execution_count": 1903,
      "outputs": []
    },
    {
      "cell_type": "code",
      "source": [
        "import random\n",
        "import numpy as np\n",
        "import tensorflow as tf\n",
        "\n",
        "# Khởi tạo list để lưu loss\n",
        "d_losses = []\n",
        "g_losses = []\n",
        "\n",
        "for epoch in range(n_epochs):\n",
        "    for i, imgs in enumerate(data_loader):\n",
        "\n",
        "        # Adversarial ground truths\n",
        "        valid = Variable(Tensor(imgs.shape[0], 1).fill_(1.0), requires_grad=False)\n",
        "        fake = Variable(Tensor(imgs.shape[0], 1).fill_(0.0), requires_grad=False)\n",
        "\n",
        "        # Configure input\n",
        "        real_imgs = Variable(imgs.type(Tensor)).to(device)\n",
        "\n",
        "        # -----------------\n",
        "        #  Train Generator\n",
        "        # -----------------\n",
        "\n",
        "        optimizer_G.zero_grad()\n",
        "        # print(real_imgs.shape)\n",
        "        encoded_imgs = encoder(real_imgs)\n",
        "        decoded_imgs = decoder(encoded_imgs)\n",
        "\n",
        "        # Loss measures generator's ability to fool the discriminator\n",
        "        g_loss = 0.001 * adversarial_loss(discriminator(encoded_imgs), valid) + 0.999 * pixelwise_loss(\n",
        "            decoded_imgs, real_imgs\n",
        "        )\n",
        "\n",
        "        g_loss.backward()\n",
        "        optimizer_G.step()\n",
        "\n",
        "        # ---------------------\n",
        "        #  Train Discriminator\n",
        "        # ---------------------\n",
        "\n",
        "        optimizer_D.zero_grad()\n",
        "\n",
        "        # Sample noise as discriminator ground truth\n",
        "        z = Variable(Tensor(np.random.normal(0, 1, (real_imgs.shape[0], latent_dim))))\n",
        "\n",
        "        # Measure discriminator's ability to classify real from generated samples\n",
        "        real_loss = adversarial_loss(discriminator(z), valid)\n",
        "        fake_loss = adversarial_loss(discriminator(encoded_imgs.detach()), fake)\n",
        "        d_loss = 0.5 * (real_loss + fake_loss)\n",
        "\n",
        "        d_loss.backward()\n",
        "        optimizer_D.step()\n",
        "\n",
        "        d_losses.append(d_loss.item())\n",
        "        g_losses.append(g_loss.item())\n",
        "\n",
        "        if (epoch + 1) % 5 == 0:\n",
        "          print(\n",
        "              \"[Epoch %d/%d] [Batch %d/%d] [D loss: %f] [G loss: %f]\"\n",
        "              % (epoch, n_epochs, i, len(data_loader), d_loss.item(), g_loss.item())\n",
        "          )"
      ],
      "metadata": {
        "colab": {
          "base_uri": "https://localhost:8080/"
        },
        "outputId": "3096f947-28a1-4b1c-e12a-5bf85cba3dfa",
        "id": "ZEazsNHQ7R7L"
      },
      "execution_count": 1904,
      "outputs": [
        {
          "output_type": "stream",
          "name": "stdout",
          "text": [
            "[Epoch 4/50] [Batch 0/5] [D loss: 0.648370] [G loss: 0.171625]\n",
            "[Epoch 4/50] [Batch 1/5] [D loss: 0.631796] [G loss: 0.105395]\n",
            "[Epoch 4/50] [Batch 2/5] [D loss: 0.637421] [G loss: 0.107772]\n",
            "[Epoch 4/50] [Batch 3/5] [D loss: 0.618283] [G loss: 0.142547]\n",
            "[Epoch 4/50] [Batch 4/5] [D loss: 0.650845] [G loss: 0.081581]\n",
            "[Epoch 9/50] [Batch 0/5] [D loss: 0.614487] [G loss: 0.117618]\n",
            "[Epoch 9/50] [Batch 1/5] [D loss: 0.590858] [G loss: 0.108956]\n",
            "[Epoch 9/50] [Batch 2/5] [D loss: 0.555192] [G loss: 0.114140]\n",
            "[Epoch 9/50] [Batch 3/5] [D loss: 0.549742] [G loss: 0.092619]\n",
            "[Epoch 9/50] [Batch 4/5] [D loss: 0.629552] [G loss: 0.085013]\n",
            "[Epoch 14/50] [Batch 0/5] [D loss: 0.620113] [G loss: 0.134530]\n",
            "[Epoch 14/50] [Batch 1/5] [D loss: 0.598548] [G loss: 0.099031]\n",
            "[Epoch 14/50] [Batch 2/5] [D loss: 0.562913] [G loss: 0.080471]\n",
            "[Epoch 14/50] [Batch 3/5] [D loss: 0.502876] [G loss: 0.151586]\n",
            "[Epoch 14/50] [Batch 4/5] [D loss: 0.618096] [G loss: 0.078569]\n",
            "[Epoch 19/50] [Batch 0/5] [D loss: 0.645010] [G loss: 0.119800]\n",
            "[Epoch 19/50] [Batch 1/5] [D loss: 0.654467] [G loss: 0.050480]\n",
            "[Epoch 19/50] [Batch 2/5] [D loss: 0.566331] [G loss: 0.075438]\n",
            "[Epoch 19/50] [Batch 3/5] [D loss: 0.515696] [G loss: 0.099483]\n",
            "[Epoch 19/50] [Batch 4/5] [D loss: 0.649332] [G loss: 0.066649]\n",
            "[Epoch 24/50] [Batch 0/5] [D loss: 0.628371] [G loss: 0.150580]\n",
            "[Epoch 24/50] [Batch 1/5] [D loss: 0.615519] [G loss: 0.058986]\n",
            "[Epoch 24/50] [Batch 2/5] [D loss: 0.558291] [G loss: 0.077531]\n",
            "[Epoch 24/50] [Batch 3/5] [D loss: 0.487969] [G loss: 0.103786]\n",
            "[Epoch 24/50] [Batch 4/5] [D loss: 0.642708] [G loss: 0.083261]\n",
            "[Epoch 29/50] [Batch 0/5] [D loss: 0.681057] [G loss: 0.101448]\n",
            "[Epoch 29/50] [Batch 1/5] [D loss: 0.639620] [G loss: 0.073123]\n",
            "[Epoch 29/50] [Batch 2/5] [D loss: 0.582013] [G loss: 0.063524]\n",
            "[Epoch 29/50] [Batch 3/5] [D loss: 0.490078] [G loss: 0.084015]\n",
            "[Epoch 29/50] [Batch 4/5] [D loss: 0.639243] [G loss: 0.094247]\n",
            "[Epoch 34/50] [Batch 0/5] [D loss: 0.643637] [G loss: 0.130100]\n",
            "[Epoch 34/50] [Batch 1/5] [D loss: 0.633293] [G loss: 0.115243]\n",
            "[Epoch 34/50] [Batch 2/5] [D loss: 0.532761] [G loss: 0.076712]\n",
            "[Epoch 34/50] [Batch 3/5] [D loss: 0.492688] [G loss: 0.091054]\n",
            "[Epoch 34/50] [Batch 4/5] [D loss: 0.599211] [G loss: 0.066733]\n",
            "[Epoch 39/50] [Batch 0/5] [D loss: 0.637879] [G loss: 0.118838]\n",
            "[Epoch 39/50] [Batch 1/5] [D loss: 0.621423] [G loss: 0.055370]\n",
            "[Epoch 39/50] [Batch 2/5] [D loss: 0.565127] [G loss: 0.063454]\n",
            "[Epoch 39/50] [Batch 3/5] [D loss: 0.458828] [G loss: 0.083397]\n",
            "[Epoch 39/50] [Batch 4/5] [D loss: 0.638964] [G loss: 0.066822]\n",
            "[Epoch 44/50] [Batch 0/5] [D loss: 0.646537] [G loss: 0.090059]\n",
            "[Epoch 44/50] [Batch 1/5] [D loss: 0.607167] [G loss: 0.062084]\n",
            "[Epoch 44/50] [Batch 2/5] [D loss: 0.550125] [G loss: 0.061432]\n",
            "[Epoch 44/50] [Batch 3/5] [D loss: 0.452766] [G loss: 0.065491]\n",
            "[Epoch 44/50] [Batch 4/5] [D loss: 0.589808] [G loss: 0.062634]\n",
            "[Epoch 49/50] [Batch 0/5] [D loss: 0.669522] [G loss: 0.094454]\n",
            "[Epoch 49/50] [Batch 1/5] [D loss: 0.631256] [G loss: 0.066661]\n",
            "[Epoch 49/50] [Batch 2/5] [D loss: 0.578475] [G loss: 0.067836]\n",
            "[Epoch 49/50] [Batch 3/5] [D loss: 0.478711] [G loss: 0.075519]\n",
            "[Epoch 49/50] [Batch 4/5] [D loss: 0.635596] [G loss: 0.070984]\n"
          ]
        }
      ]
    },
    {
      "cell_type": "code",
      "source": [
        "# import matplotlib.pyplot as plt\n",
        "# # Vẽ biểu đồ Discriminator Loss\n",
        "# plt.plot(range(len(d_losses)), d_losses, label='Discriminator Loss')\n",
        "# plt.xlabel('Iterations')\n",
        "# plt.ylabel('Loss')\n",
        "# plt.legend()\n",
        "# plt.title('Discriminator Loss')\n",
        "# plt.show()\n"
      ],
      "metadata": {
        "id": "Lq5Rlkdw7R7L"
      },
      "execution_count": 1905,
      "outputs": []
    },
    {
      "cell_type": "code",
      "source": [
        "# # Vẽ biểu đồ Generator Loss\n",
        "# plt.plot(range(len(g_losses)), g_losses, label='Generator Loss')\n",
        "# plt.xlabel('Iterations')\n",
        "# plt.ylabel('Loss')\n",
        "# plt.legend()\n",
        "# plt.title('Generator Loss')\n",
        "# plt.show()"
      ],
      "metadata": {
        "id": "mQM3sTlr7R7L"
      },
      "execution_count": 1906,
      "outputs": []
    },
    {
      "cell_type": "code",
      "source": [
        "# Chuyển đổi dữ liệu thành tensor\n",
        "tensor_data = torch.tensor(data_transform, dtype=torch.float32).to(device)\n",
        "latent_vectors = encoder(tensor_data)\n",
        "# reconstructed_data = decoder(latent_vectors)\n",
        "\n",
        "# # Chuyển đổi dữ liệu mới thành dạng ban đầu\n",
        "# generated_data = reconstructed_data.cpu().detach().numpy()"
      ],
      "metadata": {
        "id": "Idzik8tb7R7L"
      },
      "execution_count": 1907,
      "outputs": []
    },
    {
      "cell_type": "markdown",
      "source": [
        "## **Thuật toán LSTM**\n"
      ],
      "metadata": {
        "id": "4FEDhIud7R7L"
      }
    },
    {
      "cell_type": "code",
      "source": [
        "# 1. Import thư viện cần thiết\n",
        "import numpy as np\n",
        "import pandas as pd\n",
        "import matplotlib.pyplot as plt\n",
        "from sklearn.preprocessing import MinMaxScaler\n",
        "from keras.models import Sequential\n",
        "from keras.layers import Dense, LSTM"
      ],
      "metadata": {
        "id": "dXPe8t8g7R7M"
      },
      "execution_count": 1908,
      "outputs": []
    },
    {
      "cell_type": "code",
      "source": [
        "# 2. dùng latent_vectors làm đầu vào cho LSTM\n",
        "df1 = latent_vectors.cpu().detach().numpy()\n"
      ],
      "metadata": {
        "id": "Ob1IQBzX7R7M"
      },
      "execution_count": 1909,
      "outputs": []
    },
    {
      "cell_type": "code",
      "source": [
        "# 3. Scaler data\n",
        "scaler=MinMaxScaler(feature_range=(0,1))\n",
        "df1=scaler.fit_transform(np.array(df1).reshape(-1,1))"
      ],
      "metadata": {
        "id": "kiv9EeuR7R7M"
      },
      "execution_count": 1910,
      "outputs": []
    },
    {
      "cell_type": "code",
      "source": [
        "# 4. Chia train test\n",
        "train_size = int(0.6 * len(df1))\n",
        "test_size = int(0.2 * len(df1))\n",
        "val_size = len(df1) - train_size - test_size\n",
        "\n",
        "train_data = df1[:train_size]\n",
        "test_data = df1[train_size:train_size+test_size]\n",
        "val_data = df1[train_size+test_size:]"
      ],
      "metadata": {
        "id": "aluNJXqY7R7M"
      },
      "execution_count": 1911,
      "outputs": []
    },
    {
      "cell_type": "code",
      "source": [
        "# 5. Hàm Create Dataset\n",
        "import numpy\n",
        "# convert an array of values into a dataset matrix\n",
        "def create_dataset(dataset, time_step=1):\n",
        "\tdataX, dataY = [], []\n",
        "\tfor i in range(len(dataset)-time_step-1):\n",
        "\t\ta = dataset[i:(i+time_step), 0]   ###i=0, X=0,1,2,3-----99   Y=100\n",
        "\t\tdataX.append(a)\n",
        "\t\tdataY.append(dataset[i + time_step, 0])\n",
        "\treturn numpy.array(dataX), numpy.array(dataY)"
      ],
      "metadata": {
        "id": "BIsX8bO17R7M"
      },
      "execution_count": 1912,
      "outputs": []
    },
    {
      "cell_type": "code",
      "source": [
        "#6. Reshape into X=t,t+1,t+2..t+99 and Y=t+100\n",
        "\n",
        "time_step = 1\n",
        "X_train, y_train = create_dataset(train_data, time_step)\n",
        "X_val, yval = create_dataset(val_data, time_step)\n",
        "X_test, ytest = create_dataset(test_data, time_step)"
      ],
      "metadata": {
        "id": "DKtvX91e7R7M"
      },
      "execution_count": 1913,
      "outputs": []
    },
    {
      "cell_type": "code",
      "source": [
        "# 7. Reshape input to be [samples, time steps, features] which is required for LSTM\n",
        "X_train =X_train.reshape(X_train.shape[0],X_train.shape[1] , 1)\n",
        "X_test = X_test.reshape(X_test.shape[0],X_test.shape[1] , 1)\n",
        "X_val = X_val.reshape(X_val.shape[0],X_val.shape[1] , 1)"
      ],
      "metadata": {
        "id": "V-CeyMB_7R7M"
      },
      "execution_count": 1914,
      "outputs": []
    },
    {
      "cell_type": "code",
      "source": [
        "# 8. Define LSTM Model\n",
        "\n",
        "model=Sequential()\n",
        "model.add(LSTM(50,return_sequences=True,input_shape=(1,1)))\n",
        "model.add(LSTM(50,return_sequences=True))\n",
        "model.add(LSTM(50))\n",
        "model.add(Dense(1))\n",
        "model.compile(loss='mean_squared_error',optimizer='adam')"
      ],
      "metadata": {
        "id": "Jn-1eXL07R7M"
      },
      "execution_count": 1915,
      "outputs": []
    },
    {
      "cell_type": "code",
      "source": [
        "# 9. Fit mô hình với dữ liệu train\n",
        "model.fit(X_train,y_train,validation_data=(X_test,ytest),epochs=50,batch_size=64,verbose=1)"
      ],
      "metadata": {
        "colab": {
          "base_uri": "https://localhost:8080/"
        },
        "outputId": "86e28f68-8a31-4330-b64d-780cefe1afec",
        "id": "-IhUAEnD7R7M"
      },
      "execution_count": 1916,
      "outputs": [
        {
          "output_type": "stream",
          "name": "stdout",
          "text": [
            "Epoch 1/50\n",
            "20/20 [==============================] - 7s 63ms/step - loss: 0.0809 - val_loss: 0.1441\n",
            "Epoch 2/50\n",
            "20/20 [==============================] - 0s 11ms/step - loss: 0.0284 - val_loss: 0.0390\n",
            "Epoch 3/50\n",
            "20/20 [==============================] - 0s 9ms/step - loss: 0.0029 - val_loss: 0.0248\n",
            "Epoch 4/50\n",
            "20/20 [==============================] - 0s 9ms/step - loss: 0.0017 - val_loss: 0.0279\n",
            "Epoch 5/50\n",
            "20/20 [==============================] - 0s 9ms/step - loss: 0.0015 - val_loss: 0.0267\n",
            "Epoch 6/50\n",
            "20/20 [==============================] - 0s 9ms/step - loss: 0.0015 - val_loss: 0.0264\n",
            "Epoch 7/50\n",
            "20/20 [==============================] - 0s 9ms/step - loss: 0.0015 - val_loss: 0.0266\n",
            "Epoch 8/50\n",
            "20/20 [==============================] - 0s 10ms/step - loss: 0.0015 - val_loss: 0.0263\n",
            "Epoch 9/50\n",
            "20/20 [==============================] - 0s 9ms/step - loss: 0.0015 - val_loss: 0.0278\n",
            "Epoch 10/50\n",
            "20/20 [==============================] - 0s 10ms/step - loss: 0.0015 - val_loss: 0.0259\n",
            "Epoch 11/50\n",
            "20/20 [==============================] - 0s 9ms/step - loss: 0.0015 - val_loss: 0.0266\n",
            "Epoch 12/50\n",
            "20/20 [==============================] - 0s 10ms/step - loss: 0.0015 - val_loss: 0.0259\n",
            "Epoch 13/50\n",
            "20/20 [==============================] - 0s 11ms/step - loss: 0.0015 - val_loss: 0.0253\n",
            "Epoch 14/50\n",
            "20/20 [==============================] - 0s 11ms/step - loss: 0.0015 - val_loss: 0.0256\n",
            "Epoch 15/50\n",
            "20/20 [==============================] - 0s 9ms/step - loss: 0.0015 - val_loss: 0.0248\n",
            "Epoch 16/50\n",
            "20/20 [==============================] - 0s 9ms/step - loss: 0.0015 - val_loss: 0.0256\n",
            "Epoch 17/50\n",
            "20/20 [==============================] - 0s 10ms/step - loss: 0.0015 - val_loss: 0.0254\n",
            "Epoch 18/50\n",
            "20/20 [==============================] - 0s 9ms/step - loss: 0.0015 - val_loss: 0.0248\n",
            "Epoch 19/50\n",
            "20/20 [==============================] - 0s 11ms/step - loss: 0.0015 - val_loss: 0.0264\n",
            "Epoch 20/50\n",
            "20/20 [==============================] - 0s 9ms/step - loss: 0.0015 - val_loss: 0.0242\n",
            "Epoch 21/50\n",
            "20/20 [==============================] - 0s 9ms/step - loss: 0.0015 - val_loss: 0.0243\n",
            "Epoch 22/50\n",
            "20/20 [==============================] - 0s 9ms/step - loss: 0.0015 - val_loss: 0.0238\n",
            "Epoch 23/50\n",
            "20/20 [==============================] - 0s 9ms/step - loss: 0.0015 - val_loss: 0.0229\n",
            "Epoch 24/50\n",
            "20/20 [==============================] - 0s 9ms/step - loss: 0.0015 - val_loss: 0.0238\n",
            "Epoch 25/50\n",
            "20/20 [==============================] - 0s 10ms/step - loss: 0.0014 - val_loss: 0.0233\n",
            "Epoch 26/50\n",
            "20/20 [==============================] - 0s 10ms/step - loss: 0.0014 - val_loss: 0.0228\n",
            "Epoch 27/50\n",
            "20/20 [==============================] - 0s 12ms/step - loss: 0.0014 - val_loss: 0.0249\n",
            "Epoch 28/50\n",
            "20/20 [==============================] - 0s 10ms/step - loss: 0.0014 - val_loss: 0.0234\n",
            "Epoch 29/50\n",
            "20/20 [==============================] - 0s 13ms/step - loss: 0.0014 - val_loss: 0.0222\n",
            "Epoch 30/50\n",
            "20/20 [==============================] - 0s 12ms/step - loss: 0.0014 - val_loss: 0.0223\n",
            "Epoch 31/50\n",
            "20/20 [==============================] - 0s 13ms/step - loss: 0.0014 - val_loss: 0.0216\n",
            "Epoch 32/50\n",
            "20/20 [==============================] - 0s 14ms/step - loss: 0.0015 - val_loss: 0.0208\n",
            "Epoch 33/50\n",
            "20/20 [==============================] - 0s 14ms/step - loss: 0.0014 - val_loss: 0.0209\n",
            "Epoch 34/50\n",
            "20/20 [==============================] - 0s 15ms/step - loss: 0.0014 - val_loss: 0.0210\n",
            "Epoch 35/50\n",
            "20/20 [==============================] - 0s 15ms/step - loss: 0.0014 - val_loss: 0.0211\n",
            "Epoch 36/50\n",
            "20/20 [==============================] - 0s 15ms/step - loss: 0.0014 - val_loss: 0.0209\n",
            "Epoch 37/50\n",
            "20/20 [==============================] - 0s 13ms/step - loss: 0.0014 - val_loss: 0.0210\n",
            "Epoch 38/50\n",
            "20/20 [==============================] - 0s 12ms/step - loss: 0.0014 - val_loss: 0.0208\n",
            "Epoch 39/50\n",
            "20/20 [==============================] - 0s 12ms/step - loss: 0.0014 - val_loss: 0.0207\n",
            "Epoch 40/50\n",
            "20/20 [==============================] - 0s 14ms/step - loss: 0.0014 - val_loss: 0.0201\n",
            "Epoch 41/50\n",
            "20/20 [==============================] - 0s 15ms/step - loss: 0.0014 - val_loss: 0.0206\n",
            "Epoch 42/50\n",
            "20/20 [==============================] - 0s 11ms/step - loss: 0.0014 - val_loss: 0.0195\n",
            "Epoch 43/50\n",
            "20/20 [==============================] - 0s 9ms/step - loss: 0.0014 - val_loss: 0.0195\n",
            "Epoch 44/50\n",
            "20/20 [==============================] - 0s 9ms/step - loss: 0.0014 - val_loss: 0.0194\n",
            "Epoch 45/50\n",
            "20/20 [==============================] - 0s 12ms/step - loss: 0.0014 - val_loss: 0.0209\n",
            "Epoch 46/50\n",
            "20/20 [==============================] - 0s 9ms/step - loss: 0.0014 - val_loss: 0.0193\n",
            "Epoch 47/50\n",
            "20/20 [==============================] - 0s 9ms/step - loss: 0.0014 - val_loss: 0.0201\n",
            "Epoch 48/50\n",
            "20/20 [==============================] - 0s 12ms/step - loss: 0.0014 - val_loss: 0.0195\n",
            "Epoch 49/50\n",
            "20/20 [==============================] - 0s 9ms/step - loss: 0.0014 - val_loss: 0.0201\n",
            "Epoch 50/50\n",
            "20/20 [==============================] - 0s 9ms/step - loss: 0.0014 - val_loss: 0.0200\n"
          ]
        },
        {
          "output_type": "execute_result",
          "data": {
            "text/plain": [
              "<keras.callbacks.History at 0x7fc30a31f640>"
            ]
          },
          "metadata": {},
          "execution_count": 1916
        }
      ]
    },
    {
      "cell_type": "code",
      "source": [
        "#Doc lai du lieu\n",
        "\n",
        "# 2. Đọc file csv và gắng index với giá Close\n",
        "df1 = dataset.reset_index()['Price']\n",
        "\n",
        "# 3. Scaler data\n",
        "scaler=MinMaxScaler(feature_range=(0,1))\n",
        "df1=scaler.fit_transform(np.array(df1).reshape(-1,1))\n",
        "\n",
        "# 4. Chia train test\n",
        "train_size = int(0.6 * len(df1))\n",
        "test_size = int(0.2 * len(df1))\n",
        "val_size = len(df1) - train_size - test_size\n",
        "\n",
        "train_data = df1[:train_size]\n",
        "test_data = df1[train_size:train_size+test_size]\n",
        "val_data = df1[train_size+test_size:]\n",
        "\n",
        "#6. Reshape into X=t,t+1,t+2..t+99 and Y=t+100\n",
        "\n",
        "time_step = 1\n",
        "X_train, y_train = create_dataset(train_data, time_step)\n",
        "X_val, yval = create_dataset(val_data, time_step)\n",
        "X_test, ytest = create_dataset(test_data, time_step)\n",
        "\n",
        "# 7. Reshape input to be [samples, time steps, features] which is required for LSTM\n",
        "X_train =X_train.reshape(X_train.shape[0],X_train.shape[1] , 1)\n",
        "X_test = X_test.reshape(X_test.shape[0],X_test.shape[1] , 1)\n",
        "X_val = X_val.reshape(X_val.shape[0],X_val.shape[1] , 1)\n"
      ],
      "metadata": {
        "id": "0g4VUshc7R7N"
      },
      "execution_count": 1917,
      "outputs": []
    },
    {
      "cell_type": "code",
      "source": [
        "# 10. Dự báo dữ liệu test, val\n",
        "train_predict=model.predict(X_train)\n",
        "y_pred=model.predict(X_test)\n",
        "y_pred_val=model.predict(X_val)"
      ],
      "metadata": {
        "colab": {
          "base_uri": "https://localhost:8080/"
        },
        "outputId": "54af2b44-5af6-4011-8cd0-7ba70d454c89",
        "id": "9XBAsD207R7N"
      },
      "execution_count": 1918,
      "outputs": [
        {
          "output_type": "stream",
          "name": "stdout",
          "text": [
            "40/40 [==============================] - 1s 4ms/step\n",
            "14/14 [==============================] - 0s 5ms/step\n",
            "14/14 [==============================] - 0s 5ms/step\n"
          ]
        }
      ]
    },
    {
      "cell_type": "code",
      "source": [
        "# 11. Chuẩn hóa dữ liệu y_pred, y_pred_val\n",
        "train_predict=scaler.inverse_transform(train_predict)\n",
        "y_pred=scaler.inverse_transform(y_pred)\n",
        "y_pred_val=scaler.inverse_transform(y_pred_val)\n",
        "ytest = scaler.inverse_transform(ytest.reshape(-1,1))\n",
        "yval = scaler.inverse_transform(yval.reshape(-1,1))"
      ],
      "metadata": {
        "id": "X_10YWM_7R7N"
      },
      "execution_count": 1919,
      "outputs": []
    },
    {
      "cell_type": "markdown",
      "source": [
        "## **Đánh giá**"
      ],
      "metadata": {
        "id": "ZG0gd8FM7R7N"
      }
    },
    {
      "cell_type": "code",
      "source": [
        "# 12. Đánh giá độ chính xác thuật toán bằng RMSE\n",
        "valid_rmse = np.sqrt(np.mean((y_pred_val - yval)**2))\n",
        "test_rmse = np.sqrt(np.mean((y_pred - ytest)**2))\n",
        "test_mae = np.mean(np.abs(y_pred - ytest))\n",
        "valid_mae = np.mean(np.abs(y_pred_val - yval))\n",
        "test_mape = np.mean(np.abs((ytest - y_pred) / ytest)) * 100\n",
        "valid_mape = np.mean(np.abs((yval - y_pred_val) / np.where(yval != 0, yval, 1))) * 100\n",
        "\n",
        "print('Validation RMSE:', valid_rmse)\n",
        "print('Testing RMSE:', test_rmse)\n",
        "print('Testing MAE:', test_mae)\n",
        "print('Validation MAE:', valid_mae)\n",
        "print('Testing MAPE:', test_mape)\n",
        "print('Validation MAPE:', valid_mape)"
      ],
      "metadata": {
        "colab": {
          "base_uri": "https://localhost:8080/"
        },
        "outputId": "860213ac-1a7c-4350-be67-13dd7ad58476",
        "id": "FpuaLRqK7R7N"
      },
      "execution_count": 1920,
      "outputs": [
        {
          "output_type": "stream",
          "name": "stdout",
          "text": [
            "Validation RMSE: 28.81628755248695\n",
            "Testing RMSE: 29.760322080452053\n",
            "Testing MAE: 28.507130765441467\n",
            "Validation MAE: 24.345847875258503\n",
            "Testing MAPE: 16.430672117713343\n",
            "Validation MAPE: 13.649430526365977\n"
          ]
        }
      ]
    },
    {
      "cell_type": "code",
      "source": [
        "# 13. Dự báo 30 ngày tiếp theo\n",
        "x_input=val_data[426:].reshape(1,-1)\n",
        "x_input.shape\n",
        "\n",
        "temp_input=list(x_input)\n",
        "temp_input=temp_input[0].tolist()\n",
        "\n",
        "from numpy import array\n",
        "\n",
        "lst_output=[]\n",
        "n_steps=1\n",
        "i=0\n",
        "while(i<30):\n",
        "    # print(len(temp_input))\n",
        "    if(len(temp_input)>1):\n",
        "        #print(temp_input)\n",
        "        x_input=np.array(temp_input[1:])\n",
        "        # print(\"{} day input {}\".format(i,x_input))\n",
        "        x_input=x_input.reshape(1,-1)\n",
        "        x_input = x_input.reshape((1, n_steps, 1))\n",
        "        #print(x_input)\n",
        "        yhat = model.predict(x_input, verbose=0)\n",
        "        # print(\"{} day output {}\".format(i,yhat))\n",
        "        temp_input.extend(yhat[0].tolist())\n",
        "        temp_input=temp_input[1:]\n",
        "        #print(temp_input)\n",
        "        lst_output.extend(yhat.tolist())\n",
        "        i=i+1\n",
        "    else:\n",
        "        x_input = x_input.reshape((1, n_steps,1))\n",
        "        yhat = model.predict(x_input, verbose=0)\n",
        "        # print(yhat[0])\n",
        "        temp_input.extend(yhat[0].tolist())\n",
        "        # print(len(temp_input))\n",
        "        lst_output.extend(yhat.tolist())\n",
        "        i=i+1"
      ],
      "metadata": {
        "id": "aR461mmY7R7N"
      },
      "execution_count": 1921,
      "outputs": []
    },
    {
      "cell_type": "code",
      "source": [
        "lst_output"
      ],
      "metadata": {
        "colab": {
          "base_uri": "https://localhost:8080/"
        },
        "outputId": "999dcae7-02d2-4ca7-d09c-fd19d2d42aed",
        "id": "pKZvLpwn7R7N"
      },
      "execution_count": 1922,
      "outputs": [
        {
          "output_type": "execute_result",
          "data": {
            "text/plain": [
              "[[0.30174869298934937],\n",
              " [0.3069173991680145],\n",
              " [0.30891919136047363],\n",
              " [0.3096965551376343],\n",
              " [0.3099987208843231],\n",
              " [0.3101162612438202],\n",
              " [0.3101619780063629],\n",
              " [0.310179740190506],\n",
              " [0.3101866543292999],\n",
              " [0.3101893365383148],\n",
              " [0.3101904094219208],\n",
              " [0.3101908266544342],\n",
              " [0.31019094586372375],\n",
              " [0.31019100546836853],\n",
              " [0.3101910352706909],\n",
              " [0.3101910352706909],\n",
              " [0.3101910352706909],\n",
              " [0.3101910352706909],\n",
              " [0.3101910352706909],\n",
              " [0.3101910352706909],\n",
              " [0.3101910352706909],\n",
              " [0.3101910352706909],\n",
              " [0.3101910352706909],\n",
              " [0.3101910352706909],\n",
              " [0.3101910352706909],\n",
              " [0.3101910352706909],\n",
              " [0.3101910352706909],\n",
              " [0.3101910352706909],\n",
              " [0.3101910352706909],\n",
              " [0.3101910352706909]]"
            ]
          },
          "metadata": {},
          "execution_count": 1922
        }
      ]
    },
    {
      "cell_type": "markdown",
      "source": [
        "## **kẾT QUẢ**"
      ],
      "metadata": {
        "id": "IJORKopl7R7O"
      }
    },
    {
      "cell_type": "code",
      "source": [
        "# 14.Vẽ hình\n",
        "\n",
        "train_data_index = pd.RangeIndex(start=0, stop=train_size, step=1)\n",
        "plt.plot(scaler.inverse_transform(train_data))\n",
        "test_data_index = pd.RangeIndex(start=train_size, stop=train_size+test_size, step=1)\n",
        "plt.plot(test_data_index,scaler.inverse_transform(test_data))\n",
        "test_data_index = pd.RangeIndex(start=train_size+2, stop=train_size+test_size, step=1)\n",
        "plt.plot(test_data_index,(y_pred))\n",
        "val_data_index = pd.RangeIndex(start=train_size+test_size, stop=train_size+test_size+val_size, step=1)\n",
        "plt.plot(val_data_index,scaler.inverse_transform(val_data))\n",
        "val_data_index = pd.RangeIndex(start=train_size+test_size+2, stop=train_size+test_size+val_size, step=1)\n",
        "plt.plot(val_data_index,y_pred_val)\n",
        "prediect_data_index = pd.RangeIndex(start=len(df1)-1, stop=len(df1)+29, step=1)\n",
        "plt.plot(prediect_data_index,scaler.inverse_transform(lst_output))\n",
        "plt.legend(['Train','Test','Predict','Validate','ValidatePred','Predict30days'])\n",
        "plt.show()"
      ],
      "metadata": {
        "colab": {
          "base_uri": "https://localhost:8080/",
          "height": 430
        },
        "outputId": "6662933a-9095-4825-ab8d-76182aa0c421",
        "id": "dGMfLtZp7R7O"
      },
      "execution_count": 1923,
      "outputs": [
        {
          "output_type": "display_data",
          "data": {
            "text/plain": [
              "<Figure size 640x480 with 1 Axes>"
            ],
            "image/png": "[encoded data removed]"
          },
          "metadata": {}
        }
      ]
    },
    {
      "cell_type": "markdown",
      "source": [
        "# **MAA 6:2:2**"
      ],
      "metadata": {
        "id": "hyE8lbj47R7E"
      }
    },
    {
      "cell_type": "markdown",
      "source": [
        "## **Thuật toán AAE**\n"
      ],
      "metadata": {
        "id": "yklU_8pf7R7E"
      }
    },
    {
      "cell_type": "code",
      "execution_count": null,
      "metadata": {
        "colab": {
          "base_uri": "https://localhost:8080/"
        },
        "outputId": "e25cf369-92a9-460d-babd-ccc4788412ad",
        "id": "MEZtg3RW7R7E"
      },
      "outputs": [
        {
          "output_type": "stream",
          "name": "stdout",
          "text": [
            "Drive already mounted at /content/drive; to attempt to forcibly remount, call drive.mount(\"/content/drive\", force_remount=True).\n"
          ]
        }
      ],
      "source": [
        "from google.colab import drive\n",
        "drive.mount('/content/drive')"
      ]
    },
    {
      "cell_type": "code",
      "source": [
        "import pandas as pd\n",
        "import numpy as np\n",
        "import math\n",
        "import itertools\n",
        "\n",
        "import torchvision.transforms as transforms\n",
        "from torchvision.utils import save_image\n",
        "\n",
        "from torch.utils.data import DataLoader\n",
        "from torchvision import datasets\n",
        "from torch.autograd import Variable\n",
        "\n",
        "import torch.nn as nn\n",
        "import torch.nn.functional as F\n",
        "import torch"
      ],
      "metadata": {
        "id": "15ditGlv7R7E"
      },
      "execution_count": null,
      "outputs": []
    },
    {
      "cell_type": "code",
      "source": [
        "fileName = '/content/MAA-Historical-Data.csv'\n",
        "dataset = pd.read_csv(fileName)\n",
        "dataset = dataset.iloc[::-1]\n",
        "\n"
      ],
      "metadata": {
        "id": "y-JaYvBN7R7E"
      },
      "execution_count": null,
      "outputs": []
    },
    {
      "cell_type": "code",
      "source": [
        "# Chuyển đổi hàm để xử lý chuỗi 'Vol.'\n",
        "def convert_vol(value):\n",
        "    if 'K' in value:\n",
        "        # Loại bỏ ký tự 'K' và chuyển đổi thành giá trị số\n",
        "        return float(value.replace('K', '')) * 1000\n",
        "    elif 'M' in value:\n",
        "        # Loại bỏ ký tự 'M' và chuyển đổi thành giá trị số\n",
        "        return float(value.replace('M', '')) * 1000000\n",
        "    else:\n",
        "        # Trường hợp không có đơn vị, giữ nguyên giá trị\n",
        "        return float(value)\n",
        "\n",
        "# Áp dụng hàm chuyển đổi vào cột 'Vol.' của dataset\n",
        "dataset['Vol.'] = dataset['Vol.'].apply(convert_vol)"
      ],
      "metadata": {
        "id": "puspuBaM7R7F"
      },
      "execution_count": null,
      "outputs": []
    },
    {
      "cell_type": "code",
      "source": [
        "# Chuyển đổi hàm để xử lý chuỗi 'Change %'\n",
        "def convert_change(value):\n",
        "    # Loại bỏ ký tự '%' và chuyển đổi thành giá trị số\n",
        "    return float(value.replace('%', ''))\n",
        "\n",
        "# Áp dụng hàm chuyển đổi bằng phương pháp map\n",
        "dataset['Change %'] = dataset['Change %'].map(convert_change)\n"
      ],
      "metadata": {
        "id": "5X-dP-2Q7R7F"
      },
      "execution_count": null,
      "outputs": []
    },
    {
      "cell_type": "code",
      "source": [
        "data_transform = dataset.drop('Date', axis=1)\n",
        "# data_transform = data_transform.drop('Open', axis=1)\n",
        "data_transform = data_transform.drop('Vol.', axis=1)\n",
        "data_transform = data_transform.drop('Change %', axis=1)\n",
        "data_transform = data_transform.drop('Low', axis=1)\n",
        "# data_transform = data_transform.drop('High', axis=1)\n"
      ],
      "metadata": {
        "id": "qSz7gyyW7R7F"
      },
      "execution_count": null,
      "outputs": []
    },
    {
      "cell_type": "code",
      "source": [
        "from sklearn.preprocessing import MinMaxScaler\n",
        "scaler = MinMaxScaler(feature_range=(0,1))"
      ],
      "metadata": {
        "id": "mSt0nVft7R7F"
      },
      "execution_count": null,
      "outputs": []
    },
    {
      "cell_type": "code",
      "source": [
        "data_transform=scaler.fit_transform(np.array(data_transform))"
      ],
      "metadata": {
        "id": "b75XoL467R7F"
      },
      "execution_count": null,
      "outputs": []
    },
    {
      "cell_type": "code",
      "source": [
        "import numpy as np\n",
        "import torch\n",
        "import torch.nn as nn\n",
        "import torch.optim as optim\n",
        "from torch.utils.data import DataLoader, TensorDataset\n",
        "from torchvision import datasets\n",
        "from torch.autograd import Variable\n",
        "import torch.nn.functional as F\n",
        "import random\n",
        "import tensorflow as tf\n",
        "\n",
        "seed_value = 42\n",
        "\n",
        "random.seed(seed_value)\n",
        "np.random.seed(seed_value)\n",
        "tf.random.set_seed(seed_value)\n",
        "\n",
        "# dùng 'gpu'.\n",
        "device = 'cuda' if torch.cuda.is_available() else 'cpu'\n",
        "Tensor = torch.cuda.FloatTensor if torch.cuda.is_available() else torch.FloatTensor\n",
        "\n",
        "# số chiều không gian tiềm ẩn\n",
        "latent_dim = 1\n",
        "\n",
        "# số chiều vector đầu vào.\n",
        "embedding = 3\n",
        "\n",
        "# sampling từ trung bình và độ lệch chuẩn.\n",
        "def reparameterization(mu, logvar):\n",
        "    std = torch.exp(logvar / 2)\n",
        "    sampled_z = Variable(Tensor(np.random.normal(0, 1, (mu.size(0), latent_dim))))\n",
        "    # sampled_z = Variable(torch.randn((mu.size(0), latent_dim))).to(device)\n",
        "    z = sampled_z * std + mu\n",
        "    return z\n",
        "\n",
        "class Encoder(nn.Module):\n",
        "    def __init__(self, embedding):\n",
        "        super(Encoder, self).__init__()\n",
        "\n",
        "        self.model = nn.Sequential(\n",
        "            nn.Linear(embedding, 512),\n",
        "            nn.LeakyReLU(0.2, inplace=True),\n",
        "            nn.Linear(512, 512),\n",
        "            nn.BatchNorm1d(512),\n",
        "            nn.LeakyReLU(0.2, inplace=True),\n",
        "        )\n",
        "\n",
        "        self.mu = nn.Linear(512, latent_dim)\n",
        "        self.logvar = nn.Linear(512, latent_dim)\n",
        "\n",
        "    def forward(self, img):\n",
        "        img_flat = img.view(img.shape[0], -1)\n",
        "        x = self.model(img_flat)\n",
        "        mu = self.mu(x)\n",
        "        logvar = self.logvar(x)\n",
        "        z = reparameterization(mu, logvar)\n",
        "        return z\n",
        "\n",
        "\n",
        "class Decoder(nn.Module):\n",
        "    def __init__(self, embedding):\n",
        "        super(Decoder, self).__init__()\n",
        "\n",
        "        self.model = nn.Sequential(\n",
        "            nn.Linear(latent_dim, 512),\n",
        "            nn.LeakyReLU(0.2, inplace=True),\n",
        "            nn.Linear(512, 512),\n",
        "            nn.BatchNorm1d(512),\n",
        "            nn.LeakyReLU(0.2, inplace=True),\n",
        "            nn.Linear(512, embedding),\n",
        "            nn.Tanh(),\n",
        "        )\n",
        "\n",
        "    def forward(self, z):\n",
        "        img_flat = self.model(z)\n",
        "        img = img_flat.view(img_flat.shape[0], -1)\n",
        "        return img\n",
        "\n",
        "\n",
        "class Discriminator(nn.Module):\n",
        "    def __init__(self):\n",
        "        super(Discriminator, self).__init__()\n",
        "\n",
        "        self.model = nn.Sequential(\n",
        "            nn.Linear(latent_dim, 512),\n",
        "            nn.LeakyReLU(0.2, inplace=True),\n",
        "            nn.Linear(512, 256),\n",
        "            nn.LeakyReLU(0.2, inplace=True),\n",
        "            nn.Linear(256, 1),\n",
        "            nn.Sigmoid(),\n",
        "        )\n",
        "\n",
        "    def forward(self, z):\n",
        "        validity = self.model(z)\n",
        "        return validity\n",
        "\n",
        "\n"
      ],
      "metadata": {
        "id": "UXVQPOKg7R7F"
      },
      "execution_count": null,
      "outputs": []
    },
    {
      "cell_type": "code",
      "source": [
        "batch_size=512\n",
        "n_epochs=50"
      ],
      "metadata": {
        "id": "31QjrCC57R7F"
      },
      "execution_count": null,
      "outputs": []
    },
    {
      "cell_type": "code",
      "source": [
        "# Chuẩn bị dữ liệu huấn luyện (torch dùng đc gpu, numpy -> cpu)\n",
        "tensor_data = torch.from_numpy(data_transform).float()  # Chuyển đổi thành Tensor và kiểu dữ liệu float\n",
        "\n",
        "# Tạo DataLoader\n",
        "data_loader = DataLoader(tensor_data, batch_size=batch_size, shuffle=False)"
      ],
      "metadata": {
        "id": "7GgCwJ-27R7G"
      },
      "execution_count": null,
      "outputs": []
    },
    {
      "cell_type": "code",
      "source": [
        "# Use binary cross-entropy loss\n",
        "adversarial_loss = torch.nn.BCELoss().to(device)\n",
        "pixelwise_loss = torch.nn.L1Loss().to(device)\n",
        "\n",
        "# Initialize generator and discriminator\n",
        "encoder = Encoder(embedding).to(device)\n",
        "decoder = Decoder(embedding).to(device)\n",
        "discriminator = Discriminator().to(device)\n"
      ],
      "metadata": {
        "id": "2xpydc_b7R7G"
      },
      "execution_count": null,
      "outputs": []
    },
    {
      "cell_type": "code",
      "source": [
        "# Optimizers\n",
        "optimizer_G = torch.optim.Adam(\n",
        "    itertools.chain(encoder.parameters(), decoder.parameters()), lr=0.0005\n",
        ")\n",
        "optimizer_D = torch.optim.Adam(discriminator.parameters(), lr=0.00005)"
      ],
      "metadata": {
        "id": "jfN6wZ177R7G"
      },
      "execution_count": null,
      "outputs": []
    },
    {
      "cell_type": "code",
      "source": [
        "import random\n",
        "import numpy as np\n",
        "import tensorflow as tf\n",
        "\n",
        "# Khởi tạo list để lưu loss\n",
        "d_losses = []\n",
        "g_losses = []\n",
        "\n",
        "for epoch in range(n_epochs):\n",
        "    for i, imgs in enumerate(data_loader):\n",
        "\n",
        "        # Adversarial ground truths\n",
        "        valid = Variable(Tensor(imgs.shape[0], 1).fill_(1.0), requires_grad=False)\n",
        "        fake = Variable(Tensor(imgs.shape[0], 1).fill_(0.0), requires_grad=False)\n",
        "\n",
        "        # Configure input\n",
        "        real_imgs = Variable(imgs.type(Tensor)).to(device)\n",
        "\n",
        "        # -----------------\n",
        "        #  Train Generator\n",
        "        # -----------------\n",
        "\n",
        "        optimizer_G.zero_grad()\n",
        "        # print(real_imgs.shape)\n",
        "        encoded_imgs = encoder(real_imgs)\n",
        "        decoded_imgs = decoder(encoded_imgs)\n",
        "\n",
        "        # Loss measures generator's ability to fool the discriminator\n",
        "        g_loss = 0.001 * adversarial_loss(discriminator(encoded_imgs), valid) + 0.999 * pixelwise_loss(\n",
        "            decoded_imgs, real_imgs\n",
        "        )\n",
        "\n",
        "        g_loss.backward()\n",
        "        optimizer_G.step()\n",
        "\n",
        "        # ---------------------\n",
        "        #  Train Discriminator\n",
        "        # ---------------------\n",
        "\n",
        "        optimizer_D.zero_grad()\n",
        "\n",
        "        # Sample noise as discriminator ground truth\n",
        "        z = Variable(Tensor(np.random.normal(0, 1, (real_imgs.shape[0], latent_dim))))\n",
        "\n",
        "        # Measure discriminator's ability to classify real from generated samples\n",
        "        real_loss = adversarial_loss(discriminator(z), valid)\n",
        "        fake_loss = adversarial_loss(discriminator(encoded_imgs.detach()), fake)\n",
        "        d_loss = 0.5 * (real_loss + fake_loss)\n",
        "\n",
        "        d_loss.backward()\n",
        "        optimizer_D.step()\n",
        "\n",
        "        d_losses.append(d_loss.item())\n",
        "        g_losses.append(g_loss.item())\n",
        "\n",
        "        if (epoch + 1) % 5 == 0:\n",
        "          print(\n",
        "              \"[Epoch %d/%d] [Batch %d/%d] [D loss: %f] [G loss: %f]\"\n",
        "              % (epoch, n_epochs, i, len(data_loader), d_loss.item(), g_loss.item())\n",
        "          )"
      ],
      "metadata": {
        "colab": {
          "base_uri": "https://localhost:8080/"
        },
        "outputId": "733ff74e-3ed3-4b80-8092-963ba27aab13",
        "id": "iuNUcID87R7G"
      },
      "execution_count": null,
      "outputs": [
        {
          "output_type": "stream",
          "name": "stdout",
          "text": [
            "[Epoch 4/50] [Batch 0/5] [D loss: 0.572098] [G loss: 0.282921]\n",
            "[Epoch 4/50] [Batch 1/5] [D loss: 0.612416] [G loss: 0.207775]\n",
            "[Epoch 4/50] [Batch 2/5] [D loss: 0.625077] [G loss: 0.068381]\n",
            "[Epoch 4/50] [Batch 3/5] [D loss: 0.617851] [G loss: 0.117101]\n",
            "[Epoch 4/50] [Batch 4/5] [D loss: 0.593049] [G loss: 0.260517]\n",
            "[Epoch 9/50] [Batch 0/5] [D loss: 0.498585] [G loss: 0.227818]\n",
            "[Epoch 9/50] [Batch 1/5] [D loss: 0.565717] [G loss: 0.090372]\n",
            "[Epoch 9/50] [Batch 2/5] [D loss: 0.606138] [G loss: 0.111451]\n",
            "[Epoch 9/50] [Batch 3/5] [D loss: 0.616360] [G loss: 0.077883]\n",
            "[Epoch 9/50] [Batch 4/5] [D loss: 0.615737] [G loss: 0.140351]\n",
            "[Epoch 14/50] [Batch 0/5] [D loss: 0.479387] [G loss: 0.213256]\n",
            "[Epoch 14/50] [Batch 1/5] [D loss: 0.540890] [G loss: 0.085657]\n",
            "[Epoch 14/50] [Batch 2/5] [D loss: 0.624081] [G loss: 0.090392]\n",
            "[Epoch 14/50] [Batch 3/5] [D loss: 0.637836] [G loss: 0.077798]\n",
            "[Epoch 14/50] [Batch 4/5] [D loss: 0.599403] [G loss: 0.203277]\n",
            "[Epoch 19/50] [Batch 0/5] [D loss: 0.470901] [G loss: 0.240951]\n",
            "[Epoch 19/50] [Batch 1/5] [D loss: 0.554769] [G loss: 0.104830]\n",
            "[Epoch 19/50] [Batch 2/5] [D loss: 0.637395] [G loss: 0.083064]\n",
            "[Epoch 19/50] [Batch 3/5] [D loss: 0.635104] [G loss: 0.082248]\n",
            "[Epoch 19/50] [Batch 4/5] [D loss: 0.619354] [G loss: 0.186696]\n",
            "[Epoch 24/50] [Batch 0/5] [D loss: 0.448517] [G loss: 0.258658]\n",
            "[Epoch 24/50] [Batch 1/5] [D loss: 0.520946] [G loss: 0.077970]\n",
            "[Epoch 24/50] [Batch 2/5] [D loss: 0.617939] [G loss: 0.050018]\n",
            "[Epoch 24/50] [Batch 3/5] [D loss: 0.622293] [G loss: 0.067619]\n",
            "[Epoch 24/50] [Batch 4/5] [D loss: 0.570606] [G loss: 0.238930]\n",
            "[Epoch 29/50] [Batch 0/5] [D loss: 0.441476] [G loss: 0.191101]\n",
            "[Epoch 29/50] [Batch 1/5] [D loss: 0.569248] [G loss: 0.094756]\n",
            "[Epoch 29/50] [Batch 2/5] [D loss: 0.687605] [G loss: 0.067794]\n",
            "[Epoch 29/50] [Batch 3/5] [D loss: 0.687927] [G loss: 0.073200]\n",
            "[Epoch 29/50] [Batch 4/5] [D loss: 0.644505] [G loss: 0.138414]\n",
            "[Epoch 34/50] [Batch 0/5] [D loss: 0.461111] [G loss: 0.169764]\n",
            "[Epoch 34/50] [Batch 1/5] [D loss: 0.560707] [G loss: 0.074007]\n",
            "[Epoch 34/50] [Batch 2/5] [D loss: 0.657023] [G loss: 0.046695]\n",
            "[Epoch 34/50] [Batch 3/5] [D loss: 0.651555] [G loss: 0.096018]\n",
            "[Epoch 34/50] [Batch 4/5] [D loss: 0.642956] [G loss: 0.154190]\n",
            "[Epoch 39/50] [Batch 0/5] [D loss: 0.430717] [G loss: 0.156485]\n",
            "[Epoch 39/50] [Batch 1/5] [D loss: 0.558925] [G loss: 0.087963]\n",
            "[Epoch 39/50] [Batch 2/5] [D loss: 0.677332] [G loss: 0.062921]\n",
            "[Epoch 39/50] [Batch 3/5] [D loss: 0.653166] [G loss: 0.087385]\n",
            "[Epoch 39/50] [Batch 4/5] [D loss: 0.630541] [G loss: 0.156071]\n",
            "[Epoch 44/50] [Batch 0/5] [D loss: 0.437807] [G loss: 0.138233]\n",
            "[Epoch 44/50] [Batch 1/5] [D loss: 0.589224] [G loss: 0.079710]\n",
            "[Epoch 44/50] [Batch 2/5] [D loss: 0.686020] [G loss: 0.054585]\n",
            "[Epoch 44/50] [Batch 3/5] [D loss: 0.668507] [G loss: 0.063418]\n",
            "[Epoch 44/50] [Batch 4/5] [D loss: 0.635201] [G loss: 0.164315]\n",
            "[Epoch 49/50] [Batch 0/5] [D loss: 0.467086] [G loss: 0.142949]\n",
            "[Epoch 49/50] [Batch 1/5] [D loss: 0.565477] [G loss: 0.059526]\n",
            "[Epoch 49/50] [Batch 2/5] [D loss: 0.650224] [G loss: 0.048327]\n",
            "[Epoch 49/50] [Batch 3/5] [D loss: 0.642140] [G loss: 0.090988]\n",
            "[Epoch 49/50] [Batch 4/5] [D loss: 0.626740] [G loss: 0.091704]\n"
          ]
        }
      ]
    },
    {
      "cell_type": "code",
      "source": [
        "import matplotlib.pyplot as plt\n",
        "# Vẽ biểu đồ Discriminator Loss\n",
        "plt.plot(range(len(d_losses)), d_losses, label='Discriminator Loss')\n",
        "plt.xlabel('Iterations')\n",
        "plt.ylabel('Loss')\n",
        "plt.legend()\n",
        "plt.title('Discriminator Loss')\n",
        "plt.show()\n"
      ],
      "metadata": {
        "colab": {
          "base_uri": "https://localhost:8080/",
          "height": 472
        },
        "id": "dQogDat47R7G",
        "outputId": "ed98c3f6-3991-46ef-bfe1-3339119ab42e"
      },
      "execution_count": null,
      "outputs": [
        {
          "output_type": "display_data",
          "data": {
            "text/plain": [
              "<Figure size 640x480 with 1 Axes>"
            ],
            "image/png": "[encoded data removed]"
          },
          "metadata": {}
        }
      ]
    },
    {
      "cell_type": "code",
      "source": [
        "# Vẽ biểu đồ Generator Loss\n",
        "plt.plot(range(len(g_losses)), g_losses, label='Generator Loss')\n",
        "plt.xlabel('Iterations')\n",
        "plt.ylabel('Loss')\n",
        "plt.legend()\n",
        "plt.title('Generator Loss')\n",
        "plt.show()"
      ],
      "metadata": {
        "colab": {
          "base_uri": "https://localhost:8080/",
          "height": 472
        },
        "id": "DRo6m9b27R7G",
        "outputId": "d51bd820-d9f0-48b9-de1b-0e390535879f"
      },
      "execution_count": null,
      "outputs": [
        {
          "output_type": "display_data",
          "data": {
            "text/plain": [
              "<Figure size 640x480 with 1 Axes>"
            ],
            "image/png": "[encoded data removed]"
          },
          "metadata": {}
        }
      ]
    },
    {
      "cell_type": "code",
      "source": [
        "# Chuyển đổi dữ liệu thành tensor\n",
        "tensor_data = torch.tensor(data_transform, dtype=torch.float32).to(device)\n",
        "latent_vectors = encoder(tensor_data)\n",
        "# reconstructed_data = decoder(latent_vectors)\n",
        "\n",
        "# # Chuyển đổi dữ liệu mới thành dạng ban đầu\n",
        "# generated_data = reconstructed_data.cpu().detach().numpy()"
      ],
      "metadata": {
        "id": "uNzlxXTL7R7G"
      },
      "execution_count": null,
      "outputs": []
    },
    {
      "cell_type": "markdown",
      "source": [
        "## **Thuật toán LSTM**\n"
      ],
      "metadata": {
        "id": "ixyra9P67R7G"
      }
    },
    {
      "cell_type": "code",
      "source": [
        "# 1. Import thư viện cần thiết\n",
        "import numpy as np\n",
        "import pandas as pd\n",
        "import matplotlib.pyplot as plt\n",
        "from sklearn.preprocessing import MinMaxScaler\n",
        "from keras.models import Sequential\n",
        "from keras.layers import Dense, LSTM"
      ],
      "metadata": {
        "id": "e-lue1-M7R7H"
      },
      "execution_count": null,
      "outputs": []
    },
    {
      "cell_type": "code",
      "source": [
        "# 2. dùng latent_vectors làm đầu vào cho LSTM\n",
        "df1 = latent_vectors.cpu().detach().numpy()\n"
      ],
      "metadata": {
        "id": "e6cOj5PQ7R7H"
      },
      "execution_count": null,
      "outputs": []
    },
    {
      "cell_type": "code",
      "source": [
        "# 3. Scaler data\n",
        "scaler=MinMaxScaler(feature_range=(0,1))\n",
        "df1=scaler.fit_transform(np.array(df1).reshape(-1,1))"
      ],
      "metadata": {
        "id": "YBNsHGuk7R7H"
      },
      "execution_count": null,
      "outputs": []
    },
    {
      "cell_type": "code",
      "source": [
        "# 4. Chia train test\n",
        "train_size = int(0.6 * len(df1))\n",
        "test_size = int(0.2 * len(df1))\n",
        "val_size = len(df1) - train_size - test_size\n",
        "\n",
        "train_data = df1[:train_size]\n",
        "test_data = df1[train_size:train_size+test_size]\n",
        "val_data = df1[train_size+test_size:]"
      ],
      "metadata": {
        "id": "xzrQ1Jvj7R7H"
      },
      "execution_count": null,
      "outputs": []
    },
    {
      "cell_type": "code",
      "source": [
        "# 5. Hàm Create Dataset\n",
        "import numpy\n",
        "# convert an array of values into a dataset matrix\n",
        "def create_dataset(dataset, time_step=1):\n",
        "\tdataX, dataY = [], []\n",
        "\tfor i in range(len(dataset)-time_step-1):\n",
        "\t\ta = dataset[i:(i+time_step), 0]   ###i=0, X=0,1,2,3-----99   Y=100\n",
        "\t\tdataX.append(a)\n",
        "\t\tdataY.append(dataset[i + time_step, 0])\n",
        "\treturn numpy.array(dataX), numpy.array(dataY)"
      ],
      "metadata": {
        "id": "SiHfoEhn7R7H"
      },
      "execution_count": null,
      "outputs": []
    },
    {
      "cell_type": "code",
      "source": [
        "#6. Reshape into X=t,t+1,t+2..t+99 and Y=t+100\n",
        "\n",
        "time_step = 1\n",
        "X_train, y_train = create_dataset(train_data, time_step)\n",
        "X_val, yval = create_dataset(val_data, time_step)\n",
        "X_test, ytest = create_dataset(test_data, time_step)"
      ],
      "metadata": {
        "id": "p7RdjtjX7R7H"
      },
      "execution_count": null,
      "outputs": []
    },
    {
      "cell_type": "code",
      "source": [
        "# 7. Reshape input to be [samples, time steps, features] which is required for LSTM\n",
        "X_train =X_train.reshape(X_train.shape[0],X_train.shape[1] , 1)\n",
        "X_test = X_test.reshape(X_test.shape[0],X_test.shape[1] , 1)\n",
        "X_val = X_val.reshape(X_val.shape[0],X_val.shape[1] , 1)"
      ],
      "metadata": {
        "id": "znq_5XUy7R7H"
      },
      "execution_count": null,
      "outputs": []
    },
    {
      "cell_type": "code",
      "source": [
        "# 8. Define LSTM Model\n",
        "\n",
        "model=Sequential()\n",
        "model.add(LSTM(50,return_sequences=True,input_shape=(1,1)))\n",
        "model.add(LSTM(50,return_sequences=True))\n",
        "model.add(LSTM(50))\n",
        "model.add(Dense(1))\n",
        "model.compile(loss='mean_squared_error',optimizer='adam')"
      ],
      "metadata": {
        "id": "DK-sEfoi7R7H"
      },
      "execution_count": null,
      "outputs": []
    },
    {
      "cell_type": "code",
      "source": [
        "# 9. Fit mô hình với dữ liệu train\n",
        "model.fit(X_train,y_train,validation_data=(X_test,ytest),epochs=50,batch_size=64,verbose=1)"
      ],
      "metadata": {
        "colab": {
          "base_uri": "https://localhost:8080/"
        },
        "outputId": "6b3de019-805d-4106-8903-a57cee4dccbf",
        "id": "nUy7DtM-7R7I"
      },
      "execution_count": null,
      "outputs": [
        {
          "output_type": "stream",
          "name": "stdout",
          "text": [
            "Epoch 1/50\n",
            "20/20 [==============================] - 8s 83ms/step - loss: 0.1711 - val_loss: 0.1871\n",
            "Epoch 2/50\n",
            "20/20 [==============================] - 0s 10ms/step - loss: 0.0830 - val_loss: 0.0430\n",
            "Epoch 3/50\n",
            "20/20 [==============================] - 0s 9ms/step - loss: 0.0158 - val_loss: 0.0048\n",
            "Epoch 4/50\n",
            "20/20 [==============================] - 0s 11ms/step - loss: 0.0122 - val_loss: 0.0099\n",
            "Epoch 5/50\n",
            "20/20 [==============================] - 0s 9ms/step - loss: 0.0108 - val_loss: 0.0075\n",
            "Epoch 6/50\n",
            "20/20 [==============================] - 0s 9ms/step - loss: 0.0095 - val_loss: 0.0069\n",
            "Epoch 7/50\n",
            "20/20 [==============================] - 0s 10ms/step - loss: 0.0081 - val_loss: 0.0066\n",
            "Epoch 8/50\n",
            "20/20 [==============================] - 0s 9ms/step - loss: 0.0067 - val_loss: 0.0069\n",
            "Epoch 9/50\n",
            "20/20 [==============================] - 0s 10ms/step - loss: 0.0054 - val_loss: 0.0066\n",
            "Epoch 10/50\n",
            "20/20 [==============================] - 0s 10ms/step - loss: 0.0043 - val_loss: 0.0072\n",
            "Epoch 11/50\n",
            "20/20 [==============================] - 0s 10ms/step - loss: 0.0035 - val_loss: 0.0078\n",
            "Epoch 12/50\n",
            "20/20 [==============================] - 0s 9ms/step - loss: 0.0032 - val_loss: 0.0084\n",
            "Epoch 13/50\n",
            "20/20 [==============================] - 0s 9ms/step - loss: 0.0030 - val_loss: 0.0088\n",
            "Epoch 14/50\n",
            "20/20 [==============================] - 0s 11ms/step - loss: 0.0030 - val_loss: 0.0088\n",
            "Epoch 15/50\n",
            "20/20 [==============================] - 0s 9ms/step - loss: 0.0030 - val_loss: 0.0088\n",
            "Epoch 16/50\n",
            "20/20 [==============================] - 0s 10ms/step - loss: 0.0029 - val_loss: 0.0088\n",
            "Epoch 17/50\n",
            "20/20 [==============================] - 0s 10ms/step - loss: 0.0029 - val_loss: 0.0087\n",
            "Epoch 18/50\n",
            "20/20 [==============================] - 0s 9ms/step - loss: 0.0029 - val_loss: 0.0087\n",
            "Epoch 19/50\n",
            "20/20 [==============================] - 0s 10ms/step - loss: 0.0029 - val_loss: 0.0087\n",
            "Epoch 20/50\n",
            "20/20 [==============================] - 0s 13ms/step - loss: 0.0029 - val_loss: 0.0087\n",
            "Epoch 21/50\n",
            "20/20 [==============================] - 0s 12ms/step - loss: 0.0029 - val_loss: 0.0087\n",
            "Epoch 22/50\n",
            "20/20 [==============================] - 0s 16ms/step - loss: 0.0028 - val_loss: 0.0086\n",
            "Epoch 23/50\n",
            "20/20 [==============================] - 0s 17ms/step - loss: 0.0028 - val_loss: 0.0085\n",
            "Epoch 24/50\n",
            "20/20 [==============================] - 0s 14ms/step - loss: 0.0028 - val_loss: 0.0085\n",
            "Epoch 25/50\n",
            "20/20 [==============================] - 0s 16ms/step - loss: 0.0027 - val_loss: 0.0084\n",
            "Epoch 26/50\n",
            "20/20 [==============================] - 0s 15ms/step - loss: 0.0028 - val_loss: 0.0086\n",
            "Epoch 27/50\n",
            "20/20 [==============================] - 0s 13ms/step - loss: 0.0028 - val_loss: 0.0083\n",
            "Epoch 28/50\n",
            "20/20 [==============================] - 0s 16ms/step - loss: 0.0027 - val_loss: 0.0083\n",
            "Epoch 29/50\n",
            "20/20 [==============================] - 0s 14ms/step - loss: 0.0027 - val_loss: 0.0082\n",
            "Epoch 30/50\n",
            "20/20 [==============================] - 0s 16ms/step - loss: 0.0027 - val_loss: 0.0082\n",
            "Epoch 31/50\n",
            "20/20 [==============================] - 0s 17ms/step - loss: 0.0026 - val_loss: 0.0082\n",
            "Epoch 32/50\n",
            "20/20 [==============================] - 0s 16ms/step - loss: 0.0026 - val_loss: 0.0082\n",
            "Epoch 33/50\n",
            "20/20 [==============================] - 0s 17ms/step - loss: 0.0027 - val_loss: 0.0081\n",
            "Epoch 34/50\n",
            "20/20 [==============================] - 0s 16ms/step - loss: 0.0026 - val_loss: 0.0080\n",
            "Epoch 35/50\n",
            "20/20 [==============================] - 0s 10ms/step - loss: 0.0026 - val_loss: 0.0080\n",
            "Epoch 36/50\n",
            "20/20 [==============================] - 0s 12ms/step - loss: 0.0025 - val_loss: 0.0080\n",
            "Epoch 37/50\n",
            "20/20 [==============================] - 0s 10ms/step - loss: 0.0026 - val_loss: 0.0079\n",
            "Epoch 38/50\n",
            "20/20 [==============================] - 0s 9ms/step - loss: 0.0025 - val_loss: 0.0078\n",
            "Epoch 39/50\n",
            "20/20 [==============================] - 0s 9ms/step - loss: 0.0025 - val_loss: 0.0078\n",
            "Epoch 40/50\n",
            "20/20 [==============================] - 0s 10ms/step - loss: 0.0025 - val_loss: 0.0077\n",
            "Epoch 41/50\n",
            "20/20 [==============================] - 0s 10ms/step - loss: 0.0025 - val_loss: 0.0077\n",
            "Epoch 42/50\n",
            "20/20 [==============================] - 0s 10ms/step - loss: 0.0025 - val_loss: 0.0081\n",
            "Epoch 43/50\n",
            "20/20 [==============================] - 0s 9ms/step - loss: 0.0025 - val_loss: 0.0076\n",
            "Epoch 44/50\n",
            "20/20 [==============================] - 0s 9ms/step - loss: 0.0024 - val_loss: 0.0075\n",
            "Epoch 45/50\n",
            "20/20 [==============================] - 0s 9ms/step - loss: 0.0024 - val_loss: 0.0075\n",
            "Epoch 46/50\n",
            "20/20 [==============================] - 0s 10ms/step - loss: 0.0024 - val_loss: 0.0074\n",
            "Epoch 47/50\n",
            "20/20 [==============================] - 0s 10ms/step - loss: 0.0023 - val_loss: 0.0074\n",
            "Epoch 48/50\n",
            "20/20 [==============================] - 0s 9ms/step - loss: 0.0023 - val_loss: 0.0074\n",
            "Epoch 49/50\n",
            "20/20 [==============================] - 0s 10ms/step - loss: 0.0023 - val_loss: 0.0073\n",
            "Epoch 50/50\n",
            "20/20 [==============================] - 0s 10ms/step - loss: 0.0023 - val_loss: 0.0073\n"
          ]
        },
        {
          "output_type": "execute_result",
          "data": {
            "text/plain": [
              "<keras.callbacks.History at 0x7f68a18ebf40>"
            ]
          },
          "metadata": {},
          "execution_count": 401
        }
      ]
    },
    {
      "cell_type": "code",
      "source": [
        "#Doc lai du lieu\n",
        "\n",
        "# 2. Đọc file csv và gắng index với giá Close\n",
        "df1 = dataset.reset_index()['Price']\n",
        "\n",
        "\n",
        "# 3. Scaler data\n",
        "scaler=MinMaxScaler(feature_range=(0,1))\n",
        "df1=scaler.fit_transform(np.array(df1).reshape(-1,1))\n",
        "\n",
        "# 4. Chia train test\n",
        "train_size = int(0.6 * len(df1))\n",
        "test_size = int(0.2 * len(df1))\n",
        "val_size = len(df1) - train_size - test_size\n",
        "\n",
        "train_data = df1[:train_size]\n",
        "test_data = df1[train_size:train_size+test_size]\n",
        "val_data = df1[train_size+test_size:]\n",
        "\n",
        "#6. Reshape into X=t,t+1,t+2..t+99 and Y=t+100\n",
        "\n",
        "time_step = 1\n",
        "X_train, y_train = create_dataset(train_data, time_step)\n",
        "X_val, yval = create_dataset(val_data, time_step)\n",
        "X_test, ytest = create_dataset(test_data, time_step)\n",
        "\n",
        "# 7. Reshape input to be [samples, time steps, features] which is required for LSTM\n",
        "X_train =X_train.reshape(X_train.shape[0],X_train.shape[1] , 1)\n",
        "X_test = X_test.reshape(X_test.shape[0],X_test.shape[1] , 1)\n",
        "X_val = X_val.reshape(X_val.shape[0],X_val.shape[1] , 1)\n"
      ],
      "metadata": {
        "id": "MMwhZUyW7R7I"
      },
      "execution_count": null,
      "outputs": []
    },
    {
      "cell_type": "code",
      "source": [
        "# 10. Dự báo dữ liệu test, val\n",
        "train_predict=model.predict(X_train)\n",
        "y_pred=model.predict(X_test)\n",
        "y_pred_val=model.predict(X_val)"
      ],
      "metadata": {
        "id": "8gMb1v6H7R7I",
        "colab": {
          "base_uri": "https://localhost:8080/"
        },
        "outputId": "8279b6fc-15dc-4940-831d-a7430b8d87ea"
      },
      "execution_count": null,
      "outputs": [
        {
          "output_type": "stream",
          "name": "stdout",
          "text": [
            "40/40 [==============================] - 2s 3ms/step\n",
            "14/14 [==============================] - 0s 3ms/step\n",
            "14/14 [==============================] - 0s 4ms/step\n"
          ]
        }
      ]
    },
    {
      "cell_type": "code",
      "source": [
        "# 11. Chuẩn hóa dữ liệu y_pred, y_pred_val\n",
        "train_predict=scaler.inverse_transform(train_predict)\n",
        "y_pred=scaler.inverse_transform(y_pred)\n",
        "y_pred_val=scaler.inverse_transform(y_pred_val)\n",
        "ytest = scaler.inverse_transform(ytest.reshape(-1,1))\n",
        "yval = scaler.inverse_transform(yval.reshape(-1,1))"
      ],
      "metadata": {
        "id": "d7y5W_Nq7R7I"
      },
      "execution_count": null,
      "outputs": []
    },
    {
      "cell_type": "markdown",
      "source": [
        "## **Đánh giá**"
      ],
      "metadata": {
        "id": "m8mBbNj07R7I"
      }
    },
    {
      "cell_type": "code",
      "source": [
        "# 12. Đánh giá độ chính xác thuật toán bằng RMSE\n",
        "valid_rmse = np.sqrt(np.mean((y_pred_val - yval)**2))\n",
        "test_rmse = np.sqrt(np.mean((y_pred - ytest)**2))\n",
        "test_mae = np.mean(np.abs(y_pred - ytest))\n",
        "valid_mae = np.mean(np.abs(y_pred_val - yval))\n",
        "test_mape = np.mean(np.abs((ytest - y_pred) / ytest)) * 100\n",
        "valid_mape = np.mean(np.abs((yval - y_pred_val) / np.where(yval != 0, yval, 1))) * 100\n",
        "\n",
        "print('Validation RMSE:', valid_rmse)\n",
        "print('Testing RMSE:', test_rmse)\n",
        "print('Testing MAE:', test_mae)\n",
        "print('Validation MAE:', valid_mae)\n",
        "print('Testing MAPE:', test_mape)\n",
        "print('Validation MAPE:', valid_mape)"
      ],
      "metadata": {
        "id": "-Cw9K6S_7R7I",
        "colab": {
          "base_uri": "https://localhost:8080/"
        },
        "outputId": "87dd1147-ea4a-4716-a601-8a28717c3e85"
      },
      "execution_count": null,
      "outputs": [
        {
          "output_type": "stream",
          "name": "stdout",
          "text": [
            "Validation RMSE: 10.466122463527656\n",
            "Testing RMSE: 5.080083527111531\n",
            "Testing MAE: 3.646465322796616\n",
            "Validation MAE: 8.000601258042279\n",
            "Testing MAPE: 2.5059650398515614\n",
            "Validation MAPE: 4.113629445444246\n"
          ]
        }
      ]
    },
    {
      "cell_type": "code",
      "source": [
        "# 13. Dự báo 30 ngày tiếp theo\n",
        "x_input=val_data[426:].reshape(1,-1)\n",
        "x_input.shape\n",
        "\n",
        "temp_input=list(x_input)\n",
        "temp_input=temp_input[0].tolist()\n",
        "\n",
        "from numpy import array\n",
        "\n",
        "lst_output=[]\n",
        "n_steps=1\n",
        "i=0\n",
        "while(i<30):\n",
        "    # print(len(temp_input))\n",
        "    if(len(temp_input)>1):\n",
        "        #print(temp_input)\n",
        "        x_input=np.array(temp_input[1:])\n",
        "        # print(\"{} day input {}\".format(i,x_input))\n",
        "        x_input=x_input.reshape(1,-1)\n",
        "        x_input = x_input.reshape((1, n_steps, 1))\n",
        "        #print(x_input)\n",
        "        yhat = model.predict(x_input, verbose=0)\n",
        "        # print(\"{} day output {}\".format(i,yhat))\n",
        "        temp_input.extend(yhat[0].tolist())\n",
        "        temp_input=temp_input[1:]\n",
        "        #print(temp_input)\n",
        "        lst_output.extend(yhat.tolist())\n",
        "        i=i+1\n",
        "    else:\n",
        "        x_input = x_input.reshape((1, n_steps,1))\n",
        "        yhat = model.predict(x_input, verbose=0)\n",
        "        # print(yhat[0])\n",
        "        temp_input.extend(yhat[0].tolist())\n",
        "        # print(len(temp_input))\n",
        "        lst_output.extend(yhat.tolist())\n",
        "        i=i+1"
      ],
      "metadata": {
        "id": "mjz218eo7R7I"
      },
      "execution_count": null,
      "outputs": []
    },
    {
      "cell_type": "code",
      "source": [
        "lst_output"
      ],
      "metadata": {
        "id": "h2LoxLIJ7R7I",
        "colab": {
          "base_uri": "https://localhost:8080/"
        },
        "outputId": "4e0c8b18-03dd-41f6-8158-ab37bcb79477"
      },
      "execution_count": null,
      "outputs": [
        {
          "output_type": "execute_result",
          "data": {
            "text/plain": [
              "[[0.5186550617218018],\n",
              " [0.5078740119934082],\n",
              " [0.4987865388393402],\n",
              " [0.4910713732242584],\n",
              " [0.4844813644886017],\n",
              " [0.47882354259490967],\n",
              " [0.4739447832107544],\n",
              " [0.4697220027446747],\n",
              " [0.46605512499809265],\n",
              " [0.4628620445728302],\n",
              " [0.460074782371521],\n",
              " [0.4576367139816284],\n",
              " [0.45550015568733215],\n",
              " [0.4536247253417969],\n",
              " [0.45197615027427673],\n",
              " [0.45052528381347656],\n",
              " [0.4492470920085907],\n",
              " [0.44811975955963135],\n",
              " [0.4471248984336853],\n",
              " [0.44624605774879456],\n",
              " [0.44546931982040405],\n",
              " [0.4447823762893677],\n",
              " [0.44417455792427063],\n",
              " [0.44363656640052795],\n",
              " [0.4431599974632263],\n",
              " [0.4427378475666046],\n",
              " [0.44236376881599426],\n",
              " [0.44203224778175354],\n",
              " [0.4417383372783661],\n",
              " [0.4414776563644409]]"
            ]
          },
          "metadata": {},
          "execution_count": 407
        }
      ]
    },
    {
      "cell_type": "markdown",
      "source": [
        "## **kẾT QUẢ**"
      ],
      "metadata": {
        "id": "KfrBZJAw7R7J"
      }
    },
    {
      "cell_type": "code",
      "source": [
        "# 14.Vẽ hình\n",
        "\n",
        "train_data_index = pd.RangeIndex(start=0, stop=train_size, step=1)\n",
        "plt.plot(scaler.inverse_transform(train_data))\n",
        "test_data_index = pd.RangeIndex(start=train_size, stop=train_size+test_size, step=1)\n",
        "plt.plot(test_data_index,scaler.inverse_transform(test_data))\n",
        "test_data_index = pd.RangeIndex(start=train_size+2, stop=train_size+test_size, step=1)\n",
        "plt.plot(test_data_index,(y_pred))\n",
        "val_data_index = pd.RangeIndex(start=train_size+test_size, stop=train_size+test_size+val_size, step=1)\n",
        "plt.plot(val_data_index,scaler.inverse_transform(val_data))\n",
        "val_data_index = pd.RangeIndex(start=train_size+test_size+2, stop=train_size+test_size+val_size, step=1)\n",
        "plt.plot(val_data_index,y_pred_val)\n",
        "prediect_data_index = pd.RangeIndex(start=len(df1)-1, stop=len(df1)+29, step=1)\n",
        "plt.plot(prediect_data_index,scaler.inverse_transform(lst_output))\n",
        "plt.legend(['Train','Test','Predict','Validate','ValidatePred','Predict30days'])\n",
        "plt.show()"
      ],
      "metadata": {
        "id": "FSkP8y7Y7R7J",
        "colab": {
          "base_uri": "https://localhost:8080/",
          "height": 430
        },
        "outputId": "ab724468-0af5-42fc-de01-ce93f57a6c63"
      },
      "execution_count": null,
      "outputs": [
        {
          "output_type": "display_data",
          "data": {
            "text/plain": [
              "<Figure size 640x480 with 1 Axes>"
            ],
            "image/png": "[encoded data removed]"
          },
          "metadata": {}
        }
      ]
    }
  ]
}